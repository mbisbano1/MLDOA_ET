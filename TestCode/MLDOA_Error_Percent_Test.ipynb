{
 "cells": [
  {
   "cell_type": "markdown",
   "metadata": {},
   "source": [
    "## Imports"
   ]
  },
  {
   "cell_type": "code",
   "execution_count": 31,
   "metadata": {},
   "outputs": [],
   "source": [
    "import pandas as pd\n",
    "import matplotlib.pyplot as plt\n",
    "import numpy as np\n",
    "\n",
    "#import np.array as array\n",
    "\n"
   ]
  },
  {
   "cell_type": "code",
   "execution_count": 45,
   "metadata": {},
   "outputs": [],
   "source": [
    "#############################Gather Data from csv ##################################################\n",
    "# True DOA Data\n",
    "df=pd.read_csv(r'C:\\Users\\rferr\\University of Massachusetts Dartmouth\\Michael R Bisbano - ECE457_Senior_Design\\CSV_Files\\StbdTesting_1404_002_FINAL.csv')\n",
    "df_predicted=pd.read_csv(r'C:\\Users\\rferr\\University of Massachusetts Dartmouth\\Michael R Bisbano - ECE457_Senior_Design\\AIOutput_CSV_Files\\PredictedOutputTest1.csv')\n",
    "\n"
   ]
  },
  {
   "cell_type": "code",
   "execution_count": 46,
   "metadata": {},
   "outputs": [
    {
     "data": {
      "text/html": [
       "<div>\n",
       "<style scoped>\n",
       "    .dataframe tbody tr th:only-of-type {\n",
       "        vertical-align: middle;\n",
       "    }\n",
       "\n",
       "    .dataframe tbody tr th {\n",
       "        vertical-align: top;\n",
       "    }\n",
       "\n",
       "    .dataframe thead th {\n",
       "        text-align: right;\n",
       "    }\n",
       "</style>\n",
       "<table border=\"1\" class=\"dataframe\">\n",
       "  <thead>\n",
       "    <tr style=\"text-align: right;\">\n",
       "      <th></th>\n",
       "      <th>PingNum</th>\n",
       "      <th>SampleNum</th>\n",
       "      <th>PortStbd</th>\n",
       "      <th>SampleTimeDelay</th>\n",
       "      <th>I1</th>\n",
       "      <th>Q1</th>\n",
       "      <th>I2</th>\n",
       "      <th>Q2</th>\n",
       "      <th>I3</th>\n",
       "      <th>Q3</th>\n",
       "      <th>...</th>\n",
       "      <th>I10</th>\n",
       "      <th>Q10</th>\n",
       "      <th>Roll</th>\n",
       "      <th>C</th>\n",
       "      <th>DOA</th>\n",
       "      <th>TWTT</th>\n",
       "      <th>Amplitude</th>\n",
       "      <th>AngleUncertainty</th>\n",
       "      <th>SampleRate</th>\n",
       "      <th>Range</th>\n",
       "    </tr>\n",
       "  </thead>\n",
       "  <tbody>\n",
       "    <tr>\n",
       "      <th>0</th>\n",
       "      <td>87443</td>\n",
       "      <td>24</td>\n",
       "      <td>1</td>\n",
       "      <td>0.000353</td>\n",
       "      <td>0.0625</td>\n",
       "      <td>0.0000</td>\n",
       "      <td>0.3125</td>\n",
       "      <td>-0.1875</td>\n",
       "      <td>0.3750</td>\n",
       "      <td>-0.3750</td>\n",
       "      <td>...</td>\n",
       "      <td>0.1875</td>\n",
       "      <td>0.0000</td>\n",
       "      <td>0.488892</td>\n",
       "      <td>1492.040</td>\n",
       "      <td>-55.834999</td>\n",
       "      <td>0.000353</td>\n",
       "      <td>0</td>\n",
       "      <td>180</td>\n",
       "      <td>65108.40625</td>\n",
       "      <td>0.263537</td>\n",
       "    </tr>\n",
       "    <tr>\n",
       "      <th>1</th>\n",
       "      <td>87443</td>\n",
       "      <td>25</td>\n",
       "      <td>1</td>\n",
       "      <td>0.000369</td>\n",
       "      <td>0.0000</td>\n",
       "      <td>-0.0625</td>\n",
       "      <td>-0.2500</td>\n",
       "      <td>-0.3125</td>\n",
       "      <td>-0.4375</td>\n",
       "      <td>-0.4375</td>\n",
       "      <td>...</td>\n",
       "      <td>0.0000</td>\n",
       "      <td>-0.1875</td>\n",
       "      <td>0.488892</td>\n",
       "      <td>1492.040</td>\n",
       "      <td>-55.834999</td>\n",
       "      <td>0.000369</td>\n",
       "      <td>0</td>\n",
       "      <td>191</td>\n",
       "      <td>65108.40625</td>\n",
       "      <td>0.274995</td>\n",
       "    </tr>\n",
       "    <tr>\n",
       "      <th>2</th>\n",
       "      <td>87443</td>\n",
       "      <td>26</td>\n",
       "      <td>1</td>\n",
       "      <td>0.000384</td>\n",
       "      <td>-0.0625</td>\n",
       "      <td>0.0000</td>\n",
       "      <td>-0.3750</td>\n",
       "      <td>0.3125</td>\n",
       "      <td>-0.4375</td>\n",
       "      <td>0.5625</td>\n",
       "      <td>...</td>\n",
       "      <td>-0.2500</td>\n",
       "      <td>0.0000</td>\n",
       "      <td>0.488892</td>\n",
       "      <td>1492.040</td>\n",
       "      <td>-55.834999</td>\n",
       "      <td>0.000384</td>\n",
       "      <td>0</td>\n",
       "      <td>255</td>\n",
       "      <td>65108.40625</td>\n",
       "      <td>0.286453</td>\n",
       "    </tr>\n",
       "    <tr>\n",
       "      <th>3</th>\n",
       "      <td>87443</td>\n",
       "      <td>27</td>\n",
       "      <td>1</td>\n",
       "      <td>0.000399</td>\n",
       "      <td>-0.0625</td>\n",
       "      <td>0.1250</td>\n",
       "      <td>0.3125</td>\n",
       "      <td>0.3750</td>\n",
       "      <td>0.5625</td>\n",
       "      <td>0.5000</td>\n",
       "      <td>...</td>\n",
       "      <td>0.0000</td>\n",
       "      <td>0.3125</td>\n",
       "      <td>0.488892</td>\n",
       "      <td>1492.040</td>\n",
       "      <td>-55.834999</td>\n",
       "      <td>0.000399</td>\n",
       "      <td>12</td>\n",
       "      <td>255</td>\n",
       "      <td>65108.40625</td>\n",
       "      <td>0.297911</td>\n",
       "    </tr>\n",
       "    <tr>\n",
       "      <th>4</th>\n",
       "      <td>87443</td>\n",
       "      <td>28</td>\n",
       "      <td>1</td>\n",
       "      <td>0.000415</td>\n",
       "      <td>0.1250</td>\n",
       "      <td>0.1875</td>\n",
       "      <td>0.4375</td>\n",
       "      <td>-0.2500</td>\n",
       "      <td>0.5000</td>\n",
       "      <td>-0.5625</td>\n",
       "      <td>...</td>\n",
       "      <td>0.3750</td>\n",
       "      <td>0.0000</td>\n",
       "      <td>0.488892</td>\n",
       "      <td>1492.040</td>\n",
       "      <td>-70.369998</td>\n",
       "      <td>0.000415</td>\n",
       "      <td>12</td>\n",
       "      <td>190</td>\n",
       "      <td>65108.40625</td>\n",
       "      <td>0.309369</td>\n",
       "    </tr>\n",
       "    <tr>\n",
       "      <th>...</th>\n",
       "      <td>...</td>\n",
       "      <td>...</td>\n",
       "      <td>...</td>\n",
       "      <td>...</td>\n",
       "      <td>...</td>\n",
       "      <td>...</td>\n",
       "      <td>...</td>\n",
       "      <td>...</td>\n",
       "      <td>...</td>\n",
       "      <td>...</td>\n",
       "      <td>...</td>\n",
       "      <td>...</td>\n",
       "      <td>...</td>\n",
       "      <td>...</td>\n",
       "      <td>...</td>\n",
       "      <td>...</td>\n",
       "      <td>...</td>\n",
       "      <td>...</td>\n",
       "      <td>...</td>\n",
       "      <td>...</td>\n",
       "      <td>...</td>\n",
       "    </tr>\n",
       "    <tr>\n",
       "      <th>5480113</th>\n",
       "      <td>88723</td>\n",
       "      <td>4297</td>\n",
       "      <td>1</td>\n",
       "      <td>0.065982</td>\n",
       "      <td>-65.3750</td>\n",
       "      <td>46.4375</td>\n",
       "      <td>17.5625</td>\n",
       "      <td>71.1875</td>\n",
       "      <td>58.5625</td>\n",
       "      <td>22.2500</td>\n",
       "      <td>...</td>\n",
       "      <td>-68.0625</td>\n",
       "      <td>-48.0625</td>\n",
       "      <td>1.016235</td>\n",
       "      <td>1491.949</td>\n",
       "      <td>-82.629998</td>\n",
       "      <td>0.065982</td>\n",
       "      <td>90</td>\n",
       "      <td>68</td>\n",
       "      <td>65108.40625</td>\n",
       "      <td>49.221089</td>\n",
       "    </tr>\n",
       "    <tr>\n",
       "      <th>5480114</th>\n",
       "      <td>88723</td>\n",
       "      <td>4298</td>\n",
       "      <td>1</td>\n",
       "      <td>0.065998</td>\n",
       "      <td>-13.7500</td>\n",
       "      <td>46.5000</td>\n",
       "      <td>26.4375</td>\n",
       "      <td>36.2500</td>\n",
       "      <td>45.6875</td>\n",
       "      <td>18.9375</td>\n",
       "      <td>...</td>\n",
       "      <td>-85.9375</td>\n",
       "      <td>-40.1250</td>\n",
       "      <td>1.016235</td>\n",
       "      <td>1491.949</td>\n",
       "      <td>-80.584998</td>\n",
       "      <td>0.065998</td>\n",
       "      <td>98</td>\n",
       "      <td>38</td>\n",
       "      <td>65108.40625</td>\n",
       "      <td>49.232546</td>\n",
       "    </tr>\n",
       "    <tr>\n",
       "      <th>5480115</th>\n",
       "      <td>88723</td>\n",
       "      <td>4299</td>\n",
       "      <td>1</td>\n",
       "      <td>0.066013</td>\n",
       "      <td>52.5625</td>\n",
       "      <td>20.5000</td>\n",
       "      <td>17.0625</td>\n",
       "      <td>-21.3125</td>\n",
       "      <td>-12.0000</td>\n",
       "      <td>-5.6250</td>\n",
       "      <td>...</td>\n",
       "      <td>-26.6875</td>\n",
       "      <td>19.9375</td>\n",
       "      <td>1.016235</td>\n",
       "      <td>1491.949</td>\n",
       "      <td>-79.484998</td>\n",
       "      <td>0.066013</td>\n",
       "      <td>92</td>\n",
       "      <td>93</td>\n",
       "      <td>65108.40625</td>\n",
       "      <td>49.244004</td>\n",
       "    </tr>\n",
       "    <tr>\n",
       "      <th>5480116</th>\n",
       "      <td>88723</td>\n",
       "      <td>4300</td>\n",
       "      <td>1</td>\n",
       "      <td>0.066028</td>\n",
       "      <td>48.0625</td>\n",
       "      <td>-5.5625</td>\n",
       "      <td>13.8750</td>\n",
       "      <td>-28.7500</td>\n",
       "      <td>-23.8750</td>\n",
       "      <td>-26.0625</td>\n",
       "      <td>...</td>\n",
       "      <td>36.2500</td>\n",
       "      <td>44.2500</td>\n",
       "      <td>1.016235</td>\n",
       "      <td>1491.949</td>\n",
       "      <td>-78.554998</td>\n",
       "      <td>0.066028</td>\n",
       "      <td>82</td>\n",
       "      <td>123</td>\n",
       "      <td>65108.40625</td>\n",
       "      <td>49.255461</td>\n",
       "    </tr>\n",
       "    <tr>\n",
       "      <th>5480117</th>\n",
       "      <td>88723</td>\n",
       "      <td>4301</td>\n",
       "      <td>1</td>\n",
       "      <td>0.066044</td>\n",
       "      <td>25.7500</td>\n",
       "      <td>8.6875</td>\n",
       "      <td>45.4375</td>\n",
       "      <td>-16.6875</td>\n",
       "      <td>-0.1875</td>\n",
       "      <td>-32.2500</td>\n",
       "      <td>...</td>\n",
       "      <td>16.0000</td>\n",
       "      <td>38.6875</td>\n",
       "      <td>1.016235</td>\n",
       "      <td>1491.949</td>\n",
       "      <td>-81.114998</td>\n",
       "      <td>0.066044</td>\n",
       "      <td>92</td>\n",
       "      <td>75</td>\n",
       "      <td>65108.40625</td>\n",
       "      <td>49.266919</td>\n",
       "    </tr>\n",
       "  </tbody>\n",
       "</table>\n",
       "<p>5480118 rows × 32 columns</p>\n",
       "</div>"
      ],
      "text/plain": [
       "         PingNum  SampleNum  PortStbd  SampleTimeDelay       I1       Q1  \\\n",
       "0          87443         24         1         0.000353   0.0625   0.0000   \n",
       "1          87443         25         1         0.000369   0.0000  -0.0625   \n",
       "2          87443         26         1         0.000384  -0.0625   0.0000   \n",
       "3          87443         27         1         0.000399  -0.0625   0.1250   \n",
       "4          87443         28         1         0.000415   0.1250   0.1875   \n",
       "...          ...        ...       ...              ...      ...      ...   \n",
       "5480113    88723       4297         1         0.065982 -65.3750  46.4375   \n",
       "5480114    88723       4298         1         0.065998 -13.7500  46.5000   \n",
       "5480115    88723       4299         1         0.066013  52.5625  20.5000   \n",
       "5480116    88723       4300         1         0.066028  48.0625  -5.5625   \n",
       "5480117    88723       4301         1         0.066044  25.7500   8.6875   \n",
       "\n",
       "              I2       Q2       I3       Q3  ...      I10      Q10      Roll  \\\n",
       "0         0.3125  -0.1875   0.3750  -0.3750  ...   0.1875   0.0000  0.488892   \n",
       "1        -0.2500  -0.3125  -0.4375  -0.4375  ...   0.0000  -0.1875  0.488892   \n",
       "2        -0.3750   0.3125  -0.4375   0.5625  ...  -0.2500   0.0000  0.488892   \n",
       "3         0.3125   0.3750   0.5625   0.5000  ...   0.0000   0.3125  0.488892   \n",
       "4         0.4375  -0.2500   0.5000  -0.5625  ...   0.3750   0.0000  0.488892   \n",
       "...          ...      ...      ...      ...  ...      ...      ...       ...   \n",
       "5480113  17.5625  71.1875  58.5625  22.2500  ... -68.0625 -48.0625  1.016235   \n",
       "5480114  26.4375  36.2500  45.6875  18.9375  ... -85.9375 -40.1250  1.016235   \n",
       "5480115  17.0625 -21.3125 -12.0000  -5.6250  ... -26.6875  19.9375  1.016235   \n",
       "5480116  13.8750 -28.7500 -23.8750 -26.0625  ...  36.2500  44.2500  1.016235   \n",
       "5480117  45.4375 -16.6875  -0.1875 -32.2500  ...  16.0000  38.6875  1.016235   \n",
       "\n",
       "                C        DOA      TWTT  Amplitude  AngleUncertainty  \\\n",
       "0        1492.040 -55.834999  0.000353          0               180   \n",
       "1        1492.040 -55.834999  0.000369          0               191   \n",
       "2        1492.040 -55.834999  0.000384          0               255   \n",
       "3        1492.040 -55.834999  0.000399         12               255   \n",
       "4        1492.040 -70.369998  0.000415         12               190   \n",
       "...           ...        ...       ...        ...               ...   \n",
       "5480113  1491.949 -82.629998  0.065982         90                68   \n",
       "5480114  1491.949 -80.584998  0.065998         98                38   \n",
       "5480115  1491.949 -79.484998  0.066013         92                93   \n",
       "5480116  1491.949 -78.554998  0.066028         82               123   \n",
       "5480117  1491.949 -81.114998  0.066044         92                75   \n",
       "\n",
       "          SampleRate      Range  \n",
       "0        65108.40625   0.263537  \n",
       "1        65108.40625   0.274995  \n",
       "2        65108.40625   0.286453  \n",
       "3        65108.40625   0.297911  \n",
       "4        65108.40625   0.309369  \n",
       "...              ...        ...  \n",
       "5480113  65108.40625  49.221089  \n",
       "5480114  65108.40625  49.232546  \n",
       "5480115  65108.40625  49.244004  \n",
       "5480116  65108.40625  49.255461  \n",
       "5480117  65108.40625  49.266919  \n",
       "\n",
       "[5480118 rows x 32 columns]"
      ]
     },
     "execution_count": 46,
     "metadata": {},
     "output_type": "execute_result"
    }
   ],
   "source": [
    "df"
   ]
  },
  {
   "cell_type": "code",
   "execution_count": 47,
   "metadata": {},
   "outputs": [
    {
     "data": {
      "text/html": [
       "<div>\n",
       "<style scoped>\n",
       "    .dataframe tbody tr th:only-of-type {\n",
       "        vertical-align: middle;\n",
       "    }\n",
       "\n",
       "    .dataframe tbody tr th {\n",
       "        vertical-align: top;\n",
       "    }\n",
       "\n",
       "    .dataframe thead th {\n",
       "        text-align: right;\n",
       "    }\n",
       "</style>\n",
       "<table border=\"1\" class=\"dataframe\">\n",
       "  <thead>\n",
       "    <tr style=\"text-align: right;\">\n",
       "      <th></th>\n",
       "      <th>Unnamed: 0</th>\n",
       "      <th>PingNum</th>\n",
       "      <th>SampleNum</th>\n",
       "      <th>PortStbd</th>\n",
       "      <th>SampleTimeDelay</th>\n",
       "      <th>PredictedDOA</th>\n",
       "    </tr>\n",
       "  </thead>\n",
       "  <tbody>\n",
       "    <tr>\n",
       "      <th>0</th>\n",
       "      <td>0</td>\n",
       "      <td>87443</td>\n",
       "      <td>24</td>\n",
       "      <td>1</td>\n",
       "      <td>0.000353</td>\n",
       "      <td>0.000000</td>\n",
       "    </tr>\n",
       "    <tr>\n",
       "      <th>1</th>\n",
       "      <td>1</td>\n",
       "      <td>87443</td>\n",
       "      <td>25</td>\n",
       "      <td>1</td>\n",
       "      <td>0.000369</td>\n",
       "      <td>0.000000</td>\n",
       "    </tr>\n",
       "    <tr>\n",
       "      <th>2</th>\n",
       "      <td>2</td>\n",
       "      <td>87443</td>\n",
       "      <td>26</td>\n",
       "      <td>1</td>\n",
       "      <td>0.000384</td>\n",
       "      <td>0.000000</td>\n",
       "    </tr>\n",
       "    <tr>\n",
       "      <th>3</th>\n",
       "      <td>3</td>\n",
       "      <td>87443</td>\n",
       "      <td>27</td>\n",
       "      <td>1</td>\n",
       "      <td>0.000399</td>\n",
       "      <td>0.000000</td>\n",
       "    </tr>\n",
       "    <tr>\n",
       "      <th>4</th>\n",
       "      <td>4</td>\n",
       "      <td>87443</td>\n",
       "      <td>28</td>\n",
       "      <td>1</td>\n",
       "      <td>0.000415</td>\n",
       "      <td>0.000000</td>\n",
       "    </tr>\n",
       "    <tr>\n",
       "      <th>...</th>\n",
       "      <td>...</td>\n",
       "      <td>...</td>\n",
       "      <td>...</td>\n",
       "      <td>...</td>\n",
       "      <td>...</td>\n",
       "      <td>...</td>\n",
       "    </tr>\n",
       "    <tr>\n",
       "      <th>5480113</th>\n",
       "      <td>5480113</td>\n",
       "      <td>88723</td>\n",
       "      <td>4297</td>\n",
       "      <td>1</td>\n",
       "      <td>0.065982</td>\n",
       "      <td>76.296471</td>\n",
       "    </tr>\n",
       "    <tr>\n",
       "      <th>5480114</th>\n",
       "      <td>5480114</td>\n",
       "      <td>88723</td>\n",
       "      <td>4298</td>\n",
       "      <td>1</td>\n",
       "      <td>0.065998</td>\n",
       "      <td>76.296471</td>\n",
       "    </tr>\n",
       "    <tr>\n",
       "      <th>5480115</th>\n",
       "      <td>5480115</td>\n",
       "      <td>88723</td>\n",
       "      <td>4299</td>\n",
       "      <td>1</td>\n",
       "      <td>0.066013</td>\n",
       "      <td>76.294098</td>\n",
       "    </tr>\n",
       "    <tr>\n",
       "      <th>5480116</th>\n",
       "      <td>5480116</td>\n",
       "      <td>88723</td>\n",
       "      <td>4300</td>\n",
       "      <td>1</td>\n",
       "      <td>0.066028</td>\n",
       "      <td>75.732391</td>\n",
       "    </tr>\n",
       "    <tr>\n",
       "      <th>5480117</th>\n",
       "      <td>5480117</td>\n",
       "      <td>88723</td>\n",
       "      <td>4301</td>\n",
       "      <td>1</td>\n",
       "      <td>0.066044</td>\n",
       "      <td>76.296455</td>\n",
       "    </tr>\n",
       "  </tbody>\n",
       "</table>\n",
       "<p>5480118 rows × 6 columns</p>\n",
       "</div>"
      ],
      "text/plain": [
       "         Unnamed: 0  PingNum  SampleNum  PortStbd  SampleTimeDelay  \\\n",
       "0                 0    87443         24         1         0.000353   \n",
       "1                 1    87443         25         1         0.000369   \n",
       "2                 2    87443         26         1         0.000384   \n",
       "3                 3    87443         27         1         0.000399   \n",
       "4                 4    87443         28         1         0.000415   \n",
       "...             ...      ...        ...       ...              ...   \n",
       "5480113     5480113    88723       4297         1         0.065982   \n",
       "5480114     5480114    88723       4298         1         0.065998   \n",
       "5480115     5480115    88723       4299         1         0.066013   \n",
       "5480116     5480116    88723       4300         1         0.066028   \n",
       "5480117     5480117    88723       4301         1         0.066044   \n",
       "\n",
       "         PredictedDOA  \n",
       "0            0.000000  \n",
       "1            0.000000  \n",
       "2            0.000000  \n",
       "3            0.000000  \n",
       "4            0.000000  \n",
       "...               ...  \n",
       "5480113     76.296471  \n",
       "5480114     76.296471  \n",
       "5480115     76.294098  \n",
       "5480116     75.732391  \n",
       "5480117     76.296455  \n",
       "\n",
       "[5480118 rows x 6 columns]"
      ]
     },
     "execution_count": 47,
     "metadata": {},
     "output_type": "execute_result"
    }
   ],
   "source": [
    "df_predicted"
   ]
  },
  {
   "cell_type": "code",
   "execution_count": 49,
   "metadata": {},
   "outputs": [
    {
     "data": {
      "text/plain": [
       "0          55.834999\n",
       "1          55.834999\n",
       "2          55.834999\n",
       "3          55.834999\n",
       "4          70.369998\n",
       "             ...    \n",
       "5480113    82.629998\n",
       "5480114    80.584998\n",
       "5480115    79.484998\n",
       "5480116    78.554998\n",
       "5480117    81.114998\n",
       "Name: DOA, Length: 5480118, dtype: float64"
      ]
     },
     "execution_count": 49,
     "metadata": {},
     "output_type": "execute_result"
    }
   ],
   "source": [
    "true_DOA=-df.DOA\n",
    "true_DOA # True DOA Data"
   ]
  },
  {
   "cell_type": "code",
   "execution_count": 51,
   "metadata": {},
   "outputs": [
    {
     "data": {
      "text/plain": [
       "0           0.000000\n",
       "1           0.000000\n",
       "2           0.000000\n",
       "3           0.000000\n",
       "4           0.000000\n",
       "             ...    \n",
       "5480113    76.296471\n",
       "5480114    76.296471\n",
       "5480115    76.294098\n",
       "5480116    75.732391\n",
       "5480117    76.296455\n",
       "Name: PredictedDOA, Length: 5480118, dtype: float64"
      ]
     },
     "execution_count": 51,
     "metadata": {},
     "output_type": "execute_result"
    }
   ],
   "source": [
    "predicted_DOA=df_predicted.PredictedDOA\n",
    "predicted_DOA"
   ]
  },
  {
   "cell_type": "code",
   "execution_count": 52,
   "metadata": {},
   "outputs": [
    {
     "data": {
      "text/plain": [
       "0           0.000000\n",
       "1           0.000000\n",
       "2           0.000000\n",
       "3           0.000000\n",
       "4           0.000000\n",
       "             ...    \n",
       "5480113    82.629998\n",
       "5480114    80.584998\n",
       "5480115    79.484998\n",
       "5480116    78.554998\n",
       "5480117    81.114998\n",
       "Name: DOA, Length: 5480118, dtype: float64"
      ]
     },
     "execution_count": 52,
     "metadata": {},
     "output_type": "execute_result"
    }
   ],
   "source": [
    "garbage = 10 # Corresponding to number of bad samples in begininng of data set\n",
    "\n",
    "for i in range(0,garbage-1):\n",
    "    true_DOA[i]=0\n",
    "true_DOA"
   ]
  },
  {
   "cell_type": "code",
   "execution_count": 6,
   "metadata": {},
   "outputs": [
    {
     "name": "stdout",
     "output_type": "stream",
     "text": [
      "[-57.70999875 -61.70999875 -48.70999875 ... -80.5249982  -89.82499819\n",
      " -71.00499823]\n"
     ]
    }
   ],
   "source": [
    "############ Generate Arbitary Test Data ###########################################\n",
    "########### This part is completely optional, it just makes FAKE DATA ###################\n",
    "import random\n",
    "# This section can be adjusted based on when we get the predicted data\n",
    "# For now, its just test data that i made up\n",
    "test_length = true_DOA.size\n",
    "test_length ## how long the data array should be\n",
    "num_pings=1287\n",
    "\n",
    "test=[test_length]\n",
    "\n",
    "num_samples_per_ping = test_length/num_pings\n",
    "num_samples_per_ping=round(num_samples_per_ping)\n",
    "\n",
    "test_data = np.empty(test_length)\n",
    "for i in range(0, test_length):\n",
    "    test_data[i]=true_DOA[i]+random.randrange(-10,10)\n",
    "print(test_data)\n"
   ]
  },
  {
   "cell_type": "code",
   "execution_count": 81,
   "metadata": {},
   "outputs": [],
   "source": [
    "test_length = true_DOA.size\n",
    "test_length ## how long the data array should be\n",
    "num_pings= abs(df.PingNum[0] - df.PingNum[test_length-1])\n",
    "num_samples_per_ping = test_length/num_pings\n",
    "num_samples_per_ping=round(num_samples_per_ping)"
   ]
  },
  {
   "cell_type": "code",
   "execution_count": 82,
   "metadata": {},
   "outputs": [
    {
     "data": {
      "text/plain": [
       "5480118"
      ]
     },
     "execution_count": 82,
     "metadata": {},
     "output_type": "execute_result"
    }
   ],
   "source": [
    "test_length"
   ]
  },
  {
   "cell_type": "code",
   "execution_count": 83,
   "metadata": {},
   "outputs": [
    {
     "data": {
      "text/plain": [
       "1280"
      ]
     },
     "execution_count": 83,
     "metadata": {},
     "output_type": "execute_result"
    }
   ],
   "source": [
    "num_pings"
   ]
  },
  {
   "cell_type": "code",
   "execution_count": 84,
   "metadata": {},
   "outputs": [
    {
     "data": {
      "text/plain": [
       "4281"
      ]
     },
     "execution_count": 84,
     "metadata": {},
     "output_type": "execute_result"
    }
   ],
   "source": [
    "num_samples_per_ping"
   ]
  },
  {
   "cell_type": "code",
   "execution_count": 17,
   "metadata": {},
   "outputs": [
    {
     "data": {
      "text/plain": [
       "[<matplotlib.lines.Line2D at 0x1b35e02ae80>]"
      ]
     },
     "execution_count": 17,
     "metadata": {},
     "output_type": "execute_result"
    },
    {
     "data": {
      "image/png": "[encoded data removed]",
      "text/plain": [
       "<Figure size 432x288 with 1 Axes>"
      ]
     },
     "metadata": {
      "needs_background": "light"
     },
     "output_type": "display_data"
    }
   ],
   "source": [
    "##### This is an optional block to run. This only shows percent error for the entire DOA data set NOT for the average of each sample #########\n",
    "# It does show some interesting results if you care to see\n",
    "# \n",
    "\n",
    "##plt.cla\n",
    "#plt.figure(1)\n",
    "#plt.plot(test_error)\n"
   ]
  },
  {
   "cell_type": "code",
   "execution_count": 85,
   "metadata": {},
   "outputs": [],
   "source": [
    "# Organize Test Data and True DOA by average per sample\n",
    "# Then take the percent error of those points\n",
    "\n",
    "########### Organizing True DOA #############\n",
    "true_DOA_samp=np.zeros(shape=(num_pings-1,num_samples_per_ping))\n",
    "true_DOA_avg=np.zeros(shape=(num_samples_per_ping))\n",
    "summ=0\n",
    "# Organize by ping (ie array=ping by sample)\n",
    "for p in range(0,num_pings-1):\n",
    "    for s in range(0,num_samples_per_ping):\n",
    "        true_DOA_samp[p,s]=true_DOA[p*num_samples_per_ping + s]\n",
    "        \n",
    "# Average each sample (ie each column)\n",
    "for s in range(0,num_samples_per_ping):\n",
    "    for r in range(0,num_pings-1):\n",
    "        summ = summ + true_DOA_samp[p,s]\n",
    "    true_DOA_avg[s]=summ/num_samples_per_ping   \n",
    "    summ=0\n"
   ]
  },
  {
   "cell_type": "code",
   "execution_count": 86,
   "metadata": {},
   "outputs": [],
   "source": [
    "########### Organizing Test (Predicted) DOA #############\n",
    "test_DOA_samp=np.zeros(shape=(num_pings-1,num_samples_per_ping))\n",
    "test_DOA_avg=np.zeros(shape=(num_samples_per_ping))\n",
    "summ=0\n",
    "# Organize by ping (ie array=ping by sample)\n",
    "for p in range(0,num_pings-1):\n",
    "    for s in range(0,num_samples_per_ping):\n",
    "        test_DOA_samp[p,s]=predicted_DOA[p*num_samples_per_ping + s]\n",
    "        \n",
    "        \n",
    "# Average each sample (ie each column)\n",
    "for s in range(0,num_samples_per_ping):\n",
    "    for r in range(0,num_pings-1):\n",
    "        summ = summ + test_DOA_samp[p,s]\n",
    "    test_DOA_avg[s]=summ/num_samples_per_ping \n",
    "    summ=0"
   ]
  },
  {
   "cell_type": "code",
   "execution_count": 87,
   "metadata": {},
   "outputs": [
    {
     "data": {
      "text/plain": [
       "array([[ 0.        ,  0.        ,  0.        , ..., 55.63999876,\n",
       "        50.40499887, 51.05499886],\n",
       "       [56.30499874, 49.59499889, 49.86499889, ..., 55.71499875,\n",
       "        41.90999906, 57.48499872],\n",
       "       [55.30499876, 56.00999875, 56.52499874, ..., 55.83499875,\n",
       "        56.91499873, 58.0499987 ],\n",
       "       ...,\n",
       "       [78.14499825, 78.57499824, 79.87499821, ..., 79.21499823,\n",
       "        79.05999823, 79.63499822],\n",
       "       [80.14499821, 79.18499823, 79.90499821, ..., 65.28999854,\n",
       "        76.43999829, 79.34999823],\n",
       "       [80.7499982 , 82.82499815, 82.07999817, ..., 79.66999822,\n",
       "        78.12999825, 80.6249982 ]])"
      ]
     },
     "execution_count": 87,
     "metadata": {},
     "output_type": "execute_result"
    }
   ],
   "source": [
    "true_DOA_samp"
   ]
  },
  {
   "cell_type": "code",
   "execution_count": 88,
   "metadata": {},
   "outputs": [
    {
     "data": {
      "text/plain": [
       "array([24.12502866, 24.74495974, 24.52238207, ..., 23.80236574,\n",
       "       23.34227231, 24.08768341])"
      ]
     },
     "execution_count": 88,
     "metadata": {},
     "output_type": "execute_result"
    }
   ],
   "source": [
    "true_DOA_avg"
   ]
  },
  {
   "cell_type": "code",
   "execution_count": 89,
   "metadata": {},
   "outputs": [
    {
     "data": {
      "text/plain": [
       "array([22.79448399, 22.79448399, 21.61960627, ..., 22.46900093,\n",
       "       22.77972505, 22.79448399])"
      ]
     },
     "execution_count": 89,
     "metadata": {},
     "output_type": "execute_result"
    }
   ],
   "source": [
    "test_DOA_avg"
   ]
  },
  {
   "cell_type": "code",
   "execution_count": 90,
   "metadata": {},
   "outputs": [],
   "source": [
    "################ Percent Error Per Sample ###############\n",
    "percent_error = np.empty(num_samples_per_ping)\n",
    "for i in range(0, num_samples_per_ping):\n",
    "    percent_error[i] = abs((test_DOA_avg[i]-true_DOA_avg[i])/((true_DOA_avg[i])))"
   ]
  },
  {
   "cell_type": "code",
   "execution_count": 91,
   "metadata": {},
   "outputs": [
    {
     "data": {
      "text/plain": [
       "[<matplotlib.lines.Line2D at 0x1b361de1a90>]"
      ]
     },
     "execution_count": 91,
     "metadata": {},
     "output_type": "execute_result"
    },
    {
     "data": {
      "image/png": "[encoded data removed]",
      "text/plain": [
       "<Figure size 432x288 with 1 Axes>"
      ]
     },
     "metadata": {
      "needs_background": "light"
     },
     "output_type": "display_data"
    }
   ],
   "source": [
    "############### Plotting Percent Error #####################\n",
    "# Plots the percent error of the average of each sample across each ping\n",
    "# ie a point of data represents the percent error for a sample for all pings\n",
    "# so if the x-axis=1 and y=2, there is a 200% perecent error for sample 1 averaged for all pings\n",
    "\n",
    "plt.cla\n",
    "plt.figure(1)\n",
    "plt.plot(percent_error)"
   ]
  },
  {
   "cell_type": "markdown",
   "metadata": {},
   "source": [
    "# Anytyhing below here is for analysis purposes"
   ]
  },
  {
   "cell_type": "code",
   "execution_count": 92,
   "metadata": {},
   "outputs": [
    {
     "name": "stdout",
     "output_type": "stream",
     "text": [
      "1164\n",
      "1166\n",
      "1170\n",
      "1177\n",
      "1178\n",
      "1180\n",
      "1183\n",
      "1184\n",
      "1185\n",
      "1186\n",
      "1190\n",
      "1191\n",
      "1192\n",
      "1193\n",
      "1194\n",
      "1195\n",
      "1196\n",
      "1197\n",
      "1198\n",
      "1199\n",
      "1200\n",
      "1201\n",
      "1204\n",
      "1207\n",
      "1208\n",
      "1209\n",
      "1210\n",
      "1212\n",
      "1213\n",
      "1218\n",
      "1219\n",
      "1221\n",
      "1223\n",
      "1224\n",
      "1225\n",
      "1226\n",
      "1227\n",
      "1228\n",
      "1229\n",
      "1230\n",
      "1233\n",
      "1234\n",
      "1245\n",
      "1246\n",
      "1247\n",
      "1249\n",
      "1250\n"
     ]
    }
   ],
   "source": [
    "for i in range(0, num_samples_per_ping): \n",
    "    if percent_error[i] > 2:\n",
    "        print(i)           # Prints every sample number with an average error above 200%"
   ]
  },
  {
   "cell_type": "code",
   "execution_count": 94,
   "metadata": {},
   "outputs": [
    {
     "data": {
      "text/plain": [
       "22.352556880459943"
      ]
     },
     "execution_count": 94,
     "metadata": {},
     "output_type": "execute_result"
    }
   ],
   "source": [
    "test_DOA_avg[1208]           # Predicted DOA at one of the above samples"
   ]
  },
  {
   "cell_type": "code",
   "execution_count": 95,
   "metadata": {},
   "outputs": [
    {
     "data": {
      "text/plain": [
       "3.2624806558795556"
      ]
     },
     "execution_count": 95,
     "metadata": {},
     "output_type": "execute_result"
    }
   ],
   "source": [
    "true_DOA_avg[1208]          # True DOA at one of the above samples"
   ]
  }
 ],
 "metadata": {
  "interpreter": {
   "hash": "674a9451ed4de84c8c52b62b7b95bc1f8984ddc9599597b49394de9958455427"
  },
  "kernelspec": {
   "display_name": "Python 3.9.0 64-bit ('keras_tf': conda)",
   "language": "python",
   "name": "python3"
  },
  "language_info": {
   "codemirror_mode": {
    "name": "ipython",
    "version": 3
   },
   "file_extension": ".py",
   "mimetype": "text/x-python",
   "name": "python",
   "nbconvert_exporter": "python",
   "pygments_lexer": "ipython3",
   "version": "3.8.8"
  },
  "orig_nbformat": 4
 },
 "nbformat": 4,
 "nbformat_minor": 2
}
