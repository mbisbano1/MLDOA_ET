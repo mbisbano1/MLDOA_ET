{
 "cells": [
  {
   "cell_type": "code",
   "execution_count": 116,
   "metadata": {},
   "outputs": [],
   "source": [
    "#import tensorflow as tf\n",
    "\n",
    "#from tensorflow.keras.layers import LSTM\n",
    "\n",
    "# from tensorflow.keras.models import Sequential\n",
    "\n",
    "#from tensorflow.keras.losses import MeanSquaredError\n",
    "import pandas as pd\n",
    "import matplotlib.pyplot as plt\n",
    "import numpy as np"
   ]
  },
  {
   "cell_type": "code",
   "execution_count": null,
   "metadata": {},
   "outputs": [],
   "source": [
    "# STBD DATA USE THESE TWO\n",
    "#true_path_stbd = \"D:\\\\OneDrive\\\\OneDrive - University of Massachusetts Dartmouth\\\\ECE457_Senior_Design_ECE5\\\\CSV_Files\\\\StbdTesting_1404_002_FINAL.csv\"\n",
    "#prediction_path = \"D:\\\\OneDrive\\\\OneDrive - University of Massachusetts Dartmouth\\\\ECE457_Senior_Design_ECE5\\\\AIOutput_CSV_Files\\\\mb_predictions\\\\PredictedOutputTestMB13.csv\"\n",
    "\n",
    "#true_path_stbd = \"D:\\\\OneDrive\\\\OneDrive - University of Massachusetts Dartmouth\\\\ECE457_Senior_Design_ECE5\\\\CSV_Files\\\\0001_1404.002NR_stbd_avgBelow75deg.csv\"\n",
    "true_path_stbd = \"D:\\\\OneDrive\\\\OneDrive - University of Massachusetts Dartmouth\\\\ECE457_Senior_Design_ECE5\\\\CSV_Files\\\\0001_1404.038_stbd_FinalCleaned.csv\"\n",
    "#prediction_path = \"D:\\\\OneDrive\\\\OneDrive - University of Massachusetts Dartmouth\\\\ECE457_Senior_Design_ECE5\\\\AIOutput_CSV_Files\\\\mb_predictions\\\\PredictedOutputTestMB18.csv\"\n",
    "prediction_path = \"D:\\\\OneDrive\\\\OneDrive - University of Massachusetts Dartmouth\\\\ECE457_Senior_Design_ECE5\\\\AIOutput_CSV_Files\\\\mb_predictions\\\\StbdTrueReference_038cleanedFinal.csv\"\n",
    "\n",
    "\n",
    "#training_path = \"D:\\OneDrive\\OneDrive - University of Massachusetts Dartmouth\\ECE457_Senior_Design_ECE5\\CSV_Files\\\\train1_port_new.csv\"\n",
    "#test_path = \"D:\\OneDrive\\OneDrive - University of Massachusetts Dartmouth\\ECE457_Senior_Design_ECE5\\CSV_Files\\StbdTesting_1404_002.csv\"\n",
    "#test_path = \"D:\\OneDrive\\OneDrive - University of Massachusetts Dartmouth\\ECE457_Senior_Design_ECE5\\CSV_Files\\\\test1_stbd_new.csv\"\n"
   ]
  },
  {
   "cell_type": "code",
   "execution_count": null,
   "metadata": {},
   "outputs": [],
   "source": [
    "# PORT DATA USE THESE TWO\n",
    "\n",
    "#true_path_port = \"D:\\\\OneDrive\\\\OneDrive - University of Massachusetts Dartmouth\\\\ECE457_Senior_Design_ECE5\\\\CSV_Files\\\\0001_1404.002NR_port_avgBelow75deg.csv\"\n",
    "true_path_port = \"D:\\\\OneDrive\\\\OneDrive - University of Massachusetts Dartmouth\\\\ECE457_Senior_Design_ECE5\\\\CSV_Files\\\\0001_1404.038_port_FinalCleaned.csv\"\n",
    "#prediction_path = \"D:\\\\OneDrive\\\\OneDrive - University of Massachusetts Dartmouth\\\\ECE457_Senior_Design_ECE5\\\\AIOutput_CSV_Files\\\\mb_predictions\\\\PredictedOutputTrainMB18.csv\"\n",
    "prediction_path = \"D:\\\\OneDrive\\\\OneDrive - University of Massachusetts Dartmouth\\\\ECE457_Senior_Design_ECE5\\\\AIOutput_CSV_Files\\\\mb_predictions\\\\PortTrueReference_038cleanedFinal.csv\""
   ]
  },
  {
   "cell_type": "code",
   "execution_count": null,
   "metadata": {},
   "outputs": [],
   "source": [
    "df_true=pd.read_csv(true_path_stbd)\n",
    "#df_true=pd.read_csv(true_path_port)\n",
    "df_prediction=pd.read_csv(prediction_path)\n"
   ]
  },
  {
   "cell_type": "code",
   "execution_count": null,
   "metadata": {},
   "outputs": [],
   "source": [
    "\n",
    "#df_predictedDOA = df_prediction.iloc[:,4]\n",
    "#df_prediction\n",
    "df_predictedDOA = df_prediction[[\"PredictedDOA\"]]\n",
    "df_predictedDOA"
   ]
  },
  {
   "cell_type": "code",
   "execution_count": null,
   "metadata": {},
   "outputs": [],
   "source": [
    "df_reference = df_true[[\"DOA\", \"AngleUncertainty\"]]\n",
    "df_reference"
   ]
  },
  {
   "cell_type": "code",
   "execution_count": null,
   "metadata": {},
   "outputs": [],
   "source": [
    "df_reference['AngleUncertainty'].max()"
   ]
  },
  {
   "cell_type": "code",
   "execution_count": null,
   "metadata": {},
   "outputs": [],
   "source": [
    "df_reference['AngleUncertainty'].mean()"
   ]
  },
  {
   "cell_type": "code",
   "execution_count": null,
   "metadata": {},
   "outputs": [],
   "source": [
    "df_reference['AngleUncertainty'].var()"
   ]
  },
  {
   "cell_type": "code",
   "execution_count": null,
   "metadata": {},
   "outputs": [],
   "source": [
    "df_reference['DOA'].var()"
   ]
  },
  {
   "cell_type": "code",
   "execution_count": null,
   "metadata": {},
   "outputs": [],
   "source": [
    "df_comparison = df_predictedDOA.join(df_reference)\n",
    "df_comparison"
   ]
  },
  {
   "cell_type": "code",
   "execution_count": null,
   "metadata": {},
   "outputs": [],
   "source": [
    "theShape = df_comparison.shape\n",
    "numRows= theShape[0]"
   ]
  },
  {
   "cell_type": "code",
   "execution_count": null,
   "metadata": {},
   "outputs": [],
   "source": [
    "numCols = 4\n",
    "#5504457 \n",
    "df_results = pd.DataFrame(index=range(numRows),columns=range(numCols))\n",
    "#df_results = pd.DataFrame({'PassFail'})\n",
    "#df_comparison.insert()\n",
    "df_results.columns = {\"PassFail\", \"2STDPassFail\", \"4STDPassFail\", \"6STDPassFail\"}\n",
    "df_results"
   ]
  },
  {
   "cell_type": "code",
   "execution_count": null,
   "metadata": {},
   "outputs": [],
   "source": [
    "df_comparison = df_comparison.join(df_results)\n",
    "df_comparison"
   ]
  },
  {
   "cell_type": "code",
   "execution_count": null,
   "metadata": {},
   "outputs": [],
   "source": [
    "df_comparison['Delta'] = df_comparison['PredictedDOA'] - df_comparison['DOA']\n",
    "df_comparison['AbsDelta'] = df_comparison['Delta'].abs()\n",
    "print(df_comparison['Delta'].var())\n",
    "df_comparison"
   ]
  },
  {
   "cell_type": "code",
   "execution_count": null,
   "metadata": {},
   "outputs": [],
   "source": [
    "# less than (0.02*AngleUncertainty)/2, since this is the 2sigma value, and we want all values to be under 1 sigma.\n",
    "df_comparison['PassFail'] = df_comparison['AbsDelta'] <= (0.02*df_comparison['AngleUncertainty']/2)\n",
    "df_comparison['2STDPassFail'] = df_comparison['AbsDelta'] <= (0.02*df_comparison['AngleUncertainty'])\n",
    "df_comparison['4STDPassFail'] = df_comparison['AbsDelta'] <= (2*0.02*df_comparison['AngleUncertainty'])\n",
    "df_comparison['6STDPassFail'] = df_comparison['AbsDelta'] <= (3*0.02*df_comparison['AngleUncertainty'])\n",
    "df_comparison"
   ]
  },
  {
   "cell_type": "code",
   "execution_count": null,
   "metadata": {},
   "outputs": [],
   "source": [
    "PassCount = df_comparison['PassFail'].sum()\n",
    "PassCount2STD = df_comparison['2STDPassFail'].sum()\n",
    "PassCount4STD = df_comparison['4STDPassFail'].sum()\n",
    "PassCount6STD = df_comparison['6STDPassFail'].sum()\n",
    "\n",
    "PassCount, PassCount2STD, PassCount4STD, PassCount6STD"
   ]
  },
  {
   "cell_type": "code",
   "execution_count": null,
   "metadata": {},
   "outputs": [],
   "source": [
    "FailCount = (~df_comparison['PassFail']).sum()\n",
    "FailCount2STD = (~df_comparison['2STDPassFail']).sum()\n",
    "FailCount4STD = (~df_comparison['4STDPassFail']).sum()\n",
    "FailCount6STD = (~df_comparison['6STDPassFail']).sum()\n",
    "\n",
    "FailCount, FailCount2STD, FailCount4STD, FailCount6STD"
   ]
  },
  {
   "cell_type": "code",
   "execution_count": null,
   "metadata": {},
   "outputs": [],
   "source": [
    "TotalCount = PassCount+FailCount\n",
    "TotalCount2STD = PassCount2STD+FailCount2STD\n",
    "TotalCount4STD = PassCount4STD+FailCount4STD\n",
    "TotalCount6STD = PassCount6STD+FailCount6STD\n",
    "\n",
    "TotalCount, TotalCount2STD, TotalCount4STD, TotalCount6STD"
   ]
  },
  {
   "cell_type": "code",
   "execution_count": null,
   "metadata": {},
   "outputs": [],
   "source": [
    "PercentPass = 100*(PassCount/TotalCount)\n",
    "PercentPass2STD = 100*(PassCount2STD/TotalCount2STD)\n",
    "PercentPass4STD = 100*(PassCount4STD/TotalCount4STD)\n",
    "PercentPass6STD = 100*(PassCount6STD/TotalCount6STD)\n",
    "\n",
    "PercentPass, PercentPass2STD, PercentPass4STD, PercentPass6STD"
   ]
  },
  {
   "cell_type": "code",
   "execution_count": null,
   "metadata": {},
   "outputs": [],
   "source": [
    "print('Maximum error within 1 STD Deviation: ', 0.5*0.02*df_comparison['AngleUncertainty'].max(), 'degrees')\n",
    "print('Minimun error within 1 STD Deviation: ', 0.5*0.02*df_comparison['AngleUncertainty'].min(), 'degrees')"
   ]
  }
 ],
 "metadata": {
  "interpreter": {
   "hash": "674a9451ed4de84c8c52b62b7b95bc1f8984ddc9599597b49394de9958455427"
  },
  "kernelspec": {
   "display_name": "Python 3.9.0 ('keras_tf')",
   "language": "python",
   "name": "python3"
  },
  "language_info": {
   "codemirror_mode": {
    "name": "ipython",
    "version": 3
   },
   "file_extension": ".py",
   "mimetype": "text/x-python",
   "name": "python",
   "nbconvert_exporter": "python",
   "pygments_lexer": "ipython3",
   "version": "3.9.0"
  },
  "orig_nbformat": 4
 },
 "nbformat": 4,
 "nbformat_minor": 2
}
