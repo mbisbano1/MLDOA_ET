{
 "cells": [
  {
   "cell_type": "code",
   "execution_count": 1,
   "metadata": {},
   "outputs": [],
   "source": [
    "# Import the neccesary libraries needed\n",
    "import pandas as pd\n",
    "from matplotlib import pyplot as plt\n",
    "from sklearn.preprocessing import MinMaxScaler \n",
    "import numpy as np\n",
    "from numpy import insert\n",
    "import os\n",
    "import time\n",
    "\n",
    "# keras tuner for hyperparameter tuning\n",
    "import keras_tuner as kt\n",
    "\n",
    "# tensorflow Libraries\n",
    "import tensorflow as tf\n",
    "from keras.preprocessing.sequence import TimeseriesGenerator\n",
    "from tensorflow import keras\n",
    "from tensorflow.keras.models import Sequential, load_model\n",
    "from tensorflow.keras.layers import Activation, Dense, Dropout, LSTM\n",
    "from tensorflow.keras.optimizers import Adam\n",
    "from tensorflow.keras.metrics import sparse_categorical_crossentropy\n",
    "from keras.callbacks import EarlyStopping\n",
    "from keras.callbacks import ModelCheckpoint\n",
    "from keras.models import load_model"
   ]
  },
  {
   "cell_type": "markdown",
   "metadata": {},
   "source": [
    "Import the CSV Training and Testing Data Sets"
   ]
  },
  {
   "cell_type": "code",
   "execution_count": 23,
   "metadata": {},
   "outputs": [],
   "source": [
    "# Import the csv's (IMPORTANT: You need at least 16 Gb of RAM to proceed)\n",
    "\n",
    "# Original Dataset\n",
    "#train = pd.read_csv('D:\\\\OneDrive\\\\OneDrive - University of Massachusetts Dartmouth\\\\ECE457_Senior_Design_ECE5\\\\CSV_Files\\\\PortTraining_1404_002_FINAL_startingAt24.csv')\n",
    "#test = pd.read_csv('D:\\\\OneDrive\\\\OneDrive - University of Massachusetts Dartmouth\\\\ECE457_Senior_Design_ECE5\\\\CSV_Files\\\\StbdTesting_1404_002_FINAL.csv')\n",
    "\n",
    "# Deeper More Variate Dataset\n",
    "#train38 = pd.read_csv('D:\\\\OneDrive\\\\OneDrive - University of Massachusetts Dartmouth\\\\ECE457_Senior_Design_ECE5\\\\CSV_Files\\\\0001_1404.038_port.csv')\n",
    "#test38 = pd.read_csv('D:\\\\OneDrive\\\\OneDrive - University of Massachusetts Dartmouth\\\\ECE457_Senior_Design_ECE5\\\\CSV_Files\\\\0001_1404.038_stbd.csv')\n",
    "\n",
    "# Noise Reduction RAW Dataset\n",
    "#train = pd.read_csv('D:\\\\OneDrive\\\\OneDrive - University of Massachusetts Dartmouth\\\\ECE457_Senior_Design_ECE5\\\\CSV_Files\\\\0001_1404.002NR_port.csv')\n",
    "#test = pd.read_csv('D:\\\\OneDrive\\\\OneDrive - University of Massachusetts Dartmouth\\\\ECE457_Senior_Design_ECE5\\\\CSV_Files\\\\0001_1404.002NR_stbd.csv')\n",
    "\n",
    "# Noise Reduction Dataset\n",
    "train = pd.read_csv('D:\\\\OneDrive\\\\OneDrive - University of Massachusetts Dartmouth\\\\ECE457_Senior_Design_ECE5\\\\CSV_Files\\\\0001_1404.038_port_FinalCleaned_RollReady.csv')\n",
    "train2 = pd.read_csv('D:\\\\OneDrive\\\\OneDrive - University of Massachusetts Dartmouth\\\\ECE457_Senior_Design_ECE5\\\\CSV_Files\\\\0001_1404.002_port_FinalCleaned_RollReady.csv')\n",
    "test = pd.read_csv('D:\\\\OneDrive\\\\OneDrive - University of Massachusetts Dartmouth\\\\ECE457_Senior_Design_ECE5\\\\CSV_Files\\\\0001_1404.038_stbd_FinalCleaned_RollReady.csv')\n",
    "test2 = pd.read_csv('D:\\\\OneDrive\\\\OneDrive - University of Massachusetts Dartmouth\\\\ECE457_Senior_Design_ECE5\\\\CSV_Files\\\\0001_1404.002_stbd_FinalCleaned_RollReady.csv')\n",
    "\n",
    "#train = pd.read_csv('D:\\\\OneDrive\\\\OneDrive - University of Massachusetts Dartmouth\\\\ECE457_Senior_Design_ECE5\\\\CSV_Files\\\\repackingTestFiles\\\\0001_1404.038_port_new.csv')\n",
    "#test = pd.read_csv('D:\\\\OneDrive\\\\OneDrive - University of Massachusetts Dartmouth\\\\ECE457_Senior_Design_ECE5\\\\CSV_Files\\\\repackingTestFiles\\\\0001_1404.038_stbd_new.csv')"
   ]
  },
  {
   "cell_type": "code",
   "execution_count": null,
   "metadata": {},
   "outputs": [],
   "source": [
    "train"
   ]
  },
  {
   "cell_type": "code",
   "execution_count": null,
   "metadata": {},
   "outputs": [],
   "source": [
    "test"
   ]
  },
  {
   "cell_type": "markdown",
   "metadata": {},
   "source": [
    "Split up the Features and Labels from both the Training and Testing Datasets"
   ]
  },
  {
   "cell_type": "code",
   "execution_count": 24,
   "metadata": {},
   "outputs": [],
   "source": [
    "# Split up the features and labels from both the training and testing datasets\n",
    "#x_train=train.iloc[:,4:24]\n",
    "\n",
    "#x_train=train.iloc[:,3:24] # sample time delay through Q10\n",
    "\n",
    "x_train1=train.iloc[:,3:25] # sample time delay through roll\n",
    "x_train2 = train2.iloc[:, 3:25]\n",
    "#x_train=train38.iloc[:,3:24]\n",
    "\n",
    "x_train1['Amplitude']=train.iloc[:,29]\n",
    "x_train2['Amplitude']=train2.iloc[:,29]\n",
    "#x_train['Amplitude']=train38.iloc[:,29]\n",
    "\n",
    "\n",
    "#x_test=test.iloc[:,4:24]\n",
    "#x_test=test.iloc[:,3:24]    # sample time delay through Q10\n",
    "\n",
    "x_test=test.iloc[:,3:25]    # sample time delay through roll\n",
    "x_test2=test2.iloc[:,3:25]    # sample time delay through roll\n",
    "#x_test['Roll'] = x_test['Roll']\n",
    "\n",
    "\n",
    "x_test['Amplitude']=test.iloc[:,29]\n",
    "x_test2['Amplitude']=test2.iloc[:,29]\n",
    "#x_test['Amplitude']=test38.iloc[:,29]\n",
    "\n",
    "y_train1=train.iloc[:,26]\n",
    "y_train2=train2.iloc[:,26]\n",
    "#y_train=train38.iloc[:,26]\n",
    "\n",
    "y_test=test.iloc[:,26]\n",
    "y_test2=test2.iloc[:,26]\n",
    "#y_test=test38.iloc[:,26]"
   ]
  },
  {
   "cell_type": "code",
   "execution_count": 26,
   "metadata": {},
   "outputs": [],
   "source": [
    "xframes = [x_train1, x_train2]\n",
    "x_train = pd.concat(xframes, sort=False)\n",
    "yframes = [y_train1, y_train2]\n",
    "y_train = pd.concat(yframes, sort=False)"
   ]
  },
  {
   "cell_type": "code",
   "execution_count": null,
   "metadata": {},
   "outputs": [],
   "source": [
    "y_test"
   ]
  },
  {
   "cell_type": "code",
   "execution_count": null,
   "metadata": {},
   "outputs": [],
   "source": [
    "x_train"
   ]
  },
  {
   "cell_type": "code",
   "execution_count": null,
   "metadata": {},
   "outputs": [],
   "source": [
    "x_test"
   ]
  },
  {
   "cell_type": "markdown",
   "metadata": {},
   "source": [
    "Scale the Features from -1 to 1 so that Training is Easier for the Model"
   ]
  },
  {
   "cell_type": "code",
   "execution_count": 43,
   "metadata": {},
   "outputs": [
    {
     "name": "stdout",
     "output_type": "stream",
     "text": [
      "7622237\n",
      "7622237\n"
     ]
    }
   ],
   "source": [
    "# Scale the Features and Labels from [-1,1]\n",
    "\n",
    "s1=MinMaxScaler(feature_range=(0,1))\n",
    "#s1=MinMaxScaler(feature_range=(0,1))\n",
    "x_train_scale=s1.fit_transform(x_train)\n",
    "\n",
    "#s2=MinMaxScaler(feature_range=(0,1))\n",
    "#s2=MinMaxScaler(feature_range=(0,1))\n",
    "x_test_scale=s1.transform(x_test)\n",
    "x_test_scale=x_test_scale\n",
    "x_test_scale[:, 21] = -x_test_scale[:, 21]\n",
    "x_test2_scale=s1.transform(x_test2)\n",
    "x_test2_scale[:, 21] = -x_test2_scale[:, 21]\n",
    "\n",
    "# Scale DOA's from (0 to 1)\n",
    "#s3=MinMaxScaler(feature_range=(0,1))\n",
    "#y_train_scale = s3.fit_transform(train[['DOA']])\n",
    "y_train_scale= y_train.to_numpy()\n",
    "\n",
    "#s4=MinMaxScaler(feature_range=(0,1))\n",
    "#y_test_scale = s4.fit_transform(test[['DOA']])\n",
    "y_test_scale = y_test.to_numpy()\n",
    "y_test2_scale = y_test2.to_numpy()\n",
    "print(len(x_train_scale))\n",
    "print(len(y_train_scale))"
   ]
  },
  {
   "cell_type": "code",
   "execution_count": 9,
   "metadata": {},
   "outputs": [
    {
     "data": {
      "text/plain": [
       "array([[0.03403601, 0.55510042, 0.49083105, ..., 0.44995814, 0.59866221,\n",
       "        0.19230769],\n",
       "       [0.0342556 , 0.55140201, 0.47341079, ..., 0.48352091, 0.59866221,\n",
       "        0.22115385],\n",
       "       [0.03469477, 0.54222229, 0.48473322, ..., 0.44795833, 0.59866221,\n",
       "        0.40384615],\n",
       "       ...,\n",
       "       [0.99956083, 0.54172131, 0.47597129, ..., 0.49746535, 0.42474916,\n",
       "        0.17307692],\n",
       "       [0.99978041, 0.56875949, 0.48050026, ..., 0.4655846 , 0.42474916,\n",
       "        0.20192308],\n",
       "       [1.        , 0.57017402, 0.4762377 , ..., 0.44933805, 0.42474916,\n",
       "        0.21153846]])"
      ]
     },
     "execution_count": 9,
     "metadata": {},
     "output_type": "execute_result"
    }
   ],
   "source": [
    "x_train_scale"
   ]
  },
  {
   "cell_type": "code",
   "execution_count": 7,
   "metadata": {},
   "outputs": [
    {
     "data": {
      "text/plain": [
       "array([0.59866221, 0.59866221, 0.59866221, ..., 0.42474916, 0.42474916,\n",
       "       0.42474916])"
      ]
     },
     "execution_count": 7,
     "metadata": {},
     "output_type": "execute_result"
    }
   ],
   "source": [
    "x_train_scale[:,21]"
   ]
  },
  {
   "cell_type": "code",
   "execution_count": 8,
   "metadata": {},
   "outputs": [
    {
     "data": {
      "text/plain": [
       "array([-0.59866221, -0.59866221, -0.59866221, ..., -0.42474916,\n",
       "       -0.42474916, -0.42474916])"
      ]
     },
     "execution_count": 8,
     "metadata": {},
     "output_type": "execute_result"
    }
   ],
   "source": [
    "x_test_scale[:,21]"
   ]
  },
  {
   "cell_type": "code",
   "execution_count": null,
   "metadata": {},
   "outputs": [],
   "source": [
    "y_train_scale"
   ]
  },
  {
   "cell_type": "code",
   "execution_count": null,
   "metadata": {},
   "outputs": [],
   "source": [
    "Test_DOA_df= pd.DataFrame(y_test_scale, columns=['TEST DOAs'])\n",
    "Test_DOA_df\n"
   ]
  },
  {
   "cell_type": "code",
   "execution_count": null,
   "metadata": {},
   "outputs": [],
   "source": [
    "Test_DOA_df.describe()"
   ]
  },
  {
   "cell_type": "code",
   "execution_count": 10,
   "metadata": {},
   "outputs": [
    {
     "data": {
      "text/html": [
       "<div>\n",
       "<style scoped>\n",
       "    .dataframe tbody tr th:only-of-type {\n",
       "        vertical-align: middle;\n",
       "    }\n",
       "\n",
       "    .dataframe tbody tr th {\n",
       "        vertical-align: top;\n",
       "    }\n",
       "\n",
       "    .dataframe thead th {\n",
       "        text-align: right;\n",
       "    }\n",
       "</style>\n",
       "<table border=\"1\" class=\"dataframe\">\n",
       "  <thead>\n",
       "    <tr style=\"text-align: right;\">\n",
       "      <th></th>\n",
       "      <th>TWTT</th>\n",
       "      <th>I1</th>\n",
       "      <th>Q1</th>\n",
       "      <th>I2</th>\n",
       "      <th>Q2</th>\n",
       "      <th>I3</th>\n",
       "      <th>Q3</th>\n",
       "      <th>I4</th>\n",
       "      <th>Q4</th>\n",
       "      <th>I5</th>\n",
       "      <th>...</th>\n",
       "      <th>I7</th>\n",
       "      <th>Q7</th>\n",
       "      <th>I8</th>\n",
       "      <th>Q8</th>\n",
       "      <th>I9</th>\n",
       "      <th>Q9</th>\n",
       "      <th>I10</th>\n",
       "      <th>Q10</th>\n",
       "      <th>Roll</th>\n",
       "      <th>Amplitude</th>\n",
       "    </tr>\n",
       "  </thead>\n",
       "  <tbody>\n",
       "    <tr>\n",
       "      <th>0</th>\n",
       "      <td>0.034036</td>\n",
       "      <td>0.555100</td>\n",
       "      <td>0.490831</td>\n",
       "      <td>0.478568</td>\n",
       "      <td>0.419284</td>\n",
       "      <td>0.604678</td>\n",
       "      <td>0.503978</td>\n",
       "      <td>0.500413</td>\n",
       "      <td>0.625890</td>\n",
       "      <td>0.401728</td>\n",
       "      <td>...</td>\n",
       "      <td>0.457680</td>\n",
       "      <td>0.513242</td>\n",
       "      <td>0.447324</td>\n",
       "      <td>0.481483</td>\n",
       "      <td>0.493715</td>\n",
       "      <td>0.458495</td>\n",
       "      <td>0.565826</td>\n",
       "      <td>0.449958</td>\n",
       "      <td>0.598662</td>\n",
       "      <td>0.192308</td>\n",
       "    </tr>\n",
       "    <tr>\n",
       "      <th>1</th>\n",
       "      <td>0.034256</td>\n",
       "      <td>0.551402</td>\n",
       "      <td>0.473411</td>\n",
       "      <td>0.494694</td>\n",
       "      <td>0.431328</td>\n",
       "      <td>0.584435</td>\n",
       "      <td>0.505259</td>\n",
       "      <td>0.520081</td>\n",
       "      <td>0.613071</td>\n",
       "      <td>0.391703</td>\n",
       "      <td>...</td>\n",
       "      <td>0.477378</td>\n",
       "      <td>0.531799</td>\n",
       "      <td>0.423836</td>\n",
       "      <td>0.474472</td>\n",
       "      <td>0.518744</td>\n",
       "      <td>0.445072</td>\n",
       "      <td>0.551515</td>\n",
       "      <td>0.483521</td>\n",
       "      <td>0.598662</td>\n",
       "      <td>0.221154</td>\n",
       "    </tr>\n",
       "    <tr>\n",
       "      <th>2</th>\n",
       "      <td>0.034695</td>\n",
       "      <td>0.542222</td>\n",
       "      <td>0.484733</td>\n",
       "      <td>0.495606</td>\n",
       "      <td>0.419734</td>\n",
       "      <td>0.592157</td>\n",
       "      <td>0.514239</td>\n",
       "      <td>0.503458</td>\n",
       "      <td>0.615363</td>\n",
       "      <td>0.408393</td>\n",
       "      <td>...</td>\n",
       "      <td>0.465466</td>\n",
       "      <td>0.506474</td>\n",
       "      <td>0.449248</td>\n",
       "      <td>0.493261</td>\n",
       "      <td>0.480671</td>\n",
       "      <td>0.452228</td>\n",
       "      <td>0.577205</td>\n",
       "      <td>0.447958</td>\n",
       "      <td>0.598662</td>\n",
       "      <td>0.403846</td>\n",
       "    </tr>\n",
       "    <tr>\n",
       "      <th>3</th>\n",
       "      <td>0.034914</td>\n",
       "      <td>0.548131</td>\n",
       "      <td>0.524562</td>\n",
       "      <td>0.456328</td>\n",
       "      <td>0.385222</td>\n",
       "      <td>0.639724</td>\n",
       "      <td>0.523520</td>\n",
       "      <td>0.460322</td>\n",
       "      <td>0.634240</td>\n",
       "      <td>0.420130</td>\n",
       "      <td>...</td>\n",
       "      <td>0.426706</td>\n",
       "      <td>0.488977</td>\n",
       "      <td>0.479840</td>\n",
       "      <td>0.482797</td>\n",
       "      <td>0.468291</td>\n",
       "      <td>0.482013</td>\n",
       "      <td>0.567934</td>\n",
       "      <td>0.405838</td>\n",
       "      <td>0.598662</td>\n",
       "      <td>0.125000</td>\n",
       "    </tr>\n",
       "    <tr>\n",
       "      <th>4</th>\n",
       "      <td>0.035134</td>\n",
       "      <td>0.570660</td>\n",
       "      <td>0.507896</td>\n",
       "      <td>0.445567</td>\n",
       "      <td>0.414553</td>\n",
       "      <td>0.630493</td>\n",
       "      <td>0.491532</td>\n",
       "      <td>0.489981</td>\n",
       "      <td>0.648981</td>\n",
       "      <td>0.385926</td>\n",
       "      <td>...</td>\n",
       "      <td>0.423537</td>\n",
       "      <td>0.528995</td>\n",
       "      <td>0.459713</td>\n",
       "      <td>0.441188</td>\n",
       "      <td>0.515175</td>\n",
       "      <td>0.486436</td>\n",
       "      <td>0.523744</td>\n",
       "      <td>0.432921</td>\n",
       "      <td>0.598662</td>\n",
       "      <td>0.201923</td>\n",
       "    </tr>\n",
       "    <tr>\n",
       "      <th>...</th>\n",
       "      <td>...</td>\n",
       "      <td>...</td>\n",
       "      <td>...</td>\n",
       "      <td>...</td>\n",
       "      <td>...</td>\n",
       "      <td>...</td>\n",
       "      <td>...</td>\n",
       "      <td>...</td>\n",
       "      <td>...</td>\n",
       "      <td>...</td>\n",
       "      <td>...</td>\n",
       "      <td>...</td>\n",
       "      <td>...</td>\n",
       "      <td>...</td>\n",
       "      <td>...</td>\n",
       "      <td>...</td>\n",
       "      <td>...</td>\n",
       "      <td>...</td>\n",
       "      <td>...</td>\n",
       "      <td>...</td>\n",
       "      <td>...</td>\n",
       "    </tr>\n",
       "    <tr>\n",
       "      <th>3635094</th>\n",
       "      <td>0.999122</td>\n",
       "      <td>0.537242</td>\n",
       "      <td>0.470199</td>\n",
       "      <td>0.500493</td>\n",
       "      <td>0.448367</td>\n",
       "      <td>0.576555</td>\n",
       "      <td>0.504791</td>\n",
       "      <td>0.532590</td>\n",
       "      <td>0.614044</td>\n",
       "      <td>0.396330</td>\n",
       "      <td>...</td>\n",
       "      <td>0.477472</td>\n",
       "      <td>0.523853</td>\n",
       "      <td>0.413423</td>\n",
       "      <td>0.479178</td>\n",
       "      <td>0.513715</td>\n",
       "      <td>0.447315</td>\n",
       "      <td>0.560177</td>\n",
       "      <td>0.487466</td>\n",
       "      <td>0.424749</td>\n",
       "      <td>0.125000</td>\n",
       "    </tr>\n",
       "    <tr>\n",
       "      <th>3635095</th>\n",
       "      <td>0.999341</td>\n",
       "      <td>0.530803</td>\n",
       "      <td>0.474832</td>\n",
       "      <td>0.497041</td>\n",
       "      <td>0.457806</td>\n",
       "      <td>0.582730</td>\n",
       "      <td>0.516499</td>\n",
       "      <td>0.548245</td>\n",
       "      <td>0.613397</td>\n",
       "      <td>0.402153</td>\n",
       "      <td>...</td>\n",
       "      <td>0.464308</td>\n",
       "      <td>0.525200</td>\n",
       "      <td>0.406925</td>\n",
       "      <td>0.488853</td>\n",
       "      <td>0.512894</td>\n",
       "      <td>0.456697</td>\n",
       "      <td>0.569644</td>\n",
       "      <td>0.495915</td>\n",
       "      <td>0.424749</td>\n",
       "      <td>0.163462</td>\n",
       "    </tr>\n",
       "    <tr>\n",
       "      <th>3635096</th>\n",
       "      <td>0.999561</td>\n",
       "      <td>0.541721</td>\n",
       "      <td>0.475971</td>\n",
       "      <td>0.499985</td>\n",
       "      <td>0.453488</td>\n",
       "      <td>0.586270</td>\n",
       "      <td>0.515542</td>\n",
       "      <td>0.549547</td>\n",
       "      <td>0.605950</td>\n",
       "      <td>0.393161</td>\n",
       "      <td>...</td>\n",
       "      <td>0.466414</td>\n",
       "      <td>0.535260</td>\n",
       "      <td>0.414076</td>\n",
       "      <td>0.489291</td>\n",
       "      <td>0.511125</td>\n",
       "      <td>0.456786</td>\n",
       "      <td>0.574793</td>\n",
       "      <td>0.497465</td>\n",
       "      <td>0.424749</td>\n",
       "      <td>0.173077</td>\n",
       "    </tr>\n",
       "    <tr>\n",
       "      <th>3635097</th>\n",
       "      <td>0.999780</td>\n",
       "      <td>0.568759</td>\n",
       "      <td>0.480500</td>\n",
       "      <td>0.522404</td>\n",
       "      <td>0.436052</td>\n",
       "      <td>0.587227</td>\n",
       "      <td>0.483260</td>\n",
       "      <td>0.522265</td>\n",
       "      <td>0.590121</td>\n",
       "      <td>0.366171</td>\n",
       "      <td>...</td>\n",
       "      <td>0.485490</td>\n",
       "      <td>0.555638</td>\n",
       "      <td>0.439145</td>\n",
       "      <td>0.488318</td>\n",
       "      <td>0.529601</td>\n",
       "      <td>0.438315</td>\n",
       "      <td>0.566238</td>\n",
       "      <td>0.465585</td>\n",
       "      <td>0.424749</td>\n",
       "      <td>0.201923</td>\n",
       "    </tr>\n",
       "    <tr>\n",
       "      <th>3635098</th>\n",
       "      <td>1.000000</td>\n",
       "      <td>0.570174</td>\n",
       "      <td>0.476238</td>\n",
       "      <td>0.525423</td>\n",
       "      <td>0.431801</td>\n",
       "      <td>0.583058</td>\n",
       "      <td>0.472223</td>\n",
       "      <td>0.510432</td>\n",
       "      <td>0.590883</td>\n",
       "      <td>0.362943</td>\n",
       "      <td>...</td>\n",
       "      <td>0.493523</td>\n",
       "      <td>0.554048</td>\n",
       "      <td>0.442836</td>\n",
       "      <td>0.485163</td>\n",
       "      <td>0.538404</td>\n",
       "      <td>0.430453</td>\n",
       "      <td>0.556839</td>\n",
       "      <td>0.449338</td>\n",
       "      <td>0.424749</td>\n",
       "      <td>0.211538</td>\n",
       "    </tr>\n",
       "  </tbody>\n",
       "</table>\n",
       "<p>3635099 rows × 23 columns</p>\n",
       "</div>"
      ],
      "text/plain": [
       "             TWTT        I1        Q1        I2        Q2        I3        Q3  \\\n",
       "0        0.034036  0.555100  0.490831  0.478568  0.419284  0.604678  0.503978   \n",
       "1        0.034256  0.551402  0.473411  0.494694  0.431328  0.584435  0.505259   \n",
       "2        0.034695  0.542222  0.484733  0.495606  0.419734  0.592157  0.514239   \n",
       "3        0.034914  0.548131  0.524562  0.456328  0.385222  0.639724  0.523520   \n",
       "4        0.035134  0.570660  0.507896  0.445567  0.414553  0.630493  0.491532   \n",
       "...           ...       ...       ...       ...       ...       ...       ...   \n",
       "3635094  0.999122  0.537242  0.470199  0.500493  0.448367  0.576555  0.504791   \n",
       "3635095  0.999341  0.530803  0.474832  0.497041  0.457806  0.582730  0.516499   \n",
       "3635096  0.999561  0.541721  0.475971  0.499985  0.453488  0.586270  0.515542   \n",
       "3635097  0.999780  0.568759  0.480500  0.522404  0.436052  0.587227  0.483260   \n",
       "3635098  1.000000  0.570174  0.476238  0.525423  0.431801  0.583058  0.472223   \n",
       "\n",
       "               I4        Q4        I5  ...        I7        Q7        I8  \\\n",
       "0        0.500413  0.625890  0.401728  ...  0.457680  0.513242  0.447324   \n",
       "1        0.520081  0.613071  0.391703  ...  0.477378  0.531799  0.423836   \n",
       "2        0.503458  0.615363  0.408393  ...  0.465466  0.506474  0.449248   \n",
       "3        0.460322  0.634240  0.420130  ...  0.426706  0.488977  0.479840   \n",
       "4        0.489981  0.648981  0.385926  ...  0.423537  0.528995  0.459713   \n",
       "...           ...       ...       ...  ...       ...       ...       ...   \n",
       "3635094  0.532590  0.614044  0.396330  ...  0.477472  0.523853  0.413423   \n",
       "3635095  0.548245  0.613397  0.402153  ...  0.464308  0.525200  0.406925   \n",
       "3635096  0.549547  0.605950  0.393161  ...  0.466414  0.535260  0.414076   \n",
       "3635097  0.522265  0.590121  0.366171  ...  0.485490  0.555638  0.439145   \n",
       "3635098  0.510432  0.590883  0.362943  ...  0.493523  0.554048  0.442836   \n",
       "\n",
       "               Q8        I9        Q9       I10       Q10      Roll  Amplitude  \n",
       "0        0.481483  0.493715  0.458495  0.565826  0.449958  0.598662   0.192308  \n",
       "1        0.474472  0.518744  0.445072  0.551515  0.483521  0.598662   0.221154  \n",
       "2        0.493261  0.480671  0.452228  0.577205  0.447958  0.598662   0.403846  \n",
       "3        0.482797  0.468291  0.482013  0.567934  0.405838  0.598662   0.125000  \n",
       "4        0.441188  0.515175  0.486436  0.523744  0.432921  0.598662   0.201923  \n",
       "...           ...       ...       ...       ...       ...       ...        ...  \n",
       "3635094  0.479178  0.513715  0.447315  0.560177  0.487466  0.424749   0.125000  \n",
       "3635095  0.488853  0.512894  0.456697  0.569644  0.495915  0.424749   0.163462  \n",
       "3635096  0.489291  0.511125  0.456786  0.574793  0.497465  0.424749   0.173077  \n",
       "3635097  0.488318  0.529601  0.438315  0.566238  0.465585  0.424749   0.201923  \n",
       "3635098  0.485163  0.538404  0.430453  0.556839  0.449338  0.424749   0.211538  \n",
       "\n",
       "[3635099 rows x 23 columns]"
      ]
     },
     "execution_count": 10,
     "metadata": {},
     "output_type": "execute_result"
    }
   ],
   "source": [
    "df= pd.DataFrame(x_train_scale, columns= ['TWTT','I1', 'Q1', 'I2', 'Q2', 'I3', 'Q3', 'I4', 'Q4', 'I5', 'Q5', 'I6', 'Q6', 'I7', 'Q7', 'I8', 'Q8', 'I9', 'Q9', 'I10', 'Q10','Roll', 'Amplitude'])\n",
    "df\n"
   ]
  },
  {
   "cell_type": "code",
   "execution_count": null,
   "metadata": {},
   "outputs": [],
   "source": [
    "df.describe()"
   ]
  },
  {
   "cell_type": "markdown",
   "metadata": {},
   "source": [
    "Shift the DOA's to the Left by one so that the Current I and Q data Align with the current DOA while using TimeSeriesGenerator to Window the Data"
   ]
  },
  {
   "cell_type": "code",
   "execution_count": 31,
   "metadata": {},
   "outputs": [
    {
     "name": "stdout",
     "output_type": "stream",
     "text": [
      "7622237\n",
      "3382112\n",
      "[ 0.00000000e+00 -3.05400003e+00 -5.40000005e-02 ...  8.02140007e+01\n",
      "  8.02440007e+01  8.02680007e+01]\n",
      "7622237\n",
      "[ 0.          3.69000003  2.39400002 ... 76.59600067 76.35000066\n",
      " 76.32600066]\n",
      "3382112\n"
     ]
    }
   ],
   "source": [
    "# Shift the DOA to the left by one to use the current DOA label with the current I and Q data.\n",
    "# Normally the TimeseriesGenerator function uses past values to predict the future but we would like current data to help predict the current samples' DOA\n",
    "print(len(y_train_scale))\n",
    "print(len(y_test_scale))\n",
    "y_train_scale=insert(y_train_scale, 0, 0)\n",
    "y_train_scale=np.delete(y_train_scale, -1)\n",
    "y_test_scale=insert(y_test_scale, 0,0)\n",
    "y_test_scale=np.delete(y_test_scale, -1)\n",
    "y_test2_scale=insert(y_test2_scale, 0,0)\n",
    "y_test2_scale=np.delete(y_test2_scale, -1)\n",
    "print(y_train_scale)\n",
    "print(len(y_train_scale))\n",
    "print(y_test_scale)\n",
    "print(len(y_test_scale))"
   ]
  },
  {
   "cell_type": "markdown",
   "metadata": {},
   "source": [
    "Create the Windows Neccesary for the LSTM model using the TimeSeriesGenerator Function"
   ]
  },
  {
   "cell_type": "code",
   "execution_count": 85,
   "metadata": {},
   "outputs": [
    {
     "data": {
      "text/plain": [
       "7622237"
      ]
     },
     "execution_count": 85,
     "metadata": {},
     "output_type": "execute_result"
    }
   ],
   "source": [
    "# Create the windows neccesary for the LSTM model within tensorflow keras\n",
    "# Below are the arguments of the timeseries_dataset_from_array function\n",
    "# The function takes a numpy array and makes a timeseries out of it\n",
    "NumSampsPerPing= 4301-24+1\n",
    "data=x_train_scale # the data to make the windows\n",
    "targets=y_train_scale # time steps in the data (don't need)\n",
    "sequence_length=25 # window length\n",
    "sequence_stride=1# period between successive output sequences\n",
    "sampling_rate=1 # period between successive individual timesteps     within sequences\n",
    "batch_size=32 # number of time series samples in each batch\n",
    "shuffle=False #shuffle the data before making the windows\n",
    "seed=None # is related to shuffle\n",
    "start_index=None # is related to shuffle\n",
    "end_index=None # is related to shuffle\n",
    "n_features=23\n",
    "\n",
    "test_data=x_test_scale\n",
    "test_targets=y_test_scale\n",
    "test2_data = x_test2_scale\n",
    "test2_targets = y_test2_scale\n",
    "dataRows = data.shape[0]\n",
    "dataRows"
   ]
  },
  {
   "cell_type": "code",
   "execution_count": 86,
   "metadata": {},
   "outputs": [
    {
     "name": "stdout",
     "output_type": "stream",
     "text": [
      "7422237 , 7622237\n"
     ]
    }
   ],
   "source": [
    "#validationStartRow = dataRows - NumSampsPerPing*281\n",
    "validationStartRow = dataRows - 200*1000\n",
    "#validationStartRow = dataRows - 8*1000\n",
    "\n",
    "print(validationStartRow, ',',dataRows)\n",
    "\n",
    "train_data = data[:validationStartRow-1]\n",
    "#train_data = data\n",
    "#   train_data.shape[0]\n",
    "train_targets = targets[:validationStartRow-1]\n",
    "#train_targets = targets\n",
    "#   train_targets.shape[0]\n",
    "val_data = data[validationStartRow:]\n",
    "#   val_data.shape[0], dataRows-validationStartRow\n",
    "y_val_scale = y_train_scale[validationStartRow:]\n",
    "\n",
    "val_targets = targets[validationStartRow:]"
   ]
  },
  {
   "cell_type": "code",
   "execution_count": null,
   "metadata": {},
   "outputs": [],
   "source": [
    "train_data.shape , train_targets.shape"
   ]
  },
  {
   "cell_type": "code",
   "execution_count": null,
   "metadata": {},
   "outputs": [],
   "source": [
    "val_data.shape , val_targets.shape"
   ]
  },
  {
   "cell_type": "code",
   "execution_count": 87,
   "metadata": {},
   "outputs": [],
   "source": [
    "\n",
    "\n",
    "#inputs=TimeseriesGenerator(data, targets,sequence_length, batch_size)\n",
    "train_inputs=TimeseriesGenerator(data=train_data,targets=train_targets,length=sequence_length,sampling_rate=sampling_rate,stride=sequence_stride,batch_size=batch_size, shuffle=True)\n",
    "trainentire_inputs = TimeseriesGenerator(data=data,targets=targets,length=sequence_length,sampling_rate=sampling_rate,stride=sequence_stride,batch_size=256)\n",
    "\n",
    "val_inputs = TimeseriesGenerator(data=val_data,targets=val_targets,length=sequence_length,sampling_rate=sampling_rate,stride=sequence_stride,batch_size=256, shuffle=False)\n",
    "\n",
    "#test_inputs=TimeseriesGenerator(test_data[0:40000], -1*test_targets[0:40000],sequence_length, batch_size)\n",
    "test_inputs=TimeseriesGenerator(data=test_data,targets=test_targets,length=sequence_length,sampling_rate=sampling_rate,stride=sequence_stride,batch_size=256)\n",
    "test_inputs2=TimeseriesGenerator(data=test2_data,targets=test2_targets,length=sequence_length,sampling_rate=sampling_rate,stride=sequence_stride,batch_size=256)\n",
    "\n",
    "#inputs=tf.keras.preprocessing.timeseries_dataset_from_array(data, targets, sequence_length, sequence_stride, sampling_rate, batch_size, shuffle)\n",
    "#print(type(inputs))\n",
    "\n",
    "#print('done')"
   ]
  },
  {
   "cell_type": "code",
   "execution_count": null,
   "metadata": {},
   "outputs": [],
   "source": [
    "# abstraction test imports\n",
    "abstraction_test_port = pd.read_csv('D:\\\\OneDrive\\\\OneDrive - University of Massachusetts Dartmouth\\\\ECE457_Senior_Design_ECE5\\\\CSV_Files\\\\0001_1404.038_port.csv')\n",
    "abstraction_test_stbd = pd.read_csv('D:\\\\OneDrive\\\\OneDrive - University of Massachusetts Dartmouth\\\\ECE457_Senior_Design_ECE5\\\\CSV_Files\\\\0001_1404.038_stbd.csv')\n",
    "# Split up the features and labels from both the training and testing datasets\n",
    "#x_train=train.iloc[:,4:24]\n",
    "\n",
    "Xatest_port=abstraction_test_port.iloc[:,3:24]\n",
    "#x_train['TWTT']=train.iloc[:,28]  I feel as though the TWTT has NO impact on the DOA so we should NOT include it in training\n",
    "Xatest_port['Amplitude']=abstraction_test_port.iloc[:,29]\n",
    "\n",
    "\n",
    "#x_test=test.iloc[:,4:24]\n",
    "Xatest_stbd=abstraction_test_stbd.iloc[:,3:24]\n",
    "#x_test['TWTT']=test.iloc[:,28] I feel as though the TWTT has NO impact on the DOA so we should NOT include it in training\n",
    "Xatest_stbd['Amplitude']=abstraction_test_stbd.iloc[:,29]\n",
    "\n",
    "Yatest_port=abstraction_test_port.iloc[:,26]\n",
    "\n",
    "Yatest_stbd=abstraction_test_stbd.iloc[:,26]\n",
    "\n",
    "s10=MinMaxScaler(feature_range=(0,1))\n",
    "#s1=MinMaxScaler(feature_range=(0,1))\n",
    "Xatest_port_scale=s10.fit_transform(Xatest_port)\n",
    "\n",
    "s20=MinMaxScaler(feature_range=(0,1))\n",
    "#s2=MinMaxScaler(feature_range=(0,1))\n",
    "Xatest_stbd_scale=s20.fit_transform(Xatest_stbd)\n",
    "#x_test_scale=x_test_scale\n",
    "\n",
    "# Scale DOA's from (0 to 1)\n",
    "s30=MinMaxScaler(feature_range=(0,1))\n",
    "#y_train_scale = s3.fit_transform(train[['DOA']])\n",
    "Yatest_port_scale= Yatest_port.to_numpy()\n",
    "\n",
    "s40=MinMaxScaler(feature_range=(0,1))\n",
    "#y_test_scale = s4.fit_transform(test[['DOA']])\n",
    "Yatest_stbd_scale= Yatest_stbd.to_numpy()\n",
    "\n",
    "print(len(Xatest_port_scale))\n",
    "print(len(Xatest_stbd_scale))\n",
    "\n",
    "print(len(Yatest_port_scale))\n",
    "print(len(Yatest_stbd_scale))\n",
    "Yatest_port_scale=insert(Yatest_port_scale, 0, 0)\n",
    "Yatest_port_scale=np.delete(Yatest_port_scale, -1)\n",
    "Yatest_stbd_scale=insert(Yatest_stbd_scale, 0,0)\n",
    "Yatest_stbd_scale=np.delete(Yatest_stbd_scale, -1)\n",
    "print(Yatest_port_scale)\n",
    "print(len(Yatest_port_scale))\n",
    "print(Yatest_stbd_scale)\n",
    "print(len(Yatest_stbd_scale))\n",
    "\n",
    "\n",
    "abstraction_test_port_inputs=TimeseriesGenerator(data=Xatest_port_scale,targets=Yatest_port_scale,length=sequence_length,sampling_rate=sampling_rate,stride=sequence_stride,batch_size=batch_size)\n",
    "abstraction_test_stbd_inputs=TimeseriesGenerator(data=Xatest_stbd_scale,targets=Yatest_stbd_scale,length=sequence_length,sampling_rate=sampling_rate,stride=sequence_stride,batch_size=batch_size)\n",
    "\n",
    "\n"
   ]
  },
  {
   "cell_type": "code",
   "execution_count": null,
   "metadata": {},
   "outputs": [],
   "source": [
    "# print the first couple of samples to see if everything is lining up\n",
    "for i in range(100):\n",
    "\tx, y = train_inputs[i]\n",
    "\tprint('%s => %s' % (x, y))"
   ]
  },
  {
   "cell_type": "code",
   "execution_count": null,
   "metadata": {},
   "outputs": [],
   "source": [
    "# print the first couple of samples to see if everything everything is lining up\n",
    "for i in range(100):\n",
    "\tx, y = test_inputs[i]\n",
    "\tprint('%s => %s' % (x, y))"
   ]
  },
  {
   "cell_type": "markdown",
   "metadata": {},
   "source": [
    "Define the Model's Structure"
   ]
  },
  {
   "cell_type": "code",
   "execution_count": null,
   "metadata": {},
   "outputs": [],
   "source": [
    "# clear the model!\n",
    "model = 0"
   ]
  },
  {
   "cell_type": "code",
   "execution_count": 88,
   "metadata": {},
   "outputs": [],
   "source": [
    "# With all the preproccessing done, it is time to define the model\n",
    "# Define the LSTM Model\n",
    "model= Sequential(name='MLDOASequential')\n",
    "model.add(LSTM(units=96, name='LSTM1', activation='tanh', input_shape=(sequence_length,n_features), return_sequences=True))\n",
    "model.add(LSTM(units=96, name='LSTM2', activation='tanh', input_shape=(sequence_length,n_features), return_sequences=False))\n",
    "#model.add(LSTM(units=44, name='LSTM1', activation='tanh', input_shape=(sequence_length,n_features), return_sequences=False))\n",
    "\n",
    "#model.add(LSTM(units=64, name='LSTM1', activation='tanh', batch_input_shape=(batch_size, sequence_length, n_features),input_shape=(sequence_length,n_features), return_sequences=True, stateful=False, bias_initializer='ones'))\n",
    "#model.add(LSTM(units=64, name='LSTM1', activation='tanh', input_shape=(sequence_length,n_features), return_sequences=True, stateful=False, bias_initializer='Ones'))\n",
    "#model.add(Dense(units=))\n",
    "#model.add(Dense(units=300, name='Dense1', activation = 'relu'))\n",
    "#model.add(Dropout(0.2, name='Dropout1'))\n",
    "\n",
    "#model.add(LSTM(units=416, name='LSTM2', activation='tanh', return_sequences=True, stateful=False, bias_initializer='ones'))\n",
    "#model.add(Dense(units=500, name='Dense2'))\n",
    "#model.add(Dense(units=100, activation='relu'))\n",
    "#model.add(Dropout(0.1, name='Dropout2'))\n",
    "\n",
    "#model.add(LSTM(units=312, name='LSTM3', activation='tanh', return_sequences=False, stateful=False, bias_initializer='Ones'))\n",
    "#model.add(Dense(units=300, name='Dense3', activation='relu'))\n",
    "\n",
    "#model.add(Dropout(0.3, name='Dropout1'))\n",
    "\n",
    "#model.add(Dense(units=10, name='Dense4', activation='relu', input_shape=(sequence_length,n_features)))\n",
    "model.add(Dense(units=392, name='Dense1', activation='relu'))\n",
    "#model.add(Dropout(0.2, name='Dropout2'))\n",
    "model.add(Dense(units=192, name='Dense2', activation='relu'))\n",
    "#model.add(Dropout(0.3, name='Dropout3'))\n",
    "#model.add(Dense(units=96, name='Dense3', activation='relu'))\n",
    "#model.add(Dropout(0.2, name='Dropout3'))\n",
    "#model.add(Dense(units=30, name='Dense4', activation='relu'))\n",
    "#model.add(Dropout(0.2, name='Dropout4'))\n",
    "#model.add(Dense(units=30, name='Dense5', activation='relu'))\n",
    "#model.add(Dropout(0.2, name='Dropout5'))\n",
    "#model.add(Dense(units=10, name='Dense9', activation='relu'))\n",
    "#model.add(Dropout(0.2, name='Dropout6'))\n",
    "#model.add(LSTM(units=84, name='LSTM3', activation='tanh', return_sequences=True))\n",
    "#model.add(Dense(units=100))\n",
    "#model.add(Dense(units=100, activation = 'linear'))\n",
    "#model.add(Dropout(0.2))\n",
    "#model.add(LSTM(units=320, activation='tanh', return_sequences=True))\n",
    "#model.add(Dropout(0.2))\n",
    "#model.add(LSTM(units=168, name='LSTM4', activation='tanh'))\n",
    "#model.add(Dense(units=100))\n",
    "#model.add(Dense(units=100, activation = 'linear'))\n",
    "#model.add(Dropout(0.2))\n",
    "#model.add(LSTM(units=480))\n",
    "#model.add(Dropout(0.2))\n",
    "\n",
    "\n",
    "model.add(Dense(units=1, name='DenseOutput', activation='linear')) #one output (namely: DOA)\n",
    "\n"
   ]
  },
  {
   "cell_type": "code",
   "execution_count": 89,
   "metadata": {},
   "outputs": [
    {
     "name": "stdout",
     "output_type": "stream",
     "text": [
      "Model: \"MLDOASequential\"\n",
      "_________________________________________________________________\n",
      " Layer (type)                Output Shape              Param #   \n",
      "=================================================================\n",
      " LSTM1 (LSTM)                (None, 25, 96)            46080     \n",
      "                                                                 \n",
      " LSTM2 (LSTM)                (None, 96)                74112     \n",
      "                                                                 \n",
      " Dense1 (Dense)              (None, 392)               38024     \n",
      "                                                                 \n",
      " Dense2 (Dense)              (None, 192)               75456     \n",
      "                                                                 \n",
      " DenseOutput (Dense)         (None, 1)                 193       \n",
      "                                                                 \n",
      "=================================================================\n",
      "Total params: 233,865\n",
      "Trainable params: 233,865\n",
      "Non-trainable params: 0\n",
      "_________________________________________________________________\n"
     ]
    }
   ],
   "source": [
    "model.summary()"
   ]
  },
  {
   "cell_type": "markdown",
   "metadata": {},
   "source": [
    "Train the Model using the Specified Hyperparmeters"
   ]
  },
  {
   "cell_type": "code",
   "execution_count": 19,
   "metadata": {},
   "outputs": [],
   "source": [
    "# epoch learning rate scheduler for 10 epochs.\n",
    "def EpochScheduler10_2(epoch, lr):\n",
    "    if epoch == 0:\n",
    "        return 0.1\n",
    "    if epoch == 1:\n",
    "        return 0.1\n",
    "    elif epoch == 2:\n",
    "        return 0.1\n",
    "    elif epoch == 3:\n",
    "        return 0.05\n",
    "    elif epoch == 4:\n",
    "        return 0.05\n",
    "    elif epoch == 5:\n",
    "        return 0.05\n",
    "    elif epoch == 6:\n",
    "        return 0.025\n",
    "    elif epoch == 7:\n",
    "        return 0.025\n",
    "    elif epoch == 8:\n",
    "        return 0.025\n",
    "    elif epoch == 9:\n",
    "        return 0.01\n",
    "    elif epoch == 10:\n",
    "        return 0.01\n",
    "    elif epoch == 11:\n",
    "        return 0.01\n",
    "    else:\n",
    "        return 0.01\n"
   ]
  },
  {
   "cell_type": "code",
   "execution_count": 18,
   "metadata": {},
   "outputs": [],
   "source": [
    "# epoch learning rate scheduler for 10 epochs.\n",
    "def EpochScheduler10(epoch, lr):\n",
    "    if epoch == 0:\n",
    "        return 0.01\n",
    "    if epoch == 1:\n",
    "        return 0.01\n",
    "    elif epoch == 2:\n",
    "        return 0.01\n",
    "    elif epoch == 3:\n",
    "        return 0.005\n",
    "    elif epoch == 4:\n",
    "        return 0.005\n",
    "    elif epoch == 5:\n",
    "        return 0.005\n",
    "    elif epoch == 6:\n",
    "        return 0.0025\n",
    "    elif epoch == 7:\n",
    "        return 0.0025\n",
    "    elif epoch == 8:\n",
    "        return 0.0025\n",
    "    elif epoch == 9:\n",
    "        return 0.001\n",
    "    elif epoch == 10:\n",
    "        return 0.001\n",
    "    elif epoch == 11:\n",
    "        return 0.001\n",
    "    else:\n",
    "        return 0.001\n"
   ]
  },
  {
   "cell_type": "code",
   "execution_count": 17,
   "metadata": {},
   "outputs": [],
   "source": [
    "def scheduler(epoch,lr):\n",
    "    if epoch<=1:\n",
    "        return lr\n",
    "    elif epoch>=2 | epoch<=4:\n",
    "        #return lr/1.65\n",
    "        return lr/1.55\n",
    "    else:\n",
    "        #return lr * tf.math.exp(-0.5)\n",
    "        return lr * tf.math.exp(-0.2)"
   ]
  },
  {
   "cell_type": "code",
   "execution_count": 91,
   "metadata": {},
   "outputs": [
    {
     "name": "stdout",
     "output_type": "stream",
     "text": [
      "Epoch 1/300\n",
      "1500/1500 [==============================] - ETA: 0s - loss: 22.8601 - mean_squared_error: 76.9875 - root_mean_squared_error: 8.7743"
     ]
    },
    {
     "name": "stderr",
     "output_type": "stream",
     "text": [
      "WARNING:absl:Function `_wrapped_model` contains input name(s) LSTM1_input with unsupported characters which will be renamed to lstm1_input in the SavedModel.\n",
      "WARNING:absl:Found untraced functions such as lstm_cell_10_layer_call_fn, lstm_cell_10_layer_call_and_return_conditional_losses, lstm_cell_11_layer_call_fn, lstm_cell_11_layer_call_and_return_conditional_losses, lstm_cell_10_layer_call_fn while saving (showing 5 of 10). These functions will not be directly callable after loading.\n"
     ]
    },
    {
     "name": "stdout",
     "output_type": "stream",
     "text": [
      "INFO:tensorflow:Assets written to: model\\assets\n"
     ]
    },
    {
     "name": "stderr",
     "output_type": "stream",
     "text": [
      "INFO:tensorflow:Assets written to: model\\assets\n",
      "WARNING:absl:<keras.layers.recurrent.LSTMCell object at 0x000001883ABA65B0> has the same name 'LSTMCell' as a built-in Keras object. Consider renaming <class 'keras.layers.recurrent.LSTMCell'> to avoid naming conflicts when loading with `tf.keras.models.load_model`. If renaming is not possible, pass the object in the `custom_objects` parameter of the load function.\n",
      "WARNING:absl:<keras.layers.recurrent.LSTMCell object at 0x00000187C11541C0> has the same name 'LSTMCell' as a built-in Keras object. Consider renaming <class 'keras.layers.recurrent.LSTMCell'> to avoid naming conflicts when loading with `tf.keras.models.load_model`. If renaming is not possible, pass the object in the `custom_objects` parameter of the load function.\n"
     ]
    },
    {
     "name": "stdout",
     "output_type": "stream",
     "text": [
      "1500/1500 [==============================] - 23s 14ms/step - loss: 22.8601 - mean_squared_error: 76.9875 - root_mean_squared_error: 8.7743\n",
      "Epoch 2/300\n",
      "1500/1500 [==============================] - 14s 9ms/step - loss: 23.1313 - mean_squared_error: 78.1536 - root_mean_squared_error: 8.8405\n",
      "Epoch 3/300\n",
      "1495/1500 [============================>.] - ETA: 0s - loss: 21.9963 - mean_squared_error: 74.9268 - root_mean_squared_error: 8.6560"
     ]
    },
    {
     "name": "stderr",
     "output_type": "stream",
     "text": [
      "WARNING:absl:Function `_wrapped_model` contains input name(s) LSTM1_input with unsupported characters which will be renamed to lstm1_input in the SavedModel.\n",
      "WARNING:absl:Found untraced functions such as lstm_cell_10_layer_call_fn, lstm_cell_10_layer_call_and_return_conditional_losses, lstm_cell_11_layer_call_fn, lstm_cell_11_layer_call_and_return_conditional_losses, lstm_cell_10_layer_call_fn while saving (showing 5 of 10). These functions will not be directly callable after loading.\n"
     ]
    },
    {
     "name": "stdout",
     "output_type": "stream",
     "text": [
      "INFO:tensorflow:Assets written to: model\\assets\n"
     ]
    },
    {
     "name": "stderr",
     "output_type": "stream",
     "text": [
      "INFO:tensorflow:Assets written to: model\\assets\n",
      "WARNING:absl:<keras.layers.recurrent.LSTMCell object at 0x000001883ABA65B0> has the same name 'LSTMCell' as a built-in Keras object. Consider renaming <class 'keras.layers.recurrent.LSTMCell'> to avoid naming conflicts when loading with `tf.keras.models.load_model`. If renaming is not possible, pass the object in the `custom_objects` parameter of the load function.\n",
      "WARNING:absl:<keras.layers.recurrent.LSTMCell object at 0x00000187C11541C0> has the same name 'LSTMCell' as a built-in Keras object. Consider renaming <class 'keras.layers.recurrent.LSTMCell'> to avoid naming conflicts when loading with `tf.keras.models.load_model`. If renaming is not possible, pass the object in the `custom_objects` parameter of the load function.\n"
     ]
    },
    {
     "name": "stdout",
     "output_type": "stream",
     "text": [
      "1500/1500 [==============================] - 21s 14ms/step - loss: 21.9959 - mean_squared_error: 74.9062 - root_mean_squared_error: 8.6548\n",
      "Epoch 4/300\n",
      "1500/1500 [==============================] - ETA: 0s - loss: 21.3913 - mean_squared_error: 72.9268 - root_mean_squared_error: 8.5397"
     ]
    },
    {
     "name": "stderr",
     "output_type": "stream",
     "text": [
      "WARNING:absl:Function `_wrapped_model` contains input name(s) LSTM1_input with unsupported characters which will be renamed to lstm1_input in the SavedModel.\n",
      "WARNING:absl:Found untraced functions such as lstm_cell_10_layer_call_fn, lstm_cell_10_layer_call_and_return_conditional_losses, lstm_cell_11_layer_call_fn, lstm_cell_11_layer_call_and_return_conditional_losses, lstm_cell_10_layer_call_fn while saving (showing 5 of 10). These functions will not be directly callable after loading.\n"
     ]
    },
    {
     "name": "stdout",
     "output_type": "stream",
     "text": [
      "INFO:tensorflow:Assets written to: model\\assets\n"
     ]
    },
    {
     "name": "stderr",
     "output_type": "stream",
     "text": [
      "INFO:tensorflow:Assets written to: model\\assets\n",
      "WARNING:absl:<keras.layers.recurrent.LSTMCell object at 0x000001883ABA65B0> has the same name 'LSTMCell' as a built-in Keras object. Consider renaming <class 'keras.layers.recurrent.LSTMCell'> to avoid naming conflicts when loading with `tf.keras.models.load_model`. If renaming is not possible, pass the object in the `custom_objects` parameter of the load function.\n",
      "WARNING:absl:<keras.layers.recurrent.LSTMCell object at 0x00000187C11541C0> has the same name 'LSTMCell' as a built-in Keras object. Consider renaming <class 'keras.layers.recurrent.LSTMCell'> to avoid naming conflicts when loading with `tf.keras.models.load_model`. If renaming is not possible, pass the object in the `custom_objects` parameter of the load function.\n"
     ]
    },
    {
     "name": "stdout",
     "output_type": "stream",
     "text": [
      "1500/1500 [==============================] - 20s 13ms/step - loss: 21.3913 - mean_squared_error: 72.9268 - root_mean_squared_error: 8.5397\n",
      "Epoch 5/300\n",
      "1496/1500 [============================>.] - ETA: 0s - loss: 21.0559 - mean_squared_error: 71.8856 - root_mean_squared_error: 8.4785"
     ]
    },
    {
     "name": "stderr",
     "output_type": "stream",
     "text": [
      "WARNING:absl:Function `_wrapped_model` contains input name(s) LSTM1_input with unsupported characters which will be renamed to lstm1_input in the SavedModel.\n",
      "WARNING:absl:Found untraced functions such as lstm_cell_10_layer_call_fn, lstm_cell_10_layer_call_and_return_conditional_losses, lstm_cell_11_layer_call_fn, lstm_cell_11_layer_call_and_return_conditional_losses, lstm_cell_10_layer_call_fn while saving (showing 5 of 10). These functions will not be directly callable after loading.\n"
     ]
    },
    {
     "name": "stdout",
     "output_type": "stream",
     "text": [
      "INFO:tensorflow:Assets written to: model\\assets\n"
     ]
    },
    {
     "name": "stderr",
     "output_type": "stream",
     "text": [
      "INFO:tensorflow:Assets written to: model\\assets\n",
      "WARNING:absl:<keras.layers.recurrent.LSTMCell object at 0x000001883ABA65B0> has the same name 'LSTMCell' as a built-in Keras object. Consider renaming <class 'keras.layers.recurrent.LSTMCell'> to avoid naming conflicts when loading with `tf.keras.models.load_model`. If renaming is not possible, pass the object in the `custom_objects` parameter of the load function.\n",
      "WARNING:absl:<keras.layers.recurrent.LSTMCell object at 0x00000187C11541C0> has the same name 'LSTMCell' as a built-in Keras object. Consider renaming <class 'keras.layers.recurrent.LSTMCell'> to avoid naming conflicts when loading with `tf.keras.models.load_model`. If renaming is not possible, pass the object in the `custom_objects` parameter of the load function.\n"
     ]
    },
    {
     "name": "stdout",
     "output_type": "stream",
     "text": [
      "1500/1500 [==============================] - 21s 14ms/step - loss: 21.0810 - mean_squared_error: 71.9734 - root_mean_squared_error: 8.4837\n",
      "Epoch 6/300\n",
      "1497/1500 [============================>.] - ETA: 0s - loss: 20.6303 - mean_squared_error: 69.6463 - root_mean_squared_error: 8.3454"
     ]
    },
    {
     "name": "stderr",
     "output_type": "stream",
     "text": [
      "WARNING:absl:Function `_wrapped_model` contains input name(s) LSTM1_input with unsupported characters which will be renamed to lstm1_input in the SavedModel.\n",
      "WARNING:absl:Found untraced functions such as lstm_cell_10_layer_call_fn, lstm_cell_10_layer_call_and_return_conditional_losses, lstm_cell_11_layer_call_fn, lstm_cell_11_layer_call_and_return_conditional_losses, lstm_cell_10_layer_call_fn while saving (showing 5 of 10). These functions will not be directly callable after loading.\n"
     ]
    },
    {
     "name": "stdout",
     "output_type": "stream",
     "text": [
      "INFO:tensorflow:Assets written to: model\\assets\n"
     ]
    },
    {
     "name": "stderr",
     "output_type": "stream",
     "text": [
      "INFO:tensorflow:Assets written to: model\\assets\n",
      "WARNING:absl:<keras.layers.recurrent.LSTMCell object at 0x000001883ABA65B0> has the same name 'LSTMCell' as a built-in Keras object. Consider renaming <class 'keras.layers.recurrent.LSTMCell'> to avoid naming conflicts when loading with `tf.keras.models.load_model`. If renaming is not possible, pass the object in the `custom_objects` parameter of the load function.\n",
      "WARNING:absl:<keras.layers.recurrent.LSTMCell object at 0x00000187C11541C0> has the same name 'LSTMCell' as a built-in Keras object. Consider renaming <class 'keras.layers.recurrent.LSTMCell'> to avoid naming conflicts when loading with `tf.keras.models.load_model`. If renaming is not possible, pass the object in the `custom_objects` parameter of the load function.\n"
     ]
    },
    {
     "name": "stdout",
     "output_type": "stream",
     "text": [
      "1500/1500 [==============================] - 22s 15ms/step - loss: 20.6186 - mean_squared_error: 69.5956 - root_mean_squared_error: 8.3424\n",
      "Epoch 7/300\n",
      "1495/1500 [============================>.] - ETA: 0s - loss: 20.6145 - mean_squared_error: 70.0610 - root_mean_squared_error: 8.3702"
     ]
    },
    {
     "name": "stderr",
     "output_type": "stream",
     "text": [
      "WARNING:absl:Function `_wrapped_model` contains input name(s) LSTM1_input with unsupported characters which will be renamed to lstm1_input in the SavedModel.\n",
      "WARNING:absl:Found untraced functions such as lstm_cell_10_layer_call_fn, lstm_cell_10_layer_call_and_return_conditional_losses, lstm_cell_11_layer_call_fn, lstm_cell_11_layer_call_and_return_conditional_losses, lstm_cell_10_layer_call_fn while saving (showing 5 of 10). These functions will not be directly callable after loading.\n"
     ]
    },
    {
     "name": "stdout",
     "output_type": "stream",
     "text": [
      "INFO:tensorflow:Assets written to: model\\assets\n"
     ]
    },
    {
     "name": "stderr",
     "output_type": "stream",
     "text": [
      "INFO:tensorflow:Assets written to: model\\assets\n",
      "WARNING:absl:<keras.layers.recurrent.LSTMCell object at 0x000001883ABA65B0> has the same name 'LSTMCell' as a built-in Keras object. Consider renaming <class 'keras.layers.recurrent.LSTMCell'> to avoid naming conflicts when loading with `tf.keras.models.load_model`. If renaming is not possible, pass the object in the `custom_objects` parameter of the load function.\n",
      "WARNING:absl:<keras.layers.recurrent.LSTMCell object at 0x00000187C11541C0> has the same name 'LSTMCell' as a built-in Keras object. Consider renaming <class 'keras.layers.recurrent.LSTMCell'> to avoid naming conflicts when loading with `tf.keras.models.load_model`. If renaming is not possible, pass the object in the `custom_objects` parameter of the load function.\n"
     ]
    },
    {
     "name": "stdout",
     "output_type": "stream",
     "text": [
      "1500/1500 [==============================] - 21s 14ms/step - loss: 20.6076 - mean_squared_error: 70.0052 - root_mean_squared_error: 8.3669\n",
      "Epoch 8/300\n",
      "1497/1500 [============================>.] - ETA: 0s - loss: 20.4570 - mean_squared_error: 69.0425 - root_mean_squared_error: 8.3092"
     ]
    },
    {
     "name": "stderr",
     "output_type": "stream",
     "text": [
      "WARNING:absl:Function `_wrapped_model` contains input name(s) LSTM1_input with unsupported characters which will be renamed to lstm1_input in the SavedModel.\n",
      "WARNING:absl:Found untraced functions such as lstm_cell_10_layer_call_fn, lstm_cell_10_layer_call_and_return_conditional_losses, lstm_cell_11_layer_call_fn, lstm_cell_11_layer_call_and_return_conditional_losses, lstm_cell_10_layer_call_fn while saving (showing 5 of 10). These functions will not be directly callable after loading.\n"
     ]
    },
    {
     "name": "stdout",
     "output_type": "stream",
     "text": [
      "INFO:tensorflow:Assets written to: model\\assets\n"
     ]
    },
    {
     "name": "stderr",
     "output_type": "stream",
     "text": [
      "INFO:tensorflow:Assets written to: model\\assets\n",
      "WARNING:absl:<keras.layers.recurrent.LSTMCell object at 0x000001883ABA65B0> has the same name 'LSTMCell' as a built-in Keras object. Consider renaming <class 'keras.layers.recurrent.LSTMCell'> to avoid naming conflicts when loading with `tf.keras.models.load_model`. If renaming is not possible, pass the object in the `custom_objects` parameter of the load function.\n",
      "WARNING:absl:<keras.layers.recurrent.LSTMCell object at 0x00000187C11541C0> has the same name 'LSTMCell' as a built-in Keras object. Consider renaming <class 'keras.layers.recurrent.LSTMCell'> to avoid naming conflicts when loading with `tf.keras.models.load_model`. If renaming is not possible, pass the object in the `custom_objects` parameter of the load function.\n"
     ]
    },
    {
     "name": "stdout",
     "output_type": "stream",
     "text": [
      "1500/1500 [==============================] - 21s 14ms/step - loss: 20.4568 - mean_squared_error: 69.0356 - root_mean_squared_error: 8.3088\n",
      "Epoch 9/300\n",
      "1496/1500 [============================>.] - ETA: 0s - loss: 19.6045 - mean_squared_error: 66.3238 - root_mean_squared_error: 8.1439"
     ]
    },
    {
     "name": "stderr",
     "output_type": "stream",
     "text": [
      "WARNING:absl:Function `_wrapped_model` contains input name(s) LSTM1_input with unsupported characters which will be renamed to lstm1_input in the SavedModel.\n",
      "WARNING:absl:Found untraced functions such as lstm_cell_10_layer_call_fn, lstm_cell_10_layer_call_and_return_conditional_losses, lstm_cell_11_layer_call_fn, lstm_cell_11_layer_call_and_return_conditional_losses, lstm_cell_10_layer_call_fn while saving (showing 5 of 10). These functions will not be directly callable after loading.\n"
     ]
    },
    {
     "name": "stdout",
     "output_type": "stream",
     "text": [
      "INFO:tensorflow:Assets written to: model\\assets\n"
     ]
    },
    {
     "name": "stderr",
     "output_type": "stream",
     "text": [
      "INFO:tensorflow:Assets written to: model\\assets\n",
      "WARNING:absl:<keras.layers.recurrent.LSTMCell object at 0x000001883ABA65B0> has the same name 'LSTMCell' as a built-in Keras object. Consider renaming <class 'keras.layers.recurrent.LSTMCell'> to avoid naming conflicts when loading with `tf.keras.models.load_model`. If renaming is not possible, pass the object in the `custom_objects` parameter of the load function.\n",
      "WARNING:absl:<keras.layers.recurrent.LSTMCell object at 0x00000187C11541C0> has the same name 'LSTMCell' as a built-in Keras object. Consider renaming <class 'keras.layers.recurrent.LSTMCell'> to avoid naming conflicts when loading with `tf.keras.models.load_model`. If renaming is not possible, pass the object in the `custom_objects` parameter of the load function.\n"
     ]
    },
    {
     "name": "stdout",
     "output_type": "stream",
     "text": [
      "1500/1500 [==============================] - 21s 14ms/step - loss: 19.5994 - mean_squared_error: 66.2919 - root_mean_squared_error: 8.1420\n",
      "Epoch 10/300\n",
      "1500/1500 [==============================] - 16s 10ms/step - loss: 19.6353 - mean_squared_error: 67.0864 - root_mean_squared_error: 8.1906\n",
      "Epoch 11/300\n",
      "1496/1500 [============================>.] - ETA: 0s - loss: 19.0648 - mean_squared_error: 65.3062 - root_mean_squared_error: 8.0812"
     ]
    },
    {
     "name": "stderr",
     "output_type": "stream",
     "text": [
      "WARNING:absl:Function `_wrapped_model` contains input name(s) LSTM1_input with unsupported characters which will be renamed to lstm1_input in the SavedModel.\n",
      "WARNING:absl:Found untraced functions such as lstm_cell_10_layer_call_fn, lstm_cell_10_layer_call_and_return_conditional_losses, lstm_cell_11_layer_call_fn, lstm_cell_11_layer_call_and_return_conditional_losses, lstm_cell_10_layer_call_fn while saving (showing 5 of 10). These functions will not be directly callable after loading.\n"
     ]
    },
    {
     "name": "stdout",
     "output_type": "stream",
     "text": [
      "INFO:tensorflow:Assets written to: model\\assets\n"
     ]
    },
    {
     "name": "stderr",
     "output_type": "stream",
     "text": [
      "INFO:tensorflow:Assets written to: model\\assets\n",
      "WARNING:absl:<keras.layers.recurrent.LSTMCell object at 0x000001883ABA65B0> has the same name 'LSTMCell' as a built-in Keras object. Consider renaming <class 'keras.layers.recurrent.LSTMCell'> to avoid naming conflicts when loading with `tf.keras.models.load_model`. If renaming is not possible, pass the object in the `custom_objects` parameter of the load function.\n",
      "WARNING:absl:<keras.layers.recurrent.LSTMCell object at 0x00000187C11541C0> has the same name 'LSTMCell' as a built-in Keras object. Consider renaming <class 'keras.layers.recurrent.LSTMCell'> to avoid naming conflicts when loading with `tf.keras.models.load_model`. If renaming is not possible, pass the object in the `custom_objects` parameter of the load function.\n"
     ]
    },
    {
     "name": "stdout",
     "output_type": "stream",
     "text": [
      "1500/1500 [==============================] - 20s 14ms/step - loss: 19.0732 - mean_squared_error: 65.3548 - root_mean_squared_error: 8.0842\n",
      "Epoch 12/300\n",
      "1496/1500 [============================>.] - ETA: 0s - loss: 18.4889 - mean_squared_error: 61.5436 - root_mean_squared_error: 7.8450"
     ]
    },
    {
     "name": "stderr",
     "output_type": "stream",
     "text": [
      "WARNING:absl:Function `_wrapped_model` contains input name(s) LSTM1_input with unsupported characters which will be renamed to lstm1_input in the SavedModel.\n",
      "WARNING:absl:Found untraced functions such as lstm_cell_10_layer_call_fn, lstm_cell_10_layer_call_and_return_conditional_losses, lstm_cell_11_layer_call_fn, lstm_cell_11_layer_call_and_return_conditional_losses, lstm_cell_10_layer_call_fn while saving (showing 5 of 10). These functions will not be directly callable after loading.\n"
     ]
    },
    {
     "name": "stdout",
     "output_type": "stream",
     "text": [
      "INFO:tensorflow:Assets written to: model\\assets\n"
     ]
    },
    {
     "name": "stderr",
     "output_type": "stream",
     "text": [
      "INFO:tensorflow:Assets written to: model\\assets\n",
      "WARNING:absl:<keras.layers.recurrent.LSTMCell object at 0x000001883ABA65B0> has the same name 'LSTMCell' as a built-in Keras object. Consider renaming <class 'keras.layers.recurrent.LSTMCell'> to avoid naming conflicts when loading with `tf.keras.models.load_model`. If renaming is not possible, pass the object in the `custom_objects` parameter of the load function.\n",
      "WARNING:absl:<keras.layers.recurrent.LSTMCell object at 0x00000187C11541C0> has the same name 'LSTMCell' as a built-in Keras object. Consider renaming <class 'keras.layers.recurrent.LSTMCell'> to avoid naming conflicts when loading with `tf.keras.models.load_model`. If renaming is not possible, pass the object in the `custom_objects` parameter of the load function.\n"
     ]
    },
    {
     "name": "stdout",
     "output_type": "stream",
     "text": [
      "1500/1500 [==============================] - 21s 14ms/step - loss: 18.5155 - mean_squared_error: 61.6367 - root_mean_squared_error: 7.8509\n",
      "Epoch 13/300\n",
      "1496/1500 [============================>.] - ETA: 0s - loss: 18.2877 - mean_squared_error: 60.7596 - root_mean_squared_error: 7.7948"
     ]
    },
    {
     "name": "stderr",
     "output_type": "stream",
     "text": [
      "WARNING:absl:Function `_wrapped_model` contains input name(s) LSTM1_input with unsupported characters which will be renamed to lstm1_input in the SavedModel.\n",
      "WARNING:absl:Found untraced functions such as lstm_cell_10_layer_call_fn, lstm_cell_10_layer_call_and_return_conditional_losses, lstm_cell_11_layer_call_fn, lstm_cell_11_layer_call_and_return_conditional_losses, lstm_cell_10_layer_call_fn while saving (showing 5 of 10). These functions will not be directly callable after loading.\n"
     ]
    },
    {
     "name": "stdout",
     "output_type": "stream",
     "text": [
      "INFO:tensorflow:Assets written to: model\\assets\n"
     ]
    },
    {
     "name": "stderr",
     "output_type": "stream",
     "text": [
      "INFO:tensorflow:Assets written to: model\\assets\n",
      "WARNING:absl:<keras.layers.recurrent.LSTMCell object at 0x000001883ABA65B0> has the same name 'LSTMCell' as a built-in Keras object. Consider renaming <class 'keras.layers.recurrent.LSTMCell'> to avoid naming conflicts when loading with `tf.keras.models.load_model`. If renaming is not possible, pass the object in the `custom_objects` parameter of the load function.\n",
      "WARNING:absl:<keras.layers.recurrent.LSTMCell object at 0x00000187C11541C0> has the same name 'LSTMCell' as a built-in Keras object. Consider renaming <class 'keras.layers.recurrent.LSTMCell'> to avoid naming conflicts when loading with `tf.keras.models.load_model`. If renaming is not possible, pass the object in the `custom_objects` parameter of the load function.\n"
     ]
    },
    {
     "name": "stdout",
     "output_type": "stream",
     "text": [
      "1500/1500 [==============================] - 21s 14ms/step - loss: 18.2766 - mean_squared_error: 60.7291 - root_mean_squared_error: 7.7929\n",
      "Epoch 14/300\n",
      "1496/1500 [============================>.] - ETA: 0s - loss: 17.5934 - mean_squared_error: 60.1632 - root_mean_squared_error: 7.7565"
     ]
    },
    {
     "name": "stderr",
     "output_type": "stream",
     "text": [
      "WARNING:absl:Function `_wrapped_model` contains input name(s) LSTM1_input with unsupported characters which will be renamed to lstm1_input in the SavedModel.\n",
      "WARNING:absl:Found untraced functions such as lstm_cell_10_layer_call_fn, lstm_cell_10_layer_call_and_return_conditional_losses, lstm_cell_11_layer_call_fn, lstm_cell_11_layer_call_and_return_conditional_losses, lstm_cell_10_layer_call_fn while saving (showing 5 of 10). These functions will not be directly callable after loading.\n"
     ]
    },
    {
     "name": "stdout",
     "output_type": "stream",
     "text": [
      "INFO:tensorflow:Assets written to: model\\assets\n"
     ]
    },
    {
     "name": "stderr",
     "output_type": "stream",
     "text": [
      "INFO:tensorflow:Assets written to: model\\assets\n",
      "WARNING:absl:<keras.layers.recurrent.LSTMCell object at 0x000001883ABA65B0> has the same name 'LSTMCell' as a built-in Keras object. Consider renaming <class 'keras.layers.recurrent.LSTMCell'> to avoid naming conflicts when loading with `tf.keras.models.load_model`. If renaming is not possible, pass the object in the `custom_objects` parameter of the load function.\n",
      "WARNING:absl:<keras.layers.recurrent.LSTMCell object at 0x00000187C11541C0> has the same name 'LSTMCell' as a built-in Keras object. Consider renaming <class 'keras.layers.recurrent.LSTMCell'> to avoid naming conflicts when loading with `tf.keras.models.load_model`. If renaming is not possible, pass the object in the `custom_objects` parameter of the load function.\n"
     ]
    },
    {
     "name": "stdout",
     "output_type": "stream",
     "text": [
      "1500/1500 [==============================] - 20s 13ms/step - loss: 17.6124 - mean_squared_error: 60.2699 - root_mean_squared_error: 7.7634\n",
      "Epoch 15/300\n",
      "1495/1500 [============================>.] - ETA: 0s - loss: 14.2255 - mean_squared_error: 48.4469 - root_mean_squared_error: 6.9604"
     ]
    },
    {
     "name": "stderr",
     "output_type": "stream",
     "text": [
      "WARNING:absl:Function `_wrapped_model` contains input name(s) LSTM1_input with unsupported characters which will be renamed to lstm1_input in the SavedModel.\n",
      "WARNING:absl:Found untraced functions such as lstm_cell_10_layer_call_fn, lstm_cell_10_layer_call_and_return_conditional_losses, lstm_cell_11_layer_call_fn, lstm_cell_11_layer_call_and_return_conditional_losses, lstm_cell_10_layer_call_fn while saving (showing 5 of 10). These functions will not be directly callable after loading.\n"
     ]
    },
    {
     "name": "stdout",
     "output_type": "stream",
     "text": [
      "INFO:tensorflow:Assets written to: model\\assets\n"
     ]
    },
    {
     "name": "stderr",
     "output_type": "stream",
     "text": [
      "INFO:tensorflow:Assets written to: model\\assets\n",
      "WARNING:absl:<keras.layers.recurrent.LSTMCell object at 0x000001883ABA65B0> has the same name 'LSTMCell' as a built-in Keras object. Consider renaming <class 'keras.layers.recurrent.LSTMCell'> to avoid naming conflicts when loading with `tf.keras.models.load_model`. If renaming is not possible, pass the object in the `custom_objects` parameter of the load function.\n",
      "WARNING:absl:<keras.layers.recurrent.LSTMCell object at 0x00000187C11541C0> has the same name 'LSTMCell' as a built-in Keras object. Consider renaming <class 'keras.layers.recurrent.LSTMCell'> to avoid naming conflicts when loading with `tf.keras.models.load_model`. If renaming is not possible, pass the object in the `custom_objects` parameter of the load function.\n"
     ]
    },
    {
     "name": "stdout",
     "output_type": "stream",
     "text": [
      "1500/1500 [==============================] - 21s 14ms/step - loss: 14.1998 - mean_squared_error: 48.3356 - root_mean_squared_error: 6.9524\n",
      "Epoch 16/300\n",
      "1497/1500 [============================>.] - ETA: 0s - loss: 11.1660 - mean_squared_error: 38.7403 - root_mean_squared_error: 6.2242"
     ]
    },
    {
     "name": "stderr",
     "output_type": "stream",
     "text": [
      "WARNING:absl:Function `_wrapped_model` contains input name(s) LSTM1_input with unsupported characters which will be renamed to lstm1_input in the SavedModel.\n",
      "WARNING:absl:Found untraced functions such as lstm_cell_10_layer_call_fn, lstm_cell_10_layer_call_and_return_conditional_losses, lstm_cell_11_layer_call_fn, lstm_cell_11_layer_call_and_return_conditional_losses, lstm_cell_10_layer_call_fn while saving (showing 5 of 10). These functions will not be directly callable after loading.\n"
     ]
    },
    {
     "name": "stdout",
     "output_type": "stream",
     "text": [
      "INFO:tensorflow:Assets written to: model\\assets\n"
     ]
    },
    {
     "name": "stderr",
     "output_type": "stream",
     "text": [
      "INFO:tensorflow:Assets written to: model\\assets\n",
      "WARNING:absl:<keras.layers.recurrent.LSTMCell object at 0x000001883ABA65B0> has the same name 'LSTMCell' as a built-in Keras object. Consider renaming <class 'keras.layers.recurrent.LSTMCell'> to avoid naming conflicts when loading with `tf.keras.models.load_model`. If renaming is not possible, pass the object in the `custom_objects` parameter of the load function.\n",
      "WARNING:absl:<keras.layers.recurrent.LSTMCell object at 0x00000187C11541C0> has the same name 'LSTMCell' as a built-in Keras object. Consider renaming <class 'keras.layers.recurrent.LSTMCell'> to avoid naming conflicts when loading with `tf.keras.models.load_model`. If renaming is not possible, pass the object in the `custom_objects` parameter of the load function.\n"
     ]
    },
    {
     "name": "stdout",
     "output_type": "stream",
     "text": [
      "1500/1500 [==============================] - 21s 14ms/step - loss: 11.1611 - mean_squared_error: 38.7128 - root_mean_squared_error: 6.2220\n",
      "Epoch 17/300\n",
      "1498/1500 [============================>.] - ETA: 0s - loss: 9.2032 - mean_squared_error: 32.5746 - root_mean_squared_error: 5.7074"
     ]
    },
    {
     "name": "stderr",
     "output_type": "stream",
     "text": [
      "WARNING:absl:Function `_wrapped_model` contains input name(s) LSTM1_input with unsupported characters which will be renamed to lstm1_input in the SavedModel.\n",
      "WARNING:absl:Found untraced functions such as lstm_cell_10_layer_call_fn, lstm_cell_10_layer_call_and_return_conditional_losses, lstm_cell_11_layer_call_fn, lstm_cell_11_layer_call_and_return_conditional_losses, lstm_cell_10_layer_call_fn while saving (showing 5 of 10). These functions will not be directly callable after loading.\n"
     ]
    },
    {
     "name": "stdout",
     "output_type": "stream",
     "text": [
      "INFO:tensorflow:Assets written to: model\\assets\n"
     ]
    },
    {
     "name": "stderr",
     "output_type": "stream",
     "text": [
      "INFO:tensorflow:Assets written to: model\\assets\n",
      "WARNING:absl:<keras.layers.recurrent.LSTMCell object at 0x000001883ABA65B0> has the same name 'LSTMCell' as a built-in Keras object. Consider renaming <class 'keras.layers.recurrent.LSTMCell'> to avoid naming conflicts when loading with `tf.keras.models.load_model`. If renaming is not possible, pass the object in the `custom_objects` parameter of the load function.\n",
      "WARNING:absl:<keras.layers.recurrent.LSTMCell object at 0x00000187C11541C0> has the same name 'LSTMCell' as a built-in Keras object. Consider renaming <class 'keras.layers.recurrent.LSTMCell'> to avoid naming conflicts when loading with `tf.keras.models.load_model`. If renaming is not possible, pass the object in the `custom_objects` parameter of the load function.\n"
     ]
    },
    {
     "name": "stdout",
     "output_type": "stream",
     "text": [
      "1500/1500 [==============================] - 21s 14ms/step - loss: 9.1989 - mean_squared_error: 32.5486 - root_mean_squared_error: 5.7051\n",
      "Epoch 18/300\n",
      "1497/1500 [============================>.] - ETA: 0s - loss: 7.4988 - mean_squared_error: 26.3920 - root_mean_squared_error: 5.1373"
     ]
    },
    {
     "name": "stderr",
     "output_type": "stream",
     "text": [
      "WARNING:absl:Function `_wrapped_model` contains input name(s) LSTM1_input with unsupported characters which will be renamed to lstm1_input in the SavedModel.\n",
      "WARNING:absl:Found untraced functions such as lstm_cell_10_layer_call_fn, lstm_cell_10_layer_call_and_return_conditional_losses, lstm_cell_11_layer_call_fn, lstm_cell_11_layer_call_and_return_conditional_losses, lstm_cell_10_layer_call_fn while saving (showing 5 of 10). These functions will not be directly callable after loading.\n"
     ]
    },
    {
     "name": "stdout",
     "output_type": "stream",
     "text": [
      "INFO:tensorflow:Assets written to: model\\assets\n"
     ]
    },
    {
     "name": "stderr",
     "output_type": "stream",
     "text": [
      "INFO:tensorflow:Assets written to: model\\assets\n",
      "WARNING:absl:<keras.layers.recurrent.LSTMCell object at 0x000001883ABA65B0> has the same name 'LSTMCell' as a built-in Keras object. Consider renaming <class 'keras.layers.recurrent.LSTMCell'> to avoid naming conflicts when loading with `tf.keras.models.load_model`. If renaming is not possible, pass the object in the `custom_objects` parameter of the load function.\n",
      "WARNING:absl:<keras.layers.recurrent.LSTMCell object at 0x00000187C11541C0> has the same name 'LSTMCell' as a built-in Keras object. Consider renaming <class 'keras.layers.recurrent.LSTMCell'> to avoid naming conflicts when loading with `tf.keras.models.load_model`. If renaming is not possible, pass the object in the `custom_objects` parameter of the load function.\n"
     ]
    },
    {
     "name": "stdout",
     "output_type": "stream",
     "text": [
      "1500/1500 [==============================] - 20s 14ms/step - loss: 7.4954 - mean_squared_error: 26.3684 - root_mean_squared_error: 5.1350\n",
      "Epoch 19/300\n",
      "1499/1500 [============================>.] - ETA: 0s - loss: 5.3381 - mean_squared_error: 17.5161 - root_mean_squared_error: 4.1852"
     ]
    },
    {
     "name": "stderr",
     "output_type": "stream",
     "text": [
      "WARNING:absl:Function `_wrapped_model` contains input name(s) LSTM1_input with unsupported characters which will be renamed to lstm1_input in the SavedModel.\n",
      "WARNING:absl:Found untraced functions such as lstm_cell_10_layer_call_fn, lstm_cell_10_layer_call_and_return_conditional_losses, lstm_cell_11_layer_call_fn, lstm_cell_11_layer_call_and_return_conditional_losses, lstm_cell_10_layer_call_fn while saving (showing 5 of 10). These functions will not be directly callable after loading.\n"
     ]
    },
    {
     "name": "stdout",
     "output_type": "stream",
     "text": [
      "INFO:tensorflow:Assets written to: model\\assets\n"
     ]
    },
    {
     "name": "stderr",
     "output_type": "stream",
     "text": [
      "INFO:tensorflow:Assets written to: model\\assets\n",
      "WARNING:absl:<keras.layers.recurrent.LSTMCell object at 0x000001883ABA65B0> has the same name 'LSTMCell' as a built-in Keras object. Consider renaming <class 'keras.layers.recurrent.LSTMCell'> to avoid naming conflicts when loading with `tf.keras.models.load_model`. If renaming is not possible, pass the object in the `custom_objects` parameter of the load function.\n",
      "WARNING:absl:<keras.layers.recurrent.LSTMCell object at 0x00000187C11541C0> has the same name 'LSTMCell' as a built-in Keras object. Consider renaming <class 'keras.layers.recurrent.LSTMCell'> to avoid naming conflicts when loading with `tf.keras.models.load_model`. If renaming is not possible, pass the object in the `custom_objects` parameter of the load function.\n"
     ]
    },
    {
     "name": "stdout",
     "output_type": "stream",
     "text": [
      "1500/1500 [==============================] - 21s 14ms/step - loss: 5.3348 - mean_squared_error: 17.5048 - root_mean_squared_error: 4.1839\n",
      "Epoch 20/300\n",
      "1498/1500 [============================>.] - ETA: 0s - loss: 5.2445 - mean_squared_error: 17.4531 - root_mean_squared_error: 4.1777"
     ]
    },
    {
     "name": "stderr",
     "output_type": "stream",
     "text": [
      "WARNING:absl:Function `_wrapped_model` contains input name(s) LSTM1_input with unsupported characters which will be renamed to lstm1_input in the SavedModel.\n",
      "WARNING:absl:Found untraced functions such as lstm_cell_10_layer_call_fn, lstm_cell_10_layer_call_and_return_conditional_losses, lstm_cell_11_layer_call_fn, lstm_cell_11_layer_call_and_return_conditional_losses, lstm_cell_10_layer_call_fn while saving (showing 5 of 10). These functions will not be directly callable after loading.\n"
     ]
    },
    {
     "name": "stdout",
     "output_type": "stream",
     "text": [
      "INFO:tensorflow:Assets written to: model\\assets\n"
     ]
    },
    {
     "name": "stderr",
     "output_type": "stream",
     "text": [
      "INFO:tensorflow:Assets written to: model\\assets\n",
      "WARNING:absl:<keras.layers.recurrent.LSTMCell object at 0x000001883ABA65B0> has the same name 'LSTMCell' as a built-in Keras object. Consider renaming <class 'keras.layers.recurrent.LSTMCell'> to avoid naming conflicts when loading with `tf.keras.models.load_model`. If renaming is not possible, pass the object in the `custom_objects` parameter of the load function.\n",
      "WARNING:absl:<keras.layers.recurrent.LSTMCell object at 0x00000187C11541C0> has the same name 'LSTMCell' as a built-in Keras object. Consider renaming <class 'keras.layers.recurrent.LSTMCell'> to avoid naming conflicts when loading with `tf.keras.models.load_model`. If renaming is not possible, pass the object in the `custom_objects` parameter of the load function.\n"
     ]
    },
    {
     "name": "stdout",
     "output_type": "stream",
     "text": [
      "1500/1500 [==============================] - 21s 14ms/step - loss: 5.2552 - mean_squared_error: 17.5572 - root_mean_squared_error: 4.1901\n",
      "Epoch 21/300\n",
      "1500/1500 [==============================] - ETA: 0s - loss: 4.4088 - mean_squared_error: 14.4279 - root_mean_squared_error: 3.7984"
     ]
    },
    {
     "name": "stderr",
     "output_type": "stream",
     "text": [
      "WARNING:absl:Function `_wrapped_model` contains input name(s) LSTM1_input with unsupported characters which will be renamed to lstm1_input in the SavedModel.\n",
      "WARNING:absl:Found untraced functions such as lstm_cell_10_layer_call_fn, lstm_cell_10_layer_call_and_return_conditional_losses, lstm_cell_11_layer_call_fn, lstm_cell_11_layer_call_and_return_conditional_losses, lstm_cell_10_layer_call_fn while saving (showing 5 of 10). These functions will not be directly callable after loading.\n"
     ]
    },
    {
     "name": "stdout",
     "output_type": "stream",
     "text": [
      "INFO:tensorflow:Assets written to: model\\assets\n"
     ]
    },
    {
     "name": "stderr",
     "output_type": "stream",
     "text": [
      "INFO:tensorflow:Assets written to: model\\assets\n",
      "WARNING:absl:<keras.layers.recurrent.LSTMCell object at 0x000001883ABA65B0> has the same name 'LSTMCell' as a built-in Keras object. Consider renaming <class 'keras.layers.recurrent.LSTMCell'> to avoid naming conflicts when loading with `tf.keras.models.load_model`. If renaming is not possible, pass the object in the `custom_objects` parameter of the load function.\n",
      "WARNING:absl:<keras.layers.recurrent.LSTMCell object at 0x00000187C11541C0> has the same name 'LSTMCell' as a built-in Keras object. Consider renaming <class 'keras.layers.recurrent.LSTMCell'> to avoid naming conflicts when loading with `tf.keras.models.load_model`. If renaming is not possible, pass the object in the `custom_objects` parameter of the load function.\n"
     ]
    },
    {
     "name": "stdout",
     "output_type": "stream",
     "text": [
      "1500/1500 [==============================] - 21s 14ms/step - loss: 4.4088 - mean_squared_error: 14.4279 - root_mean_squared_error: 3.7984\n",
      "Epoch 22/300\n",
      "1495/1500 [============================>.] - ETA: 0s - loss: 4.0332 - mean_squared_error: 13.6848 - root_mean_squared_error: 3.6993"
     ]
    },
    {
     "name": "stderr",
     "output_type": "stream",
     "text": [
      "WARNING:absl:Function `_wrapped_model` contains input name(s) LSTM1_input with unsupported characters which will be renamed to lstm1_input in the SavedModel.\n",
      "WARNING:absl:Found untraced functions such as lstm_cell_10_layer_call_fn, lstm_cell_10_layer_call_and_return_conditional_losses, lstm_cell_11_layer_call_fn, lstm_cell_11_layer_call_and_return_conditional_losses, lstm_cell_10_layer_call_fn while saving (showing 5 of 10). These functions will not be directly callable after loading.\n"
     ]
    },
    {
     "name": "stdout",
     "output_type": "stream",
     "text": [
      "INFO:tensorflow:Assets written to: model\\assets\n"
     ]
    },
    {
     "name": "stderr",
     "output_type": "stream",
     "text": [
      "INFO:tensorflow:Assets written to: model\\assets\n",
      "WARNING:absl:<keras.layers.recurrent.LSTMCell object at 0x000001883ABA65B0> has the same name 'LSTMCell' as a built-in Keras object. Consider renaming <class 'keras.layers.recurrent.LSTMCell'> to avoid naming conflicts when loading with `tf.keras.models.load_model`. If renaming is not possible, pass the object in the `custom_objects` parameter of the load function.\n",
      "WARNING:absl:<keras.layers.recurrent.LSTMCell object at 0x00000187C11541C0> has the same name 'LSTMCell' as a built-in Keras object. Consider renaming <class 'keras.layers.recurrent.LSTMCell'> to avoid naming conflicts when loading with `tf.keras.models.load_model`. If renaming is not possible, pass the object in the `custom_objects` parameter of the load function.\n"
     ]
    },
    {
     "name": "stdout",
     "output_type": "stream",
     "text": [
      "1500/1500 [==============================] - 21s 14ms/step - loss: 4.0244 - mean_squared_error: 13.6487 - root_mean_squared_error: 3.6944\n",
      "Epoch 23/300\n",
      "1498/1500 [============================>.] - ETA: 0s - loss: 3.3959 - mean_squared_error: 11.0931 - root_mean_squared_error: 3.3306"
     ]
    },
    {
     "name": "stderr",
     "output_type": "stream",
     "text": [
      "WARNING:absl:Function `_wrapped_model` contains input name(s) LSTM1_input with unsupported characters which will be renamed to lstm1_input in the SavedModel.\n",
      "WARNING:absl:Found untraced functions such as lstm_cell_10_layer_call_fn, lstm_cell_10_layer_call_and_return_conditional_losses, lstm_cell_11_layer_call_fn, lstm_cell_11_layer_call_and_return_conditional_losses, lstm_cell_10_layer_call_fn while saving (showing 5 of 10). These functions will not be directly callable after loading.\n"
     ]
    },
    {
     "name": "stdout",
     "output_type": "stream",
     "text": [
      "INFO:tensorflow:Assets written to: model\\assets\n"
     ]
    },
    {
     "name": "stderr",
     "output_type": "stream",
     "text": [
      "INFO:tensorflow:Assets written to: model\\assets\n",
      "WARNING:absl:<keras.layers.recurrent.LSTMCell object at 0x000001883ABA65B0> has the same name 'LSTMCell' as a built-in Keras object. Consider renaming <class 'keras.layers.recurrent.LSTMCell'> to avoid naming conflicts when loading with `tf.keras.models.load_model`. If renaming is not possible, pass the object in the `custom_objects` parameter of the load function.\n",
      "WARNING:absl:<keras.layers.recurrent.LSTMCell object at 0x00000187C11541C0> has the same name 'LSTMCell' as a built-in Keras object. Consider renaming <class 'keras.layers.recurrent.LSTMCell'> to avoid naming conflicts when loading with `tf.keras.models.load_model`. If renaming is not possible, pass the object in the `custom_objects` parameter of the load function.\n"
     ]
    },
    {
     "name": "stdout",
     "output_type": "stream",
     "text": [
      "1500/1500 [==============================] - 21s 14ms/step - loss: 3.4066 - mean_squared_error: 11.1243 - root_mean_squared_error: 3.3353\n",
      "Epoch 24/300\n",
      "1496/1500 [============================>.] - ETA: 0s - loss: 2.8773 - mean_squared_error: 9.0886 - root_mean_squared_error: 3.0147"
     ]
    },
    {
     "name": "stderr",
     "output_type": "stream",
     "text": [
      "WARNING:absl:Function `_wrapped_model` contains input name(s) LSTM1_input with unsupported characters which will be renamed to lstm1_input in the SavedModel.\n",
      "WARNING:absl:Found untraced functions such as lstm_cell_10_layer_call_fn, lstm_cell_10_layer_call_and_return_conditional_losses, lstm_cell_11_layer_call_fn, lstm_cell_11_layer_call_and_return_conditional_losses, lstm_cell_10_layer_call_fn while saving (showing 5 of 10). These functions will not be directly callable after loading.\n"
     ]
    },
    {
     "name": "stdout",
     "output_type": "stream",
     "text": [
      "INFO:tensorflow:Assets written to: model\\assets\n"
     ]
    },
    {
     "name": "stderr",
     "output_type": "stream",
     "text": [
      "INFO:tensorflow:Assets written to: model\\assets\n",
      "WARNING:absl:<keras.layers.recurrent.LSTMCell object at 0x000001883ABA65B0> has the same name 'LSTMCell' as a built-in Keras object. Consider renaming <class 'keras.layers.recurrent.LSTMCell'> to avoid naming conflicts when loading with `tf.keras.models.load_model`. If renaming is not possible, pass the object in the `custom_objects` parameter of the load function.\n",
      "WARNING:absl:<keras.layers.recurrent.LSTMCell object at 0x00000187C11541C0> has the same name 'LSTMCell' as a built-in Keras object. Consider renaming <class 'keras.layers.recurrent.LSTMCell'> to avoid naming conflicts when loading with `tf.keras.models.load_model`. If renaming is not possible, pass the object in the `custom_objects` parameter of the load function.\n"
     ]
    },
    {
     "name": "stdout",
     "output_type": "stream",
     "text": [
      "1500/1500 [==============================] - 21s 14ms/step - loss: 2.8859 - mean_squared_error: 9.1028 - root_mean_squared_error: 3.0171\n",
      "Epoch 25/300\n",
      "1495/1500 [============================>.] - ETA: 0s - loss: 2.7816 - mean_squared_error: 9.4820 - root_mean_squared_error: 3.0793"
     ]
    },
    {
     "name": "stderr",
     "output_type": "stream",
     "text": [
      "WARNING:absl:Function `_wrapped_model` contains input name(s) LSTM1_input with unsupported characters which will be renamed to lstm1_input in the SavedModel.\n",
      "WARNING:absl:Found untraced functions such as lstm_cell_10_layer_call_fn, lstm_cell_10_layer_call_and_return_conditional_losses, lstm_cell_11_layer_call_fn, lstm_cell_11_layer_call_and_return_conditional_losses, lstm_cell_10_layer_call_fn while saving (showing 5 of 10). These functions will not be directly callable after loading.\n"
     ]
    },
    {
     "name": "stdout",
     "output_type": "stream",
     "text": [
      "INFO:tensorflow:Assets written to: model\\assets\n"
     ]
    },
    {
     "name": "stderr",
     "output_type": "stream",
     "text": [
      "INFO:tensorflow:Assets written to: model\\assets\n",
      "WARNING:absl:<keras.layers.recurrent.LSTMCell object at 0x000001883ABA65B0> has the same name 'LSTMCell' as a built-in Keras object. Consider renaming <class 'keras.layers.recurrent.LSTMCell'> to avoid naming conflicts when loading with `tf.keras.models.load_model`. If renaming is not possible, pass the object in the `custom_objects` parameter of the load function.\n",
      "WARNING:absl:<keras.layers.recurrent.LSTMCell object at 0x00000187C11541C0> has the same name 'LSTMCell' as a built-in Keras object. Consider renaming <class 'keras.layers.recurrent.LSTMCell'> to avoid naming conflicts when loading with `tf.keras.models.load_model`. If renaming is not possible, pass the object in the `custom_objects` parameter of the load function.\n"
     ]
    },
    {
     "name": "stdout",
     "output_type": "stream",
     "text": [
      "1500/1500 [==============================] - 20s 13ms/step - loss: 2.7775 - mean_squared_error: 9.4631 - root_mean_squared_error: 3.0762\n",
      "Epoch 26/300\n",
      "1500/1500 [==============================] - ETA: 0s - loss: 2.6600 - mean_squared_error: 8.2283 - root_mean_squared_error: 2.8685 E"
     ]
    },
    {
     "name": "stderr",
     "output_type": "stream",
     "text": [
      "WARNING:absl:Function `_wrapped_model` contains input name(s) LSTM1_input with unsupported characters which will be renamed to lstm1_input in the SavedModel.\n",
      "WARNING:absl:Found untraced functions such as lstm_cell_10_layer_call_fn, lstm_cell_10_layer_call_and_return_conditional_losses, lstm_cell_11_layer_call_fn, lstm_cell_11_layer_call_and_return_conditional_losses, lstm_cell_10_layer_call_fn while saving (showing 5 of 10). These functions will not be directly callable after loading.\n"
     ]
    },
    {
     "name": "stdout",
     "output_type": "stream",
     "text": [
      "INFO:tensorflow:Assets written to: model\\assets\n"
     ]
    },
    {
     "name": "stderr",
     "output_type": "stream",
     "text": [
      "INFO:tensorflow:Assets written to: model\\assets\n",
      "WARNING:absl:<keras.layers.recurrent.LSTMCell object at 0x000001883ABA65B0> has the same name 'LSTMCell' as a built-in Keras object. Consider renaming <class 'keras.layers.recurrent.LSTMCell'> to avoid naming conflicts when loading with `tf.keras.models.load_model`. If renaming is not possible, pass the object in the `custom_objects` parameter of the load function.\n",
      "WARNING:absl:<keras.layers.recurrent.LSTMCell object at 0x00000187C11541C0> has the same name 'LSTMCell' as a built-in Keras object. Consider renaming <class 'keras.layers.recurrent.LSTMCell'> to avoid naming conflicts when loading with `tf.keras.models.load_model`. If renaming is not possible, pass the object in the `custom_objects` parameter of the load function.\n"
     ]
    },
    {
     "name": "stdout",
     "output_type": "stream",
     "text": [
      "1500/1500 [==============================] - 22s 15ms/step - loss: 2.6600 - mean_squared_error: 8.2283 - root_mean_squared_error: 2.8685\n",
      "Epoch 27/300\n",
      "1500/1500 [==============================] - 15s 10ms/step - loss: 2.6852 - mean_squared_error: 8.6697 - root_mean_squared_error: 2.9444\n",
      "Epoch 28/300\n",
      "1496/1500 [============================>.] - ETA: 0s - loss: 2.4827 - mean_squared_error: 7.9277 - root_mean_squared_error: 2.8156"
     ]
    },
    {
     "name": "stderr",
     "output_type": "stream",
     "text": [
      "WARNING:absl:Function `_wrapped_model` contains input name(s) LSTM1_input with unsupported characters which will be renamed to lstm1_input in the SavedModel.\n",
      "WARNING:absl:Found untraced functions such as lstm_cell_10_layer_call_fn, lstm_cell_10_layer_call_and_return_conditional_losses, lstm_cell_11_layer_call_fn, lstm_cell_11_layer_call_and_return_conditional_losses, lstm_cell_10_layer_call_fn while saving (showing 5 of 10). These functions will not be directly callable after loading.\n"
     ]
    },
    {
     "name": "stdout",
     "output_type": "stream",
     "text": [
      "INFO:tensorflow:Assets written to: model\\assets\n"
     ]
    },
    {
     "name": "stderr",
     "output_type": "stream",
     "text": [
      "INFO:tensorflow:Assets written to: model\\assets\n",
      "WARNING:absl:<keras.layers.recurrent.LSTMCell object at 0x000001883ABA65B0> has the same name 'LSTMCell' as a built-in Keras object. Consider renaming <class 'keras.layers.recurrent.LSTMCell'> to avoid naming conflicts when loading with `tf.keras.models.load_model`. If renaming is not possible, pass the object in the `custom_objects` parameter of the load function.\n",
      "WARNING:absl:<keras.layers.recurrent.LSTMCell object at 0x00000187C11541C0> has the same name 'LSTMCell' as a built-in Keras object. Consider renaming <class 'keras.layers.recurrent.LSTMCell'> to avoid naming conflicts when loading with `tf.keras.models.load_model`. If renaming is not possible, pass the object in the `custom_objects` parameter of the load function.\n"
     ]
    },
    {
     "name": "stdout",
     "output_type": "stream",
     "text": [
      "1500/1500 [==============================] - 21s 14ms/step - loss: 2.4782 - mean_squared_error: 7.9107 - root_mean_squared_error: 2.8126\n",
      "Epoch 29/300\n",
      "1498/1500 [============================>.] - ETA: 0s - loss: 2.4102 - mean_squared_error: 7.4423 - root_mean_squared_error: 2.7281"
     ]
    },
    {
     "name": "stderr",
     "output_type": "stream",
     "text": [
      "WARNING:absl:Function `_wrapped_model` contains input name(s) LSTM1_input with unsupported characters which will be renamed to lstm1_input in the SavedModel.\n",
      "WARNING:absl:Found untraced functions such as lstm_cell_10_layer_call_fn, lstm_cell_10_layer_call_and_return_conditional_losses, lstm_cell_11_layer_call_fn, lstm_cell_11_layer_call_and_return_conditional_losses, lstm_cell_10_layer_call_fn while saving (showing 5 of 10). These functions will not be directly callable after loading.\n"
     ]
    },
    {
     "name": "stdout",
     "output_type": "stream",
     "text": [
      "INFO:tensorflow:Assets written to: model\\assets\n"
     ]
    },
    {
     "name": "stderr",
     "output_type": "stream",
     "text": [
      "INFO:tensorflow:Assets written to: model\\assets\n",
      "WARNING:absl:<keras.layers.recurrent.LSTMCell object at 0x000001883ABA65B0> has the same name 'LSTMCell' as a built-in Keras object. Consider renaming <class 'keras.layers.recurrent.LSTMCell'> to avoid naming conflicts when loading with `tf.keras.models.load_model`. If renaming is not possible, pass the object in the `custom_objects` parameter of the load function.\n",
      "WARNING:absl:<keras.layers.recurrent.LSTMCell object at 0x00000187C11541C0> has the same name 'LSTMCell' as a built-in Keras object. Consider renaming <class 'keras.layers.recurrent.LSTMCell'> to avoid naming conflicts when loading with `tf.keras.models.load_model`. If renaming is not possible, pass the object in the `custom_objects` parameter of the load function.\n"
     ]
    },
    {
     "name": "stdout",
     "output_type": "stream",
     "text": [
      "1500/1500 [==============================] - 23s 15ms/step - loss: 2.4120 - mean_squared_error: 7.4459 - root_mean_squared_error: 2.7287\n",
      "Epoch 30/300\n",
      "1499/1500 [============================>.] - ETA: 0s - loss: 2.2432 - mean_squared_error: 6.8224 - root_mean_squared_error: 2.6120 ETA: "
     ]
    },
    {
     "name": "stderr",
     "output_type": "stream",
     "text": [
      "WARNING:absl:Function `_wrapped_model` contains input name(s) LSTM1_input with unsupported characters which will be renamed to lstm1_input in the SavedModel.\n",
      "WARNING:absl:Found untraced functions such as lstm_cell_10_layer_call_fn, lstm_cell_10_layer_call_and_return_conditional_losses, lstm_cell_11_layer_call_fn, lstm_cell_11_layer_call_and_return_conditional_losses, lstm_cell_10_layer_call_fn while saving (showing 5 of 10). These functions will not be directly callable after loading.\n"
     ]
    },
    {
     "name": "stdout",
     "output_type": "stream",
     "text": [
      "INFO:tensorflow:Assets written to: model\\assets\n"
     ]
    },
    {
     "name": "stderr",
     "output_type": "stream",
     "text": [
      "INFO:tensorflow:Assets written to: model\\assets\n",
      "WARNING:absl:<keras.layers.recurrent.LSTMCell object at 0x000001883ABA65B0> has the same name 'LSTMCell' as a built-in Keras object. Consider renaming <class 'keras.layers.recurrent.LSTMCell'> to avoid naming conflicts when loading with `tf.keras.models.load_model`. If renaming is not possible, pass the object in the `custom_objects` parameter of the load function.\n",
      "WARNING:absl:<keras.layers.recurrent.LSTMCell object at 0x00000187C11541C0> has the same name 'LSTMCell' as a built-in Keras object. Consider renaming <class 'keras.layers.recurrent.LSTMCell'> to avoid naming conflicts when loading with `tf.keras.models.load_model`. If renaming is not possible, pass the object in the `custom_objects` parameter of the load function.\n"
     ]
    },
    {
     "name": "stdout",
     "output_type": "stream",
     "text": [
      "1500/1500 [==============================] - 21s 14ms/step - loss: 2.2439 - mean_squared_error: 6.8228 - root_mean_squared_error: 2.6120\n",
      "Epoch 31/300\n",
      "1500/1500 [==============================] - 15s 10ms/step - loss: 2.3541 - mean_squared_error: 7.1930 - root_mean_squared_error: 2.6820\n",
      "Epoch 32/300\n",
      "1500/1500 [==============================] - 15s 10ms/step - loss: 2.2792 - mean_squared_error: 7.3599 - root_mean_squared_error: 2.7129\n",
      "Epoch 33/300\n",
      "1500/1500 [==============================] - 14s 9ms/step - loss: 2.2510 - mean_squared_error: 7.1328 - root_mean_squared_error: 2.6707\n",
      "Epoch 34/300\n",
      "1500/1500 [==============================] - 15s 10ms/step - loss: 2.5242 - mean_squared_error: 8.5205 - root_mean_squared_error: 2.9190\n",
      "Epoch 35/300\n",
      "1500/1500 [==============================] - 15s 10ms/step - loss: 2.2772 - mean_squared_error: 7.5536 - root_mean_squared_error: 2.7484\n",
      "Epoch 36/300\n",
      "1500/1500 [==============================] - ETA: 0s - loss: 2.0472 - mean_squared_error: 6.3283 - root_mean_squared_error: 2.5156"
     ]
    },
    {
     "name": "stderr",
     "output_type": "stream",
     "text": [
      "WARNING:absl:Function `_wrapped_model` contains input name(s) LSTM1_input with unsupported characters which will be renamed to lstm1_input in the SavedModel.\n",
      "WARNING:absl:Found untraced functions such as lstm_cell_10_layer_call_fn, lstm_cell_10_layer_call_and_return_conditional_losses, lstm_cell_11_layer_call_fn, lstm_cell_11_layer_call_and_return_conditional_losses, lstm_cell_10_layer_call_fn while saving (showing 5 of 10). These functions will not be directly callable after loading.\n"
     ]
    },
    {
     "name": "stdout",
     "output_type": "stream",
     "text": [
      "INFO:tensorflow:Assets written to: model\\assets\n"
     ]
    },
    {
     "name": "stderr",
     "output_type": "stream",
     "text": [
      "INFO:tensorflow:Assets written to: model\\assets\n",
      "WARNING:absl:<keras.layers.recurrent.LSTMCell object at 0x000001883ABA65B0> has the same name 'LSTMCell' as a built-in Keras object. Consider renaming <class 'keras.layers.recurrent.LSTMCell'> to avoid naming conflicts when loading with `tf.keras.models.load_model`. If renaming is not possible, pass the object in the `custom_objects` parameter of the load function.\n",
      "WARNING:absl:<keras.layers.recurrent.LSTMCell object at 0x00000187C11541C0> has the same name 'LSTMCell' as a built-in Keras object. Consider renaming <class 'keras.layers.recurrent.LSTMCell'> to avoid naming conflicts when loading with `tf.keras.models.load_model`. If renaming is not possible, pass the object in the `custom_objects` parameter of the load function.\n"
     ]
    },
    {
     "name": "stdout",
     "output_type": "stream",
     "text": [
      "1500/1500 [==============================] - 20s 14ms/step - loss: 2.0472 - mean_squared_error: 6.3283 - root_mean_squared_error: 2.5156\n",
      "Epoch 37/300\n",
      "1500/1500 [==============================] - 15s 10ms/step - loss: 2.0707 - mean_squared_error: 6.1927 - root_mean_squared_error: 2.4885\n",
      "Epoch 38/300\n",
      "1500/1500 [==============================] - 15s 10ms/step - loss: 2.2341 - mean_squared_error: 7.3046 - root_mean_squared_error: 2.7027\n",
      "Epoch 39/300\n",
      "1500/1500 [==============================] - 14s 10ms/step - loss: 2.0751 - mean_squared_error: 6.9331 - root_mean_squared_error: 2.6331\n",
      "Epoch 40/300\n",
      "1500/1500 [==============================] - 15s 10ms/step - loss: 2.1142 - mean_squared_error: 6.8372 - root_mean_squared_error: 2.6148\n",
      "Epoch 41/300\n",
      "1500/1500 [==============================] - 14s 9ms/step - loss: 2.1536 - mean_squared_error: 7.2525 - root_mean_squared_error: 2.6931\n",
      "Epoch 42/300\n",
      "1495/1500 [============================>.] - ETA: 0s - loss: 2.0239 - mean_squared_error: 6.6918 - root_mean_squared_error: 2.5869 ETA: 0s - loss: 1.9926 - mean_squared_error: 6.6042 - root_mean_squared_error"
     ]
    },
    {
     "name": "stderr",
     "output_type": "stream",
     "text": [
      "WARNING:absl:Function `_wrapped_model` contains input name(s) LSTM1_input with unsupported characters which will be renamed to lstm1_input in the SavedModel.\n",
      "WARNING:absl:Found untraced functions such as lstm_cell_10_layer_call_fn, lstm_cell_10_layer_call_and_return_conditional_losses, lstm_cell_11_layer_call_fn, lstm_cell_11_layer_call_and_return_conditional_losses, lstm_cell_10_layer_call_fn while saving (showing 5 of 10). These functions will not be directly callable after loading.\n"
     ]
    },
    {
     "name": "stdout",
     "output_type": "stream",
     "text": [
      "INFO:tensorflow:Assets written to: model\\assets\n"
     ]
    },
    {
     "name": "stderr",
     "output_type": "stream",
     "text": [
      "INFO:tensorflow:Assets written to: model\\assets\n",
      "WARNING:absl:<keras.layers.recurrent.LSTMCell object at 0x000001883ABA65B0> has the same name 'LSTMCell' as a built-in Keras object. Consider renaming <class 'keras.layers.recurrent.LSTMCell'> to avoid naming conflicts when loading with `tf.keras.models.load_model`. If renaming is not possible, pass the object in the `custom_objects` parameter of the load function.\n",
      "WARNING:absl:<keras.layers.recurrent.LSTMCell object at 0x00000187C11541C0> has the same name 'LSTMCell' as a built-in Keras object. Consider renaming <class 'keras.layers.recurrent.LSTMCell'> to avoid naming conflicts when loading with `tf.keras.models.load_model`. If renaming is not possible, pass the object in the `custom_objects` parameter of the load function.\n"
     ]
    },
    {
     "name": "stdout",
     "output_type": "stream",
     "text": [
      "1500/1500 [==============================] - 20s 13ms/step - loss: 2.0203 - mean_squared_error: 6.6760 - root_mean_squared_error: 2.5838\n",
      "Epoch 43/300\n",
      "1500/1500 [==============================] - 15s 10ms/step - loss: 2.3098 - mean_squared_error: 7.9834 - root_mean_squared_error: 2.8255\n",
      "Epoch 44/300\n",
      "1498/1500 [============================>.] - ETA: 0s - loss: 1.9177 - mean_squared_error: 6.1994 - root_mean_squared_error: 2.4899"
     ]
    },
    {
     "name": "stderr",
     "output_type": "stream",
     "text": [
      "WARNING:absl:Function `_wrapped_model` contains input name(s) LSTM1_input with unsupported characters which will be renamed to lstm1_input in the SavedModel.\n",
      "WARNING:absl:Found untraced functions such as lstm_cell_10_layer_call_fn, lstm_cell_10_layer_call_and_return_conditional_losses, lstm_cell_11_layer_call_fn, lstm_cell_11_layer_call_and_return_conditional_losses, lstm_cell_10_layer_call_fn while saving (showing 5 of 10). These functions will not be directly callable after loading.\n"
     ]
    },
    {
     "name": "stdout",
     "output_type": "stream",
     "text": [
      "INFO:tensorflow:Assets written to: model\\assets\n"
     ]
    },
    {
     "name": "stderr",
     "output_type": "stream",
     "text": [
      "INFO:tensorflow:Assets written to: model\\assets\n",
      "WARNING:absl:<keras.layers.recurrent.LSTMCell object at 0x000001883ABA65B0> has the same name 'LSTMCell' as a built-in Keras object. Consider renaming <class 'keras.layers.recurrent.LSTMCell'> to avoid naming conflicts when loading with `tf.keras.models.load_model`. If renaming is not possible, pass the object in the `custom_objects` parameter of the load function.\n",
      "WARNING:absl:<keras.layers.recurrent.LSTMCell object at 0x00000187C11541C0> has the same name 'LSTMCell' as a built-in Keras object. Consider renaming <class 'keras.layers.recurrent.LSTMCell'> to avoid naming conflicts when loading with `tf.keras.models.load_model`. If renaming is not possible, pass the object in the `custom_objects` parameter of the load function.\n"
     ]
    },
    {
     "name": "stdout",
     "output_type": "stream",
     "text": [
      "1500/1500 [==============================] - 21s 14ms/step - loss: 1.9158 - mean_squared_error: 6.1925 - root_mean_squared_error: 2.4885\n",
      "Epoch 45/300\n",
      "1500/1500 [==============================] - 16s 10ms/step - loss: 1.9274 - mean_squared_error: 6.6383 - root_mean_squared_error: 2.5765\n",
      "Epoch 46/300\n",
      "1500/1500 [==============================] - 15s 10ms/step - loss: 2.0510 - mean_squared_error: 6.9090 - root_mean_squared_error: 2.6285\n",
      "Epoch 47/300\n",
      "1500/1500 [==============================] - 15s 10ms/step - loss: 2.0641 - mean_squared_error: 6.5791 - root_mean_squared_error: 2.5650\n",
      "Epoch 48/300\n",
      "1498/1500 [============================>.] - ETA: 0s - loss: 1.9140 - mean_squared_error: 6.1843 - root_mean_squared_error: 2.4868"
     ]
    },
    {
     "name": "stderr",
     "output_type": "stream",
     "text": [
      "WARNING:absl:Function `_wrapped_model` contains input name(s) LSTM1_input with unsupported characters which will be renamed to lstm1_input in the SavedModel.\n",
      "WARNING:absl:Found untraced functions such as lstm_cell_10_layer_call_fn, lstm_cell_10_layer_call_and_return_conditional_losses, lstm_cell_11_layer_call_fn, lstm_cell_11_layer_call_and_return_conditional_losses, lstm_cell_10_layer_call_fn while saving (showing 5 of 10). These functions will not be directly callable after loading.\n"
     ]
    },
    {
     "name": "stdout",
     "output_type": "stream",
     "text": [
      "INFO:tensorflow:Assets written to: model\\assets\n"
     ]
    },
    {
     "name": "stderr",
     "output_type": "stream",
     "text": [
      "INFO:tensorflow:Assets written to: model\\assets\n",
      "WARNING:absl:<keras.layers.recurrent.LSTMCell object at 0x000001883ABA65B0> has the same name 'LSTMCell' as a built-in Keras object. Consider renaming <class 'keras.layers.recurrent.LSTMCell'> to avoid naming conflicts when loading with `tf.keras.models.load_model`. If renaming is not possible, pass the object in the `custom_objects` parameter of the load function.\n",
      "WARNING:absl:<keras.layers.recurrent.LSTMCell object at 0x00000187C11541C0> has the same name 'LSTMCell' as a built-in Keras object. Consider renaming <class 'keras.layers.recurrent.LSTMCell'> to avoid naming conflicts when loading with `tf.keras.models.load_model`. If renaming is not possible, pass the object in the `custom_objects` parameter of the load function.\n"
     ]
    },
    {
     "name": "stdout",
     "output_type": "stream",
     "text": [
      "1500/1500 [==============================] - 20s 13ms/step - loss: 1.9118 - mean_squared_error: 6.1769 - root_mean_squared_error: 2.4853\n",
      "Epoch 49/300\n",
      "1500/1500 [==============================] - 15s 10ms/step - loss: 1.9862 - mean_squared_error: 6.5283 - root_mean_squared_error: 2.5551\n",
      "Epoch 50/300\n",
      "1500/1500 [==============================] - 15s 10ms/step - loss: 2.0180 - mean_squared_error: 6.6864 - root_mean_squared_error: 2.5858\n",
      "Epoch 51/300\n",
      "1500/1500 [==============================] - 15s 10ms/step - loss: 1.9415 - mean_squared_error: 6.5590 - root_mean_squared_error: 2.5611\n",
      "Epoch 52/300\n",
      "1500/1500 [==============================] - ETA: 0s - loss: 1.8067 - mean_squared_error: 6.0152 - root_mean_squared_error: 2.4526"
     ]
    },
    {
     "name": "stderr",
     "output_type": "stream",
     "text": [
      "WARNING:absl:Function `_wrapped_model` contains input name(s) LSTM1_input with unsupported characters which will be renamed to lstm1_input in the SavedModel.\n",
      "WARNING:absl:Found untraced functions such as lstm_cell_10_layer_call_fn, lstm_cell_10_layer_call_and_return_conditional_losses, lstm_cell_11_layer_call_fn, lstm_cell_11_layer_call_and_return_conditional_losses, lstm_cell_10_layer_call_fn while saving (showing 5 of 10). These functions will not be directly callable after loading.\n"
     ]
    },
    {
     "name": "stdout",
     "output_type": "stream",
     "text": [
      "INFO:tensorflow:Assets written to: model\\assets\n"
     ]
    },
    {
     "name": "stderr",
     "output_type": "stream",
     "text": [
      "INFO:tensorflow:Assets written to: model\\assets\n",
      "WARNING:absl:<keras.layers.recurrent.LSTMCell object at 0x000001883ABA65B0> has the same name 'LSTMCell' as a built-in Keras object. Consider renaming <class 'keras.layers.recurrent.LSTMCell'> to avoid naming conflicts when loading with `tf.keras.models.load_model`. If renaming is not possible, pass the object in the `custom_objects` parameter of the load function.\n",
      "WARNING:absl:<keras.layers.recurrent.LSTMCell object at 0x00000187C11541C0> has the same name 'LSTMCell' as a built-in Keras object. Consider renaming <class 'keras.layers.recurrent.LSTMCell'> to avoid naming conflicts when loading with `tf.keras.models.load_model`. If renaming is not possible, pass the object in the `custom_objects` parameter of the load function.\n"
     ]
    },
    {
     "name": "stdout",
     "output_type": "stream",
     "text": [
      "1500/1500 [==============================] - 20s 13ms/step - loss: 1.8067 - mean_squared_error: 6.0152 - root_mean_squared_error: 2.4526\n",
      "Epoch 53/300\n",
      "1500/1500 [==============================] - 15s 10ms/step - loss: 1.8758 - mean_squared_error: 6.2739 - root_mean_squared_error: 2.5048\n",
      "Epoch 54/300\n",
      "1500/1500 [==============================] - 14s 9ms/step - loss: 1.9983 - mean_squared_error: 6.7287 - root_mean_squared_error: 2.5940\n",
      "Epoch 55/300\n",
      "1500/1500 [==============================] - 15s 10ms/step - loss: 1.9559 - mean_squared_error: 6.3877 - root_mean_squared_error: 2.5274\n",
      "Epoch 56/300\n",
      "1500/1500 [==============================] - 16s 11ms/step - loss: 2.0063 - mean_squared_error: 6.8077 - root_mean_squared_error: 2.6092\n",
      "Epoch 57/300\n",
      "1499/1500 [============================>.] - ETA: 0s - loss: 1.7549 - mean_squared_error: 5.6022 - root_mean_squared_error: 2.3669"
     ]
    },
    {
     "name": "stderr",
     "output_type": "stream",
     "text": [
      "WARNING:absl:Function `_wrapped_model` contains input name(s) LSTM1_input with unsupported characters which will be renamed to lstm1_input in the SavedModel.\n",
      "WARNING:absl:Found untraced functions such as lstm_cell_10_layer_call_fn, lstm_cell_10_layer_call_and_return_conditional_losses, lstm_cell_11_layer_call_fn, lstm_cell_11_layer_call_and_return_conditional_losses, lstm_cell_10_layer_call_fn while saving (showing 5 of 10). These functions will not be directly callable after loading.\n"
     ]
    },
    {
     "name": "stdout",
     "output_type": "stream",
     "text": [
      "INFO:tensorflow:Assets written to: model\\assets\n"
     ]
    },
    {
     "name": "stderr",
     "output_type": "stream",
     "text": [
      "INFO:tensorflow:Assets written to: model\\assets\n",
      "WARNING:absl:<keras.layers.recurrent.LSTMCell object at 0x000001883ABA65B0> has the same name 'LSTMCell' as a built-in Keras object. Consider renaming <class 'keras.layers.recurrent.LSTMCell'> to avoid naming conflicts when loading with `tf.keras.models.load_model`. If renaming is not possible, pass the object in the `custom_objects` parameter of the load function.\n",
      "WARNING:absl:<keras.layers.recurrent.LSTMCell object at 0x00000187C11541C0> has the same name 'LSTMCell' as a built-in Keras object. Consider renaming <class 'keras.layers.recurrent.LSTMCell'> to avoid naming conflicts when loading with `tf.keras.models.load_model`. If renaming is not possible, pass the object in the `custom_objects` parameter of the load function.\n"
     ]
    },
    {
     "name": "stdout",
     "output_type": "stream",
     "text": [
      "1500/1500 [==============================] - 25s 16ms/step - loss: 1.7538 - mean_squared_error: 5.5987 - root_mean_squared_error: 2.3662\n",
      "Epoch 58/300\n",
      "1500/1500 [==============================] - 16s 10ms/step - loss: 1.8239 - mean_squared_error: 6.1322 - root_mean_squared_error: 2.4763\n",
      "Epoch 59/300\n",
      "1500/1500 [==============================] - 14s 9ms/step - loss: 2.0035 - mean_squared_error: 7.1185 - root_mean_squared_error: 2.6680\n",
      "Epoch 60/300\n",
      "1500/1500 [==============================] - 15s 10ms/step - loss: 1.7577 - mean_squared_error: 5.6840 - root_mean_squared_error: 2.3841\n",
      "Epoch 61/300\n",
      "1500/1500 [==============================] - 15s 10ms/step - loss: 1.8330 - mean_squared_error: 5.9058 - root_mean_squared_error: 2.4302\n",
      "Epoch 62/300\n",
      "1498/1500 [============================>.] - ETA: 0s - loss: 1.7050 - mean_squared_error: 5.7210 - root_mean_squared_error: 2.3919"
     ]
    },
    {
     "name": "stderr",
     "output_type": "stream",
     "text": [
      "WARNING:absl:Function `_wrapped_model` contains input name(s) LSTM1_input with unsupported characters which will be renamed to lstm1_input in the SavedModel.\n",
      "WARNING:absl:Found untraced functions such as lstm_cell_10_layer_call_fn, lstm_cell_10_layer_call_and_return_conditional_losses, lstm_cell_11_layer_call_fn, lstm_cell_11_layer_call_and_return_conditional_losses, lstm_cell_10_layer_call_fn while saving (showing 5 of 10). These functions will not be directly callable after loading.\n"
     ]
    },
    {
     "name": "stdout",
     "output_type": "stream",
     "text": [
      "INFO:tensorflow:Assets written to: model\\assets\n"
     ]
    },
    {
     "name": "stderr",
     "output_type": "stream",
     "text": [
      "INFO:tensorflow:Assets written to: model\\assets\n",
      "WARNING:absl:<keras.layers.recurrent.LSTMCell object at 0x000001883ABA65B0> has the same name 'LSTMCell' as a built-in Keras object. Consider renaming <class 'keras.layers.recurrent.LSTMCell'> to avoid naming conflicts when loading with `tf.keras.models.load_model`. If renaming is not possible, pass the object in the `custom_objects` parameter of the load function.\n",
      "WARNING:absl:<keras.layers.recurrent.LSTMCell object at 0x00000187C11541C0> has the same name 'LSTMCell' as a built-in Keras object. Consider renaming <class 'keras.layers.recurrent.LSTMCell'> to avoid naming conflicts when loading with `tf.keras.models.load_model`. If renaming is not possible, pass the object in the `custom_objects` parameter of the load function.\n"
     ]
    },
    {
     "name": "stdout",
     "output_type": "stream",
     "text": [
      "1500/1500 [==============================] - 20s 14ms/step - loss: 1.7032 - mean_squared_error: 5.7142 - root_mean_squared_error: 2.3904\n",
      "Epoch 63/300\n",
      "1500/1500 [==============================] - 15s 10ms/step - loss: 1.7920 - mean_squared_error: 5.5979 - root_mean_squared_error: 2.3660\n",
      "Epoch 64/300\n",
      "1499/1500 [============================>.] - ETA: 0s - loss: 1.6571 - mean_squared_error: 5.2395 - root_mean_squared_error: 2.2890"
     ]
    },
    {
     "name": "stderr",
     "output_type": "stream",
     "text": [
      "WARNING:absl:Function `_wrapped_model` contains input name(s) LSTM1_input with unsupported characters which will be renamed to lstm1_input in the SavedModel.\n",
      "WARNING:absl:Found untraced functions such as lstm_cell_10_layer_call_fn, lstm_cell_10_layer_call_and_return_conditional_losses, lstm_cell_11_layer_call_fn, lstm_cell_11_layer_call_and_return_conditional_losses, lstm_cell_10_layer_call_fn while saving (showing 5 of 10). These functions will not be directly callable after loading.\n"
     ]
    },
    {
     "name": "stdout",
     "output_type": "stream",
     "text": [
      "INFO:tensorflow:Assets written to: model\\assets\n"
     ]
    },
    {
     "name": "stderr",
     "output_type": "stream",
     "text": [
      "INFO:tensorflow:Assets written to: model\\assets\n",
      "WARNING:absl:<keras.layers.recurrent.LSTMCell object at 0x000001883ABA65B0> has the same name 'LSTMCell' as a built-in Keras object. Consider renaming <class 'keras.layers.recurrent.LSTMCell'> to avoid naming conflicts when loading with `tf.keras.models.load_model`. If renaming is not possible, pass the object in the `custom_objects` parameter of the load function.\n",
      "WARNING:absl:<keras.layers.recurrent.LSTMCell object at 0x00000187C11541C0> has the same name 'LSTMCell' as a built-in Keras object. Consider renaming <class 'keras.layers.recurrent.LSTMCell'> to avoid naming conflicts when loading with `tf.keras.models.load_model`. If renaming is not possible, pass the object in the `custom_objects` parameter of the load function.\n"
     ]
    },
    {
     "name": "stdout",
     "output_type": "stream",
     "text": [
      "1500/1500 [==============================] - 20s 13ms/step - loss: 1.6597 - mean_squared_error: 5.2444 - root_mean_squared_error: 2.2901\n",
      "Epoch 65/300\n",
      "1500/1500 [==============================] - 15s 10ms/step - loss: 1.8698 - mean_squared_error: 6.6296 - root_mean_squared_error: 2.5748\n",
      "Epoch 66/300\n",
      "1500/1500 [==============================] - 14s 9ms/step - loss: 1.8306 - mean_squared_error: 6.1964 - root_mean_squared_error: 2.4892\n",
      "Epoch 67/300\n",
      "1498/1500 [============================>.] - ETA: 0s - loss: 1.6367 - mean_squared_error: 5.1566 - root_mean_squared_error: 2.2708"
     ]
    },
    {
     "name": "stderr",
     "output_type": "stream",
     "text": [
      "WARNING:absl:Function `_wrapped_model` contains input name(s) LSTM1_input with unsupported characters which will be renamed to lstm1_input in the SavedModel.\n",
      "WARNING:absl:Found untraced functions such as lstm_cell_10_layer_call_fn, lstm_cell_10_layer_call_and_return_conditional_losses, lstm_cell_11_layer_call_fn, lstm_cell_11_layer_call_and_return_conditional_losses, lstm_cell_10_layer_call_fn while saving (showing 5 of 10). These functions will not be directly callable after loading.\n"
     ]
    },
    {
     "name": "stdout",
     "output_type": "stream",
     "text": [
      "INFO:tensorflow:Assets written to: model\\assets\n"
     ]
    },
    {
     "name": "stderr",
     "output_type": "stream",
     "text": [
      "INFO:tensorflow:Assets written to: model\\assets\n",
      "WARNING:absl:<keras.layers.recurrent.LSTMCell object at 0x000001883ABA65B0> has the same name 'LSTMCell' as a built-in Keras object. Consider renaming <class 'keras.layers.recurrent.LSTMCell'> to avoid naming conflicts when loading with `tf.keras.models.load_model`. If renaming is not possible, pass the object in the `custom_objects` parameter of the load function.\n",
      "WARNING:absl:<keras.layers.recurrent.LSTMCell object at 0x00000187C11541C0> has the same name 'LSTMCell' as a built-in Keras object. Consider renaming <class 'keras.layers.recurrent.LSTMCell'> to avoid naming conflicts when loading with `tf.keras.models.load_model`. If renaming is not possible, pass the object in the `custom_objects` parameter of the load function.\n"
     ]
    },
    {
     "name": "stdout",
     "output_type": "stream",
     "text": [
      "1500/1500 [==============================] - 21s 14ms/step - loss: 1.6348 - mean_squared_error: 5.1504 - root_mean_squared_error: 2.2694\n",
      "Epoch 68/300\n",
      "1500/1500 [==============================] - 15s 10ms/step - loss: 1.8232 - mean_squared_error: 6.1798 - root_mean_squared_error: 2.4859\n",
      "Epoch 69/300\n",
      "1500/1500 [==============================] - 14s 10ms/step - loss: 1.7863 - mean_squared_error: 5.9465 - root_mean_squared_error: 2.4385\n",
      "Epoch 70/300\n",
      "1500/1500 [==============================] - 14s 9ms/step - loss: 1.8637 - mean_squared_error: 6.5851 - root_mean_squared_error: 2.5662\n",
      "Epoch 71/300\n",
      "1500/1500 [==============================] - 15s 10ms/step - loss: 2.0399 - mean_squared_error: 7.8201 - root_mean_squared_error: 2.7965\n",
      "Epoch 72/300\n",
      "1500/1500 [==============================] - 15s 10ms/step - loss: 1.7764 - mean_squared_error: 6.2934 - root_mean_squared_error: 2.5087\n",
      "Epoch 73/300\n",
      "1500/1500 [==============================] - 15s 10ms/step - loss: 1.6973 - mean_squared_error: 5.2999 - root_mean_squared_error: 2.3021\n",
      "Epoch 74/300\n",
      "1500/1500 [==============================] - 16s 10ms/step - loss: 1.7720 - mean_squared_error: 6.0256 - root_mean_squared_error: 2.4547\n",
      "Epoch 75/300\n",
      "1500/1500 [==============================] - 16s 10ms/step - loss: 1.8206 - mean_squared_error: 5.9517 - root_mean_squared_error: 2.4396\n",
      "Epoch 76/300\n",
      "1500/1500 [==============================] - 16s 10ms/step - loss: 1.6393 - mean_squared_error: 5.5844 - root_mean_squared_error: 2.3631\n",
      "Epoch 77/300\n",
      "1500/1500 [==============================] - 15s 10ms/step - loss: 1.7694 - mean_squared_error: 6.0227 - root_mean_squared_error: 2.4541\n",
      "Epoch 00077: early stopping\n",
      "The total run time to train was 1375.27 seconds\n"
     ]
    }
   ],
   "source": [
    "#Now it is time to train the model\n",
    "#opt=tf.keras.optimizers.Adam(learning_rate=0.00007)#,decay=1e-5)\n",
    "opt=tf.keras.optimizers.Adam(learning_rate=0.0002)#,decay=1e-5)\n",
    "#opt = tf.keras.optimizers.Adam()\n",
    "mMSE = tf.keras.metrics.MeanSquaredError()     # metric for Mean Squared Error\n",
    "mRMSE = tf.keras.metrics.RootMeanSquaredError()\n",
    "huberLoss = tf.keras.losses.Huber(delta=10)\n",
    "#model.compile(loss='mse', optimizer=opt, metrics=[mMSE, mRMSE])\n",
    "model.compile(loss=huberLoss, optimizer=opt, metrics=[mMSE, mRMSE])\n",
    "\n",
    "# Allow for early stopping so that the model does not overfit the training dataset\n",
    "#es= EarlyStopping(monitor='val_loss', mode='min',verbose=1,patience=10)\n",
    "es= EarlyStopping(monitor='loss', mode='min',verbose=1,patience=10)\n",
    "# change learning rates per epoch\n",
    "lrCallback = tf.keras.callbacks.LearningRateScheduler(EpochScheduler10_2)\n",
    "sc = tf.keras.callbacks.LearningRateScheduler(scheduler)\n",
    "# Model Checkpoint to save good runs\n",
    "#cp = ModelCheckpoint('model/', save_best_only=True)\n",
    "cp = ModelCheckpoint('model/', monitor='loss',save_best_only=True)\n",
    "\n",
    "t0=time.time()\n",
    "#history= model.fit(inputs,steps_per_epoch=4000,epochs=200,verbose=1, callbacks=[es])\n",
    "#history= model.fit(train_inputs, steps_per_epoch=4000, validation_data=val_inputs, epochs=100, callbacks=[lrCallback, cp])\n",
    "#history= model.fit(train_inputs, epochs=1, batch_size=None,callbacks=[cp, es])\n",
    "#history= model.fit(train_inputs, epochs=75, steps_per_epoch=1782, validation_steps=10720,validation_data=val_inputs, batch_size=None,callbacks=[cp])\n",
    "#history= model.fit(train_inputs, epochs=15,validation_data=val_inputs, batch_size=None,callbacks=[cp, sc])\n",
    "\n",
    "#history = model.fit(train_inputs, epochs = 60, steps_per_epoch = 1500, validation_data=val_inputs, batch_size=None,callbacks=[cp, es])\n",
    "history = model.fit(train_inputs, epochs = 300, steps_per_epoch = 1500, batch_size=None,callbacks=[cp, es])\n",
    "\n",
    "t1=time.time()\n",
    "print(\"The total run time to train was %.2f seconds\"%(t1-t0))\n",
    "\n",
    "# plot the loss function\n"
   ]
  },
  {
   "cell_type": "code",
   "execution_count": 92,
   "metadata": {},
   "outputs": [
    {
     "data": {
      "text/plain": [
       "Text(0, 0.5, 'loss')"
      ]
     },
     "execution_count": 92,
     "metadata": {},
     "output_type": "execute_result"
    },
    {
     "data": {
      "image/png": "[encoded data removed]",
      "text/plain": [
       "<Figure size 432x288 with 1 Axes>"
      ]
     },
     "metadata": {
      "needs_background": "light"
     },
     "output_type": "display_data"
    }
   ],
   "source": [
    "plt.figure()\n",
    "plt.semilogy(history.history['loss'])\n",
    "#plt.semilogy(history.history['val_loss'])\n",
    "#plt.semilogy(history.history['lr'])\n",
    "plt.xlabel('epoch'); plt.ylabel('loss')\n"
   ]
  },
  {
   "cell_type": "code",
   "execution_count": 93,
   "metadata": {},
   "outputs": [],
   "source": [
    "tf.keras.models.save_model(model, filepath=\"D:\\\\OneDrive\\\\OneDrive - University of Massachusetts Dartmouth\\\\ECE457_Senior_Design_ECE5\\\\SavedModels\\\\MB\\\\Mar10_2022\\\\model_row42.h5\")"
   ]
  },
  {
   "cell_type": "code",
   "execution_count": null,
   "metadata": {},
   "outputs": [],
   "source": [
    "model = keras.models.load_model('model/')\n",
    "#model = keras.models.load_model('model_3_13_22_epoch4/model/')\n",
    "#model = keras.models.load_model(filepath=\"D:\\\\OneDrive\\\\OneDrive - University of Massachusetts Dartmouth\\\\ECE457_Senior_Design_ECE5\\\\SavedModels\\\\MB\\\\Mar10_2022\\\\model_row12.h5\")"
   ]
  },
  {
   "cell_type": "code",
   "execution_count": 94,
   "metadata": {},
   "outputs": [
    {
     "name": "stdout",
     "output_type": "stream",
     "text": [
      "13212/13212 [==============================] - 68s 5ms/step\n",
      "14437/14437 [==============================] - 70s 5ms/step\n"
     ]
    }
   ],
   "source": [
    "#trainpredicted=model.predict(train_inputs, verbose=1)\n",
    "#valpredicted=model.predict(val_inputs, verbose=1)\n",
    "#trainentirepredicted=model.predict(trainentire_inputs, verbose=1)\n",
    "predicted038=model.predict(test_inputs, verbose=1)\n",
    "predicted002=model.predict(test_inputs2, verbose=1)\n",
    "#trainpredicted.shape, valpredicted.shape, predicted.shape, trainentirepredicted.shape"
   ]
  },
  {
   "cell_type": "code",
   "execution_count": null,
   "metadata": {},
   "outputs": [],
   "source": [
    "predicted.shape, trainentirepredicted.shape"
   ]
  },
  {
   "cell_type": "code",
   "execution_count": null,
   "metadata": {},
   "outputs": [],
   "source": [
    "port_abstraction_test_predicted=model.predict(abstraction_test_port_inputs, verbose=1)"
   ]
  },
  {
   "cell_type": "code",
   "execution_count": null,
   "metadata": {},
   "outputs": [],
   "source": [
    "Yatest_port_scale\n",
    "#val_targets\n",
    "plt.figure(facecolor='white')\n",
    "plt.plot(Yatest_port_scale[0:4278*3])\n",
    "plt.plot(port_abstraction_test_predicted[0:4278*3])\n",
    "plt.title(\"Port Abstraction Test (Actual vs. Predicted)\")\n",
    "plt.xlabel('Samples')\n",
    "plt.ylabel('DOA in degrees')\n",
    "plt.legend(['Actual','Predicted'])\n",
    "plt.show()"
   ]
  },
  {
   "cell_type": "code",
   "execution_count": null,
   "metadata": {},
   "outputs": [],
   "source": [
    "trainpredicted.shape, valpredicted.shape,trainpredicted.shape[0]+valpredicted.shape[0], predicted.shape, trainentirepredicted.shape"
   ]
  },
  {
   "cell_type": "code",
   "execution_count": null,
   "metadata": {},
   "outputs": [],
   "source": [
    "predicted=model.predict(test_inputs, verbose=1)"
   ]
  },
  {
   "cell_type": "code",
   "execution_count": null,
   "metadata": {},
   "outputs": [],
   "source": [
    "#val_targets\n",
    "plt.figure(facecolor='white')\n",
    "plt.plot(val_targets[0:2278*3])\n",
    "plt.plot(valpredicted[0:2278*3])\n",
    "plt.title(\"Validation (Actual vs. Predicted)\")\n",
    "plt.xlabel('Samples')\n",
    "plt.ylabel('DOA in degrees')\n",
    "plt.legend(['Actual','Predicted'])\n",
    "plt.show()"
   ]
  },
  {
   "cell_type": "code",
   "execution_count": null,
   "metadata": {},
   "outputs": [],
   "source": [
    "plt.figure(facecolor='white')\n",
    "#plt.plot(y_train[0:2278*3])\n",
    "plt.plot(y_train[0:80000])\n",
    "#plt.plot(trainentirepredicted[0:2278*3])\n",
    "plt.plot(trainentirepredicted[0:80000])\n",
    "plt.title(\"Training (Actual vs. Predicted)\")\n",
    "plt.xlabel('Samples')\n",
    "plt.ylabel('DOA in degrees')\n",
    "plt.legend(['Actual','Predicted'])\n",
    "plt.show()"
   ]
  },
  {
   "cell_type": "code",
   "execution_count": 95,
   "metadata": {},
   "outputs": [
    {
     "data": {
      "image/png": "[encoded data removed]",
      "text/plain": [
       "<Figure size 432x288 with 1 Axes>"
      ]
     },
     "metadata": {},
     "output_type": "display_data"
    }
   ],
   "source": [
    "# Plot STBD Predicted for 002\n",
    "zerosArray= np.arange(sequence_length)*0\n",
    "predictedShifted=np.append(zerosArray, predicted002)\n",
    "plt.figure(facecolor='white')\n",
    "#plt.plot(y_test[0:4278*4])\n",
    "plt.plot(y_test[0:80000])\n",
    "#plt.plot(predictedShifted[0:4278*4])\n",
    "plt.plot(predictedShifted[0:80000])\n",
    "plt.title(\"Testing 002(Actual vs. Predicted)\")\n",
    "plt.xlabel('Samples')\n",
    "plt.ylabel('DOA in degrees')\n",
    "plt.legend(['Actual','Predicted'])\n",
    "plt.show()\n",
    "\n"
   ]
  },
  {
   "cell_type": "code",
   "execution_count": 96,
   "metadata": {},
   "outputs": [
    {
     "data": {
      "image/png": "[encoded data removed]",
      "text/plain": [
       "<Figure size 432x288 with 1 Axes>"
      ]
     },
     "metadata": {},
     "output_type": "display_data"
    }
   ],
   "source": [
    "# Plot STBD Predicted for 038\n",
    "zerosArray= np.arange(sequence_length)*0\n",
    "predictedShifted=np.append(zerosArray, predicted038)\n",
    "plt.figure(facecolor='white')\n",
    "#plt.plot(y_test[0:4278*4])\n",
    "plt.plot(y_test[0:80000])\n",
    "#plt.plot(predictedShifted[0:4278*4])\n",
    "plt.plot(predictedShifted[0:80000])\n",
    "plt.title(\"Testing 038(Actual vs. Predicted)\")\n",
    "plt.xlabel('Samples')\n",
    "plt.ylabel('DOA in degrees')\n",
    "plt.legend(['Actual','Predicted'])\n",
    "plt.show()"
   ]
  },
  {
   "cell_type": "markdown",
   "metadata": {},
   "source": [
    "Using the Model, Predict the DOA's on the Testing Dataset"
   ]
  },
  {
   "cell_type": "code",
   "execution_count": null,
   "metadata": {},
   "outputs": [],
   "source": [
    "#use the model to predict on the testing dataset\n",
    "#for right now test_inputs has only the 40,001 samples\n",
    "predicted=model.predict(test_inputs, verbose=1)"
   ]
  },
  {
   "cell_type": "code",
   "execution_count": null,
   "metadata": {},
   "outputs": [],
   "source": [
    "predicted.shape"
   ]
  },
  {
   "cell_type": "markdown",
   "metadata": {},
   "source": [
    "Put the predicted DOA's back into a csv file format"
   ]
  },
  {
   "cell_type": "code",
   "execution_count": null,
   "metadata": {},
   "outputs": [],
   "source": [
    "#Ping |  Num Samp Num | PORT or STBD (0 or 1) |  TWTT |  Predicted DOA   <=======Output columns.\n",
    "OutputCSVdf=test.iloc[:,[0,1,2,3]]\n",
    "#OutputCSVdf= pd.DataFrame(test.iloc[:,[0,1,2,3]], columns=['PingNumber','SampNumber','PortStbd', 'SampleTime'])\n",
    "zerosArray= np.arange(sequence_length)*0\n",
    "predictedShifted=np.append(zerosArray, predicted)\n",
    "Predicteddf= pd.DataFrame(predictedShifted,columns=['PredictedDOA'])\n",
    "OutputCSVdf=OutputCSVdf.join(Predicteddf)"
   ]
  },
  {
   "cell_type": "code",
   "execution_count": null,
   "metadata": {},
   "outputs": [],
   "source": [
    "OutputCSVdf.to_csv(path_or_buf=\"D:\\\\OneDrive\\\\OneDrive - University of Massachusetts Dartmouth\\\\ECE457_Senior_Design_ECE5\\\\AIOutput_CSV_Files\\\\mb_predictions\\\\PredictedOutputTestMB37.csv\")"
   ]
  },
  {
   "cell_type": "code",
   "execution_count": null,
   "metadata": {},
   "outputs": [],
   "source": [
    "PortOutputCSVdf=train.iloc[:,[0,1,2,3]]\n",
    "#OutputCSVdf= pd.DataFrame(test.iloc[:,[0,1,2,3]], columns=['PingNumber','SampNumber','PortStbd', 'SampleTime'])\n",
    "zerosArray= np.arange(sequence_length)*0\n",
    "portPredictedShifted=np.append(zerosArray, trainentirepredicted)\n",
    "portPredicteddf= pd.DataFrame(portPredictedShifted,columns=['PredictedDOA'])\n",
    "PortOutputCSVdf=PortOutputCSVdf.join(portPredicteddf)\n",
    "PortOutputCSVdf.to_csv(path_or_buf=\"D:\\\\OneDrive\\\\OneDrive - University of Massachusetts Dartmouth\\\\ECE457_Senior_Design_ECE5\\\\AIOutput_CSV_Files\\\\mb_predictions\\\\PredictedOutputTrainMB37.csv\")"
   ]
  },
  {
   "cell_type": "code",
   "execution_count": null,
   "metadata": {},
   "outputs": [],
   "source": [
    "StbdOriginalOutputCSVdf = test.iloc[:,[0,1,2,3,26]]\n",
    "StbdOriginalOutputCSVdf.to_csv(path_or_buf=\"D:\\\\OneDrive\\\\OneDrive - University of Massachusetts Dartmouth\\\\ECE457_Senior_Design_ECE5\\\\AIOutput_CSV_Files\\\\mb_predictions\\\\Stbd_038_forEric.csv\")\n",
    "PortOriginalOutputCSVdf = train.iloc[:,[0,1,2,3,26]]\n",
    "PortOriginalOutputCSVdf.to_csv(path_or_buf=\"D:\\\\OneDrive\\\\OneDrive - University of Massachusetts Dartmouth\\\\ECE457_Senior_Design_ECE5\\\\AIOutput_CSV_Files\\\\mb_predictions\\\\Port_038_forEric.csv\")"
   ]
  },
  {
   "cell_type": "code",
   "execution_count": null,
   "metadata": {},
   "outputs": [],
   "source": [
    "test.iloc[:,[0,1,2,3]]"
   ]
  },
  {
   "cell_type": "code",
   "execution_count": null,
   "metadata": {},
   "outputs": [],
   "source": [
    "zerosArray= np.arange(sequence_length)*0\n",
    "zerosArray"
   ]
  },
  {
   "cell_type": "code",
   "execution_count": null,
   "metadata": {},
   "outputs": [],
   "source": [
    "predictedShifted=np.append(zerosArray, predicted)\n",
    "predictedShifted"
   ]
  },
  {
   "cell_type": "code",
   "execution_count": null,
   "metadata": {},
   "outputs": [],
   "source": [
    "OutputCSVdf"
   ]
  },
  {
   "cell_type": "code",
   "execution_count": null,
   "metadata": {},
   "outputs": [],
   "source": [
    "print(predicted[0:21])"
   ]
  },
  {
   "cell_type": "code",
   "execution_count": null,
   "metadata": {},
   "outputs": [],
   "source": [
    "print(y_test[10:21])"
   ]
  },
  {
   "cell_type": "code",
   "execution_count": null,
   "metadata": {},
   "outputs": [],
   "source": [
    "type(predicted)\n",
    "predicted.shape"
   ]
  },
  {
   "cell_type": "code",
   "execution_count": null,
   "metadata": {},
   "outputs": [],
   "source": [
    "predicted_reshape= predicted.reshape(len(predicted),1)"
   ]
  },
  {
   "cell_type": "code",
   "execution_count": null,
   "metadata": {},
   "outputs": [],
   "source": [
    "plt.figure(facecolor='white')\n",
    "plt.plot(predicted[0:40000], 'orange')\n",
    "plt.title(\"Actual\")\n",
    "plt.xlabel('Samples')\n",
    "plt.ylabel('DOA in degrees')\n",
    "plt.legend(['Predicted'])\n",
    "plt.show()"
   ]
  },
  {
   "cell_type": "markdown",
   "metadata": {},
   "source": [
    "Compare the Actual Testing DOA's to the Predicted DOA's"
   ]
  },
  {
   "cell_type": "code",
   "execution_count": null,
   "metadata": {},
   "outputs": [],
   "source": [
    "plt.rcParams.update(plt.rcParamsDefault)\n",
    "\n",
    "\n",
    "plt.figure(facecolor='white')\n",
    "plt.plot(y_test[0:10], '.')\n",
    "plt.plot(predicted[0:10], '.')\n",
    "plt.title(\"Actual\")\n",
    "plt.legend(['Actual','Predicted'])\n",
    "plt.xlabel('Samples')\n",
    "plt.ylabel('DOA in degrees')\n",
    "plt.show()\n",
    "\n",
    "plt.figure(facecolor='white')\n",
    "plt.plot(y_test[0:40000])\n",
    "plt.plot(predicted_reshape[0:40000])\n",
    "plt.title(\"Actual\")\n",
    "plt.xlabel('Samples')\n",
    "plt.ylabel('DOA in degrees')\n",
    "plt.legend(['Actual','Predicted'])\n",
    "plt.show()\n",
    "\n",
    "\n",
    "plt.figure(facecolor='white')\n",
    "plt.plot(y_test[0:40000])\n",
    "plt.title(\"Actual\")\n",
    "plt.xlabel('Samples')\n",
    "plt.ylabel('DOA in degrees')\n",
    "plt.legend(['Actual'])\n",
    "plt.show()\n",
    "\n",
    "\n",
    "plt.figure(facecolor='white')\n",
    "plt.plot(predicted_reshape[0:40000], 'orange')\n",
    "plt.title(\"Actual\")\n",
    "plt.xlabel('Samples')\n",
    "plt.ylabel('DOA in degrees')\n",
    "plt.legend(['Predicted'])\n",
    "plt.show()\n"
   ]
  },
  {
   "cell_type": "code",
   "execution_count": null,
   "metadata": {},
   "outputs": [],
   "source": [
    "print(y_test[0:50000])\n"
   ]
  },
  {
   "cell_type": "code",
   "execution_count": null,
   "metadata": {},
   "outputs": [],
   "source": [
    "df2= pd.DataFrame(predicted, columns= ['DOA'])\n",
    "df2"
   ]
  }
 ],
 "metadata": {
  "interpreter": {
   "hash": "674a9451ed4de84c8c52b62b7b95bc1f8984ddc9599597b49394de9958455427"
  },
  "kernelspec": {
   "display_name": "Python 3.9.0 ('keras_tf')",
   "language": "python",
   "name": "python3"
  },
  "language_info": {
   "codemirror_mode": {
    "name": "ipython",
    "version": 3
   },
   "file_extension": ".py",
   "mimetype": "text/x-python",
   "name": "python",
   "nbconvert_exporter": "python",
   "pygments_lexer": "ipython3",
   "version": "3.9.0"
  },
  "orig_nbformat": 4
 },
 "nbformat": 4,
 "nbformat_minor": 2
}
