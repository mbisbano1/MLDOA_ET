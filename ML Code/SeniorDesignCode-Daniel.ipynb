{
 "cells": [
  {
   "cell_type": "markdown",
   "metadata": {},
   "source": [
    "Import the Neccesary Libraries"
   ]
  },
  {
   "cell_type": "code",
   "execution_count": 1,
   "metadata": {},
   "outputs": [],
   "source": [
    "# Import the neccesary libraries needed\n",
    "import pandas as pd\n",
    "from matplotlib import pyplot as plt\n",
    "from sklearn.preprocessing import MinMaxScaler \n",
    "import numpy as np\n",
    "from numpy import insert\n",
    "import os\n",
    "import time\n",
    "\n",
    "# keras tuner for hyperparameter tuning\n",
    "#import keras_tuner as kt\n",
    "\n",
    "# tensorflow Libraries\n",
    "import tensorflow as tf\n",
    "from keras.preprocessing.sequence import TimeseriesGenerator\n",
    "from tensorflow import keras\n",
    "from tensorflow.keras.models import Sequential, load_model\n",
    "from tensorflow.keras.layers import Activation, Dense, Dropout, LSTM\n",
    "from tensorflow.keras.optimizers import Adam\n",
    "from tensorflow.keras.metrics import sparse_categorical_crossentropy\n",
    "from keras.callbacks import EarlyStopping\n",
    "from keras.models import load_model"
   ]
  },
  {
   "cell_type": "markdown",
   "metadata": {},
   "source": [
    "Import the CSV Training and Testing Data Sets"
   ]
  },
  {
   "cell_type": "code",
   "execution_count": 2,
   "metadata": {},
   "outputs": [],
   "source": [
    "# Import the csv's (IMPORTANT: You need at least 16 Gb of RAM to proceed)\n",
    "\n",
    "train=pd.read_csv(r'C:\\Users\\rferr\\OneDrive - University of Massachusetts Dartmouth\\ECE457_Senior_Design\\CSV_Files\\0001_1404.038_port_FinalCleaned_RollReady.csv')\n",
    "test=pd.read_csv(r'C:\\Users\\rferr\\OneDrive - University of Massachusetts Dartmouth\\ECE457_Senior_Design\\CSV_Files\\0001_1404.038_stbd_FinalCleaned_RollReady.csv')\n"
   ]
  },
  {
   "cell_type": "markdown",
   "metadata": {},
   "source": [
    "Split up the Features and Labels from both the Training and Testing Datasets"
   ]
  },
  {
   "cell_type": "code",
   "execution_count": 3,
   "metadata": {},
   "outputs": [],
   "source": [
    "# Split up the features and labels from both the training and testing datasets\n",
    "x_train=train.iloc[:,3:25]\n",
    "#x_train['TWTT']=train.iloc[:,28]  I feel as though the TWTT has NO impact on the DOA so we should NOT include it in training\n",
    "x_train['Amplitude']=train.iloc[:,29]\n",
    "x_train['Roll'] = x_train['Roll']\n",
    "\n",
    "x_test=test.iloc[:,3:25]\n",
    "#x_test['TWTT']=test.iloc[:,28] I feel as though the TWTT has NO impact on the DOA so we should NOT include it in training\n",
    "x_test['Roll'] = x_test['Roll']\n",
    "x_test['Amplitude']=test.iloc[:,29]\n",
    "\n",
    "y_train=train.iloc[:,26]\n",
    "\n",
    "y_test=test.iloc[:,26]"
   ]
  },
  {
   "cell_type": "code",
   "execution_count": 4,
   "metadata": {},
   "outputs": [
    {
     "data": {
      "text/html": [
       "<div>\n",
       "<style scoped>\n",
       "    .dataframe tbody tr th:only-of-type {\n",
       "        vertical-align: middle;\n",
       "    }\n",
       "\n",
       "    .dataframe tbody tr th {\n",
       "        vertical-align: top;\n",
       "    }\n",
       "\n",
       "    .dataframe thead th {\n",
       "        text-align: right;\n",
       "    }\n",
       "</style>\n",
       "<table border=\"1\" class=\"dataframe\">\n",
       "  <thead>\n",
       "    <tr style=\"text-align: right;\">\n",
       "      <th></th>\n",
       "      <th>SampleTimeDelay</th>\n",
       "      <th>I1</th>\n",
       "      <th>Q1</th>\n",
       "      <th>I2</th>\n",
       "      <th>Q2</th>\n",
       "      <th>I3</th>\n",
       "      <th>Q3</th>\n",
       "      <th>I4</th>\n",
       "      <th>Q4</th>\n",
       "      <th>I5</th>\n",
       "      <th>...</th>\n",
       "      <th>I7</th>\n",
       "      <th>Q7</th>\n",
       "      <th>I8</th>\n",
       "      <th>Q8</th>\n",
       "      <th>I9</th>\n",
       "      <th>Q9</th>\n",
       "      <th>I10</th>\n",
       "      <th>Q10</th>\n",
       "      <th>Roll</th>\n",
       "      <th>Amplitude</th>\n",
       "    </tr>\n",
       "  </thead>\n",
       "  <tbody>\n",
       "    <tr>\n",
       "      <th>0</th>\n",
       "      <td>0.031901</td>\n",
       "      <td>11.46875</td>\n",
       "      <td>50.12500</td>\n",
       "      <td>-49.75000</td>\n",
       "      <td>-41.718750</td>\n",
       "      <td>72.93750</td>\n",
       "      <td>7.437500</td>\n",
       "      <td>-63.062500</td>\n",
       "      <td>35.437500</td>\n",
       "      <td>27.281250</td>\n",
       "      <td>...</td>\n",
       "      <td>-52.562500</td>\n",
       "      <td>-40.156250</td>\n",
       "      <td>60.656250</td>\n",
       "      <td>6.218750</td>\n",
       "      <td>-41.343750</td>\n",
       "      <td>40.375000</td>\n",
       "      <td>19.562500</td>\n",
       "      <td>-68.031250</td>\n",
       "      <td>1.043701</td>\n",
       "      <td>21</td>\n",
       "    </tr>\n",
       "    <tr>\n",
       "      <th>1</th>\n",
       "      <td>0.031916</td>\n",
       "      <td>3.62500</td>\n",
       "      <td>13.34375</td>\n",
       "      <td>-16.03125</td>\n",
       "      <td>-16.656250</td>\n",
       "      <td>24.68750</td>\n",
       "      <td>10.093750</td>\n",
       "      <td>-19.875000</td>\n",
       "      <td>4.156250</td>\n",
       "      <td>3.312500</td>\n",
       "      <td>...</td>\n",
       "      <td>-10.031250</td>\n",
       "      <td>1.406250</td>\n",
       "      <td>4.968750</td>\n",
       "      <td>-6.281250</td>\n",
       "      <td>8.187500</td>\n",
       "      <td>7.375000</td>\n",
       "      <td>-13.531250</td>\n",
       "      <td>-0.375000</td>\n",
       "      <td>1.043701</td>\n",
       "      <td>24</td>\n",
       "    </tr>\n",
       "    <tr>\n",
       "      <th>2</th>\n",
       "      <td>0.031947</td>\n",
       "      <td>-15.84375</td>\n",
       "      <td>37.25000</td>\n",
       "      <td>-14.12500</td>\n",
       "      <td>-40.781250</td>\n",
       "      <td>43.09375</td>\n",
       "      <td>28.718750</td>\n",
       "      <td>-56.375000</td>\n",
       "      <td>9.750000</td>\n",
       "      <td>43.218750</td>\n",
       "      <td>...</td>\n",
       "      <td>-35.750000</td>\n",
       "      <td>-55.312500</td>\n",
       "      <td>65.218750</td>\n",
       "      <td>27.218750</td>\n",
       "      <td>-67.156250</td>\n",
       "      <td>24.968750</td>\n",
       "      <td>45.875000</td>\n",
       "      <td>-72.062500</td>\n",
       "      <td>1.043701</td>\n",
       "      <td>43</td>\n",
       "    </tr>\n",
       "    <tr>\n",
       "      <th>3</th>\n",
       "      <td>0.031962</td>\n",
       "      <td>-3.31250</td>\n",
       "      <td>121.34375</td>\n",
       "      <td>-96.25000</td>\n",
       "      <td>-112.593750</td>\n",
       "      <td>156.46875</td>\n",
       "      <td>47.968750</td>\n",
       "      <td>-151.093750</td>\n",
       "      <td>55.812500</td>\n",
       "      <td>71.281250</td>\n",
       "      <td>...</td>\n",
       "      <td>-119.437500</td>\n",
       "      <td>-94.500000</td>\n",
       "      <td>137.750000</td>\n",
       "      <td>8.562500</td>\n",
       "      <td>-91.656250</td>\n",
       "      <td>98.187500</td>\n",
       "      <td>24.437500</td>\n",
       "      <td>-156.968750</td>\n",
       "      <td>1.043701</td>\n",
       "      <td>14</td>\n",
       "    </tr>\n",
       "    <tr>\n",
       "      <th>4</th>\n",
       "      <td>0.031977</td>\n",
       "      <td>44.46875</td>\n",
       "      <td>86.15625</td>\n",
       "      <td>-118.75000</td>\n",
       "      <td>-51.562500</td>\n",
       "      <td>134.46875</td>\n",
       "      <td>-18.375000</td>\n",
       "      <td>-85.968750</td>\n",
       "      <td>91.781250</td>\n",
       "      <td>-10.500000</td>\n",
       "      <td>...</td>\n",
       "      <td>-126.281250</td>\n",
       "      <td>-4.875000</td>\n",
       "      <td>90.031250</td>\n",
       "      <td>-65.625000</td>\n",
       "      <td>1.125000</td>\n",
       "      <td>109.062500</td>\n",
       "      <td>-77.750000</td>\n",
       "      <td>-102.375000</td>\n",
       "      <td>1.043701</td>\n",
       "      <td>22</td>\n",
       "    </tr>\n",
       "    <tr>\n",
       "      <th>...</th>\n",
       "      <td>...</td>\n",
       "      <td>...</td>\n",
       "      <td>...</td>\n",
       "      <td>...</td>\n",
       "      <td>...</td>\n",
       "      <td>...</td>\n",
       "      <td>...</td>\n",
       "      <td>...</td>\n",
       "      <td>...</td>\n",
       "      <td>...</td>\n",
       "      <td>...</td>\n",
       "      <td>...</td>\n",
       "      <td>...</td>\n",
       "      <td>...</td>\n",
       "      <td>...</td>\n",
       "      <td>...</td>\n",
       "      <td>...</td>\n",
       "      <td>...</td>\n",
       "      <td>...</td>\n",
       "      <td>...</td>\n",
       "      <td>...</td>\n",
       "    </tr>\n",
       "    <tr>\n",
       "      <th>3635094</th>\n",
       "      <td>0.099403</td>\n",
       "      <td>-26.40625</td>\n",
       "      <td>6.56250</td>\n",
       "      <td>-3.90625</td>\n",
       "      <td>18.796875</td>\n",
       "      <td>5.90625</td>\n",
       "      <td>9.125000</td>\n",
       "      <td>7.593750</td>\n",
       "      <td>6.531250</td>\n",
       "      <td>14.375000</td>\n",
       "      <td>...</td>\n",
       "      <td>-9.828125</td>\n",
       "      <td>-16.390625</td>\n",
       "      <td>-19.718750</td>\n",
       "      <td>2.109375</td>\n",
       "      <td>-1.765625</td>\n",
       "      <td>12.890625</td>\n",
       "      <td>6.500000</td>\n",
       "      <td>7.578125</td>\n",
       "      <td>0.758057</td>\n",
       "      <td>14</td>\n",
       "    </tr>\n",
       "    <tr>\n",
       "      <th>3635095</th>\n",
       "      <td>0.099419</td>\n",
       "      <td>-40.06250</td>\n",
       "      <td>16.34375</td>\n",
       "      <td>-11.12500</td>\n",
       "      <td>38.437500</td>\n",
       "      <td>20.62500</td>\n",
       "      <td>33.406250</td>\n",
       "      <td>41.968750</td>\n",
       "      <td>4.953125</td>\n",
       "      <td>28.296875</td>\n",
       "      <td>...</td>\n",
       "      <td>-38.250000</td>\n",
       "      <td>-13.375000</td>\n",
       "      <td>-35.125000</td>\n",
       "      <td>19.359375</td>\n",
       "      <td>-3.390625</td>\n",
       "      <td>35.953125</td>\n",
       "      <td>28.390625</td>\n",
       "      <td>24.609375</td>\n",
       "      <td>0.758057</td>\n",
       "      <td>18</td>\n",
       "    </tr>\n",
       "    <tr>\n",
       "      <th>3635096</th>\n",
       "      <td>0.099434</td>\n",
       "      <td>-16.90625</td>\n",
       "      <td>18.75000</td>\n",
       "      <td>-4.96875</td>\n",
       "      <td>29.453125</td>\n",
       "      <td>29.06250</td>\n",
       "      <td>31.421875</td>\n",
       "      <td>44.828125</td>\n",
       "      <td>-13.218750</td>\n",
       "      <td>6.796875</td>\n",
       "      <td>...</td>\n",
       "      <td>-33.703125</td>\n",
       "      <td>9.156250</td>\n",
       "      <td>-18.171875</td>\n",
       "      <td>20.140625</td>\n",
       "      <td>-6.890625</td>\n",
       "      <td>36.171875</td>\n",
       "      <td>40.296875</td>\n",
       "      <td>27.734375</td>\n",
       "      <td>0.758057</td>\n",
       "      <td>19</td>\n",
       "    </tr>\n",
       "    <tr>\n",
       "      <th>3635097</th>\n",
       "      <td>0.099450</td>\n",
       "      <td>40.43750</td>\n",
       "      <td>28.31250</td>\n",
       "      <td>41.90625</td>\n",
       "      <td>-6.828125</td>\n",
       "      <td>31.34375</td>\n",
       "      <td>-35.531250</td>\n",
       "      <td>-15.078125</td>\n",
       "      <td>-51.843750</td>\n",
       "      <td>-57.734375</td>\n",
       "      <td>...</td>\n",
       "      <td>7.484375</td>\n",
       "      <td>54.796875</td>\n",
       "      <td>41.265625</td>\n",
       "      <td>18.406250</td>\n",
       "      <td>29.671875</td>\n",
       "      <td>-9.234375</td>\n",
       "      <td>20.515625</td>\n",
       "      <td>-36.531250</td>\n",
       "      <td>0.758057</td>\n",
       "      <td>22</td>\n",
       "    </tr>\n",
       "    <tr>\n",
       "      <th>3635098</th>\n",
       "      <td>0.099465</td>\n",
       "      <td>43.43750</td>\n",
       "      <td>19.31250</td>\n",
       "      <td>48.21875</td>\n",
       "      <td>-15.671875</td>\n",
       "      <td>21.40625</td>\n",
       "      <td>-58.421875</td>\n",
       "      <td>-41.062500</td>\n",
       "      <td>-49.984375</td>\n",
       "      <td>-65.453125</td>\n",
       "      <td>...</td>\n",
       "      <td>24.828125</td>\n",
       "      <td>51.234375</td>\n",
       "      <td>50.015625</td>\n",
       "      <td>12.781250</td>\n",
       "      <td>47.093750</td>\n",
       "      <td>-28.562500</td>\n",
       "      <td>-1.218750</td>\n",
       "      <td>-69.281250</td>\n",
       "      <td>0.758057</td>\n",
       "      <td>23</td>\n",
       "    </tr>\n",
       "  </tbody>\n",
       "</table>\n",
       "<p>3635099 rows × 23 columns</p>\n",
       "</div>"
      ],
      "text/plain": [
       "         SampleTimeDelay        I1         Q1         I2          Q2  \\\n",
       "0               0.031901  11.46875   50.12500  -49.75000  -41.718750   \n",
       "1               0.031916   3.62500   13.34375  -16.03125  -16.656250   \n",
       "2               0.031947 -15.84375   37.25000  -14.12500  -40.781250   \n",
       "3               0.031962  -3.31250  121.34375  -96.25000 -112.593750   \n",
       "4               0.031977  44.46875   86.15625 -118.75000  -51.562500   \n",
       "...                  ...       ...        ...        ...         ...   \n",
       "3635094         0.099403 -26.40625    6.56250   -3.90625   18.796875   \n",
       "3635095         0.099419 -40.06250   16.34375  -11.12500   38.437500   \n",
       "3635096         0.099434 -16.90625   18.75000   -4.96875   29.453125   \n",
       "3635097         0.099450  40.43750   28.31250   41.90625   -6.828125   \n",
       "3635098         0.099465  43.43750   19.31250   48.21875  -15.671875   \n",
       "\n",
       "                I3         Q3          I4         Q4         I5  ...  \\\n",
       "0         72.93750   7.437500  -63.062500  35.437500  27.281250  ...   \n",
       "1         24.68750  10.093750  -19.875000   4.156250   3.312500  ...   \n",
       "2         43.09375  28.718750  -56.375000   9.750000  43.218750  ...   \n",
       "3        156.46875  47.968750 -151.093750  55.812500  71.281250  ...   \n",
       "4        134.46875 -18.375000  -85.968750  91.781250 -10.500000  ...   \n",
       "...            ...        ...         ...        ...        ...  ...   \n",
       "3635094    5.90625   9.125000    7.593750   6.531250  14.375000  ...   \n",
       "3635095   20.62500  33.406250   41.968750   4.953125  28.296875  ...   \n",
       "3635096   29.06250  31.421875   44.828125 -13.218750   6.796875  ...   \n",
       "3635097   31.34375 -35.531250  -15.078125 -51.843750 -57.734375  ...   \n",
       "3635098   21.40625 -58.421875  -41.062500 -49.984375 -65.453125  ...   \n",
       "\n",
       "                 I7         Q7          I8         Q8         I9          Q9  \\\n",
       "0        -52.562500 -40.156250   60.656250   6.218750 -41.343750   40.375000   \n",
       "1        -10.031250   1.406250    4.968750  -6.281250   8.187500    7.375000   \n",
       "2        -35.750000 -55.312500   65.218750  27.218750 -67.156250   24.968750   \n",
       "3       -119.437500 -94.500000  137.750000   8.562500 -91.656250   98.187500   \n",
       "4       -126.281250  -4.875000   90.031250 -65.625000   1.125000  109.062500   \n",
       "...             ...        ...         ...        ...        ...         ...   \n",
       "3635094   -9.828125 -16.390625  -19.718750   2.109375  -1.765625   12.890625   \n",
       "3635095  -38.250000 -13.375000  -35.125000  19.359375  -3.390625   35.953125   \n",
       "3635096  -33.703125   9.156250  -18.171875  20.140625  -6.890625   36.171875   \n",
       "3635097    7.484375  54.796875   41.265625  18.406250  29.671875   -9.234375   \n",
       "3635098   24.828125  51.234375   50.015625  12.781250  47.093750  -28.562500   \n",
       "\n",
       "               I10         Q10      Roll  Amplitude  \n",
       "0        19.562500  -68.031250  1.043701         21  \n",
       "1       -13.531250   -0.375000  1.043701         24  \n",
       "2        45.875000  -72.062500  1.043701         43  \n",
       "3        24.437500 -156.968750  1.043701         14  \n",
       "4       -77.750000 -102.375000  1.043701         22  \n",
       "...            ...         ...       ...        ...  \n",
       "3635094   6.500000    7.578125  0.758057         14  \n",
       "3635095  28.390625   24.609375  0.758057         18  \n",
       "3635096  40.296875   27.734375  0.758057         19  \n",
       "3635097  20.515625  -36.531250  0.758057         22  \n",
       "3635098  -1.218750  -69.281250  0.758057         23  \n",
       "\n",
       "[3635099 rows x 23 columns]"
      ]
     },
     "execution_count": 4,
     "metadata": {},
     "output_type": "execute_result"
    }
   ],
   "source": [
    "x_train"
   ]
  },
  {
   "cell_type": "markdown",
   "metadata": {},
   "source": [
    "Scale the Feaures from -1 to 1 so that Training is Easier for the Model"
   ]
  },
  {
   "cell_type": "code",
   "execution_count": 5,
   "metadata": {},
   "outputs": [
    {
     "name": "stdout",
     "output_type": "stream",
     "text": [
      "3635099\n",
      "3635099\n"
     ]
    }
   ],
   "source": [
    "# Scale the Features and Labels from [-1,1]\n",
    "s1=MinMaxScaler(feature_range=(0,1))\n",
    "#s1=MinMaxScaler(feature_range=(0,1))\n",
    "x_train_scale=s1.fit_transform(x_train)\n",
    "\n",
    "#s2=MinMaxScaler(feature_range=(0,1))\n",
    "#s2=MinMaxScaler(feature_range=(0,1))\n",
    "x_test_scale=s1.transform(x_test)\n",
    "x_test_scale=x_test_scale\n",
    "x_test_scale[:, 21] = -x_test_scale[:, 21]\n",
    "# Scale DOA's from (0 to 1)\n",
    "#s3=MinMaxScaler(feature_range=(0,1))\n",
    "#y_train_scale = s3.fit_transform(train[['DOA']])\n",
    "y_train_scale= y_train.to_numpy()\n",
    "\n",
    "#s4=MinMaxScaler(feature_range=(0,1))\n",
    "#y_test_scale = s4.fit_transform(test[['DOA']])\n",
    "y_test_scale= y_test.to_numpy()\n",
    "\n",
    "print(len(x_train_scale))\n",
    "print(len(y_train_scale))"
   ]
  },
  {
   "cell_type": "markdown",
   "metadata": {},
   "source": [
    "Shift the DOA's to the Left by one so that the Current I and Q data Align with the current DOA while using TimeSeriesGenerator to Window the Data"
   ]
  },
  {
   "cell_type": "code",
   "execution_count": 6,
   "metadata": {},
   "outputs": [
    {
     "data": {
      "text/html": [
       "<div>\n",
       "<style scoped>\n",
       "    .dataframe tbody tr th:only-of-type {\n",
       "        vertical-align: middle;\n",
       "    }\n",
       "\n",
       "    .dataframe tbody tr th {\n",
       "        vertical-align: top;\n",
       "    }\n",
       "\n",
       "    .dataframe thead th {\n",
       "        text-align: right;\n",
       "    }\n",
       "</style>\n",
       "<table border=\"1\" class=\"dataframe\">\n",
       "  <thead>\n",
       "    <tr style=\"text-align: right;\">\n",
       "      <th></th>\n",
       "      <th>TEST DOAs</th>\n",
       "    </tr>\n",
       "  </thead>\n",
       "  <tbody>\n",
       "    <tr>\n",
       "      <th>0</th>\n",
       "      <td>3.690000</td>\n",
       "    </tr>\n",
       "    <tr>\n",
       "      <th>1</th>\n",
       "      <td>2.394000</td>\n",
       "    </tr>\n",
       "    <tr>\n",
       "      <th>2</th>\n",
       "      <td>1.950000</td>\n",
       "    </tr>\n",
       "    <tr>\n",
       "      <th>3</th>\n",
       "      <td>-0.588000</td>\n",
       "    </tr>\n",
       "    <tr>\n",
       "      <th>4</th>\n",
       "      <td>0.762000</td>\n",
       "    </tr>\n",
       "    <tr>\n",
       "      <th>...</th>\n",
       "      <td>...</td>\n",
       "    </tr>\n",
       "    <tr>\n",
       "      <th>3382107</th>\n",
       "      <td>76.692001</td>\n",
       "    </tr>\n",
       "    <tr>\n",
       "      <th>3382108</th>\n",
       "      <td>76.596001</td>\n",
       "    </tr>\n",
       "    <tr>\n",
       "      <th>3382109</th>\n",
       "      <td>76.350001</td>\n",
       "    </tr>\n",
       "    <tr>\n",
       "      <th>3382110</th>\n",
       "      <td>76.326001</td>\n",
       "    </tr>\n",
       "    <tr>\n",
       "      <th>3382111</th>\n",
       "      <td>76.176001</td>\n",
       "    </tr>\n",
       "  </tbody>\n",
       "</table>\n",
       "<p>3382112 rows × 1 columns</p>\n",
       "</div>"
      ],
      "text/plain": [
       "         TEST DOAs\n",
       "0         3.690000\n",
       "1         2.394000\n",
       "2         1.950000\n",
       "3        -0.588000\n",
       "4         0.762000\n",
       "...            ...\n",
       "3382107  76.692001\n",
       "3382108  76.596001\n",
       "3382109  76.350001\n",
       "3382110  76.326001\n",
       "3382111  76.176001\n",
       "\n",
       "[3382112 rows x 1 columns]"
      ]
     },
     "execution_count": 6,
     "metadata": {},
     "output_type": "execute_result"
    }
   ],
   "source": [
    "Test_DOA_df= pd.DataFrame(y_test_scale, columns=['TEST DOAs'])\n",
    "Test_DOA_df"
   ]
  },
  {
   "cell_type": "code",
   "execution_count": 7,
   "metadata": {},
   "outputs": [
    {
     "name": "stdout",
     "output_type": "stream",
     "text": [
      "3635099\n",
      "3382112\n",
      "[ 0.00000000e+00 -3.05400003e+00 -5.40000005e-02 ...  7.36260006e+01\n",
      "  7.36260006e+01  7.35780006e+01]\n",
      "3635099\n",
      "[ 0.          3.69000003  2.39400002 ... 76.59600067 76.35000066\n",
      " 76.32600066]\n",
      "3382112\n"
     ]
    }
   ],
   "source": [
    "# Shift the DOA to the left by one to use the current DOA label with the current I and Q data.\n",
    "# Normally the TimeseriesGenerator function uses past values to predict the future but we would like current data to help predict the current samples' DOA\n",
    "print(len(x_train_scale))\n",
    "print(len(y_test_scale))\n",
    "y_train_scale=insert(y_train_scale, 0, 0)\n",
    "y_train_scale=np.delete(y_train_scale, -1)\n",
    "y_test_scale=insert(y_test_scale, 0,0)\n",
    "y_test_scale=np.delete(y_test_scale, -1)\n",
    "print(y_train_scale)\n",
    "print(len(y_train_scale))\n",
    "print(y_test_scale)\n",
    "print(len(y_test_scale))"
   ]
  },
  {
   "cell_type": "markdown",
   "metadata": {},
   "source": [
    "Create the Windows Neccesary for the LSTM model using the TimeSeriesGenerator Function"
   ]
  },
  {
   "cell_type": "code",
   "execution_count": 8,
   "metadata": {},
   "outputs": [
    {
     "data": {
      "text/plain": [
       "3635099"
      ]
     },
     "execution_count": 8,
     "metadata": {},
     "output_type": "execute_result"
    }
   ],
   "source": [
    "# Create the windows neccesary for the LSTM model within tensorflow keras\n",
    "# Below are the arguments of the timeseries_dataset_from_array function\n",
    "# The function takes a numpy array and makes a timeseries out of it\n",
    "NumSampsPerPing= 4301-24*1\n",
    "data=x_train_scale # the data to make the windows\n",
    "targets=y_train_scale # time steps in the data (don't need)\n",
    "sequence_length=12 # window length\n",
    "sequence_stride=1# period between successive output sequences\n",
    "sampling_rate=1 # period between successive individual timesteps     within sequences\n",
    "batch_size=32 # number of time series samples in each batch\n",
    "shuffle=False #shuffle the data before making the windows\n",
    "seed=None # is related to shuffle\n",
    "start_index=None # is related to shuffle\n",
    "end_index=None # is related to shuffle\n",
    "n_features=23\n",
    "\n",
    "test_data=x_test_scale\n",
    "test_targets=y_test_scale\n",
    "\n",
    "inputs=TimeseriesGenerator(data=data, targets=targets,length=sequence_length, sampling_rate=sampling_rate,stride=sequence_stride, batch_size= batch_size)\n",
    "\n",
    "#test_inputs=TimeseriesGenerator(test_data[0:40000], -1*test_targets[0:40000],sequence_length, batch_size)\n",
    "\n",
    "test_inputs=TimeseriesGenerator(data=test_data, targets=test_targets,length=sequence_length, sampling_rate=sampling_rate,stride=sequence_stride, batch_size= batch_size)\n",
    "\n",
    "#inputs=tf.keras.preprocessing.timeseries_dataset_from_array(data, targets, sequence_length, sequence_stride, sampling_rate, batch_size, shuffle)\n",
    "#print(type(inputs))\n",
    "dataRows = data.shape[0]\n",
    "dataRows"
   ]
  },
  {
   "cell_type": "markdown",
   "metadata": {},
   "source": [
    "Define the Model's Structure"
   ]
  },
  {
   "cell_type": "code",
   "execution_count": 23,
   "metadata": {},
   "outputs": [],
   "source": [
    "# With all the preproccessing done, it is time to define the model\n",
    "# Define the LSTM Model\n",
    "model= Sequential()\n",
    "model.add(LSTM(units=22, activation='tanh', input_shape=(sequence_length,n_features), return_sequences=False))\n",
    "#model.add(Dense(units=300))\n",
    "#model.add(Dropout(0.5))\n",
    "\n",
    "#model.add(LSTM(units=416, activation='tanh', return_sequences=True))\n",
    "#model.add(Dense(units=300))\n",
    "#model.add(Dropout(0.5))\n",
    "\n",
    "#model.add(LSTM(units=512, return_sequences=True))\n",
    "#model.add(Dense(units=300))\n",
    "#model.add(Dropout(0.5))\n",
    "\n",
    "#model.add(LSTM(units=416, return_sequences=False))\n",
    "#model.add(Dense(units=300))\n",
    "#model.add(Dropout(0.5))\n",
    "\n",
    "#model.add(LSTM(units=64, return_sequences=False))\n",
    "#model.add(Dense(units=60))\n",
    "#model.add(Dropout(0.2))\n",
    "\n",
    "#model.add(LSTM(units=320, activation='tanh', return_sequences=True))\n",
    "#model.add(Dropout(0.2))\n",
    "\n",
    "#model.add(LSTM(units=480))\n",
    "#model.add(Dropout(0.2))\n",
    "model.add(Dense(units=200))\n",
    "model.add(Dense(units=100))\n",
    "model.add(Dense(units=50))\n",
    "#model.add(Dense(units=100))\n",
    "#model.add(Dense(units=10))\n",
    "\n",
    "model.add(Dense(units=1)) #one output (namely: DOA)\n"
   ]
  },
  {
   "cell_type": "code",
   "execution_count": 14,
   "metadata": {},
   "outputs": [
    {
     "name": "stdout",
     "output_type": "stream",
     "text": [
      "Model: \"sequential_1\"\n",
      "_________________________________________________________________\n",
      " Layer (type)                Output Shape              Param #   \n",
      "=================================================================\n",
      " lstm_1 (LSTM)               (None, 22)                4048      \n",
      "                                                                 \n",
      " dense_4 (Dense)             (None, 200)               4600      \n",
      "                                                                 \n",
      " dense_5 (Dense)             (None, 100)               20100     \n",
      "                                                                 \n",
      " dense_6 (Dense)             (None, 50)                5050      \n",
      "                                                                 \n",
      " dense_7 (Dense)             (None, 1)                 51        \n",
      "                                                                 \n",
      "=================================================================\n",
      "Total params: 33,849\n",
      "Trainable params: 33,849\n",
      "Non-trainable params: 0\n",
      "_________________________________________________________________\n"
     ]
    }
   ],
   "source": [
    "model.summary()"
   ]
  },
  {
   "cell_type": "markdown",
   "metadata": {},
   "source": [
    "Train the Model using the Specified Hyperparmeters"
   ]
  },
  {
   "cell_type": "code",
   "execution_count": 15,
   "metadata": {},
   "outputs": [],
   "source": [
    "def scheduler(epoch,lr):\n",
    "    if epoch<=1:\n",
    "        return lr\n",
    "    elif epoch>=2 | epoch<=4:\n",
    "        return lr/1.15\n",
    "    else:\n",
    "        return lr * tf.math.exp(-.5)\n"
   ]
  },
  {
   "cell_type": "code",
   "execution_count": 24,
   "metadata": {},
   "outputs": [
    {
     "name": "stdout",
     "output_type": "stream",
     "text": [
      "Epoch 1/3\n",
      "113597/113597 [==============================] - 574s 5ms/step - loss: 1.7524\n",
      "Epoch 2/3\n",
      "113597/113597 [==============================] - 568s 5ms/step - loss: 0.7457\n",
      "Epoch 3/3\n",
      "113597/113597 [==============================] - 575s 5ms/step - loss: 0.6613\n"
     ]
    },
    {
     "data": {
      "text/plain": [
       "Text(0, 0.5, 'loss')"
      ]
     },
     "execution_count": 24,
     "metadata": {},
     "output_type": "execute_result"
    },
    {
     "data": {
      "image/png": "[encoded data removed]",
      "text/plain": [
       "<Figure size 432x288 with 1 Axes>"
      ]
     },
     "metadata": {
      "needs_background": "light"
     },
     "output_type": "display_data"
    }
   ],
   "source": [
    "#Now it is time to train the model\n",
    "opt=tf.keras.optimizers.Adam(learning_rate=.005)#,decay=.97)\n",
    "huber=tf.keras.losses.Huber(delta=8)\n",
    "model.compile(loss=huber, optimizer=opt)#metrics=['mean_squared_error','binary_crossentropy'])\n",
    "\n",
    "\n",
    "sc = tf.keras.callbacks.LearningRateScheduler(scheduler)\n",
    "\n",
    "# Allow for early stopping so that the model does not overfit the training dataset\n",
    "es= EarlyStopping(monitor='loss', mode='min',verbose=1,patience=10)\n",
    "\n",
    "#t0=time.time()\n",
    "#history= model.fit(inputs,steps_per_epoch=4000,epochs=200,verbose=1, callbacks=[es])\n",
    "history= model.fit(inputs,epochs=3,batch_size=None)\n",
    "#t1=time.time()\n",
    "#print(\"The total run time to train was %.2f seconds\"%(t1-t0))\n",
    "\n",
    "# plot the loss function\n",
    "plt.figure()\n",
    "plt.semilogy(history.history['loss'])\n",
    "plt.xlabel('epoch'); plt.ylabel('loss')\n"
   ]
  },
  {
   "cell_type": "markdown",
   "metadata": {},
   "source": [
    "Using the Model, Predict the DOA's on the Testing Dataset"
   ]
  },
  {
   "cell_type": "code",
   "execution_count": 25,
   "metadata": {},
   "outputs": [
    {
     "name": "stdout",
     "output_type": "stream",
     "text": [
      "105691/105691 [==============================] - 154s 1ms/step\n"
     ]
    }
   ],
   "source": [
    "#use the model to predict on the testing dataset\n",
    "#for right now test_inputs has only the 40,001 samples\n",
    "predicted=model.predict(test_inputs, verbose=1)"
   ]
  },
  {
   "cell_type": "code",
   "execution_count": 26,
   "metadata": {},
   "outputs": [
    {
     "name": "stdout",
     "output_type": "stream",
     "text": [
      "[[21.22216 ]\n",
      " [19.985258]\n",
      " [20.551022]\n",
      " [21.478878]\n",
      " [20.154446]\n",
      " [20.400118]\n",
      " [20.889366]\n",
      " [20.291647]\n",
      " [21.087944]\n",
      " [20.476809]\n",
      " [23.422497]]\n"
     ]
    }
   ],
   "source": [
    "print(predicted[10:21])"
   ]
  },
  {
   "cell_type": "code",
   "execution_count": 27,
   "metadata": {},
   "outputs": [
    {
     "name": "stdout",
     "output_type": "stream",
     "text": [
      "10     3.408\n",
      "11    -4.416\n",
      "12    -8.610\n",
      "13    -9.828\n",
      "14     1.494\n",
      "15     7.938\n",
      "16     1.500\n",
      "17     9.294\n",
      "18     9.642\n",
      "19    12.750\n",
      "20    13.080\n",
      "Name: DOA, dtype: float64\n"
     ]
    }
   ],
   "source": [
    "print(y_test[10:21])"
   ]
  },
  {
   "cell_type": "code",
   "execution_count": null,
   "metadata": {},
   "outputs": [
    {
     "data": {
      "text/plain": [
       "(3410581, 1)"
      ]
     },
     "execution_count": 136,
     "metadata": {},
     "output_type": "execute_result"
    }
   ],
   "source": [
    "type(predicted)\n",
    "predicted.shape"
   ]
  },
  {
   "cell_type": "code",
   "execution_count": 28,
   "metadata": {},
   "outputs": [],
   "source": [
    "predicted_reshape= predicted.reshape(len(predicted),1)"
   ]
  },
  {
   "cell_type": "code",
   "execution_count": 29,
   "metadata": {},
   "outputs": [
    {
     "data": {
      "image/png": "[encoded data removed]",
      "text/plain": [
       "<Figure size 432x288 with 1 Axes>"
      ]
     },
     "metadata": {},
     "output_type": "display_data"
    }
   ],
   "source": [
    "plt.figure(facecolor='white')\n",
    "plt.plot(y_test[0:80000])\n",
    "plt.plot(predicted_reshape[0:80000])\n",
    "plt.title(\"Actual\")\n",
    "plt.xlabel('Samples')\n",
    "plt.ylabel('DOA in degrees')\n",
    "plt.legend(['Actual','Predicted'])\n",
    "plt.show()\n",
    "\n"
   ]
  },
  {
   "cell_type": "markdown",
   "metadata": {},
   "source": [
    "Compare the Actual Testing DOA's to the Predicted DOA's"
   ]
  },
  {
   "cell_type": "markdown",
   "metadata": {},
   "source": [
    "Put the predicted DOA's back into a csv file format"
   ]
  },
  {
   "cell_type": "code",
   "execution_count": 30,
   "metadata": {},
   "outputs": [],
   "source": [
    "#Ping |  Num Samp Num | PORT or STBD (0 or 1) |  TWTT |  Predicted DOA   <=======Output columns.\n",
    "OutputCSVdf=test.iloc[:,[0,1,2,3]]\n",
    "#OutputCSVdf= pd.DataFrame(test.iloc[:,[0,1,2,3]], columns=['PingNumber','SampNumber','PortStbd', 'SampleTime'])\n",
    "zerosArray= np.arange(sequence_length)*0\n",
    "predictedShifted=np.append(zerosArray, predicted)\n",
    "Predicteddf= pd.DataFrame(predictedShifted,columns=['PredictedDOA'])\n",
    "OutputCSVdf=OutputCSVdf.join(Predicteddf)"
   ]
  },
  {
   "cell_type": "code",
   "execution_count": 31,
   "metadata": {},
   "outputs": [
    {
     "data": {
      "text/html": [
       "<div>\n",
       "<style scoped>\n",
       "    .dataframe tbody tr th:only-of-type {\n",
       "        vertical-align: middle;\n",
       "    }\n",
       "\n",
       "    .dataframe tbody tr th {\n",
       "        vertical-align: top;\n",
       "    }\n",
       "\n",
       "    .dataframe thead th {\n",
       "        text-align: right;\n",
       "    }\n",
       "</style>\n",
       "<table border=\"1\" class=\"dataframe\">\n",
       "  <thead>\n",
       "    <tr style=\"text-align: right;\">\n",
       "      <th></th>\n",
       "      <th>PingNum</th>\n",
       "      <th>SampleNum</th>\n",
       "      <th>PortStbd</th>\n",
       "      <th>SampleTimeDelay</th>\n",
       "    </tr>\n",
       "  </thead>\n",
       "  <tbody>\n",
       "    <tr>\n",
       "      <th>0</th>\n",
       "      <td>130701</td>\n",
       "      <td>2078</td>\n",
       "      <td>1</td>\n",
       "      <td>0.031901</td>\n",
       "    </tr>\n",
       "    <tr>\n",
       "      <th>1</th>\n",
       "      <td>130701</td>\n",
       "      <td>2080</td>\n",
       "      <td>1</td>\n",
       "      <td>0.031931</td>\n",
       "    </tr>\n",
       "    <tr>\n",
       "      <th>2</th>\n",
       "      <td>130701</td>\n",
       "      <td>2081</td>\n",
       "      <td>1</td>\n",
       "      <td>0.031947</td>\n",
       "    </tr>\n",
       "    <tr>\n",
       "      <th>3</th>\n",
       "      <td>130701</td>\n",
       "      <td>2082</td>\n",
       "      <td>1</td>\n",
       "      <td>0.031962</td>\n",
       "    </tr>\n",
       "    <tr>\n",
       "      <th>4</th>\n",
       "      <td>130701</td>\n",
       "      <td>2083</td>\n",
       "      <td>1</td>\n",
       "      <td>0.031977</td>\n",
       "    </tr>\n",
       "    <tr>\n",
       "      <th>...</th>\n",
       "      <td>...</td>\n",
       "      <td>...</td>\n",
       "      <td>...</td>\n",
       "      <td>...</td>\n",
       "    </tr>\n",
       "    <tr>\n",
       "      <th>3382107</th>\n",
       "      <td>131577</td>\n",
       "      <td>6473</td>\n",
       "      <td>1</td>\n",
       "      <td>0.099403</td>\n",
       "    </tr>\n",
       "    <tr>\n",
       "      <th>3382108</th>\n",
       "      <td>131577</td>\n",
       "      <td>6474</td>\n",
       "      <td>1</td>\n",
       "      <td>0.099419</td>\n",
       "    </tr>\n",
       "    <tr>\n",
       "      <th>3382109</th>\n",
       "      <td>131577</td>\n",
       "      <td>6475</td>\n",
       "      <td>1</td>\n",
       "      <td>0.099434</td>\n",
       "    </tr>\n",
       "    <tr>\n",
       "      <th>3382110</th>\n",
       "      <td>131577</td>\n",
       "      <td>6476</td>\n",
       "      <td>1</td>\n",
       "      <td>0.099450</td>\n",
       "    </tr>\n",
       "    <tr>\n",
       "      <th>3382111</th>\n",
       "      <td>131577</td>\n",
       "      <td>6477</td>\n",
       "      <td>1</td>\n",
       "      <td>0.099465</td>\n",
       "    </tr>\n",
       "  </tbody>\n",
       "</table>\n",
       "<p>3382112 rows × 4 columns</p>\n",
       "</div>"
      ],
      "text/plain": [
       "         PingNum  SampleNum  PortStbd  SampleTimeDelay\n",
       "0         130701       2078         1         0.031901\n",
       "1         130701       2080         1         0.031931\n",
       "2         130701       2081         1         0.031947\n",
       "3         130701       2082         1         0.031962\n",
       "4         130701       2083         1         0.031977\n",
       "...          ...        ...       ...              ...\n",
       "3382107   131577       6473         1         0.099403\n",
       "3382108   131577       6474         1         0.099419\n",
       "3382109   131577       6475         1         0.099434\n",
       "3382110   131577       6476         1         0.099450\n",
       "3382111   131577       6477         1         0.099465\n",
       "\n",
       "[3382112 rows x 4 columns]"
      ]
     },
     "execution_count": 31,
     "metadata": {},
     "output_type": "execute_result"
    }
   ],
   "source": [
    "test.iloc[:,[0,1,2,3]]"
   ]
  },
  {
   "cell_type": "code",
   "execution_count": 32,
   "metadata": {},
   "outputs": [
    {
     "data": {
      "text/plain": [
       "array([0, 0, 0, 0, 0, 0, 0, 0, 0, 0, 0, 0])"
      ]
     },
     "execution_count": 32,
     "metadata": {},
     "output_type": "execute_result"
    }
   ],
   "source": [
    "zerosArray= np.arange(sequence_length)*0\n",
    "zerosArray"
   ]
  },
  {
   "cell_type": "code",
   "execution_count": 33,
   "metadata": {},
   "outputs": [
    {
     "data": {
      "text/plain": [
       "array([ 0.        ,  0.        ,  0.        , ..., 74.49045563,\n",
       "       74.24172974, 74.23892975])"
      ]
     },
     "execution_count": 33,
     "metadata": {},
     "output_type": "execute_result"
    }
   ],
   "source": [
    "predictedShifted=np.append(zerosArray, predicted)\n",
    "predictedShifted"
   ]
  },
  {
   "cell_type": "code",
   "execution_count": 34,
   "metadata": {},
   "outputs": [
    {
     "data": {
      "text/html": [
       "<div>\n",
       "<style scoped>\n",
       "    .dataframe tbody tr th:only-of-type {\n",
       "        vertical-align: middle;\n",
       "    }\n",
       "\n",
       "    .dataframe tbody tr th {\n",
       "        vertical-align: top;\n",
       "    }\n",
       "\n",
       "    .dataframe thead th {\n",
       "        text-align: right;\n",
       "    }\n",
       "</style>\n",
       "<table border=\"1\" class=\"dataframe\">\n",
       "  <thead>\n",
       "    <tr style=\"text-align: right;\">\n",
       "      <th></th>\n",
       "      <th>PingNum</th>\n",
       "      <th>SampleNum</th>\n",
       "      <th>PortStbd</th>\n",
       "      <th>SampleTimeDelay</th>\n",
       "      <th>PredictedDOA</th>\n",
       "    </tr>\n",
       "  </thead>\n",
       "  <tbody>\n",
       "    <tr>\n",
       "      <th>0</th>\n",
       "      <td>130701</td>\n",
       "      <td>2078</td>\n",
       "      <td>1</td>\n",
       "      <td>0.031901</td>\n",
       "      <td>0.000000</td>\n",
       "    </tr>\n",
       "    <tr>\n",
       "      <th>1</th>\n",
       "      <td>130701</td>\n",
       "      <td>2080</td>\n",
       "      <td>1</td>\n",
       "      <td>0.031931</td>\n",
       "      <td>0.000000</td>\n",
       "    </tr>\n",
       "    <tr>\n",
       "      <th>2</th>\n",
       "      <td>130701</td>\n",
       "      <td>2081</td>\n",
       "      <td>1</td>\n",
       "      <td>0.031947</td>\n",
       "      <td>0.000000</td>\n",
       "    </tr>\n",
       "    <tr>\n",
       "      <th>3</th>\n",
       "      <td>130701</td>\n",
       "      <td>2082</td>\n",
       "      <td>1</td>\n",
       "      <td>0.031962</td>\n",
       "      <td>0.000000</td>\n",
       "    </tr>\n",
       "    <tr>\n",
       "      <th>4</th>\n",
       "      <td>130701</td>\n",
       "      <td>2083</td>\n",
       "      <td>1</td>\n",
       "      <td>0.031977</td>\n",
       "      <td>0.000000</td>\n",
       "    </tr>\n",
       "    <tr>\n",
       "      <th>...</th>\n",
       "      <td>...</td>\n",
       "      <td>...</td>\n",
       "      <td>...</td>\n",
       "      <td>...</td>\n",
       "      <td>...</td>\n",
       "    </tr>\n",
       "    <tr>\n",
       "      <th>3382107</th>\n",
       "      <td>131577</td>\n",
       "      <td>6473</td>\n",
       "      <td>1</td>\n",
       "      <td>0.099403</td>\n",
       "      <td>74.402985</td>\n",
       "    </tr>\n",
       "    <tr>\n",
       "      <th>3382108</th>\n",
       "      <td>131577</td>\n",
       "      <td>6474</td>\n",
       "      <td>1</td>\n",
       "      <td>0.099419</td>\n",
       "      <td>74.135681</td>\n",
       "    </tr>\n",
       "    <tr>\n",
       "      <th>3382109</th>\n",
       "      <td>131577</td>\n",
       "      <td>6475</td>\n",
       "      <td>1</td>\n",
       "      <td>0.099434</td>\n",
       "      <td>74.490456</td>\n",
       "    </tr>\n",
       "    <tr>\n",
       "      <th>3382110</th>\n",
       "      <td>131577</td>\n",
       "      <td>6476</td>\n",
       "      <td>1</td>\n",
       "      <td>0.099450</td>\n",
       "      <td>74.241730</td>\n",
       "    </tr>\n",
       "    <tr>\n",
       "      <th>3382111</th>\n",
       "      <td>131577</td>\n",
       "      <td>6477</td>\n",
       "      <td>1</td>\n",
       "      <td>0.099465</td>\n",
       "      <td>74.238930</td>\n",
       "    </tr>\n",
       "  </tbody>\n",
       "</table>\n",
       "<p>3382112 rows × 5 columns</p>\n",
       "</div>"
      ],
      "text/plain": [
       "         PingNum  SampleNum  PortStbd  SampleTimeDelay  PredictedDOA\n",
       "0         130701       2078         1         0.031901      0.000000\n",
       "1         130701       2080         1         0.031931      0.000000\n",
       "2         130701       2081         1         0.031947      0.000000\n",
       "3         130701       2082         1         0.031962      0.000000\n",
       "4         130701       2083         1         0.031977      0.000000\n",
       "...          ...        ...       ...              ...           ...\n",
       "3382107   131577       6473         1         0.099403     74.402985\n",
       "3382108   131577       6474         1         0.099419     74.135681\n",
       "3382109   131577       6475         1         0.099434     74.490456\n",
       "3382110   131577       6476         1         0.099450     74.241730\n",
       "3382111   131577       6477         1         0.099465     74.238930\n",
       "\n",
       "[3382112 rows x 5 columns]"
      ]
     },
     "execution_count": 34,
     "metadata": {},
     "output_type": "execute_result"
    }
   ],
   "source": [
    "OutputCSVdf"
   ]
  },
  {
   "cell_type": "code",
   "execution_count": 35,
   "metadata": {},
   "outputs": [],
   "source": [
    "OutputCSVdf.to_csv(path_or_buf=\"C:\\\\Users\\\\rferr\\\\Desktop\\\\CSVs\\\\PredictedOutputTest_NEW_DATA_2.csv\")"
   ]
  },
  {
   "cell_type": "code",
   "execution_count": null,
   "metadata": {},
   "outputs": [],
   "source": [
    "tf.keras.models.save_model(model,filepath=\"C:\\\\Users\\\\rferr\\\\Desktop\\\\CSVs\\\\model_Percent.h5\")"
   ]
  }
 ],
 "metadata": {
  "interpreter": {
   "hash": "e6fad8134df9e5d8b8d6d65c861d5f535ad48201ee3e73e4438a263582efefbc"
  },
  "kernelspec": {
   "display_name": "Python 3.10.1 64-bit",
   "language": "python",
   "name": "python3"
  },
  "language_info": {
   "codemirror_mode": {
    "name": "ipython",
    "version": 3
   },
   "file_extension": ".py",
   "mimetype": "text/x-python",
   "name": "python",
   "nbconvert_exporter": "python",
   "pygments_lexer": "ipython3",
   "version": "3.9.7"
  },
  "orig_nbformat": 4
 },
 "nbformat": 4,
 "nbformat_minor": 2
}
