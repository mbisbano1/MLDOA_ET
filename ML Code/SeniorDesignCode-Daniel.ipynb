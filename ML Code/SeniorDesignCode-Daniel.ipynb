{
 "cells": [
  {
   "cell_type": "markdown",
   "metadata": {},
   "source": [
    "# Import the Neccesary Libraries #"
   ]
  },
  {
   "cell_type": "code",
   "execution_count": 30,
   "metadata": {},
   "outputs": [],
   "source": [
    "# Import the neccesary libraries needed\n",
    "import pandas as pd\n",
    "from matplotlib import pyplot as plt\n",
    "from sklearn.preprocessing import MinMaxScaler \n",
    "import numpy as np\n",
    "from numpy import insert\n",
    "import os\n",
    "import time\n",
    "\n",
    "# keras tuner for hyperparameter tuning\n",
    "import keras_tuner as kt\n",
    "\n",
    "# tensorflow Libraries\n",
    "import tensorflow as tf\n",
    "from keras.preprocessing.sequence import TimeseriesGenerator\n",
    "from tensorflow import keras\n",
    "from tensorflow.keras.models import Sequential, load_model\n",
    "from tensorflow.keras.layers import Activation, Dense, Dropout, LSTM\n",
    "from tensorflow.keras.optimizers import Adam\n",
    "from tensorflow.keras.metrics import sparse_categorical_crossentropy\n",
    "from keras.callbacks import EarlyStopping\n",
    "from keras.models import load_model\n",
    "from tensorflow import feature_column\n",
    "from tensorflow.keras import layers\n",
    "from keras.models import load_model"
   ]
  },
  {
   "cell_type": "markdown",
   "metadata": {},
   "source": [
    "# Import the CSV Training and Testing Data Sets #"
   ]
  },
  {
   "cell_type": "code",
   "execution_count": 2,
   "metadata": {},
   "outputs": [],
   "source": [
    "# Import the csv's (IMPORTANT: You need at least 16 Gb of RAM to proceed)\n",
    "train=pd.read_csv(r'C:\\Users\\Daniel\\OneDrive - University of Massachusetts Dartmouth\\ECE457_Senior_Design_ECE5\\CSV_Files\\PortTraining_1404_002_FINAL_startingAt24.csv')\n",
    "test=pd.read_csv(r'C:\\Users\\Daniel\\OneDrive - University of Massachusetts Dartmouth\\ECE457_Senior_Design_ECE5\\CSV_Files\\StbdTesting_1404_002_FINAL.csv')"
   ]
  },
  {
   "cell_type": "code",
   "execution_count": null,
   "metadata": {},
   "outputs": [],
   "source": [
    "train[0:18]"
   ]
  },
  {
   "cell_type": "code",
   "execution_count": null,
   "metadata": {},
   "outputs": [],
   "source": [
    "test[0:18]"
   ]
  },
  {
   "cell_type": "markdown",
   "metadata": {},
   "source": [
    "# Split up the Features and Labels from both the Training and Testing Datasets #"
   ]
  },
  {
   "cell_type": "code",
   "execution_count": 4,
   "metadata": {},
   "outputs": [],
   "source": [
    "# Split up the features and labels from both the training and testing datasets\n",
    "x_train=train.iloc[:,4:24]\n",
    "#x_train['TWTT']=train.iloc[:,28]  I feel as though the TWTT has NO impact on the DOA so we should NOT include it in training\n",
    "x_train['Amplitude']=train.iloc[:,29]\n",
    "\n",
    "\n",
    "x_test=test.iloc[:,4:24]\n",
    "#x_test['TWTT']=test.iloc[:,28] I feel as though the TWTT has NO impact on the DOA so we should NOT include it in training\n",
    "x_test['Amplitude']=test.iloc[:,29]\n",
    "\n",
    "y_train=train.iloc[:,26]\n",
    "\n",
    "y_test=test.iloc[:,26]"
   ]
  },
  {
   "cell_type": "code",
   "execution_count": null,
   "metadata": {},
   "outputs": [],
   "source": [
    "y_test"
   ]
  },
  {
   "cell_type": "code",
   "execution_count": null,
   "metadata": {},
   "outputs": [],
   "source": [
    "x_train"
   ]
  },
  {
   "cell_type": "markdown",
   "metadata": {},
   "source": [
    "# Scale the Feaures from -1 to 1 so that Training is Easier for the Model #"
   ]
  },
  {
   "cell_type": "code",
   "execution_count": 5,
   "metadata": {},
   "outputs": [
    {
     "name": "stdout",
     "output_type": "stream",
     "text": [
      "5480118\n",
      "5480118\n"
     ]
    }
   ],
   "source": [
    "# Scale the Features and Labels from [-1,1]\n",
    "s1=MinMaxScaler(feature_range=(-1,1))\n",
    "x_train_scale=s1.fit_transform(x_train)\n",
    "\n",
    "s2=MinMaxScaler(feature_range=(-1,1))\n",
    "x_test_scale=s2.fit_transform(x_test)\n",
    "x_test_scale=x_test_scale\n",
    "\n",
    "# Scale DOA's from (0 to 1)\n",
    "s3=MinMaxScaler(feature_range=(0,1))\n",
    "#y_train_scale = s3.fit_transform(train[['DOA']])\n",
    "y_train_scale= y_train.to_numpy()\n",
    "\n",
    "s4=MinMaxScaler(feature_range=(0,1))\n",
    "#y_test_scale = s4.fit_transform(test[['DOA']])\n",
    "y_test_scale= y_test.to_numpy()\n",
    "\n",
    "print(len(x_train_scale))\n",
    "print(len(y_train_scale))"
   ]
  },
  {
   "cell_type": "code",
   "execution_count": null,
   "metadata": {},
   "outputs": [],
   "source": [
    "Test_DOA_df= pd.DataFrame(y_test_scale, columns=['TEST DOAs'])\n",
    "Test_DOA_df\n"
   ]
  },
  {
   "cell_type": "code",
   "execution_count": null,
   "metadata": {},
   "outputs": [],
   "source": [
    "Test_DOA_df.describe()"
   ]
  },
  {
   "cell_type": "code",
   "execution_count": null,
   "metadata": {},
   "outputs": [],
   "source": [
    "df= pd.DataFrame(x_train_scale, columns= ['I1', 'Q1', 'I2', 'Q2', 'I3', 'Q3', 'I4', 'Q4', 'I5', 'Q5', 'I6', 'Q6', 'I7', 'Q7', 'I8', 'Q8', 'I9', 'Q9', 'I10', 'Q10', 'Amplitude'])\n",
    "df\n"
   ]
  },
  {
   "cell_type": "code",
   "execution_count": null,
   "metadata": {},
   "outputs": [],
   "source": [
    "df.describe()"
   ]
  },
  {
   "cell_type": "markdown",
   "metadata": {},
   "source": [
    "# Shift the DOA's to the Left by one so that the Current I and Q data Align with the current DOA while using TimeSeriesGenerator to Window the Data #"
   ]
  },
  {
   "cell_type": "code",
   "execution_count": 6,
   "metadata": {},
   "outputs": [
    {
     "name": "stdout",
     "output_type": "stream",
     "text": [
      "5480118\n",
      "5480118\n",
      "[ 0.         59.66499867 54.53999878 ... 80.93999819 80.6249982\n",
      " 80.92499819]\n",
      "5480118\n",
      "[ 0.         55.83499875 55.83499875 ... 80.5849982  79.48499822\n",
      " 78.55499824]\n",
      "5480118\n"
     ]
    }
   ],
   "source": [
    "# Shift the DOA to the left by one to use the current DOA label with the current I and Q data.\n",
    "# Normally the TimeseriesGenerator function uses past values to predict the future but we would like current data to help predict the current samples' DOA\n",
    "print(len(x_train_scale))\n",
    "print(len(y_test_scale))\n",
    "y_train_scale=insert(y_train_scale, 0, 0)\n",
    "y_train_scale=np.delete(y_train_scale, -1)\n",
    "y_test_scale=insert(y_test_scale, 0,0)\n",
    "y_test_scale=np.delete(y_test_scale, -1)\n",
    "print(y_train_scale)\n",
    "print(len(y_train_scale))\n",
    "print(y_test_scale)\n",
    "print(len(y_test_scale))"
   ]
  },
  {
   "cell_type": "markdown",
   "metadata": {},
   "source": [
    "# Create the Windows Neccesary for the LSTM model using the TimeSeriesGenerator Function #"
   ]
  },
  {
   "cell_type": "code",
   "execution_count": 7,
   "metadata": {},
   "outputs": [
    {
     "name": "stdout",
     "output_type": "stream",
     "text": [
      "done\n"
     ]
    }
   ],
   "source": [
    "# Create the windows neccesary for the LSTM model within tensorflow keras\n",
    "# Below are the arguments of the timeseries_dataset_from_array function\n",
    "# The function takes a numpy array and makes a timeseries out of it\n",
    "NumSampsPerPing= 4278\n",
    "data=x_train_scale # the data to make the windows\n",
    "targets=y_train_scale # time steps in the data (don't need)\n",
    "sequence_length=10 # window length\n",
    "sequence_stride=1# period between successive output sequences\n",
    "sampling_rate=1 # period between successive individual timesteps     within sequences\n",
    "batch_size=NumSampsPerPing # number of time series samples in each batch\n",
    "shuffle=False #shuffle the data before making the windows\n",
    "seed=None # is related to shuffle\n",
    "start_index=None # is related to shuffle\n",
    "end_index=None # is related to shuffle\n",
    "n_features=21\n",
    "\n",
    "test_data=x_test_scale\n",
    "test_targets=y_test_scale\n",
    "\n",
    "inputs=TimeseriesGenerator(data=data, targets=targets,length=sequence_length, batch_size=batch_size)\n",
    "#test_inputs=TimeseriesGenerator(test_data[0:40000], -1*test_targets[0:40000],sequence_length, batch_size)\n",
    "test_inputs=TimeseriesGenerator(data=test_data, targets=test_targets,length=sequence_length, batch_size=batch_size)\n",
    "\n",
    "#inputs=tf.keras.preprocessing.timeseries_dataset_from_array(data, targets, sequence_length, sequence_stride, sampling_rate, batch_size, shuffle)\n",
    "#print(type(inputs))\n",
    "\n",
    "print('done')"
   ]
  },
  {
   "cell_type": "code",
   "execution_count": null,
   "metadata": {},
   "outputs": [],
   "source": [
    "# print the first couple of samples to see if everything everything is lining up\n",
    "for i in range(100):\n",
    "\tx, y = inputs[i]\n",
    "\tprint('%s => %s' % (x, y))"
   ]
  },
  {
   "cell_type": "code",
   "execution_count": null,
   "metadata": {},
   "outputs": [],
   "source": [
    "# print the first couple of samples to see if everything everything is lining up\n",
    "for i in range(100):\n",
    "\tx, y = test_inputs[i]\n",
    "\tprint('%s => %s' % (x, y))"
   ]
  },
  {
   "cell_type": "markdown",
   "metadata": {},
   "source": [
    "# Define the Model's Structure #"
   ]
  },
  {
   "cell_type": "code",
   "execution_count": 15,
   "metadata": {},
   "outputs": [],
   "source": [
    "# With all the preproccessing done, it is time to define the model\n",
    "# Define the LSTM Model\n",
    "# Make sure to ALWAYS use return_sequences=True when using series LSTM layers. MAKE SURE THAT THE LAST LSTM LAYER DOES NOT HAVE RETURN SEQUENCES=TRUE SINCE THE OUTPUT WILL BE 3D. return sequences makes the output shape of the layer\n",
    "# equal its input. so in this case 3d.\n",
    "model= Sequential()\n",
    "model.add(LSTM(units=64, activation='tanh', input_shape=(sequence_length,n_features), return_sequences=True, name='LSTM1'))\n",
    "model.add(Dense(units=100))\n",
    "model.add(Dropout(0.2))\n",
    "\n",
    "model.add(LSTM(units=416, activation='tanh', return_sequences=True,name='LSTM2'))\n",
    "model.add(Dense(units=100))\n",
    "model.add(Dropout(0.2))\n",
    "\n",
    "model.add(LSTM(units=512, activation='tanh', name='LSTM3', ))\n",
    "model.add(Dense(units=100))\n",
    "model.add(Dropout(0.2))\n",
    "\n",
    "#model.add(LSTM(units=320, activation='relu', return_sequences=True,name='LSTM4'))\n",
    "#model.add(Dense(units=100))\n",
    "#model.add(Dropout(0.2))\n",
    "\n",
    "#model.add(LSTM(units=480, activation='relu', return_sequences=True, name='LSTM5'))\n",
    "#model.add(Dense(units=100))\n",
    "#model.add(Dropout(0.2))\n",
    "\n",
    "\n",
    "model.add(Dense(units=1)) #one output (namely: DOA)\n"
   ]
  },
  {
   "cell_type": "code",
   "execution_count": null,
   "metadata": {},
   "outputs": [],
   "source": [
    "model.summary()"
   ]
  },
  {
   "cell_type": "code",
   "execution_count": 9,
   "metadata": {},
   "outputs": [],
   "source": [
    "def scheduler(epoch,lr):\n",
    "    if epoch>=1:\n",
    "        return lr\n",
    "    elif epoch>=2 | epoch<=4:\n",
    "        return lr/1.65\n",
    "    else:\n",
    "        return lr*tf.math.exp(-.5)"
   ]
  },
  {
   "cell_type": "markdown",
   "metadata": {},
   "source": [
    "# Train the Model using the Specified Hyperparmeters #"
   ]
  },
  {
   "cell_type": "code",
   "execution_count": 16,
   "metadata": {},
   "outputs": [
    {
     "name": "stdout",
     "output_type": "stream",
     "text": [
      "Epoch 1/10\n",
      "1281/1281 [==============================] - 258s 199ms/step - loss: 1123.1305\n",
      "Epoch 2/10\n",
      "1281/1281 [==============================] - 276s 216ms/step - loss: 297.9530\n",
      "Epoch 3/10\n",
      "1281/1281 [==============================] - 264s 206ms/step - loss: 287.1114\n",
      "Epoch 4/10\n",
      "1281/1281 [==============================] - 275s 215ms/step - loss: 234.4354\n",
      "Epoch 5/10\n",
      "1281/1281 [==============================] - 277s 216ms/step - loss: 220.9606\n",
      "Epoch 6/10\n",
      "1281/1281 [==============================] - 267s 208ms/step - loss: 217.8182\n",
      "Epoch 7/10\n",
      "1281/1281 [==============================] - 264s 206ms/step - loss: 215.4273\n",
      "Epoch 8/10\n",
      "1281/1281 [==============================] - 272s 212ms/step - loss: 212.7908\n",
      "Epoch 9/10\n",
      "1281/1281 [==============================] - 259s 202ms/step - loss: 209.2384\n",
      "Epoch 10/10\n",
      "1281/1281 [==============================] - 260s 203ms/step - loss: 203.1076\n",
      "The total run time to train was 2671.95 seconds\n"
     ]
    },
    {
     "data": {
      "text/plain": [
       "Text(0, 0.5, 'loss')"
      ]
     },
     "execution_count": 16,
     "metadata": {},
     "output_type": "execute_result"
    },
    {
     "data": {
      "image/png": "[encoded data removed]",
      "text/plain": [
       "<Figure size 432x288 with 1 Axes>"
      ]
     },
     "metadata": {
      "needs_background": "light"
     },
     "output_type": "display_data"
    }
   ],
   "source": [
    "#Now it is time to train the model\n",
    "opt=tf.keras.optimizers.Adam(learning_rate=0.00001)#,decay=1e-5)\n",
    "model.compile(loss='mse', optimizer=opt)\n",
    "\n",
    "# Allow for early stopping so that the model does not overfit the training dataset\n",
    "es= EarlyStopping(monitor='loss', mode='min',verbose=1,patience=10)\n",
    "\n",
    "#callback=tf.keras.callbacks.LearningRateScheduler(scheduler)\n",
    "\n",
    "t0=time.time()\n",
    "history= model.fit(inputs,epochs=10,batch_size=None,verbose=1, callbacks=[es])#, max_queue_size=200)\n",
    "#history= model.fit(inputs)\n",
    "t1=time.time()\n",
    "print(\"The total run time to train was %.2f seconds\"%(t1-t0))\n",
    "\n",
    "# plot the loss function\n",
    "plt.figure()\n",
    "plt.semilogy(history.history['loss'])\n",
    "plt.xlabel('epoch'); plt.ylabel('loss')\n"
   ]
  },
  {
   "cell_type": "markdown",
   "metadata": {},
   "source": [
    " Reshape the Testing DataSet so that it Matches with what our Model Expects. THIS IS JUNK. DON'T USE THIS!!!!!!!!!!!!!!!! "
   ]
  },
  {
   "cell_type": "code",
   "execution_count": null,
   "metadata": {},
   "outputs": [],
   "source": [
    "Validation_Data= x_test.to_numpy()\n",
    "Validation_Data=Validation_Data.reshape((len(x_test), 1, 21))\n",
    "\n",
    "Validation_Data.shape"
   ]
  },
  {
   "cell_type": "markdown",
   "metadata": {},
   "source": [
    "# Using the Model, Predict the DOA's on the Testing Dataset #"
   ]
  },
  {
   "cell_type": "code",
   "execution_count": 17,
   "metadata": {},
   "outputs": [
    {
     "name": "stdout",
     "output_type": "stream",
     "text": [
      "1281/1281 [==============================] - 93s 72ms/step\n"
     ]
    }
   ],
   "source": [
    "#use the model to predict on the testing dataset\n",
    "#for right now test_inputs has only the 40,001 samples\n",
    "predicted=model.predict(test_inputs, verbose=1)"
   ]
  },
  {
   "cell_type": "code",
   "execution_count": 18,
   "metadata": {},
   "outputs": [
    {
     "name": "stdout",
     "output_type": "stream",
     "text": [
      "[[70.57618  ]\n",
      " [69.087395 ]\n",
      " [56.978016 ]\n",
      " [73.87483  ]\n",
      " [78.35569  ]\n",
      " [79.2412   ]\n",
      " [79.57628  ]\n",
      " [79.14367  ]\n",
      " [75.96066  ]\n",
      " [71.632904 ]\n",
      " [67.14601  ]\n",
      " [69.10298  ]\n",
      " [71.914764 ]\n",
      " [71.015945 ]\n",
      " [71.55213  ]\n",
      " [73.03739  ]\n",
      " [71.68201  ]\n",
      " [70.900055 ]\n",
      " [71.16004  ]\n",
      " [70.81789  ]\n",
      " [-3.4058495]]\n"
     ]
    }
   ],
   "source": [
    "print(predicted[0:21])"
   ]
  },
  {
   "cell_type": "code",
   "execution_count": 13,
   "metadata": {},
   "outputs": [
    {
     "name": "stdout",
     "output_type": "stream",
     "text": [
      "10    75.344998\n",
      "11    49.974999\n",
      "12    50.274999\n",
      "13    62.839999\n",
      "14    61.619999\n",
      "15    75.429998\n",
      "16    76.294998\n",
      "17    62.244999\n",
      "18    57.394999\n",
      "19    59.214999\n",
      "20    61.579999\n",
      "Name: DOA, dtype: float64\n"
     ]
    }
   ],
   "source": [
    "print(y_test[10:21])"
   ]
  },
  {
   "cell_type": "code",
   "execution_count": 14,
   "metadata": {},
   "outputs": [
    {
     "data": {
      "text/plain": [
       "(5480108, 10, 1)"
      ]
     },
     "execution_count": 14,
     "metadata": {},
     "output_type": "execute_result"
    }
   ],
   "source": [
    "type(predicted)\n",
    "predicted.shape"
   ]
  },
  {
   "cell_type": "code",
   "execution_count": null,
   "metadata": {},
   "outputs": [],
   "source": [
    "predicted_reshape= predicted.reshape(len(predicted),1)"
   ]
  },
  {
   "cell_type": "code",
   "execution_count": null,
   "metadata": {},
   "outputs": [],
   "source": [
    "predicted_reshape.shape"
   ]
  },
  {
   "cell_type": "code",
   "execution_count": null,
   "metadata": {},
   "outputs": [],
   "source": [
    "## JUNK 1st 10 SAMPLES ARE JUNK ANYWAYS DON'T USE\n",
    "\n",
    "plt.figure(facecolor='white')\n",
    "plt.plot(-y_test[20:30], '.')\n",
    "plt.plot(predicted[20:30], '.')\n",
    "plt.title(\"Actual\")\n",
    "plt.legend(['Actual','Predicted'])\n",
    "plt.xlabel('Samples')\n",
    "plt.ylabel('DOA in degrees')\n",
    "plt.show()"
   ]
  },
  {
   "cell_type": "code",
   "execution_count": 19,
   "metadata": {},
   "outputs": [
    {
     "data": {
      "image/png": "[encoded data removed]",
      "text/plain": [
       "<Figure size 432x288 with 1 Axes>"
      ]
     },
     "metadata": {},
     "output_type": "display_data"
    }
   ],
   "source": [
    "plt.figure(facecolor='white')\n",
    "plt.plot(y_test[0:40000])\n",
    "plt.title(\"Actual\")\n",
    "plt.xlabel('Samples')\n",
    "plt.ylabel('DOA in degrees')\n",
    "plt.legend(['Actual'])\n",
    "plt.show()\n"
   ]
  },
  {
   "cell_type": "code",
   "execution_count": 20,
   "metadata": {},
   "outputs": [
    {
     "data": {
      "image/png": "[encoded data removed]",
      "text/plain": [
       "<Figure size 432x288 with 1 Axes>"
      ]
     },
     "metadata": {},
     "output_type": "display_data"
    }
   ],
   "source": [
    "plt.figure(facecolor='white')\n",
    "plt.plot(y_test[0:40000])\n",
    "plt.plot(predicted[0:40000])\n",
    "plt.title(\"Actual\")\n",
    "plt.xlabel('Samples')\n",
    "plt.ylabel('DOA in degrees')\n",
    "plt.legend(['Actual','Predicted'])\n",
    "plt.show()\n",
    "\n"
   ]
  },
  {
   "cell_type": "code",
   "execution_count": null,
   "metadata": {},
   "outputs": [],
   "source": [
    "plt.figure(facecolor='white')\n",
    "plt.plot(predicted_reshape[0:40000], 'orange')\n",
    "plt.title(\"Actual\")\n",
    "plt.xlabel('Samples')\n",
    "plt.ylabel('DOA in degrees')\n",
    "plt.legend(['Predicted'])\n",
    "plt.show()"
   ]
  },
  {
   "cell_type": "markdown",
   "metadata": {},
   "source": [
    "# Compare the Actual Testing DOA's to the Predicted DOA's #"
   ]
  },
  {
   "cell_type": "code",
   "execution_count": null,
   "metadata": {},
   "outputs": [],
   "source": [
    "plt.rcParams.update(plt.rcParamsDefault)\n",
    "\n",
    "\n",
    "plt.figure(facecolor='white')\n",
    "plt.plot(y_test[0:10], '.')\n",
    "plt.plot(predicted[0:10], '.')\n",
    "plt.title(\"Actual\")\n",
    "plt.legend(['Actual','Predicted'])\n",
    "plt.xlabel('Samples')\n",
    "plt.ylabel('DOA in degrees')\n",
    "plt.show()\n",
    "\n",
    "plt.figure(facecolor='white')\n",
    "plt.plot(y_test[0:40000])\n",
    "plt.plot(predicted_reshape[0:40000])\n",
    "plt.title(\"Actual\")\n",
    "plt.xlabel('Samples')\n",
    "plt.ylabel('DOA in degrees')\n",
    "plt.legend(['Actual','Predicted'])\n",
    "plt.show()\n",
    "\n",
    "\n",
    "plt.figure(facecolor='white')\n",
    "plt.plot(y_test[0:40000])\n",
    "plt.title(\"Actual\")\n",
    "plt.xlabel('Samples')\n",
    "plt.ylabel('DOA in degrees')\n",
    "plt.legend(['Actual'])\n",
    "plt.show()\n",
    "\n",
    "\n",
    "plt.figure(facecolor='white')\n",
    "plt.plot(predicted_reshape[0:40000], 'orange')\n",
    "plt.title(\"Actual\")\n",
    "plt.xlabel('Samples')\n",
    "plt.ylabel('DOA in degrees')\n",
    "plt.legend(['Predicted'])\n",
    "plt.show()\n"
   ]
  },
  {
   "cell_type": "code",
   "execution_count": null,
   "metadata": {},
   "outputs": [],
   "source": [
    "print(y_test[0:50000])\n"
   ]
  },
  {
   "cell_type": "code",
   "execution_count": null,
   "metadata": {},
   "outputs": [],
   "source": [
    "df2= pd.DataFrame(predicted, columns= ['DOA'])\n",
    "df2"
   ]
  },
  {
   "cell_type": "markdown",
   "metadata": {},
   "source": [
    "# EVERYTHING BELOW HERE IS MY KERAS TUNER STUFF. VIEWER REGRESSION IS ADVISED. #"
   ]
  },
  {
   "cell_type": "code",
   "execution_count": null,
   "metadata": {},
   "outputs": [],
   "source": [
    "LOG_DIR = f\"{int(time.time())}\""
   ]
  },
  {
   "cell_type": "code",
   "execution_count": null,
   "metadata": {},
   "outputs": [],
   "source": [
    "def model_builder(hp):\n",
    "    model= Sequential()\n",
    "\n",
    "    #try\n",
    "    hp_units_1 = hp.Int('units1', min_value=32, max_value=512, step=32)\n",
    "    model.add(LSTM(units=hp_units_1, activation='tanh', input_shape=(sequence_length,n_features), return_sequences=True))\n",
    "    model.add(Dropout(0.2))\n",
    "\n",
    "    for i in range(hp.Int(\"n_layers\",1,2)):\n",
    "        model.add(LSTM(units=hp.Int(f\"LSTM_{i}_units\", min_value=32, max_value=512, step=32), activation='tanh', input_shape=(sequence_length,n_features), return_sequences=True))\n",
    "        model.add(Dropout(0.2))\n",
    "\n",
    "    #hp_units_2 = hp.Int('units2', min_value=32, max_value=512, step=32)\n",
    "    #model.add(LSTM(units=hp_units_2, activation='relu',  return_sequences=True))\n",
    "    #model.add(Dropout(0.2))\n",
    "\n",
    "    #hp_units_3 = hp.Int('units3', min_value=32, max_value=512, step=32)\n",
    "    #model.add(LSTM(units=hp_units_3, activation='relu', return_sequences=True))\n",
    "    #model.add(Dropout(0.2))\n",
    "\n",
    "    #hp_units_4 = hp.Int('units4', min_value=32, max_value=512, step=32)\n",
    "    #model.add(LSTM(units=hp_units_4, activation='relu',  return_sequences=True))\n",
    "    #model.add(Dropout(0.2))\n",
    "\n",
    "    model.add(Dense(units=1)) #one output (namely: DOA)\n",
    "\n",
    "    hp_learning_rate = hp.Choice('learning_rate', values=[1e-2, 1e-3, 1e-4])\n",
    "\n",
    "    opt=tf.keras.optimizers.Adam(learning_rate=hp_learning_rate,decay=1e-5)\n",
    "    model.compile(loss='mse', optimizer=opt)\n",
    "\n",
    "    return model"
   ]
  },
  {
   "cell_type": "code",
   "execution_count": null,
   "metadata": {},
   "outputs": [],
   "source": [
    "es= EarlyStopping(monitor='loss', mode='min',verbose=1,patience=10)\n",
    "\n",
    "tuner = kt.RandomSearch(model_builder, objective='loss', max_trials=1000, directory=os.path.normpath('C:/'))\n",
    "tuner.search(inputs,steps_per_epoch=2000,epochs=20,verbose=1, callbacks=[es])\n",
    "\n",
    "best_hps=tuner.get_best_hyperparameters(num_trials=1)[0]\n",
    "\n",
    "\n",
    "print(f\"\"\"\n",
    "The hyperparameter search is complete. The optimal number of units in the first densely-connected\n",
    "layer is {best_hps.get('units1')} and the optimal learning rate for the optimizer\n",
    "is {best_hps.get('learning_rate')}. \n",
    "\"\"\")"
   ]
  },
  {
   "cell_type": "code",
   "execution_count": null,
   "metadata": {},
   "outputs": [],
   "source": [
    "print(f\"\"\"\n",
    "Unit1: {best_hps.get('units1')} learning rate {best_hps.get('learning_rate')} LSTM0 units: {best_hps.get('LSTM_0_units')} LSTM1 units: {best_hps.get('LSTM_1_units')} \n",
    "\"\"\")"
   ]
  },
  {
   "cell_type": "markdown",
   "metadata": {},
   "source": [
    "Put the predicted DOA's back into a csv file format"
   ]
  },
  {
   "cell_type": "code",
   "execution_count": 21,
   "metadata": {},
   "outputs": [],
   "source": [
    "#Ping |  Num Samp Num | PORT or STBD (0 or 1) |  TWTT |  Predicted DOA   <=======Output columns.\n",
    "OutputCSVdf=test.iloc[:,[0,1,2,3]]\n",
    "#OutputCSVdf= pd.DataFrame(test.iloc[:,[0,1,2,3]], columns=['PingNumber','SampNumber','PortStbd', 'SampleTime'])\n",
    "zerosArray= np.arange(sequence_length)*0\n",
    "predictedShifted=np.append(zerosArray, predicted)\n",
    "Predicteddf= pd.DataFrame(predictedShifted,columns=['PredictedDOA'])\n",
    "OutputCSVdf=OutputCSVdf.join(Predicteddf)"
   ]
  },
  {
   "cell_type": "code",
   "execution_count": 22,
   "metadata": {},
   "outputs": [
    {
     "data": {
      "text/html": [
       "<div>\n",
       "<style scoped>\n",
       "    .dataframe tbody tr th:only-of-type {\n",
       "        vertical-align: middle;\n",
       "    }\n",
       "\n",
       "    .dataframe tbody tr th {\n",
       "        vertical-align: top;\n",
       "    }\n",
       "\n",
       "    .dataframe thead th {\n",
       "        text-align: right;\n",
       "    }\n",
       "</style>\n",
       "<table border=\"1\" class=\"dataframe\">\n",
       "  <thead>\n",
       "    <tr style=\"text-align: right;\">\n",
       "      <th></th>\n",
       "      <th>PingNum</th>\n",
       "      <th>SampleNum</th>\n",
       "      <th>PortStbd</th>\n",
       "      <th>SampleTimeDelay</th>\n",
       "    </tr>\n",
       "  </thead>\n",
       "  <tbody>\n",
       "    <tr>\n",
       "      <th>0</th>\n",
       "      <td>87443</td>\n",
       "      <td>24</td>\n",
       "      <td>1</td>\n",
       "      <td>0.000353</td>\n",
       "    </tr>\n",
       "    <tr>\n",
       "      <th>1</th>\n",
       "      <td>87443</td>\n",
       "      <td>25</td>\n",
       "      <td>1</td>\n",
       "      <td>0.000369</td>\n",
       "    </tr>\n",
       "    <tr>\n",
       "      <th>2</th>\n",
       "      <td>87443</td>\n",
       "      <td>26</td>\n",
       "      <td>1</td>\n",
       "      <td>0.000384</td>\n",
       "    </tr>\n",
       "    <tr>\n",
       "      <th>3</th>\n",
       "      <td>87443</td>\n",
       "      <td>27</td>\n",
       "      <td>1</td>\n",
       "      <td>0.000399</td>\n",
       "    </tr>\n",
       "    <tr>\n",
       "      <th>4</th>\n",
       "      <td>87443</td>\n",
       "      <td>28</td>\n",
       "      <td>1</td>\n",
       "      <td>0.000415</td>\n",
       "    </tr>\n",
       "    <tr>\n",
       "      <th>...</th>\n",
       "      <td>...</td>\n",
       "      <td>...</td>\n",
       "      <td>...</td>\n",
       "      <td>...</td>\n",
       "    </tr>\n",
       "    <tr>\n",
       "      <th>5480113</th>\n",
       "      <td>88723</td>\n",
       "      <td>4297</td>\n",
       "      <td>1</td>\n",
       "      <td>0.065982</td>\n",
       "    </tr>\n",
       "    <tr>\n",
       "      <th>5480114</th>\n",
       "      <td>88723</td>\n",
       "      <td>4298</td>\n",
       "      <td>1</td>\n",
       "      <td>0.065998</td>\n",
       "    </tr>\n",
       "    <tr>\n",
       "      <th>5480115</th>\n",
       "      <td>88723</td>\n",
       "      <td>4299</td>\n",
       "      <td>1</td>\n",
       "      <td>0.066013</td>\n",
       "    </tr>\n",
       "    <tr>\n",
       "      <th>5480116</th>\n",
       "      <td>88723</td>\n",
       "      <td>4300</td>\n",
       "      <td>1</td>\n",
       "      <td>0.066028</td>\n",
       "    </tr>\n",
       "    <tr>\n",
       "      <th>5480117</th>\n",
       "      <td>88723</td>\n",
       "      <td>4301</td>\n",
       "      <td>1</td>\n",
       "      <td>0.066044</td>\n",
       "    </tr>\n",
       "  </tbody>\n",
       "</table>\n",
       "<p>5480118 rows × 4 columns</p>\n",
       "</div>"
      ],
      "text/plain": [
       "         PingNum  SampleNum  PortStbd  SampleTimeDelay\n",
       "0          87443         24         1         0.000353\n",
       "1          87443         25         1         0.000369\n",
       "2          87443         26         1         0.000384\n",
       "3          87443         27         1         0.000399\n",
       "4          87443         28         1         0.000415\n",
       "...          ...        ...       ...              ...\n",
       "5480113    88723       4297         1         0.065982\n",
       "5480114    88723       4298         1         0.065998\n",
       "5480115    88723       4299         1         0.066013\n",
       "5480116    88723       4300         1         0.066028\n",
       "5480117    88723       4301         1         0.066044\n",
       "\n",
       "[5480118 rows x 4 columns]"
      ]
     },
     "execution_count": 22,
     "metadata": {},
     "output_type": "execute_result"
    }
   ],
   "source": [
    "test.iloc[:,[0,1,2,3]]"
   ]
  },
  {
   "cell_type": "code",
   "execution_count": 23,
   "metadata": {},
   "outputs": [
    {
     "data": {
      "text/plain": [
       "array([0, 0, 0, 0, 0, 0, 0, 0, 0, 0])"
      ]
     },
     "execution_count": 23,
     "metadata": {},
     "output_type": "execute_result"
    }
   ],
   "source": [
    "zerosArray= np.arange(sequence_length)*0\n",
    "zerosArray"
   ]
  },
  {
   "cell_type": "code",
   "execution_count": 24,
   "metadata": {},
   "outputs": [
    {
     "data": {
      "text/plain": [
       "array([ 0.        ,  0.        ,  0.        , ..., 77.63855743,\n",
       "       76.6000824 , 75.88340759])"
      ]
     },
     "execution_count": 24,
     "metadata": {},
     "output_type": "execute_result"
    }
   ],
   "source": [
    "predictedShifted=np.append(zerosArray, predicted)\n",
    "predictedShifted"
   ]
  },
  {
   "cell_type": "code",
   "execution_count": 25,
   "metadata": {},
   "outputs": [
    {
     "data": {
      "text/html": [
       "<div>\n",
       "<style scoped>\n",
       "    .dataframe tbody tr th:only-of-type {\n",
       "        vertical-align: middle;\n",
       "    }\n",
       "\n",
       "    .dataframe tbody tr th {\n",
       "        vertical-align: top;\n",
       "    }\n",
       "\n",
       "    .dataframe thead th {\n",
       "        text-align: right;\n",
       "    }\n",
       "</style>\n",
       "<table border=\"1\" class=\"dataframe\">\n",
       "  <thead>\n",
       "    <tr style=\"text-align: right;\">\n",
       "      <th></th>\n",
       "      <th>PingNum</th>\n",
       "      <th>SampleNum</th>\n",
       "      <th>PortStbd</th>\n",
       "      <th>SampleTimeDelay</th>\n",
       "      <th>PredictedDOA</th>\n",
       "    </tr>\n",
       "  </thead>\n",
       "  <tbody>\n",
       "    <tr>\n",
       "      <th>0</th>\n",
       "      <td>87443</td>\n",
       "      <td>24</td>\n",
       "      <td>1</td>\n",
       "      <td>0.000353</td>\n",
       "      <td>0.000000</td>\n",
       "    </tr>\n",
       "    <tr>\n",
       "      <th>1</th>\n",
       "      <td>87443</td>\n",
       "      <td>25</td>\n",
       "      <td>1</td>\n",
       "      <td>0.000369</td>\n",
       "      <td>0.000000</td>\n",
       "    </tr>\n",
       "    <tr>\n",
       "      <th>2</th>\n",
       "      <td>87443</td>\n",
       "      <td>26</td>\n",
       "      <td>1</td>\n",
       "      <td>0.000384</td>\n",
       "      <td>0.000000</td>\n",
       "    </tr>\n",
       "    <tr>\n",
       "      <th>3</th>\n",
       "      <td>87443</td>\n",
       "      <td>27</td>\n",
       "      <td>1</td>\n",
       "      <td>0.000399</td>\n",
       "      <td>0.000000</td>\n",
       "    </tr>\n",
       "    <tr>\n",
       "      <th>4</th>\n",
       "      <td>87443</td>\n",
       "      <td>28</td>\n",
       "      <td>1</td>\n",
       "      <td>0.000415</td>\n",
       "      <td>0.000000</td>\n",
       "    </tr>\n",
       "    <tr>\n",
       "      <th>...</th>\n",
       "      <td>...</td>\n",
       "      <td>...</td>\n",
       "      <td>...</td>\n",
       "      <td>...</td>\n",
       "      <td>...</td>\n",
       "    </tr>\n",
       "    <tr>\n",
       "      <th>5480113</th>\n",
       "      <td>88723</td>\n",
       "      <td>4297</td>\n",
       "      <td>1</td>\n",
       "      <td>0.065982</td>\n",
       "      <td>68.372025</td>\n",
       "    </tr>\n",
       "    <tr>\n",
       "      <th>5480114</th>\n",
       "      <td>88723</td>\n",
       "      <td>4298</td>\n",
       "      <td>1</td>\n",
       "      <td>0.065998</td>\n",
       "      <td>77.339058</td>\n",
       "    </tr>\n",
       "    <tr>\n",
       "      <th>5480115</th>\n",
       "      <td>88723</td>\n",
       "      <td>4299</td>\n",
       "      <td>1</td>\n",
       "      <td>0.066013</td>\n",
       "      <td>77.638557</td>\n",
       "    </tr>\n",
       "    <tr>\n",
       "      <th>5480116</th>\n",
       "      <td>88723</td>\n",
       "      <td>4300</td>\n",
       "      <td>1</td>\n",
       "      <td>0.066028</td>\n",
       "      <td>76.600082</td>\n",
       "    </tr>\n",
       "    <tr>\n",
       "      <th>5480117</th>\n",
       "      <td>88723</td>\n",
       "      <td>4301</td>\n",
       "      <td>1</td>\n",
       "      <td>0.066044</td>\n",
       "      <td>75.883408</td>\n",
       "    </tr>\n",
       "  </tbody>\n",
       "</table>\n",
       "<p>5480118 rows × 5 columns</p>\n",
       "</div>"
      ],
      "text/plain": [
       "         PingNum  SampleNum  PortStbd  SampleTimeDelay  PredictedDOA\n",
       "0          87443         24         1         0.000353      0.000000\n",
       "1          87443         25         1         0.000369      0.000000\n",
       "2          87443         26         1         0.000384      0.000000\n",
       "3          87443         27         1         0.000399      0.000000\n",
       "4          87443         28         1         0.000415      0.000000\n",
       "...          ...        ...       ...              ...           ...\n",
       "5480113    88723       4297         1         0.065982     68.372025\n",
       "5480114    88723       4298         1         0.065998     77.339058\n",
       "5480115    88723       4299         1         0.066013     77.638557\n",
       "5480116    88723       4300         1         0.066028     76.600082\n",
       "5480117    88723       4301         1         0.066044     75.883408\n",
       "\n",
       "[5480118 rows x 5 columns]"
      ]
     },
     "execution_count": 25,
     "metadata": {},
     "output_type": "execute_result"
    }
   ],
   "source": [
    "OutputCSVdf"
   ]
  },
  {
   "cell_type": "code",
   "execution_count": 26,
   "metadata": {},
   "outputs": [],
   "source": [
    "OutputCSVdf.to_csv(path_or_buf=\"C:\\\\Users\\\\Daniel\\\\OneDrive - University of Massachusetts Dartmouth\\\\ECE457_Senior_Design_ECE5\\\\AIOutput_CSV_Files\\\\DL_PredictedOutputTestGoodQ.csv\")"
   ]
  },
  {
   "cell_type": "code",
   "execution_count": 28,
   "metadata": {},
   "outputs": [],
   "source": [
    "tf.keras.models.save_model(model,filepath=\"C:\\\\Users\\\\Daniel\\\\Desktop\\\\Models\\\\model_10.83Percent.h5\")"
   ]
  },
  {
   "cell_type": "code",
   "execution_count": 31,
   "metadata": {},
   "outputs": [],
   "source": [
    "saved_model=tf.keras.models.load_model(filepath=\"C:\\\\Users\\\\Daniel\\\\Desktop\\\\Models\\\\model_10.83Percent.h5\")"
   ]
  },
  {
   "cell_type": "code",
   "execution_count": 32,
   "metadata": {},
   "outputs": [],
   "source": [
    "predicted_saved=saved_model.predict(test_inputs)"
   ]
  },
  {
   "cell_type": "code",
   "execution_count": 33,
   "metadata": {},
   "outputs": [
    {
     "data": {
      "image/png": "[encoded data removed]",
      "text/plain": [
       "<Figure size 432x288 with 1 Axes>"
      ]
     },
     "metadata": {},
     "output_type": "display_data"
    }
   ],
   "source": [
    "plt.figure(facecolor='white')\n",
    "plt.plot(y_test[0:40000])\n",
    "plt.plot(predicted_saved[0:40000])\n",
    "plt.title(\"Actual\")\n",
    "plt.xlabel('Samples')\n",
    "plt.ylabel('DOA in degrees')\n",
    "plt.legend(['Actual','Predicted'])\n",
    "plt.show()"
   ]
  },
  {
   "cell_type": "markdown",
   "metadata": {},
   "source": [
    "# EVERYTHING PAST THIS POINT WILL BE ME TRYING USING A REGULAR RNN WITHOUT THE TIME SERIES GENERATOR #"
   ]
  },
  {
   "cell_type": "code",
   "execution_count": null,
   "metadata": {},
   "outputs": [],
   "source": [
    "feature_columns=[]\n",
    "\n",
    "I1=tf.feature_column.numeric_column(\"I1\")\n",
    "feature_columns.append(I1)\n",
    "I2=tf.feature_column.numeric_column(\"I2\")\n",
    "feature_columns.append(I2)\n",
    "I3=tf.feature_column.numeric_column(\"I3\")\n",
    "feature_columns.append(I3)\n",
    "I4=tf.feature_column.numeric_column(\"I4\")\n",
    "feature_columns.append(I4)\n",
    "I5=tf.feature_column.numeric_column(\"I5\")\n",
    "feature_columns.append(I5)\n",
    "I6=tf.feature_column.numeric_column(\"I6\")\n",
    "feature_columns.append(I6)\n",
    "I7=tf.feature_column.numeric_column(\"I7\")\n",
    "feature_columns.append(I7)\n",
    "I8=tf.feature_column.numeric_column(\"I8\")\n",
    "feature_columns.append(I8)\n",
    "I9=tf.feature_column.numeric_column(\"I9\")\n",
    "feature_columns.append(I9)\n",
    "I10=tf.feature_column.numeric_column(\"I10\")\n",
    "feature_columns.append(I10)\n",
    "\n",
    "Q1=tf.feature_column.numeric_column(\"Q1\")\n",
    "feature_columns.append(Q1)\n",
    "Q2=tf.feature_column.numeric_column(\"Q2\")\n",
    "feature_columns.append(Q2)\n",
    "Q3=tf.feature_column.numeric_column(\"Q3\")\n",
    "feature_columns.append(Q3)\n",
    "Q4=tf.feature_column.numeric_column(\"Q4\")\n",
    "feature_columns.append(Q4)\n",
    "Q5=tf.feature_column.numeric_column(\"Q5\")\n",
    "feature_columns.append(Q5)\n",
    "Q6=tf.feature_column.numeric_column(\"Q6\")\n",
    "feature_columns.append(Q6)\n",
    "Q7=tf.feature_column.numeric_column(\"Q7\")\n",
    "feature_columns.append(Q7)\n",
    "Q8=tf.feature_column.numeric_column(\"Q8\")\n",
    "feature_columns.append(Q8)\n",
    "Q9=tf.feature_column.numeric_column(\"Q9\")\n",
    "feature_columns.append(Q9)\n",
    "Q10=tf.feature_column.numeric_column(\"Q10\")\n",
    "feature_columns.append(Q10)\n",
    "\n",
    "Amp=tf.feature_column.numeric_column(\"Amplitude\")\n",
    "feature_columns.append(Amp)\n",
    "\n",
    "\n",
    "fp_feature_layer = layers.DenseFeatures(feature_columns)"
   ]
  },
  {
   "cell_type": "code",
   "execution_count": null,
   "metadata": {},
   "outputs": [],
   "source": [
    "models= tf.keras.models.Sequential()\n",
    "models.add(fp_feature_layer)\n",
    "models.add(Dense(units=1,input_shape=(1,)))\n"
   ]
  },
  {
   "cell_type": "code",
   "execution_count": null,
   "metadata": {},
   "outputs": [],
   "source": [
    "my_learning_rate=0.01"
   ]
  },
  {
   "cell_type": "code",
   "execution_count": null,
   "metadata": {},
   "outputs": [],
   "source": [
    " # Most simple tf.keras models are sequential.\n",
    "models = tf.keras.models.Sequential()\n",
    "\n",
    "  # Add the layer containing the feature columns to the model.\n",
    "models.add(fp_feature_layer)\n",
    "\n",
    "  # Describe the topography of the model by calling the tf.keras.layers.Dense\n",
    "  # method once for each layer. We've specified the following arguments:\n",
    "  #   * units specifies the number of nodes in this layer.\n",
    "  #   * activation specifies the activation function (Rectified Linear Unit).\n",
    "  #   * name is just a string that can be useful when debugging.\n",
    "\n",
    "  # Define the first hidden layer with 20 nodes.   \n",
    "models.add(Dense(units=20, \n",
    "                                  activation='relu', \n",
    "                                  name='Hidden1'))\n",
    "  \n",
    "  # Define the second hidden layer with 12 nodes. \n",
    "models.add(Dense(units=12, \n",
    "                                  activation='relu', \n",
    "                                  name='Hidden2'))\n",
    "  \n",
    "  # Define the output layer.\n",
    "models.add(Dense(units=1,  \n",
    "                                  name='Output'))                              \n",
    "  \n",
    "models.compile(optimizer=tf.keras.optimizers.Adam(lr=my_learning_rate),\n",
    "                loss=\"mean_squared_error\",\n",
    "                metrics=[tf.keras.metrics.MeanSquaredError()])"
   ]
  },
  {
   "cell_type": "code",
   "execution_count": null,
   "metadata": {},
   "outputs": [],
   "source": [
    "model.summary()"
   ]
  },
  {
   "cell_type": "code",
   "execution_count": null,
   "metadata": {},
   "outputs": [],
   "source": [
    "history = models.fit(x_train)"
   ]
  },
  {
   "cell_type": "code",
   "execution_count": null,
   "metadata": {},
   "outputs": [],
   "source": []
  }
 ],
 "metadata": {
  "interpreter": {
   "hash": "e6fad8134df9e5d8b8d6d65c861d5f535ad48201ee3e73e4438a263582efefbc"
  },
  "kernelspec": {
   "display_name": "Python 3.10.1 64-bit",
   "language": "python",
   "name": "python3"
  },
  "language_info": {
   "codemirror_mode": {
    "name": "ipython",
    "version": 3
   },
   "file_extension": ".py",
   "mimetype": "text/x-python",
   "name": "python",
   "nbconvert_exporter": "python",
   "pygments_lexer": "ipython3",
   "version": "3.9.0"
  },
  "orig_nbformat": 4
 },
 "nbformat": 4,
 "nbformat_minor": 2
}
