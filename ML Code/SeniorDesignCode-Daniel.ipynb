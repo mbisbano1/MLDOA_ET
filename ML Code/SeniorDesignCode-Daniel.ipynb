{
 "cells": [
  {
   "cell_type": "markdown",
   "metadata": {},
   "source": [
    "# Import the Neccesary Libraries #"
   ]
  },
  {
   "cell_type": "code",
   "execution_count": 1,
   "metadata": {},
   "outputs": [],
   "source": [
    "# Import the neccesary libraries needed\n",
    "import pandas as pd\n",
    "from matplotlib import pyplot as plt\n",
    "from sklearn.preprocessing import MinMaxScaler \n",
    "import numpy as np\n",
    "from numpy import insert\n",
    "import os\n",
    "import time\n",
    "\n",
    "# keras tuner for hyperparameter tuning\n",
    "import keras_tuner as kt\n",
    "\n",
    "# tensorflow Libraries\n",
    "import tensorflow as tf\n",
    "from keras.preprocessing.sequence import TimeseriesGenerator\n",
    "from tensorflow import keras\n",
    "from tensorflow.keras.models import Sequential, load_model\n",
    "from tensorflow.keras.layers import Activation, Dense, Dropout, LSTM\n",
    "from tensorflow.keras.optimizers import Adam\n",
    "from tensorflow.keras.metrics import sparse_categorical_crossentropy\n",
    "from keras.callbacks import EarlyStopping\n",
    "from keras.models import load_model\n",
    "from tensorflow import feature_column\n",
    "from tensorflow.keras import layers\n",
    "from keras.models import load_model\n",
    "from keras.callbacks import ModelCheckpoint"
   ]
  },
  {
   "cell_type": "markdown",
   "metadata": {},
   "source": [
    "# Import the CSV Training and Testing Data Sets #"
   ]
  },
  {
   "cell_type": "code",
   "execution_count": 2,
   "metadata": {},
   "outputs": [],
   "source": [
    "# Import the csv's (IMPORTANT: You need at least 16 Gb of RAM to proceed)\n",
    "train=pd.read_csv(r'C:\\Users\\Daniel\\OneDrive - University of Massachusetts Dartmouth\\ECE457_Senior_Design_ECE5\\CSV_Files\\PortTraining_1404_002_FINAL_startingAt24.csv')\n",
    "test=pd.read_csv(r'C:\\Users\\Daniel\\OneDrive - University of Massachusetts Dartmouth\\ECE457_Senior_Design_ECE5\\CSV_Files\\StbdTesting_1404_002_FINAL.csv')"
   ]
  },
  {
   "cell_type": "code",
   "execution_count": null,
   "metadata": {},
   "outputs": [],
   "source": [
    "train"
   ]
  },
  {
   "cell_type": "code",
   "execution_count": null,
   "metadata": {},
   "outputs": [],
   "source": [
    "test"
   ]
  },
  {
   "cell_type": "markdown",
   "metadata": {},
   "source": [
    "# Split up the Features and Labels from both the Training and Testing Datasets #"
   ]
  },
  {
   "cell_type": "code",
   "execution_count": 3,
   "metadata": {},
   "outputs": [],
   "source": [
    "# Split up the features and labels from both the training and testing datasets\n",
    "x_train=train.iloc[:,3:24]\n",
    "#x_train['TWTT']=train.iloc[:,28]  I feel as though the TWTT has NO impact on the DOA so we should NOT include it in training\n",
    "x_train['Amplitude']=train.iloc[:,29]\n",
    "\n",
    "\n",
    "x_test=test.iloc[:,3:24]\n",
    "#x_test['TWTT']=test.iloc[:,28] I feel as though the TWTT has NO impact on the DOA so we should NOT include it in training\n",
    "x_test['Amplitude']=test.iloc[:,29]\n",
    "\n",
    "y_train=train.iloc[:,26]\n",
    "\n",
    "y_test=test.iloc[:,26]"
   ]
  },
  {
   "cell_type": "code",
   "execution_count": null,
   "metadata": {},
   "outputs": [],
   "source": [
    "y_test"
   ]
  },
  {
   "cell_type": "code",
   "execution_count": null,
   "metadata": {},
   "outputs": [],
   "source": [
    "x_train"
   ]
  },
  {
   "cell_type": "markdown",
   "metadata": {},
   "source": [
    "# Scale the Feaures from -1 to 1 so that Training is Easier for the Model #"
   ]
  },
  {
   "cell_type": "code",
   "execution_count": 4,
   "metadata": {},
   "outputs": [
    {
     "name": "stdout",
     "output_type": "stream",
     "text": [
      "5480118\n",
      "5480118\n"
     ]
    }
   ],
   "source": [
    "# Scale the Features and Labels from [-1,1]\n",
    "s1=MinMaxScaler(feature_range=(0,1)) #try (-1,1)\n",
    "x_train_scale=s1.fit_transform(x_train)\n",
    "\n",
    "s2=MinMaxScaler(feature_range=(0,1)) #try (-1,1)\n",
    "x_test_scale=s2.fit_transform(x_test)\n",
    "x_test_scale=x_test_scale\n",
    "\n",
    "# Scale DOA's from (0 to 1)\n",
    "s3=MinMaxScaler(feature_range=(0,1))\n",
    "#y_train_scale = s3.fit_transform(train[['DOA']])\n",
    "y_train_scale= y_train.to_numpy()\n",
    "\n",
    "s4=MinMaxScaler(feature_range=(0,1))\n",
    "#y_test_scale = s4.fit_transform(test[['DOA']])\n",
    "y_test_scale= y_test.to_numpy()\n",
    "\n",
    "print(len(x_train_scale))\n",
    "print(len(y_train_scale))"
   ]
  },
  {
   "cell_type": "markdown",
   "metadata": {},
   "source": [
    "# Shift the DOA's to the Left by one so that the Current I and Q data Align with the current DOA while using TimeSeriesGenerator to Window the Data #"
   ]
  },
  {
   "cell_type": "code",
   "execution_count": 5,
   "metadata": {},
   "outputs": [
    {
     "name": "stdout",
     "output_type": "stream",
     "text": [
      "5480118\n",
      "5480118\n",
      "[ 0.         59.66499867 54.53999878 ... 80.93999819 80.6249982\n",
      " 80.92499819]\n",
      "5480118\n",
      "[ 0.         55.83499875 55.83499875 ... 80.5849982  79.48499822\n",
      " 78.55499824]\n",
      "5480118\n"
     ]
    }
   ],
   "source": [
    "# Shift the DOA to the left by one to use the current DOA label with the current I and Q data.\n",
    "# Normally the TimeseriesGenerator function uses past values to predict the future but we would like current data to help predict the current samples' DOA\n",
    "print(len(x_train_scale))\n",
    "print(len(y_test_scale))\n",
    "y_train_scale=insert(y_train_scale, 0, 0)\n",
    "y_train_scale=np.delete(y_train_scale, -1)\n",
    "y_test_scale=insert(y_test_scale, 0,0)\n",
    "y_test_scale=np.delete(y_test_scale, -1)\n",
    "print(y_train_scale)\n",
    "print(len(y_train_scale))\n",
    "print(y_test_scale)\n",
    "print(len(y_test_scale))"
   ]
  },
  {
   "cell_type": "markdown",
   "metadata": {},
   "source": [
    "# Create the Windows Neccesary for the LSTM model using the TimeSeriesGenerator Function #"
   ]
  },
  {
   "cell_type": "code",
   "execution_count": 42,
   "metadata": {},
   "outputs": [
    {
     "name": "stdout",
     "output_type": "stream",
     "text": [
      "done\n"
     ]
    }
   ],
   "source": [
    "# Create the windows neccesary for the LSTM model within tensorflow keras\n",
    "# Below are the arguments of the timeseries_dataset_from_array function\n",
    "# The function takes a numpy array and makes a timeseries out of it\n",
    "NumSampsPerPing= 4278\n",
    "data=x_train_scale # the data to make the windows\n",
    "targets=y_train_scale # time steps in the data (don't need)\n",
    "sequence_length=10 # window length\n",
    "sequence_stride=1# period between successive output sequences\n",
    "sampling_rate=1 # period between successive individual timesteps     within sequences\n",
    "batch_size=16 # number of time series samples in each batch\n",
    "shuffle=False #shuffle the data before making the windows\n",
    "seed=None # is related to shuffle\n",
    "start_index=None # is related to shuffle\n",
    "end_index=None # is related to shuffle\n",
    "n_features=22\n",
    "\n",
    "test_data=x_test_scale\n",
    "test_targets=y_test_scale\n",
    "\n",
    "dataRows= data.shape[0]\n",
    "validationStartRow= dataRows-NumSampsPerPing*281\n",
    "#print(validationStartRow, ',', dataRows)\n",
    "\n",
    "#split up the training data into a validation set and training set\n",
    "train_data=data[:validationStartRow-1]\n",
    "train_targets=targets[:validationStartRow-1]\n",
    "val_data=data[validationStartRow:]\n",
    "val_targets=targets[validationStartRow:]\n",
    "\n",
    "inputs=TimeseriesGenerator(data=train_data, targets=train_targets,length=sequence_length, batch_size=batch_size, shuffle=True)\n",
    "val_inputs=TimeseriesGenerator(data=val_data, targets=val_targets,length=sequence_length, batch_size=batch_size, shuffle=True)\n",
    "\n",
    "\n",
    "#test_inputs=TimeseriesGenerator(test_data[0:40000], -1*test_targets[0:40000],sequence_length, batch_size)\n",
    "test_inputs=TimeseriesGenerator(data=test_data, targets=test_targets,length=sequence_length, batch_size=batch_size)\n",
    "\n",
    "#inputs=tf.keras.preprocessing.timeseries_dataset_from_array(data, targets, sequence_length, sequence_stride, sampling_rate, batch_size, shuffle)\n",
    "#print(type(inputs))\n",
    "\n",
    "print('done')"
   ]
  },
  {
   "cell_type": "code",
   "execution_count": null,
   "metadata": {},
   "outputs": [],
   "source": [
    "# print the first couple of samples to see if everything everything is lining up\n",
    "for i in range(100):\n",
    "\tx, y = inputs[i]\n",
    "\tprint('%s => %s' % (x, y))"
   ]
  },
  {
   "cell_type": "code",
   "execution_count": null,
   "metadata": {},
   "outputs": [],
   "source": [
    "# print the first couple of samples to see if everything everything is lining up\n",
    "for i in range(100):\n",
    "\tx, y = test_inputs[i]\n",
    "\tprint('%s => %s' % (x, y))"
   ]
  },
  {
   "cell_type": "markdown",
   "metadata": {},
   "source": [
    "# Define the Model's Structure #"
   ]
  },
  {
   "cell_type": "code",
   "execution_count": 43,
   "metadata": {},
   "outputs": [],
   "source": [
    "# With all the preproccessing done, it is time to define the model\n",
    "# Define the LSTM Model\n",
    "# Make sure to ALWAYS use return_sequences=True when using series LSTM layers. MAKE SURE THAT THE LAST LSTM LAYER DOES NOT HAVE RETURN SEQUENCES=TRUE SINCE THE OUTPUT WILL BE 3D. return sequences makes the output shape of the layer\n",
    "# equal its input. so in this case 3d.\n",
    "model= Sequential()\n",
    "model.add(LSTM(units=44, activation='tanh', input_shape=(sequence_length,n_features), return_sequences=False, name='LSTM1'))\n",
    "#model.add(Dense(units=100, activation='relu'))\n",
    "#model.add(Dropout(0.2))\n",
    "\n",
    "#model.add(LSTM(units=416, activation='relu', return_sequences=True,name='LSTM2'))\n",
    "model.add(Dense(units=30, activation='relu'))\n",
    "model.add(Dense(units=30, activation='relu'))\n",
    "model.add(Dense(units=60, activation='relu'))\n",
    "model.add(Dense(units=60, activation='relu'))\n",
    "model.add(Dense(units=60, activation='relu'))\n",
    "\n",
    "#model.add(Dropout(0.2))\n",
    "\n",
    "#model.add(LSTM(units=512, activation='relu', name='LSTM3', ))\n",
    "#model.add(Dense(units=100))\n",
    "#model.add(Dropout(0.2))\n",
    "\n",
    "#model.add(LSTM(units=320, activation='relu', return_sequences=True,name='LSTM4'))\n",
    "#model.add(Dense(units=100))\n",
    "#model.add(Dropout(0.2))\n",
    "\n",
    "#model.add(LSTM(units=480, activation='relu', return_sequences=True, name='LSTM5'))\n",
    "#model.add(Dense(units=100))\n",
    "#model.add(Dropout(0.2))\n",
    "\n",
    "\n",
    "model.add(Dense(units=1)) #one output (namely: DOA)\n"
   ]
  },
  {
   "cell_type": "code",
   "execution_count": null,
   "metadata": {},
   "outputs": [],
   "source": [
    "model.summary()"
   ]
  },
  {
   "cell_type": "code",
   "execution_count": null,
   "metadata": {},
   "outputs": [],
   "source": [
    "def scheduler(epoch,lr):\n",
    "    if epoch>=1:\n",
    "        return lr\n",
    "    elif epoch>=2 | epoch<=4:\n",
    "        return lr/1.65\n",
    "    else:\n",
    "        return lr*tf.math.exp(-.5)"
   ]
  },
  {
   "cell_type": "markdown",
   "metadata": {},
   "source": [
    "# Train the Model using the Specified Hyperparmeters #"
   ]
  },
  {
   "cell_type": "code",
   "execution_count": 45,
   "metadata": {},
   "outputs": [
    {
     "name": "stdout",
     "output_type": "stream",
     "text": [
      "Epoch 1/125\n",
      "2139/2139 [==============================] - ETA: 0s - loss: 55.8283 - mean_squared_error: 239.3883 - root_mean_squared_error: 15.4722"
     ]
    },
    {
     "name": "stderr",
     "output_type": "stream",
     "text": [
      "WARNING:absl:Function `_wrapped_model` contains input name(s) LSTM1_input with unsupported characters which will be renamed to lstm1_input in the SavedModel.\n",
      "WARNING:absl:Found untraced functions such as lstm_cell_3_layer_call_fn, lstm_cell_3_layer_call_and_return_conditional_losses, lstm_cell_3_layer_call_fn, lstm_cell_3_layer_call_and_return_conditional_losses, lstm_cell_3_layer_call_and_return_conditional_losses while saving (showing 5 of 5). These functions will not be directly callable after loading.\n"
     ]
    },
    {
     "name": "stdout",
     "output_type": "stream",
     "text": [
      "INFO:tensorflow:Assets written to: model\\assets\n"
     ]
    },
    {
     "name": "stderr",
     "output_type": "stream",
     "text": [
      "INFO:tensorflow:Assets written to: model\\assets\n",
      "WARNING:absl:<keras.layers.recurrent.LSTMCell object at 0x000001C923F25970> has the same name 'LSTMCell' as a built-in Keras object. Consider renaming <class 'keras.layers.recurrent.LSTMCell'> to avoid naming conflicts when loading with `tf.keras.models.load_model`. If renaming is not possible, pass the object in the `custom_objects` parameter of the load function.\n"
     ]
    },
    {
     "name": "stdout",
     "output_type": "stream",
     "text": [
      "2139/2139 [==============================] - 32s 14ms/step - loss: 55.8283 - mean_squared_error: 239.3883 - root_mean_squared_error: 15.4722 - val_loss: 25.3690 - val_mean_squared_error: 95.2119 - val_root_mean_squared_error: 9.7577\n",
      "Epoch 2/125\n",
      "2134/2139 [============================>.] - ETA: 0s - loss: 22.8838 - mean_squared_error: 85.1224 - root_mean_squared_error: 9.2262"
     ]
    },
    {
     "name": "stderr",
     "output_type": "stream",
     "text": [
      "WARNING:absl:Function `_wrapped_model` contains input name(s) LSTM1_input with unsupported characters which will be renamed to lstm1_input in the SavedModel.\n",
      "WARNING:absl:Found untraced functions such as lstm_cell_3_layer_call_fn, lstm_cell_3_layer_call_and_return_conditional_losses, lstm_cell_3_layer_call_fn, lstm_cell_3_layer_call_and_return_conditional_losses, lstm_cell_3_layer_call_and_return_conditional_losses while saving (showing 5 of 5). These functions will not be directly callable after loading.\n"
     ]
    },
    {
     "name": "stdout",
     "output_type": "stream",
     "text": [
      "INFO:tensorflow:Assets written to: model\\assets\n"
     ]
    },
    {
     "name": "stderr",
     "output_type": "stream",
     "text": [
      "INFO:tensorflow:Assets written to: model\\assets\n",
      "WARNING:absl:<keras.layers.recurrent.LSTMCell object at 0x000001C923F25970> has the same name 'LSTMCell' as a built-in Keras object. Consider renaming <class 'keras.layers.recurrent.LSTMCell'> to avoid naming conflicts when loading with `tf.keras.models.load_model`. If renaming is not possible, pass the object in the `custom_objects` parameter of the load function.\n"
     ]
    },
    {
     "name": "stdout",
     "output_type": "stream",
     "text": [
      "2139/2139 [==============================] - 29s 14ms/step - loss: 22.8824 - mean_squared_error: 85.1248 - root_mean_squared_error: 9.2263 - val_loss: 28.8980 - val_mean_squared_error: 103.8959 - val_root_mean_squared_error: 10.1929\n",
      "Epoch 3/125\n",
      "2139/2139 [==============================] - ETA: 0s - loss: 20.3900 - mean_squared_error: 70.5357 - root_mean_squared_error: 8.3986"
     ]
    },
    {
     "name": "stderr",
     "output_type": "stream",
     "text": [
      "WARNING:absl:Function `_wrapped_model` contains input name(s) LSTM1_input with unsupported characters which will be renamed to lstm1_input in the SavedModel.\n",
      "WARNING:absl:Found untraced functions such as lstm_cell_3_layer_call_fn, lstm_cell_3_layer_call_and_return_conditional_losses, lstm_cell_3_layer_call_fn, lstm_cell_3_layer_call_and_return_conditional_losses, lstm_cell_3_layer_call_and_return_conditional_losses while saving (showing 5 of 5). These functions will not be directly callable after loading.\n"
     ]
    },
    {
     "name": "stdout",
     "output_type": "stream",
     "text": [
      "INFO:tensorflow:Assets written to: model\\assets\n"
     ]
    },
    {
     "name": "stderr",
     "output_type": "stream",
     "text": [
      "INFO:tensorflow:Assets written to: model\\assets\n",
      "WARNING:absl:<keras.layers.recurrent.LSTMCell object at 0x000001C923F25970> has the same name 'LSTMCell' as a built-in Keras object. Consider renaming <class 'keras.layers.recurrent.LSTMCell'> to avoid naming conflicts when loading with `tf.keras.models.load_model`. If renaming is not possible, pass the object in the `custom_objects` parameter of the load function.\n"
     ]
    },
    {
     "name": "stdout",
     "output_type": "stream",
     "text": [
      "2139/2139 [==============================] - 28s 13ms/step - loss: 20.3900 - mean_squared_error: 70.5357 - root_mean_squared_error: 8.3986 - val_loss: 15.6064 - val_mean_squared_error: 46.5623 - val_root_mean_squared_error: 6.8237\n",
      "Epoch 4/125\n",
      "2132/2139 [============================>.] - ETA: 0s - loss: 18.7885 - mean_squared_error: 63.5219 - root_mean_squared_error: 7.9701"
     ]
    },
    {
     "name": "stderr",
     "output_type": "stream",
     "text": [
      "WARNING:absl:Function `_wrapped_model` contains input name(s) LSTM1_input with unsupported characters which will be renamed to lstm1_input in the SavedModel.\n",
      "WARNING:absl:Found untraced functions such as lstm_cell_3_layer_call_fn, lstm_cell_3_layer_call_and_return_conditional_losses, lstm_cell_3_layer_call_fn, lstm_cell_3_layer_call_and_return_conditional_losses, lstm_cell_3_layer_call_and_return_conditional_losses while saving (showing 5 of 5). These functions will not be directly callable after loading.\n"
     ]
    },
    {
     "name": "stdout",
     "output_type": "stream",
     "text": [
      "INFO:tensorflow:Assets written to: model\\assets\n"
     ]
    },
    {
     "name": "stderr",
     "output_type": "stream",
     "text": [
      "INFO:tensorflow:Assets written to: model\\assets\n",
      "WARNING:absl:<keras.layers.recurrent.LSTMCell object at 0x000001C923F25970> has the same name 'LSTMCell' as a built-in Keras object. Consider renaming <class 'keras.layers.recurrent.LSTMCell'> to avoid naming conflicts when loading with `tf.keras.models.load_model`. If renaming is not possible, pass the object in the `custom_objects` parameter of the load function.\n"
     ]
    },
    {
     "name": "stdout",
     "output_type": "stream",
     "text": [
      "2139/2139 [==============================] - 29s 14ms/step - loss: 18.7831 - mean_squared_error: 63.4703 - root_mean_squared_error: 7.9668 - val_loss: 17.9953 - val_mean_squared_error: 61.8905 - val_root_mean_squared_error: 7.8670\n",
      "Epoch 5/125\n",
      "2135/2139 [============================>.] - ETA: 0s - loss: 18.3553 - mean_squared_error: 62.5774 - root_mean_squared_error: 7.9106"
     ]
    },
    {
     "name": "stderr",
     "output_type": "stream",
     "text": [
      "WARNING:absl:Function `_wrapped_model` contains input name(s) LSTM1_input with unsupported characters which will be renamed to lstm1_input in the SavedModel.\n",
      "WARNING:absl:Found untraced functions such as lstm_cell_3_layer_call_fn, lstm_cell_3_layer_call_and_return_conditional_losses, lstm_cell_3_layer_call_fn, lstm_cell_3_layer_call_and_return_conditional_losses, lstm_cell_3_layer_call_and_return_conditional_losses while saving (showing 5 of 5). These functions will not be directly callable after loading.\n"
     ]
    },
    {
     "name": "stdout",
     "output_type": "stream",
     "text": [
      "INFO:tensorflow:Assets written to: model\\assets\n"
     ]
    },
    {
     "name": "stderr",
     "output_type": "stream",
     "text": [
      "INFO:tensorflow:Assets written to: model\\assets\n",
      "WARNING:absl:<keras.layers.recurrent.LSTMCell object at 0x000001C923F25970> has the same name 'LSTMCell' as a built-in Keras object. Consider renaming <class 'keras.layers.recurrent.LSTMCell'> to avoid naming conflicts when loading with `tf.keras.models.load_model`. If renaming is not possible, pass the object in the `custom_objects` parameter of the load function.\n"
     ]
    },
    {
     "name": "stdout",
     "output_type": "stream",
     "text": [
      "2139/2139 [==============================] - 27s 12ms/step - loss: 18.3597 - mean_squared_error: 62.5606 - root_mean_squared_error: 7.9095 - val_loss: 17.5068 - val_mean_squared_error: 65.6814 - val_root_mean_squared_error: 8.1044\n",
      "Epoch 6/125\n",
      "2134/2139 [============================>.] - ETA: 0s - loss: 16.6850 - mean_squared_error: 54.7699 - root_mean_squared_error: 7.4007"
     ]
    },
    {
     "name": "stderr",
     "output_type": "stream",
     "text": [
      "WARNING:absl:Function `_wrapped_model` contains input name(s) LSTM1_input with unsupported characters which will be renamed to lstm1_input in the SavedModel.\n",
      "WARNING:absl:Found untraced functions such as lstm_cell_3_layer_call_fn, lstm_cell_3_layer_call_and_return_conditional_losses, lstm_cell_3_layer_call_fn, lstm_cell_3_layer_call_and_return_conditional_losses, lstm_cell_3_layer_call_and_return_conditional_losses while saving (showing 5 of 5). These functions will not be directly callable after loading.\n"
     ]
    },
    {
     "name": "stdout",
     "output_type": "stream",
     "text": [
      "INFO:tensorflow:Assets written to: model\\assets\n"
     ]
    },
    {
     "name": "stderr",
     "output_type": "stream",
     "text": [
      "INFO:tensorflow:Assets written to: model\\assets\n",
      "WARNING:absl:<keras.layers.recurrent.LSTMCell object at 0x000001C923F25970> has the same name 'LSTMCell' as a built-in Keras object. Consider renaming <class 'keras.layers.recurrent.LSTMCell'> to avoid naming conflicts when loading with `tf.keras.models.load_model`. If renaming is not possible, pass the object in the `custom_objects` parameter of the load function.\n"
     ]
    },
    {
     "name": "stdout",
     "output_type": "stream",
     "text": [
      "2139/2139 [==============================] - 28s 13ms/step - loss: 16.7649 - mean_squared_error: 55.3488 - root_mean_squared_error: 7.4397 - val_loss: 21.9980 - val_mean_squared_error: 85.2970 - val_root_mean_squared_error: 9.2356\n",
      "Epoch 7/125\n",
      "2134/2139 [============================>.] - ETA: 0s - loss: 16.3650 - mean_squared_error: 55.4026 - root_mean_squared_error: 7.4433"
     ]
    },
    {
     "name": "stderr",
     "output_type": "stream",
     "text": [
      "WARNING:absl:Function `_wrapped_model` contains input name(s) LSTM1_input with unsupported characters which will be renamed to lstm1_input in the SavedModel.\n",
      "WARNING:absl:Found untraced functions such as lstm_cell_3_layer_call_fn, lstm_cell_3_layer_call_and_return_conditional_losses, lstm_cell_3_layer_call_fn, lstm_cell_3_layer_call_and_return_conditional_losses, lstm_cell_3_layer_call_and_return_conditional_losses while saving (showing 5 of 5). These functions will not be directly callable after loading.\n"
     ]
    },
    {
     "name": "stdout",
     "output_type": "stream",
     "text": [
      "INFO:tensorflow:Assets written to: model\\assets\n"
     ]
    },
    {
     "name": "stderr",
     "output_type": "stream",
     "text": [
      "INFO:tensorflow:Assets written to: model\\assets\n",
      "WARNING:absl:<keras.layers.recurrent.LSTMCell object at 0x000001C923F25970> has the same name 'LSTMCell' as a built-in Keras object. Consider renaming <class 'keras.layers.recurrent.LSTMCell'> to avoid naming conflicts when loading with `tf.keras.models.load_model`. If renaming is not possible, pass the object in the `custom_objects` parameter of the load function.\n"
     ]
    },
    {
     "name": "stdout",
     "output_type": "stream",
     "text": [
      "2139/2139 [==============================] - 28s 13ms/step - loss: 16.3612 - mean_squared_error: 55.3448 - root_mean_squared_error: 7.4394 - val_loss: 15.7791 - val_mean_squared_error: 56.7558 - val_root_mean_squared_error: 7.5336\n",
      "Epoch 8/125\n",
      "2139/2139 [==============================] - 27s 13ms/step - loss: 16.6029 - mean_squared_error: 55.1398 - root_mean_squared_error: 7.4256 - val_loss: 37.1068 - val_mean_squared_error: 165.3427 - val_root_mean_squared_error: 12.8586\n",
      "Epoch 9/125\n",
      "2136/2139 [============================>.] - ETA: 0s - loss: 15.3254 - mean_squared_error: 49.6234 - root_mean_squared_error: 7.0444"
     ]
    },
    {
     "name": "stderr",
     "output_type": "stream",
     "text": [
      "WARNING:absl:Function `_wrapped_model` contains input name(s) LSTM1_input with unsupported characters which will be renamed to lstm1_input in the SavedModel.\n",
      "WARNING:absl:Found untraced functions such as lstm_cell_3_layer_call_fn, lstm_cell_3_layer_call_and_return_conditional_losses, lstm_cell_3_layer_call_fn, lstm_cell_3_layer_call_and_return_conditional_losses, lstm_cell_3_layer_call_and_return_conditional_losses while saving (showing 5 of 5). These functions will not be directly callable after loading.\n"
     ]
    },
    {
     "name": "stdout",
     "output_type": "stream",
     "text": [
      "INFO:tensorflow:Assets written to: model\\assets\n"
     ]
    },
    {
     "name": "stderr",
     "output_type": "stream",
     "text": [
      "INFO:tensorflow:Assets written to: model\\assets\n",
      "WARNING:absl:<keras.layers.recurrent.LSTMCell object at 0x000001C923F25970> has the same name 'LSTMCell' as a built-in Keras object. Consider renaming <class 'keras.layers.recurrent.LSTMCell'> to avoid naming conflicts when loading with `tf.keras.models.load_model`. If renaming is not possible, pass the object in the `custom_objects` parameter of the load function.\n"
     ]
    },
    {
     "name": "stdout",
     "output_type": "stream",
     "text": [
      "2139/2139 [==============================] - 27s 13ms/step - loss: 15.3149 - mean_squared_error: 49.5775 - root_mean_squared_error: 7.0411 - val_loss: 11.3842 - val_mean_squared_error: 36.4818 - val_root_mean_squared_error: 6.0400\n",
      "Epoch 10/125\n",
      "2139/2139 [==============================] - 28s 13ms/step - loss: 15.7991 - mean_squared_error: 51.7257 - root_mean_squared_error: 7.1921 - val_loss: 12.4903 - val_mean_squared_error: 42.0767 - val_root_mean_squared_error: 6.4867\n",
      "Epoch 11/125\n",
      "2138/2139 [============================>.] - ETA: 0s - loss: 14.6637 - mean_squared_error: 46.0210 - root_mean_squared_error: 6.7839"
     ]
    },
    {
     "name": "stderr",
     "output_type": "stream",
     "text": [
      "WARNING:absl:Function `_wrapped_model` contains input name(s) LSTM1_input with unsupported characters which will be renamed to lstm1_input in the SavedModel.\n",
      "WARNING:absl:Found untraced functions such as lstm_cell_3_layer_call_fn, lstm_cell_3_layer_call_and_return_conditional_losses, lstm_cell_3_layer_call_fn, lstm_cell_3_layer_call_and_return_conditional_losses, lstm_cell_3_layer_call_and_return_conditional_losses while saving (showing 5 of 5). These functions will not be directly callable after loading.\n"
     ]
    },
    {
     "name": "stdout",
     "output_type": "stream",
     "text": [
      "INFO:tensorflow:Assets written to: model\\assets\n"
     ]
    },
    {
     "name": "stderr",
     "output_type": "stream",
     "text": [
      "INFO:tensorflow:Assets written to: model\\assets\n",
      "WARNING:absl:<keras.layers.recurrent.LSTMCell object at 0x000001C923F25970> has the same name 'LSTMCell' as a built-in Keras object. Consider renaming <class 'keras.layers.recurrent.LSTMCell'> to avoid naming conflicts when loading with `tf.keras.models.load_model`. If renaming is not possible, pass the object in the `custom_objects` parameter of the load function.\n"
     ]
    },
    {
     "name": "stdout",
     "output_type": "stream",
     "text": [
      "2139/2139 [==============================] - 31s 15ms/step - loss: 14.6618 - mean_squared_error: 46.0122 - root_mean_squared_error: 6.7832 - val_loss: 16.3607 - val_mean_squared_error: 61.8163 - val_root_mean_squared_error: 7.8623\n",
      "Epoch 12/125\n",
      "2139/2139 [==============================] - 29s 13ms/step - loss: 15.0884 - mean_squared_error: 47.8163 - root_mean_squared_error: 6.9149 - val_loss: 10.6986 - val_mean_squared_error: 28.6455 - val_root_mean_squared_error: 5.3521\n",
      "Epoch 13/125\n",
      "2136/2139 [============================>.] - ETA: 0s - loss: 14.6265 - mean_squared_error: 46.5827 - root_mean_squared_error: 6.8252"
     ]
    },
    {
     "name": "stderr",
     "output_type": "stream",
     "text": [
      "WARNING:absl:Function `_wrapped_model` contains input name(s) LSTM1_input with unsupported characters which will be renamed to lstm1_input in the SavedModel.\n",
      "WARNING:absl:Found untraced functions such as lstm_cell_3_layer_call_fn, lstm_cell_3_layer_call_and_return_conditional_losses, lstm_cell_3_layer_call_fn, lstm_cell_3_layer_call_and_return_conditional_losses, lstm_cell_3_layer_call_and_return_conditional_losses while saving (showing 5 of 5). These functions will not be directly callable after loading.\n"
     ]
    },
    {
     "name": "stdout",
     "output_type": "stream",
     "text": [
      "INFO:tensorflow:Assets written to: model\\assets\n"
     ]
    },
    {
     "name": "stderr",
     "output_type": "stream",
     "text": [
      "INFO:tensorflow:Assets written to: model\\assets\n",
      "WARNING:absl:<keras.layers.recurrent.LSTMCell object at 0x000001C923F25970> has the same name 'LSTMCell' as a built-in Keras object. Consider renaming <class 'keras.layers.recurrent.LSTMCell'> to avoid naming conflicts when loading with `tf.keras.models.load_model`. If renaming is not possible, pass the object in the `custom_objects` parameter of the load function.\n"
     ]
    },
    {
     "name": "stdout",
     "output_type": "stream",
     "text": [
      "2139/2139 [==============================] - 31s 14ms/step - loss: 14.6259 - mean_squared_error: 46.5656 - root_mean_squared_error: 6.8239 - val_loss: 10.7199 - val_mean_squared_error: 27.9006 - val_root_mean_squared_error: 5.2821\n",
      "Epoch 14/125\n",
      "2139/2139 [==============================] - 29s 13ms/step - loss: 15.4598 - mean_squared_error: 51.8683 - root_mean_squared_error: 7.2020 - val_loss: 21.9929 - val_mean_squared_error: 95.4919 - val_root_mean_squared_error: 9.7720\n",
      "Epoch 15/125\n",
      "2135/2139 [============================>.] - ETA: 0s - loss: 14.2855 - mean_squared_error: 44.3760 - root_mean_squared_error: 6.6615"
     ]
    },
    {
     "name": "stderr",
     "output_type": "stream",
     "text": [
      "WARNING:absl:Function `_wrapped_model` contains input name(s) LSTM1_input with unsupported characters which will be renamed to lstm1_input in the SavedModel.\n",
      "WARNING:absl:Found untraced functions such as lstm_cell_3_layer_call_fn, lstm_cell_3_layer_call_and_return_conditional_losses, lstm_cell_3_layer_call_fn, lstm_cell_3_layer_call_and_return_conditional_losses, lstm_cell_3_layer_call_and_return_conditional_losses while saving (showing 5 of 5). These functions will not be directly callable after loading.\n"
     ]
    },
    {
     "name": "stdout",
     "output_type": "stream",
     "text": [
      "INFO:tensorflow:Assets written to: model\\assets\n"
     ]
    },
    {
     "name": "stderr",
     "output_type": "stream",
     "text": [
      "INFO:tensorflow:Assets written to: model\\assets\n",
      "WARNING:absl:<keras.layers.recurrent.LSTMCell object at 0x000001C923F25970> has the same name 'LSTMCell' as a built-in Keras object. Consider renaming <class 'keras.layers.recurrent.LSTMCell'> to avoid naming conflicts when loading with `tf.keras.models.load_model`. If renaming is not possible, pass the object in the `custom_objects` parameter of the load function.\n"
     ]
    },
    {
     "name": "stdout",
     "output_type": "stream",
     "text": [
      "2139/2139 [==============================] - 31s 14ms/step - loss: 14.2886 - mean_squared_error: 44.3952 - root_mean_squared_error: 6.6630 - val_loss: 13.1411 - val_mean_squared_error: 46.5030 - val_root_mean_squared_error: 6.8193\n",
      "Epoch 16/125\n",
      "2139/2139 [==============================] - ETA: 0s - loss: 14.2097 - mean_squared_error: 46.3978 - root_mean_squared_error: 6.8116"
     ]
    },
    {
     "name": "stderr",
     "output_type": "stream",
     "text": [
      "WARNING:absl:Function `_wrapped_model` contains input name(s) LSTM1_input with unsupported characters which will be renamed to lstm1_input in the SavedModel.\n",
      "WARNING:absl:Found untraced functions such as lstm_cell_3_layer_call_fn, lstm_cell_3_layer_call_and_return_conditional_losses, lstm_cell_3_layer_call_fn, lstm_cell_3_layer_call_and_return_conditional_losses, lstm_cell_3_layer_call_and_return_conditional_losses while saving (showing 5 of 5). These functions will not be directly callable after loading.\n"
     ]
    },
    {
     "name": "stdout",
     "output_type": "stream",
     "text": [
      "INFO:tensorflow:Assets written to: model\\assets\n"
     ]
    },
    {
     "name": "stderr",
     "output_type": "stream",
     "text": [
      "INFO:tensorflow:Assets written to: model\\assets\n",
      "WARNING:absl:<keras.layers.recurrent.LSTMCell object at 0x000001C923F25970> has the same name 'LSTMCell' as a built-in Keras object. Consider renaming <class 'keras.layers.recurrent.LSTMCell'> to avoid naming conflicts when loading with `tf.keras.models.load_model`. If renaming is not possible, pass the object in the `custom_objects` parameter of the load function.\n"
     ]
    },
    {
     "name": "stdout",
     "output_type": "stream",
     "text": [
      "2139/2139 [==============================] - 32s 15ms/step - loss: 14.2097 - mean_squared_error: 46.3978 - root_mean_squared_error: 6.8116 - val_loss: 11.6256 - val_mean_squared_error: 33.9242 - val_root_mean_squared_error: 5.8244\n",
      "Epoch 17/125\n",
      "2132/2139 [============================>.] - ETA: 0s - loss: 14.1144 - mean_squared_error: 45.4462 - root_mean_squared_error: 6.7414"
     ]
    },
    {
     "name": "stderr",
     "output_type": "stream",
     "text": [
      "WARNING:absl:Function `_wrapped_model` contains input name(s) LSTM1_input with unsupported characters which will be renamed to lstm1_input in the SavedModel.\n",
      "WARNING:absl:Found untraced functions such as lstm_cell_3_layer_call_fn, lstm_cell_3_layer_call_and_return_conditional_losses, lstm_cell_3_layer_call_fn, lstm_cell_3_layer_call_and_return_conditional_losses, lstm_cell_3_layer_call_and_return_conditional_losses while saving (showing 5 of 5). These functions will not be directly callable after loading.\n"
     ]
    },
    {
     "name": "stdout",
     "output_type": "stream",
     "text": [
      "INFO:tensorflow:Assets written to: model\\assets\n"
     ]
    },
    {
     "name": "stderr",
     "output_type": "stream",
     "text": [
      "INFO:tensorflow:Assets written to: model\\assets\n",
      "WARNING:absl:<keras.layers.recurrent.LSTMCell object at 0x000001C923F25970> has the same name 'LSTMCell' as a built-in Keras object. Consider renaming <class 'keras.layers.recurrent.LSTMCell'> to avoid naming conflicts when loading with `tf.keras.models.load_model`. If renaming is not possible, pass the object in the `custom_objects` parameter of the load function.\n"
     ]
    },
    {
     "name": "stdout",
     "output_type": "stream",
     "text": [
      "2139/2139 [==============================] - 31s 14ms/step - loss: 14.1175 - mean_squared_error: 45.4548 - root_mean_squared_error: 6.7420 - val_loss: 12.0670 - val_mean_squared_error: 33.8322 - val_root_mean_squared_error: 5.8165\n",
      "Epoch 18/125\n",
      "2134/2139 [============================>.] - ETA: 0s - loss: 13.9730 - mean_squared_error: 44.2576 - root_mean_squared_error: 6.6526"
     ]
    },
    {
     "name": "stderr",
     "output_type": "stream",
     "text": [
      "WARNING:absl:Function `_wrapped_model` contains input name(s) LSTM1_input with unsupported characters which will be renamed to lstm1_input in the SavedModel.\n",
      "WARNING:absl:Found untraced functions such as lstm_cell_3_layer_call_fn, lstm_cell_3_layer_call_and_return_conditional_losses, lstm_cell_3_layer_call_fn, lstm_cell_3_layer_call_and_return_conditional_losses, lstm_cell_3_layer_call_and_return_conditional_losses while saving (showing 5 of 5). These functions will not be directly callable after loading.\n"
     ]
    },
    {
     "name": "stdout",
     "output_type": "stream",
     "text": [
      "INFO:tensorflow:Assets written to: model\\assets\n"
     ]
    },
    {
     "name": "stderr",
     "output_type": "stream",
     "text": [
      "INFO:tensorflow:Assets written to: model\\assets\n",
      "WARNING:absl:<keras.layers.recurrent.LSTMCell object at 0x000001C923F25970> has the same name 'LSTMCell' as a built-in Keras object. Consider renaming <class 'keras.layers.recurrent.LSTMCell'> to avoid naming conflicts when loading with `tf.keras.models.load_model`. If renaming is not possible, pass the object in the `custom_objects` parameter of the load function.\n"
     ]
    },
    {
     "name": "stdout",
     "output_type": "stream",
     "text": [
      "2139/2139 [==============================] - 31s 15ms/step - loss: 13.9741 - mean_squared_error: 44.2740 - root_mean_squared_error: 6.6539 - val_loss: 10.3288 - val_mean_squared_error: 28.4340 - val_root_mean_squared_error: 5.3324\n",
      "Epoch 19/125\n",
      "2132/2139 [============================>.] - ETA: 0s - loss: 13.3589 - mean_squared_error: 39.8765 - root_mean_squared_error: 6.3148"
     ]
    },
    {
     "name": "stderr",
     "output_type": "stream",
     "text": [
      "WARNING:absl:Function `_wrapped_model` contains input name(s) LSTM1_input with unsupported characters which will be renamed to lstm1_input in the SavedModel.\n",
      "WARNING:absl:Found untraced functions such as lstm_cell_3_layer_call_fn, lstm_cell_3_layer_call_and_return_conditional_losses, lstm_cell_3_layer_call_fn, lstm_cell_3_layer_call_and_return_conditional_losses, lstm_cell_3_layer_call_and_return_conditional_losses while saving (showing 5 of 5). These functions will not be directly callable after loading.\n"
     ]
    },
    {
     "name": "stdout",
     "output_type": "stream",
     "text": [
      "INFO:tensorflow:Assets written to: model\\assets\n"
     ]
    },
    {
     "name": "stderr",
     "output_type": "stream",
     "text": [
      "INFO:tensorflow:Assets written to: model\\assets\n",
      "WARNING:absl:<keras.layers.recurrent.LSTMCell object at 0x000001C923F25970> has the same name 'LSTMCell' as a built-in Keras object. Consider renaming <class 'keras.layers.recurrent.LSTMCell'> to avoid naming conflicts when loading with `tf.keras.models.load_model`. If renaming is not possible, pass the object in the `custom_objects` parameter of the load function.\n"
     ]
    },
    {
     "name": "stdout",
     "output_type": "stream",
     "text": [
      "2139/2139 [==============================] - 31s 14ms/step - loss: 13.3387 - mean_squared_error: 39.7970 - root_mean_squared_error: 6.3085 - val_loss: 10.7937 - val_mean_squared_error: 29.4511 - val_root_mean_squared_error: 5.4269\n",
      "Epoch 20/125\n",
      "2139/2139 [==============================] - 29s 14ms/step - loss: 13.7811 - mean_squared_error: 43.8638 - root_mean_squared_error: 6.6230 - val_loss: 10.7369 - val_mean_squared_error: 29.7122 - val_root_mean_squared_error: 5.4509\n",
      "Epoch 21/125\n",
      "2139/2139 [==============================] - 29s 13ms/step - loss: 14.0535 - mean_squared_error: 46.0583 - root_mean_squared_error: 6.7866 - val_loss: 10.4838 - val_mean_squared_error: 28.8627 - val_root_mean_squared_error: 5.3724\n",
      "Epoch 22/125\n",
      "2139/2139 [==============================] - 29s 13ms/step - loss: 13.5335 - mean_squared_error: 41.2702 - root_mean_squared_error: 6.4242 - val_loss: 14.5005 - val_mean_squared_error: 37.2605 - val_root_mean_squared_error: 6.1041\n",
      "Epoch 23/125\n",
      "2139/2139 [==============================] - 29s 13ms/step - loss: 14.4848 - mean_squared_error: 46.4860 - root_mean_squared_error: 6.8181 - val_loss: 10.1524 - val_mean_squared_error: 27.7927 - val_root_mean_squared_error: 5.2719\n",
      "Epoch 24/125\n",
      "2139/2139 [==============================] - 29s 13ms/step - loss: 13.3944 - mean_squared_error: 41.3291 - root_mean_squared_error: 6.4288 - val_loss: 22.1225 - val_mean_squared_error: 92.4479 - val_root_mean_squared_error: 9.6150\n",
      "Epoch 25/125\n",
      "2139/2139 [==============================] - 29s 13ms/step - loss: 13.5774 - mean_squared_error: 44.4936 - root_mean_squared_error: 6.6704 - val_loss: 14.6387 - val_mean_squared_error: 46.9870 - val_root_mean_squared_error: 6.8547\n",
      "Epoch 26/125\n",
      "2139/2139 [==============================] - 26s 12ms/step - loss: 13.4962 - mean_squared_error: 43.3620 - root_mean_squared_error: 6.5850 - val_loss: 11.1989 - val_mean_squared_error: 29.8039 - val_root_mean_squared_error: 5.4593\n",
      "Epoch 27/125\n",
      "2139/2139 [==============================] - 27s 12ms/step - loss: 13.6193 - mean_squared_error: 43.6802 - root_mean_squared_error: 6.6091 - val_loss: 11.0096 - val_mean_squared_error: 28.9230 - val_root_mean_squared_error: 5.3780\n",
      "Epoch 28/125\n",
      "2139/2139 [==============================] - 27s 12ms/step - loss: 13.7813 - mean_squared_error: 44.8425 - root_mean_squared_error: 6.6965 - val_loss: 10.0430 - val_mean_squared_error: 27.1227 - val_root_mean_squared_error: 5.2079\n",
      "Epoch 29/125\n",
      "2139/2139 [==============================] - 28s 13ms/step - loss: 13.5276 - mean_squared_error: 42.8516 - root_mean_squared_error: 6.5461 - val_loss: 9.6826 - val_mean_squared_error: 27.5967 - val_root_mean_squared_error: 5.2533\n",
      "Epoch 00029: early stopping\n",
      "The total run time to train was 839.64 seconds\n"
     ]
    },
    {
     "data": {
      "text/plain": [
       "<matplotlib.legend.Legend at 0x1c924d9b880>"
      ]
     },
     "execution_count": 45,
     "metadata": {},
     "output_type": "execute_result"
    },
    {
     "data": {
      "image/png": "[encoded data removed]",
      "text/plain": [
       "<Figure size 432x288 with 1 Axes>"
      ]
     },
     "metadata": {
      "needs_background": "light"
     },
     "output_type": "display_data"
    },
    {
     "data": {
      "image/png": "[encoded data removed]",
      "text/plain": [
       "<Figure size 432x288 with 1 Axes>"
      ]
     },
     "metadata": {
      "needs_background": "light"
     },
     "output_type": "display_data"
    }
   ],
   "source": [
    "#Now it is time to train the model\n",
    "opt=tf.keras.optimizers.Adam(learning_rate=0.001)#, momentum=0.9)#,decay=1e-5)\n",
    "mMSE= tf.keras.metrics.MeanSquaredError()\n",
    "mRMSE= tf.keras.metrics.RootMeanSquaredError()\n",
    "huber=tf.keras.losses.Huber(delta=10) #delta is a parameter to change\n",
    "\n",
    "model.compile(loss=huber, optimizer=opt, metrics=[mMSE,mRMSE])\n",
    "\n",
    "# Allow for early stopping so that the model does not overfit the training dataset\n",
    "es= EarlyStopping(monitor='loss', mode='min',verbose=1,patience=10)\n",
    "cp= ModelCheckpoint('model/',monitor='loss', save_best_only=True) #need validation data\n",
    "#callback=tf.keras.callbacks.LearningRateScheduler(scheduler)\n",
    "\n",
    "t0=time.time()\n",
    "history= model.fit(inputs,epochs=125,steps_per_epoch=2139, batch_size=None,verbose=1,validation_steps=5360, callbacks=[es, cp],validation_data=val_inputs)#, max_queue_size=200) ##### Make sure to put validation_steps=5360\n",
    "#history= model.fit(inputs,epochs=3, batch_size=None)\n",
    "t1=time.time()\n",
    "print(\"The total run time to train was %.2f seconds\"%(t1-t0))\n",
    "\n",
    "# plot the loss function\n",
    "plt.figure()\n",
    "plt.semilogy(history.history['loss'])\n",
    "plt.xlabel('epoch'); plt.ylabel('loss')\n",
    "\n",
    "\n",
    "plt.figure()\n",
    "plt.plot(history.history['loss'])\n",
    "plt.plot(history.history['val_loss'])\n",
    "plt.ylabel('loss')\n",
    "plt.xlabel('epoch')\n",
    "plt.title('model train vs validation loss')\n",
    "plt.legend(['train','validation'], loc='upper right')\n"
   ]
  },
  {
   "cell_type": "markdown",
   "metadata": {},
   "source": [
    "# Using the Model, Predict the DOA's on the Testing Dataset #"
   ]
  },
  {
   "cell_type": "code",
   "execution_count": 46,
   "metadata": {},
   "outputs": [
    {
     "name": "stdout",
     "output_type": "stream",
     "text": [
      "342507/342507 [==============================] - 692s 2ms/step\n"
     ]
    }
   ],
   "source": [
    "#use the model to predict on the testing dataset\n",
    "#for right now test_inputs has only the 40,001 samples\n",
    "predicted=model.predict(test_inputs, verbose=1)"
   ]
  },
  {
   "cell_type": "code",
   "execution_count": null,
   "metadata": {},
   "outputs": [],
   "source": [
    "##predict on the training set just to see if the model has leant at all\n",
    "predicted_train=model.predict(inputs, verbose=1)"
   ]
  },
  {
   "cell_type": "markdown",
   "metadata": {},
   "source": [
    "# Compare the predicted and actual DOA's numerically #"
   ]
  },
  {
   "cell_type": "code",
   "execution_count": null,
   "metadata": {},
   "outputs": [],
   "source": [
    "print(predicted_train[0:21])"
   ]
  },
  {
   "cell_type": "code",
   "execution_count": null,
   "metadata": {},
   "outputs": [],
   "source": [
    "print(y_test[10:32])"
   ]
  },
  {
   "cell_type": "code",
   "execution_count": 47,
   "metadata": {},
   "outputs": [
    {
     "name": "stdout",
     "output_type": "stream",
     "text": [
      "[[74.53613 ]\n",
      " [67.06684 ]\n",
      " [64.741066]\n",
      " [71.50904 ]\n",
      " [67.377556]\n",
      " [63.897934]\n",
      " [72.97074 ]\n",
      " [71.802895]\n",
      " [67.74669 ]\n",
      " [70.814606]\n",
      " [74.06222 ]\n",
      " [64.543274]\n",
      " [64.36174 ]\n",
      " [64.59294 ]\n",
      " [64.743065]\n",
      " [64.82469 ]\n",
      " [76.77681 ]\n",
      " [75.188545]\n",
      " [66.060295]\n",
      " [66.71119 ]\n",
      " [67.21521 ]]\n"
     ]
    }
   ],
   "source": [
    "print(predicted[0:21])"
   ]
  },
  {
   "cell_type": "code",
   "execution_count": 48,
   "metadata": {},
   "outputs": [
    {
     "name": "stdout",
     "output_type": "stream",
     "text": [
      "10    75.344998\n",
      "11    49.974999\n",
      "12    50.274999\n",
      "13    62.839999\n",
      "14    61.619999\n",
      "15    75.429998\n",
      "16    76.294998\n",
      "17    62.244999\n",
      "18    57.394999\n",
      "19    59.214999\n",
      "20    61.579999\n",
      "21    63.259999\n",
      "22    64.529999\n",
      "23    52.299999\n",
      "24    67.214998\n",
      "25    81.694998\n",
      "26    81.289998\n",
      "27    71.434998\n",
      "28    46.264999\n",
      "29    47.084999\n",
      "30    48.289999\n",
      "Name: DOA, dtype: float64\n"
     ]
    }
   ],
   "source": [
    "print(y_test[10:31])"
   ]
  },
  {
   "cell_type": "markdown",
   "metadata": {},
   "source": [
    "# Compare the Actual Testing DOA's to the Predicted DOA's Graphically #"
   ]
  },
  {
   "cell_type": "code",
   "execution_count": 13,
   "metadata": {},
   "outputs": [
    {
     "data": {
      "image/png": "[encoded data removed]",
      "text/plain": [
       "<Figure size 432x288 with 1 Axes>"
      ]
     },
     "metadata": {},
     "output_type": "display_data"
    }
   ],
   "source": [
    "plt.figure(facecolor='white')\n",
    "plt.plot(y_test[0:40000])\n",
    "plt.title(\"Actual\")\n",
    "plt.xlabel('Samples')\n",
    "plt.ylabel('DOA in degrees')\n",
    "plt.legend(['Actual'])\n",
    "plt.show()\n"
   ]
  },
  {
   "cell_type": "code",
   "execution_count": 49,
   "metadata": {},
   "outputs": [
    {
     "data": {
      "image/png": "[encoded data removed]",
      "text/plain": [
       "<Figure size 432x288 with 1 Axes>"
      ]
     },
     "metadata": {},
     "output_type": "display_data"
    }
   ],
   "source": [
    "plt.figure(facecolor='white')\n",
    "plt.plot(y_test[0:40000])\n",
    "plt.plot(predicted[0:40000])\n",
    "plt.title(\"Actual\")\n",
    "plt.xlabel('Samples')\n",
    "plt.ylabel('DOA in degrees')\n",
    "plt.legend(['Actual','Predicted'])\n",
    "plt.show()"
   ]
  },
  {
   "cell_type": "code",
   "execution_count": 50,
   "metadata": {},
   "outputs": [
    {
     "data": {
      "image/png": "[encoded data removed]",
      "text/plain": [
       "<Figure size 432x288 with 1 Axes>"
      ]
     },
     "metadata": {},
     "output_type": "display_data"
    }
   ],
   "source": [
    "plt.figure(facecolor='white')\n",
    "plt.plot(y_test[0:NumSampsPerPing*3])\n",
    "plt.plot(predicted[0:NumSampsPerPing*3])\n",
    "plt.title(\"Actual\")\n",
    "plt.xlabel('Samples')\n",
    "plt.ylabel('DOA in degrees')\n",
    "plt.legend(['Actual','Predicted'])\n",
    "plt.show()"
   ]
  },
  {
   "cell_type": "code",
   "execution_count": 31,
   "metadata": {},
   "outputs": [
    {
     "data": {
      "image/png": "[encoded data removed]",
      "text/plain": [
       "<Figure size 432x288 with 1 Axes>"
      ]
     },
     "metadata": {},
     "output_type": "display_data"
    }
   ],
   "source": [
    "plt.figure(facecolor='white')\n",
    "plt.plot(y_test[0:NumSampsPerPing])\n",
    "plt.plot(predicted[0:NumSampsPerPing])\n",
    "plt.title(\"Actual\")\n",
    "plt.xlabel('Samples')\n",
    "plt.ylabel('DOA in degrees')\n",
    "plt.legend(['Actual','Predicted'])\n",
    "plt.show()"
   ]
  },
  {
   "cell_type": "code",
   "execution_count": null,
   "metadata": {},
   "outputs": [],
   "source": [
    "plt.figure(facecolor='white')\n",
    "plt.plot(y_test[0:40000])\n",
    "plt.plot(predicted_train[0:40000])\n",
    "plt.title(\"Actual\")\n",
    "plt.xlabel('Samples')\n",
    "plt.ylabel('DOA in degrees')\n",
    "plt.legend(['Actual','Predicted'])\n",
    "plt.show()"
   ]
  },
  {
   "cell_type": "markdown",
   "metadata": {},
   "source": [
    "# Put the predicted DOA's back into a csv file format #"
   ]
  },
  {
   "cell_type": "markdown",
   "metadata": {},
   "source": [
    "RUN THIS IF YOU WANT TO MAKE THE PREDICTED STBD CSV"
   ]
  },
  {
   "cell_type": "code",
   "execution_count": 16,
   "metadata": {},
   "outputs": [],
   "source": [
    "#Ping |  Num Samp Num | PORT or STBD (0 or 1) |  TWTT |  Predicted DOA   <=======Output columns.\n",
    "OutputCSVdf=test.iloc[:,[0,1,2,3]]\n",
    "#OutputCSVdf= pd.DataFrame(test.iloc[:,[0,1,2,3]], columns=['PingNumber','SampNumber','PortStbd', 'SampleTime'])\n",
    "zerosArray= np.arange(sequence_length)*0\n",
    "predictedShifted=np.append(zerosArray, predicted)\n",
    "Predicteddf= pd.DataFrame(predictedShifted,columns=['PredictedDOA'])\n",
    "OutputCSVdf=OutputCSVdf.join(Predicteddf)"
   ]
  },
  {
   "cell_type": "code",
   "execution_count": 17,
   "metadata": {},
   "outputs": [
    {
     "data": {
      "text/html": [
       "<div>\n",
       "<style scoped>\n",
       "    .dataframe tbody tr th:only-of-type {\n",
       "        vertical-align: middle;\n",
       "    }\n",
       "\n",
       "    .dataframe tbody tr th {\n",
       "        vertical-align: top;\n",
       "    }\n",
       "\n",
       "    .dataframe thead th {\n",
       "        text-align: right;\n",
       "    }\n",
       "</style>\n",
       "<table border=\"1\" class=\"dataframe\">\n",
       "  <thead>\n",
       "    <tr style=\"text-align: right;\">\n",
       "      <th></th>\n",
       "      <th>PingNum</th>\n",
       "      <th>SampleNum</th>\n",
       "      <th>PortStbd</th>\n",
       "      <th>SampleTimeDelay</th>\n",
       "      <th>PredictedDOA</th>\n",
       "    </tr>\n",
       "  </thead>\n",
       "  <tbody>\n",
       "    <tr>\n",
       "      <th>0</th>\n",
       "      <td>87443</td>\n",
       "      <td>24</td>\n",
       "      <td>1</td>\n",
       "      <td>0.000353</td>\n",
       "      <td>0.000000</td>\n",
       "    </tr>\n",
       "    <tr>\n",
       "      <th>1</th>\n",
       "      <td>87443</td>\n",
       "      <td>25</td>\n",
       "      <td>1</td>\n",
       "      <td>0.000369</td>\n",
       "      <td>0.000000</td>\n",
       "    </tr>\n",
       "    <tr>\n",
       "      <th>2</th>\n",
       "      <td>87443</td>\n",
       "      <td>26</td>\n",
       "      <td>1</td>\n",
       "      <td>0.000384</td>\n",
       "      <td>0.000000</td>\n",
       "    </tr>\n",
       "    <tr>\n",
       "      <th>3</th>\n",
       "      <td>87443</td>\n",
       "      <td>27</td>\n",
       "      <td>1</td>\n",
       "      <td>0.000399</td>\n",
       "      <td>0.000000</td>\n",
       "    </tr>\n",
       "    <tr>\n",
       "      <th>4</th>\n",
       "      <td>87443</td>\n",
       "      <td>28</td>\n",
       "      <td>1</td>\n",
       "      <td>0.000415</td>\n",
       "      <td>0.000000</td>\n",
       "    </tr>\n",
       "    <tr>\n",
       "      <th>...</th>\n",
       "      <td>...</td>\n",
       "      <td>...</td>\n",
       "      <td>...</td>\n",
       "      <td>...</td>\n",
       "      <td>...</td>\n",
       "    </tr>\n",
       "    <tr>\n",
       "      <th>5480113</th>\n",
       "      <td>88723</td>\n",
       "      <td>4297</td>\n",
       "      <td>1</td>\n",
       "      <td>0.065982</td>\n",
       "      <td>80.972504</td>\n",
       "    </tr>\n",
       "    <tr>\n",
       "      <th>5480114</th>\n",
       "      <td>88723</td>\n",
       "      <td>4298</td>\n",
       "      <td>1</td>\n",
       "      <td>0.065998</td>\n",
       "      <td>80.914818</td>\n",
       "    </tr>\n",
       "    <tr>\n",
       "      <th>5480115</th>\n",
       "      <td>88723</td>\n",
       "      <td>4299</td>\n",
       "      <td>1</td>\n",
       "      <td>0.066013</td>\n",
       "      <td>81.090118</td>\n",
       "    </tr>\n",
       "    <tr>\n",
       "      <th>5480116</th>\n",
       "      <td>88723</td>\n",
       "      <td>4300</td>\n",
       "      <td>1</td>\n",
       "      <td>0.066028</td>\n",
       "      <td>81.031021</td>\n",
       "    </tr>\n",
       "    <tr>\n",
       "      <th>5480117</th>\n",
       "      <td>88723</td>\n",
       "      <td>4301</td>\n",
       "      <td>1</td>\n",
       "      <td>0.066044</td>\n",
       "      <td>81.272057</td>\n",
       "    </tr>\n",
       "  </tbody>\n",
       "</table>\n",
       "<p>5480118 rows × 5 columns</p>\n",
       "</div>"
      ],
      "text/plain": [
       "         PingNum  SampleNum  PortStbd  SampleTimeDelay  PredictedDOA\n",
       "0          87443         24         1         0.000353      0.000000\n",
       "1          87443         25         1         0.000369      0.000000\n",
       "2          87443         26         1         0.000384      0.000000\n",
       "3          87443         27         1         0.000399      0.000000\n",
       "4          87443         28         1         0.000415      0.000000\n",
       "...          ...        ...       ...              ...           ...\n",
       "5480113    88723       4297         1         0.065982     80.972504\n",
       "5480114    88723       4298         1         0.065998     80.914818\n",
       "5480115    88723       4299         1         0.066013     81.090118\n",
       "5480116    88723       4300         1         0.066028     81.031021\n",
       "5480117    88723       4301         1         0.066044     81.272057\n",
       "\n",
       "[5480118 rows x 5 columns]"
      ]
     },
     "execution_count": 17,
     "metadata": {},
     "output_type": "execute_result"
    }
   ],
   "source": [
    "OutputCSVdf"
   ]
  },
  {
   "cell_type": "code",
   "execution_count": 51,
   "metadata": {},
   "outputs": [],
   "source": [
    "OutputCSVdf.to_csv(path_or_buf=\"C:\\\\Users\\\\Daniel\\\\OneDrive - University of Massachusetts Dartmouth\\\\ECE457_Senior_Design_ECE5\\\\AIOutput_CSV_Files\\\\DL_PredictedOutputTestTwo3_12_2022.csv\")"
   ]
  },
  {
   "cell_type": "markdown",
   "metadata": {},
   "source": [
    "# Save the model #"
   ]
  },
  {
   "cell_type": "code",
   "execution_count": 52,
   "metadata": {},
   "outputs": [],
   "source": [
    "tf.keras.models.save_model(model,filepath=\"C:\\\\Users\\\\Daniel\\\\Desktop\\\\Models\\\\model_21.8572Percent.h5\")"
   ]
  },
  {
   "cell_type": "markdown",
   "metadata": {},
   "source": [
    "# Load Previous Models and Use them to Predict #"
   ]
  },
  {
   "cell_type": "markdown",
   "metadata": {},
   "source": [
    "Grab the saved model from the checkpoint"
   ]
  },
  {
   "cell_type": "code",
   "execution_count": 53,
   "metadata": {},
   "outputs": [],
   "source": [
    "saved_checkpoint_model=tf.keras.models.load_model(filepath=\"C:\\\\Users\\\\Daniel\\\\Desktop\\\\MLDOA_ET\\\\ML Code\\\\model\")"
   ]
  },
  {
   "cell_type": "code",
   "execution_count": 54,
   "metadata": {},
   "outputs": [
    {
     "name": "stdout",
     "output_type": "stream",
     "text": [
      "Model: \"sequential_1\"\n",
      "_________________________________________________________________\n",
      " Layer (type)                Output Shape              Param #   \n",
      "=================================================================\n",
      " LSTM1 (LSTM)                (None, 44)                11792     \n",
      "                                                                 \n",
      " dense_6 (Dense)             (None, 30)                1350      \n",
      "                                                                 \n",
      " dense_7 (Dense)             (None, 30)                930       \n",
      "                                                                 \n",
      " dense_8 (Dense)             (None, 60)                1860      \n",
      "                                                                 \n",
      " dense_9 (Dense)             (None, 60)                3660      \n",
      "                                                                 \n",
      " dense_10 (Dense)            (None, 60)                3660      \n",
      "                                                                 \n",
      " dense_11 (Dense)            (None, 1)                 61        \n",
      "                                                                 \n",
      "=================================================================\n",
      "Total params: 23,313\n",
      "Trainable params: 23,313\n",
      "Non-trainable params: 0\n",
      "_________________________________________________________________\n"
     ]
    }
   ],
   "source": [
    "saved_checkpoint_model.summary()"
   ]
  },
  {
   "cell_type": "code",
   "execution_count": 55,
   "metadata": {},
   "outputs": [
    {
     "name": "stdout",
     "output_type": "stream",
     "text": [
      "342507/342507 [==============================] - 624s 2ms/step\n"
     ]
    }
   ],
   "source": [
    "predicted_checkpoint=saved_checkpoint_model.predict(test_inputs, verbose=1)"
   ]
  },
  {
   "cell_type": "code",
   "execution_count": 57,
   "metadata": {},
   "outputs": [
    {
     "data": {
      "text/plain": [
       "array([[68.84959 ],\n",
       "       [61.502716],\n",
       "       [59.74644 ],\n",
       "       ...,\n",
       "       [82.382286],\n",
       "       [82.88972 ],\n",
       "       [83.30545 ]], dtype=float32)"
      ]
     },
     "execution_count": 57,
     "metadata": {},
     "output_type": "execute_result"
    }
   ],
   "source": [
    "predicted_checkpoint"
   ]
  },
  {
   "cell_type": "code",
   "execution_count": 56,
   "metadata": {},
   "outputs": [
    {
     "data": {
      "image/png": "[encoded data removed]",
      "text/plain": [
       "<Figure size 432x288 with 1 Axes>"
      ]
     },
     "metadata": {},
     "output_type": "display_data"
    }
   ],
   "source": [
    "plt.figure(facecolor='white')\n",
    "plt.plot(y_test[0:NumSampsPerPing])\n",
    "plt.plot(predicted_checkpoint[0:NumSampsPerPing])\n",
    "plt.title(\"Actual\")\n",
    "plt.xlabel('Samples')\n",
    "plt.ylabel('DOA in degrees')\n",
    "plt.legend(['Actual','Predicted'])\n",
    "plt.show()"
   ]
  },
  {
   "cell_type": "code",
   "execution_count": 58,
   "metadata": {},
   "outputs": [],
   "source": [
    "#Ping |  Num Samp Num | PORT or STBD (0 or 1) |  TWTT |  Predicted DOA   <=======Output columns.\n",
    "OutputCSVdf=test.iloc[:,[0,1,2,3]]\n",
    "#OutputCSVdf= pd.DataFrame(test.iloc[:,[0,1,2,3]], columns=['PingNumber','SampNumber','PortStbd', 'SampleTime'])\n",
    "zerosArray= np.arange(sequence_length)*0\n",
    "predictedShifted=np.append(zerosArray, predicted_checkpoint)\n",
    "Predicteddf= pd.DataFrame(predictedShifted,columns=['PredictedDOA'])\n",
    "OutputCSVdf=OutputCSVdf.join(Predicteddf)"
   ]
  },
  {
   "cell_type": "code",
   "execution_count": 59,
   "metadata": {},
   "outputs": [
    {
     "data": {
      "text/html": [
       "<div>\n",
       "<style scoped>\n",
       "    .dataframe tbody tr th:only-of-type {\n",
       "        vertical-align: middle;\n",
       "    }\n",
       "\n",
       "    .dataframe tbody tr th {\n",
       "        vertical-align: top;\n",
       "    }\n",
       "\n",
       "    .dataframe thead th {\n",
       "        text-align: right;\n",
       "    }\n",
       "</style>\n",
       "<table border=\"1\" class=\"dataframe\">\n",
       "  <thead>\n",
       "    <tr style=\"text-align: right;\">\n",
       "      <th></th>\n",
       "      <th>PingNum</th>\n",
       "      <th>SampleNum</th>\n",
       "      <th>PortStbd</th>\n",
       "      <th>SampleTimeDelay</th>\n",
       "      <th>PredictedDOA</th>\n",
       "    </tr>\n",
       "  </thead>\n",
       "  <tbody>\n",
       "    <tr>\n",
       "      <th>0</th>\n",
       "      <td>87443</td>\n",
       "      <td>24</td>\n",
       "      <td>1</td>\n",
       "      <td>0.000353</td>\n",
       "      <td>0.000000</td>\n",
       "    </tr>\n",
       "    <tr>\n",
       "      <th>1</th>\n",
       "      <td>87443</td>\n",
       "      <td>25</td>\n",
       "      <td>1</td>\n",
       "      <td>0.000369</td>\n",
       "      <td>0.000000</td>\n",
       "    </tr>\n",
       "    <tr>\n",
       "      <th>2</th>\n",
       "      <td>87443</td>\n",
       "      <td>26</td>\n",
       "      <td>1</td>\n",
       "      <td>0.000384</td>\n",
       "      <td>0.000000</td>\n",
       "    </tr>\n",
       "    <tr>\n",
       "      <th>3</th>\n",
       "      <td>87443</td>\n",
       "      <td>27</td>\n",
       "      <td>1</td>\n",
       "      <td>0.000399</td>\n",
       "      <td>0.000000</td>\n",
       "    </tr>\n",
       "    <tr>\n",
       "      <th>4</th>\n",
       "      <td>87443</td>\n",
       "      <td>28</td>\n",
       "      <td>1</td>\n",
       "      <td>0.000415</td>\n",
       "      <td>0.000000</td>\n",
       "    </tr>\n",
       "    <tr>\n",
       "      <th>...</th>\n",
       "      <td>...</td>\n",
       "      <td>...</td>\n",
       "      <td>...</td>\n",
       "      <td>...</td>\n",
       "      <td>...</td>\n",
       "    </tr>\n",
       "    <tr>\n",
       "      <th>5480113</th>\n",
       "      <td>88723</td>\n",
       "      <td>4297</td>\n",
       "      <td>1</td>\n",
       "      <td>0.065982</td>\n",
       "      <td>82.290581</td>\n",
       "    </tr>\n",
       "    <tr>\n",
       "      <th>5480114</th>\n",
       "      <td>88723</td>\n",
       "      <td>4298</td>\n",
       "      <td>1</td>\n",
       "      <td>0.065998</td>\n",
       "      <td>82.336884</td>\n",
       "    </tr>\n",
       "    <tr>\n",
       "      <th>5480115</th>\n",
       "      <td>88723</td>\n",
       "      <td>4299</td>\n",
       "      <td>1</td>\n",
       "      <td>0.066013</td>\n",
       "      <td>82.382286</td>\n",
       "    </tr>\n",
       "    <tr>\n",
       "      <th>5480116</th>\n",
       "      <td>88723</td>\n",
       "      <td>4300</td>\n",
       "      <td>1</td>\n",
       "      <td>0.066028</td>\n",
       "      <td>82.889717</td>\n",
       "    </tr>\n",
       "    <tr>\n",
       "      <th>5480117</th>\n",
       "      <td>88723</td>\n",
       "      <td>4301</td>\n",
       "      <td>1</td>\n",
       "      <td>0.066044</td>\n",
       "      <td>83.305450</td>\n",
       "    </tr>\n",
       "  </tbody>\n",
       "</table>\n",
       "<p>5480118 rows × 5 columns</p>\n",
       "</div>"
      ],
      "text/plain": [
       "         PingNum  SampleNum  PortStbd  SampleTimeDelay  PredictedDOA\n",
       "0          87443         24         1         0.000353      0.000000\n",
       "1          87443         25         1         0.000369      0.000000\n",
       "2          87443         26         1         0.000384      0.000000\n",
       "3          87443         27         1         0.000399      0.000000\n",
       "4          87443         28         1         0.000415      0.000000\n",
       "...          ...        ...       ...              ...           ...\n",
       "5480113    88723       4297         1         0.065982     82.290581\n",
       "5480114    88723       4298         1         0.065998     82.336884\n",
       "5480115    88723       4299         1         0.066013     82.382286\n",
       "5480116    88723       4300         1         0.066028     82.889717\n",
       "5480117    88723       4301         1         0.066044     83.305450\n",
       "\n",
       "[5480118 rows x 5 columns]"
      ]
     },
     "execution_count": 59,
     "metadata": {},
     "output_type": "execute_result"
    }
   ],
   "source": [
    "OutputCSVdf"
   ]
  },
  {
   "cell_type": "code",
   "execution_count": 41,
   "metadata": {},
   "outputs": [],
   "source": [
    "OutputCSVdf.to_csv(path_or_buf=\"C:\\\\Users\\\\Daniel\\\\OneDrive - University of Massachusetts Dartmouth\\\\ECE457_Senior_Design_ECE5\\\\AIOutput_CSV_Files\\\\DL_PredictedOutputTestThree3_12_2022.csv\")"
   ]
  },
  {
   "cell_type": "markdown",
   "metadata": {},
   "source": [
    "Grab any saved model that is saved as an h5 file"
   ]
  },
  {
   "cell_type": "code",
   "execution_count": null,
   "metadata": {},
   "outputs": [],
   "source": [
    "saved_model=tf.keras.models.load_model(filepath=\"C:\\\\Users\\\\Daniel\\\\Desktop\\\\Models\\\\model_10.83Percent.h5\")"
   ]
  },
  {
   "cell_type": "code",
   "execution_count": null,
   "metadata": {},
   "outputs": [],
   "source": [
    "predicted_saved=saved_model.predict(test_inputs, verbose=1)"
   ]
  },
  {
   "cell_type": "code",
   "execution_count": null,
   "metadata": {},
   "outputs": [],
   "source": [
    "plt.figure(facecolor='white')\n",
    "plt.plot(y_test[0:40000])\n",
    "plt.plot(predicted_saved[0:40000])\n",
    "plt.title(\"Actual\")\n",
    "plt.xlabel('Samples')\n",
    "plt.ylabel('DOA in degrees')\n",
    "plt.legend(['Actual','Predicted'])\n",
    "plt.show()"
   ]
  },
  {
   "cell_type": "markdown",
   "metadata": {},
   "source": [
    "# EVERYTHING BELOW HERE IS MY KERAS TUNER STUFF. VIEWER REGRESSION IS ADVISED. #"
   ]
  },
  {
   "cell_type": "code",
   "execution_count": null,
   "metadata": {},
   "outputs": [],
   "source": [
    "LOG_DIR = f\"{int(time.time())}\""
   ]
  },
  {
   "cell_type": "code",
   "execution_count": null,
   "metadata": {},
   "outputs": [],
   "source": [
    "def model_builder(hp):\n",
    "    model= Sequential()\n",
    "\n",
    "    #try\n",
    "    hp_units_1 = hp.Int('units1', min_value=32, max_value=512, step=32)\n",
    "    model.add(LSTM(units=hp_units_1, activation='tanh', input_shape=(sequence_length,n_features), return_sequences=True))\n",
    "    model.add(Dropout(0.2))\n",
    "\n",
    "    for i in range(hp.Int(\"n_layers\",1,2)):\n",
    "        model.add(LSTM(units=hp.Int(f\"LSTM_{i}_units\", min_value=32, max_value=512, step=32), activation='tanh', input_shape=(sequence_length,n_features), return_sequences=True))\n",
    "        model.add(Dropout(0.2))\n",
    "\n",
    "    #hp_units_2 = hp.Int('units2', min_value=32, max_value=512, step=32)\n",
    "    #model.add(LSTM(units=hp_units_2, activation='relu',  return_sequences=True))\n",
    "    #model.add(Dropout(0.2))\n",
    "\n",
    "    #hp_units_3 = hp.Int('units3', min_value=32, max_value=512, step=32)\n",
    "    #model.add(LSTM(units=hp_units_3, activation='relu', return_sequences=True))\n",
    "    #model.add(Dropout(0.2))\n",
    "\n",
    "    #hp_units_4 = hp.Int('units4', min_value=32, max_value=512, step=32)\n",
    "    #model.add(LSTM(units=hp_units_4, activation='relu',  return_sequences=True))\n",
    "    #model.add(Dropout(0.2))\n",
    "\n",
    "    model.add(Dense(units=1)) #one output (namely: DOA)\n",
    "\n",
    "    hp_learning_rate = hp.Choice('learning_rate', values=[1e-2, 1e-3, 1e-4])\n",
    "\n",
    "    opt=tf.keras.optimizers.Adam(learning_rate=hp_learning_rate,decay=1e-5)\n",
    "    model.compile(loss='mse', optimizer=opt)\n",
    "\n",
    "    return model"
   ]
  },
  {
   "cell_type": "code",
   "execution_count": null,
   "metadata": {},
   "outputs": [],
   "source": [
    "es= EarlyStopping(monitor='loss', mode='min',verbose=1,patience=10)\n",
    "\n",
    "tuner = kt.RandomSearch(model_builder, objective='loss', max_trials=1000, directory=os.path.normpath('C:/'))\n",
    "tuner.search(inputs,steps_per_epoch=2000,epochs=20,verbose=1, callbacks=[es])\n",
    "\n",
    "best_hps=tuner.get_best_hyperparameters(num_trials=1)[0]\n",
    "\n",
    "\n",
    "print(f\"\"\"\n",
    "The hyperparameter search is complete. The optimal number of units in the first densely-connected\n",
    "layer is {best_hps.get('units1')} and the optimal learning rate for the optimizer\n",
    "is {best_hps.get('learning_rate')}. \n",
    "\"\"\")"
   ]
  },
  {
   "cell_type": "code",
   "execution_count": null,
   "metadata": {},
   "outputs": [],
   "source": [
    "print(f\"\"\"\n",
    "Unit1: {best_hps.get('units1')} learning rate {best_hps.get('learning_rate')} LSTM0 units: {best_hps.get('LSTM_0_units')} LSTM1 units: {best_hps.get('LSTM_1_units')} \n",
    "\"\"\")"
   ]
  }
 ],
 "metadata": {
  "interpreter": {
   "hash": "e6fad8134df9e5d8b8d6d65c861d5f535ad48201ee3e73e4438a263582efefbc"
  },
  "kernelspec": {
   "display_name": "Python 3.10.1 64-bit",
   "language": "python",
   "name": "python3"
  },
  "language_info": {
   "codemirror_mode": {
    "name": "ipython",
    "version": 3
   },
   "file_extension": ".py",
   "mimetype": "text/x-python",
   "name": "python",
   "nbconvert_exporter": "python",
   "pygments_lexer": "ipython3",
   "version": "3.9.0"
  },
  "orig_nbformat": 4
 },
 "nbformat": 4,
 "nbformat_minor": 2
}
