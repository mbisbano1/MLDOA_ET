{
 "cells": [
  {
   "cell_type": "markdown",
   "metadata": {},
   "source": [
    "# Import the Neccesary Libraries #"
   ]
  },
  {
   "cell_type": "code",
   "execution_count": 1,
   "metadata": {},
   "outputs": [],
   "source": [
    "# Import the neccesary libraries needed\n",
    "import pandas as pd\n",
    "from matplotlib import pyplot as plt\n",
    "from sklearn.preprocessing import MinMaxScaler \n",
    "import numpy as np\n",
    "from numpy import insert\n",
    "import os\n",
    "import time\n",
    "\n",
    "# keras tuner for hyperparameter tuning\n",
    "import keras_tuner as kt\n",
    "\n",
    "# tensorflow Libraries\n",
    "import tensorflow as tf\n",
    "from keras.preprocessing.sequence import TimeseriesGenerator\n",
    "from tensorflow import keras\n",
    "from tensorflow.keras.models import Sequential, load_model\n",
    "from tensorflow.keras.layers import Activation, Dense, Dropout, LSTM\n",
    "from tensorflow.keras.optimizers import Adam\n",
    "from tensorflow.keras.metrics import sparse_categorical_crossentropy\n",
    "from keras.callbacks import EarlyStopping\n",
    "from keras.models import load_model\n",
    "from tensorflow import feature_column\n",
    "from tensorflow.keras import layers\n",
    "from keras.models import load_model"
   ]
  },
  {
   "cell_type": "markdown",
   "metadata": {},
   "source": [
    "# Import the CSV Training and Testing Data Sets #"
   ]
  },
  {
   "cell_type": "code",
   "execution_count": 2,
   "metadata": {},
   "outputs": [],
   "source": [
    "# Import the csv's (IMPORTANT: You need at least 16 Gb of RAM to proceed)\n",
    "train=pd.read_csv(r'C:\\Users\\Daniel\\OneDrive - University of Massachusetts Dartmouth\\ECE457_Senior_Design_ECE5\\CSV_Files\\PortTraining_1404_002_FINAL_startingAt24.csv')\n",
    "test=pd.read_csv(r'C:\\Users\\Daniel\\OneDrive - University of Massachusetts Dartmouth\\ECE457_Senior_Design_ECE5\\CSV_Files\\StbdTesting_1404_002_FINAL.csv')"
   ]
  },
  {
   "cell_type": "code",
   "execution_count": null,
   "metadata": {},
   "outputs": [],
   "source": [
    "train"
   ]
  },
  {
   "cell_type": "code",
   "execution_count": null,
   "metadata": {},
   "outputs": [],
   "source": [
    "test"
   ]
  },
  {
   "cell_type": "markdown",
   "metadata": {},
   "source": [
    "# Split up the Features and Labels from both the Training and Testing Datasets #"
   ]
  },
  {
   "cell_type": "code",
   "execution_count": 3,
   "metadata": {},
   "outputs": [],
   "source": [
    "# Split up the features and labels from both the training and testing datasets\n",
    "x_train=train.iloc[:,4:24]\n",
    "#x_train['TWTT']=train.iloc[:,28]  I feel as though the TWTT has NO impact on the DOA so we should NOT include it in training\n",
    "x_train['Amplitude']=train.iloc[:,29]\n",
    "\n",
    "\n",
    "x_test=test.iloc[:,4:24]\n",
    "#x_test['TWTT']=test.iloc[:,28] I feel as though the TWTT has NO impact on the DOA so we should NOT include it in training\n",
    "x_test['Amplitude']=test.iloc[:,29]\n",
    "\n",
    "y_train=train.iloc[:,26]\n",
    "\n",
    "y_test=test.iloc[:,26]"
   ]
  },
  {
   "cell_type": "code",
   "execution_count": null,
   "metadata": {},
   "outputs": [],
   "source": [
    "y_test"
   ]
  },
  {
   "cell_type": "code",
   "execution_count": null,
   "metadata": {},
   "outputs": [],
   "source": [
    "x_train"
   ]
  },
  {
   "cell_type": "markdown",
   "metadata": {},
   "source": [
    "# Scale the Feaures from -1 to 1 so that Training is Easier for the Model #"
   ]
  },
  {
   "cell_type": "code",
   "execution_count": 4,
   "metadata": {},
   "outputs": [
    {
     "name": "stdout",
     "output_type": "stream",
     "text": [
      "5480118\n",
      "5480118\n"
     ]
    }
   ],
   "source": [
    "# Scale the Features and Labels from [-1,1]\n",
    "s1=MinMaxScaler(feature_range=(-1,1))\n",
    "x_train_scale=s1.fit_transform(x_train)\n",
    "\n",
    "s2=MinMaxScaler(feature_range=(-1,1))\n",
    "x_test_scale=s2.fit_transform(x_test)\n",
    "x_test_scale=x_test_scale\n",
    "\n",
    "# Scale DOA's from (0 to 1)\n",
    "s3=MinMaxScaler(feature_range=(0,1))\n",
    "#y_train_scale = s3.fit_transform(train[['DOA']])\n",
    "y_train_scale= y_train.to_numpy()\n",
    "\n",
    "s4=MinMaxScaler(feature_range=(0,1))\n",
    "#y_test_scale = s4.fit_transform(test[['DOA']])\n",
    "y_test_scale= y_test.to_numpy()\n",
    "\n",
    "print(len(x_train_scale))\n",
    "print(len(y_train_scale))"
   ]
  },
  {
   "cell_type": "markdown",
   "metadata": {},
   "source": [
    "# Shift the DOA's to the Left by one so that the Current I and Q data Align with the current DOA while using TimeSeriesGenerator to Window the Data #"
   ]
  },
  {
   "cell_type": "code",
   "execution_count": 5,
   "metadata": {},
   "outputs": [
    {
     "name": "stdout",
     "output_type": "stream",
     "text": [
      "5480118\n",
      "5480118\n",
      "[ 0.         59.66499867 54.53999878 ... 80.93999819 80.6249982\n",
      " 80.92499819]\n",
      "5480118\n",
      "[ 0.         55.83499875 55.83499875 ... 80.5849982  79.48499822\n",
      " 78.55499824]\n",
      "5480118\n"
     ]
    }
   ],
   "source": [
    "# Shift the DOA to the left by one to use the current DOA label with the current I and Q data.\n",
    "# Normally the TimeseriesGenerator function uses past values to predict the future but we would like current data to help predict the current samples' DOA\n",
    "print(len(x_train_scale))\n",
    "print(len(y_test_scale))\n",
    "y_train_scale=insert(y_train_scale, 0, 0)\n",
    "y_train_scale=np.delete(y_train_scale, -1)\n",
    "y_test_scale=insert(y_test_scale, 0,0)\n",
    "y_test_scale=np.delete(y_test_scale, -1)\n",
    "print(y_train_scale)\n",
    "print(len(y_train_scale))\n",
    "print(y_test_scale)\n",
    "print(len(y_test_scale))"
   ]
  },
  {
   "cell_type": "markdown",
   "metadata": {},
   "source": [
    "# Create the Windows Neccesary for the LSTM model using the TimeSeriesGenerator Function #"
   ]
  },
  {
   "cell_type": "code",
   "execution_count": 33,
   "metadata": {},
   "outputs": [
    {
     "name": "stdout",
     "output_type": "stream",
     "text": [
      "done\n"
     ]
    }
   ],
   "source": [
    "# Create the windows neccesary for the LSTM model within tensorflow keras\n",
    "# Below are the arguments of the timeseries_dataset_from_array function\n",
    "# The function takes a numpy array and makes a timeseries out of it\n",
    "NumSampsPerPing= 4278\n",
    "data=x_train_scale # the data to make the windows\n",
    "targets=y_train_scale # time steps in the data (don't need)\n",
    "sequence_length=10 # window length\n",
    "sequence_stride=1# period between successive output sequences\n",
    "sampling_rate=1 # period between successive individual timesteps     within sequences\n",
    "batch_size=NumSampsPerPing # number of time series samples in each batch\n",
    "shuffle=False #shuffle the data before making the windows\n",
    "seed=None # is related to shuffle\n",
    "start_index=None # is related to shuffle\n",
    "end_index=None # is related to shuffle\n",
    "n_features=21\n",
    "\n",
    "test_data=x_test_scale\n",
    "test_targets=y_test_scale\n",
    "\n",
    "dataRows= data.shape[0]\n",
    "validationStartRow= dataRows-NumSampsPerPing*281\n",
    "#print(validationStartRow, ',', dataRows)\n",
    "\n",
    "#split up the training data into a validation set and training set\n",
    "train_data=data[:validationStartRow-1]\n",
    "train_targets=targets[:validationStartRow-1]\n",
    "val_data=data[validationStartRow:]\n",
    "val_targets=targets[validationStartRow:]\n",
    "\n",
    "inputs=TimeseriesGenerator(data=train_data, targets=train_targets,length=sequence_length, batch_size=batch_size)\n",
    "val_inputs=TimeseriesGenerator(data=val_data, targets=val_targets,length=sequence_length, batch_size=batch_size)\n",
    "\n",
    "\n",
    "#test_inputs=TimeseriesGenerator(test_data[0:40000], -1*test_targets[0:40000],sequence_length, batch_size)\n",
    "test_inputs=TimeseriesGenerator(data=test_data, targets=test_targets,length=sequence_length, batch_size=batch_size)\n",
    "\n",
    "#inputs=tf.keras.preprocessing.timeseries_dataset_from_array(data, targets, sequence_length, sequence_stride, sampling_rate, batch_size, shuffle)\n",
    "#print(type(inputs))\n",
    "\n",
    "print('done')"
   ]
  },
  {
   "cell_type": "code",
   "execution_count": null,
   "metadata": {},
   "outputs": [],
   "source": [
    "# print the first couple of samples to see if everything everything is lining up\n",
    "for i in range(100):\n",
    "\tx, y = inputs[i]\n",
    "\tprint('%s => %s' % (x, y))"
   ]
  },
  {
   "cell_type": "code",
   "execution_count": null,
   "metadata": {},
   "outputs": [],
   "source": [
    "# print the first couple of samples to see if everything everything is lining up\n",
    "for i in range(100):\n",
    "\tx, y = test_inputs[i]\n",
    "\tprint('%s => %s' % (x, y))"
   ]
  },
  {
   "cell_type": "markdown",
   "metadata": {},
   "source": [
    "# Define the Model's Structure #"
   ]
  },
  {
   "cell_type": "code",
   "execution_count": 31,
   "metadata": {},
   "outputs": [
    {
     "name": "stdout",
     "output_type": "stream",
     "text": [
      "WARNING:tensorflow:Layer LSTM1 will not use cuDNN kernels since it doesn't meet the criteria. It will use a generic GPU kernel as fallback when running on GPU.\n",
      "WARNING:tensorflow:Layer LSTM2 will not use cuDNN kernels since it doesn't meet the criteria. It will use a generic GPU kernel as fallback when running on GPU.\n",
      "WARNING:tensorflow:Layer LSTM3 will not use cuDNN kernels since it doesn't meet the criteria. It will use a generic GPU kernel as fallback when running on GPU.\n"
     ]
    }
   ],
   "source": [
    "# With all the preproccessing done, it is time to define the model\n",
    "# Define the LSTM Model\n",
    "# Make sure to ALWAYS use return_sequences=True when using series LSTM layers. MAKE SURE THAT THE LAST LSTM LAYER DOES NOT HAVE RETURN SEQUENCES=TRUE SINCE THE OUTPUT WILL BE 3D. return sequences makes the output shape of the layer\n",
    "# equal its input. so in this case 3d.\n",
    "model= Sequential()\n",
    "model.add(LSTM(units=64, activation='relu', input_shape=(sequence_length,n_features), return_sequences=True, name='LSTM1'))\n",
    "model.add(Dense(units=100))\n",
    "#model.add(Dropout(0.2))\n",
    "\n",
    "model.add(LSTM(units=416, activation='relu', return_sequences=True,name='LSTM2'))\n",
    "model.add(Dense(units=100))\n",
    "#model.add(Dropout(0.2))\n",
    "\n",
    "model.add(LSTM(units=512, activation='relu', name='LSTM3', ))\n",
    "model.add(Dense(units=100))\n",
    "#model.add(Dropout(0.2))\n",
    "\n",
    "#model.add(LSTM(units=320, activation='relu', return_sequences=True,name='LSTM4'))\n",
    "#model.add(Dense(units=100))\n",
    "#model.add(Dropout(0.2))\n",
    "\n",
    "#model.add(LSTM(units=480, activation='relu', return_sequences=True, name='LSTM5'))\n",
    "#model.add(Dense(units=100))\n",
    "#model.add(Dropout(0.2))\n",
    "\n",
    "\n",
    "model.add(Dense(units=1)) #one output (namely: DOA)\n"
   ]
  },
  {
   "cell_type": "code",
   "execution_count": 29,
   "metadata": {},
   "outputs": [
    {
     "name": "stdout",
     "output_type": "stream",
     "text": [
      "Model: \"sequential_2\"\n",
      "_________________________________________________________________\n",
      " Layer (type)                Output Shape              Param #   \n",
      "=================================================================\n",
      " LSTM1 (LSTM)                (None, 10, 64)            22016     \n",
      "                                                                 \n",
      " LSTM2 (LSTM)                (None, 10, 416)           800384    \n",
      "                                                                 \n",
      " LSTM3 (LSTM)                (None, 512)               1902592   \n",
      "                                                                 \n",
      " dense_5 (Dense)             (None, 1)                 513       \n",
      "                                                                 \n",
      "=================================================================\n",
      "Total params: 2,725,505\n",
      "Trainable params: 2,725,505\n",
      "Non-trainable params: 0\n",
      "_________________________________________________________________\n"
     ]
    }
   ],
   "source": [
    "model.summary()"
   ]
  },
  {
   "cell_type": "code",
   "execution_count": null,
   "metadata": {},
   "outputs": [],
   "source": [
    "def scheduler(epoch,lr):\n",
    "    if epoch>=1:\n",
    "        return lr\n",
    "    elif epoch>=2 | epoch<=4:\n",
    "        return lr/1.65\n",
    "    else:\n",
    "        return lr*tf.math.exp(-.5)"
   ]
  },
  {
   "cell_type": "markdown",
   "metadata": {},
   "source": [
    "# Train the Model using the Specified Hyperparmeters #"
   ]
  },
  {
   "cell_type": "code",
   "execution_count": 35,
   "metadata": {},
   "outputs": [
    {
     "name": "stdout",
     "output_type": "stream",
     "text": [
      "Epoch 1/10\n",
      "1000/1000 [==============================] - 321s 319ms/step - loss: 310.9124 - val_loss: 258.2701\n",
      "Epoch 2/10\n",
      "1000/1000 [==============================] - 327s 327ms/step - loss: 237.1689 - val_loss: 218.2812\n",
      "Epoch 3/10\n",
      "1000/1000 [==============================] - 320s 320ms/step - loss: 195.6410 - val_loss: 179.2357\n",
      "Epoch 4/10\n",
      "1000/1000 [==============================] - 313s 313ms/step - loss: 168.4549 - val_loss: 158.2764\n",
      "Epoch 5/10\n",
      "1000/1000 [==============================] - 312s 312ms/step - loss: 150.2918 - val_loss: 140.5193\n",
      "Epoch 6/10\n",
      "1000/1000 [==============================] - 312s 312ms/step - loss: 132.3438 - val_loss: 122.0885\n",
      "Epoch 7/10\n",
      "1000/1000 [==============================] - 315s 315ms/step - loss: 118.7523 - val_loss: 111.8562\n",
      "Epoch 8/10\n",
      "1000/1000 [==============================] - 318s 318ms/step - loss: 110.8867 - val_loss: 104.7164\n",
      "Epoch 9/10\n",
      "1000/1000 [==============================] - 314s 314ms/step - loss: 104.8710 - val_loss: 99.2001\n",
      "Epoch 10/10\n",
      "1000/1000 [==============================] - 312s 312ms/step - loss: 99.8943 - val_loss: 94.4480\n",
      "The total run time to train was 3163.66 seconds\n"
     ]
    },
    {
     "data": {
      "text/plain": [
       "<matplotlib.legend.Legend at 0x1d50a021e50>"
      ]
     },
     "execution_count": 35,
     "metadata": {},
     "output_type": "execute_result"
    },
    {
     "data": {
      "image/png": "[encoded data removed]",
      "text/plain": [
       "<Figure size 432x288 with 1 Axes>"
      ]
     },
     "metadata": {
      "needs_background": "light"
     },
     "output_type": "display_data"
    },
    {
     "data": {
      "image/png": "[encoded data removed]",
      "text/plain": [
       "<Figure size 432x288 with 1 Axes>"
      ]
     },
     "metadata": {
      "needs_background": "light"
     },
     "output_type": "display_data"
    }
   ],
   "source": [
    "#Now it is time to train the model\n",
    "opt=tf.keras.optimizers.Adam(learning_rate=0.00001)#,decay=1e-5)\n",
    "model.compile(loss='mse', optimizer=opt)\n",
    "\n",
    "# Allow for early stopping so that the model does not overfit the training dataset\n",
    "es= EarlyStopping(monitor='loss', mode='min',verbose=1,patience=10)\n",
    "\n",
    "#callback=tf.keras.callbacks.LearningRateScheduler(scheduler)\n",
    "\n",
    "t0=time.time()\n",
    "history= model.fit(inputs,epochs=10,batch_size=None,verbose=1, callbacks=[es],validation_data=val_inputs)#, max_queue_size=200)\n",
    "#history= model.fit(inputs)\n",
    "t1=time.time()\n",
    "print(\"The total run time to train was %.2f seconds\"%(t1-t0))\n",
    "\n",
    "# plot the loss function\n",
    "plt.figure()\n",
    "plt.semilogy(history.history['loss'])\n",
    "plt.xlabel('epoch'); plt.ylabel('loss')\n",
    "\n",
    "\n",
    "plt.figure()\n",
    "plt.plot(history.history['loss'])\n",
    "plt.plot(history.history['val_loss'])\n",
    "plt.ylabel('loss')\n",
    "plt.xlabel('epoch')\n",
    "plt.title('model train vs validation loss')\n",
    "plt.legend(['train','validation'], loc='upper right')\n"
   ]
  },
  {
   "cell_type": "markdown",
   "metadata": {},
   "source": [
    "# Using the Model, Predict the DOA's on the Testing Dataset #"
   ]
  },
  {
   "cell_type": "code",
   "execution_count": 36,
   "metadata": {},
   "outputs": [
    {
     "name": "stdout",
     "output_type": "stream",
     "text": [
      "1281/1281 [==============================] - 135s 105ms/step\n"
     ]
    }
   ],
   "source": [
    "#use the model to predict on the testing dataset\n",
    "#for right now test_inputs has only the 40,001 samples\n",
    "predicted=model.predict(test_inputs, verbose=1)"
   ]
  },
  {
   "cell_type": "code",
   "execution_count": 43,
   "metadata": {},
   "outputs": [
    {
     "name": "stdout",
     "output_type": "stream",
     "text": [
      "1000/1000 [==============================] - 101s 101ms/step\n"
     ]
    }
   ],
   "source": [
    "##predict on the training set just to see if the model has leant at all\n",
    "predicted_train=model.predict(inputs, verbose=1)"
   ]
  },
  {
   "cell_type": "markdown",
   "metadata": {},
   "source": [
    "# Compare the predicted and actual DOA's numerically #"
   ]
  },
  {
   "cell_type": "code",
   "execution_count": 44,
   "metadata": {},
   "outputs": [
    {
     "name": "stdout",
     "output_type": "stream",
     "text": [
      "[[74.880516]\n",
      " [71.337425]\n",
      " [71.41524 ]\n",
      " [71.089035]\n",
      " [70.726006]\n",
      " [70.94615 ]\n",
      " [69.53365 ]\n",
      " [69.72257 ]\n",
      " [71.55461 ]\n",
      " [72.67217 ]\n",
      " [73.59474 ]\n",
      " [73.87956 ]\n",
      " [74.05273 ]\n",
      " [75.38338 ]\n",
      " [74.15825 ]\n",
      " [77.28589 ]\n",
      " [73.72394 ]\n",
      " [75.131836]\n",
      " [78.14093 ]\n",
      " [78.35191 ]\n",
      " [80.14264 ]]\n"
     ]
    }
   ],
   "source": [
    "print(predicted_train[0:21])"
   ]
  },
  {
   "cell_type": "code",
   "execution_count": 46,
   "metadata": {},
   "outputs": [
    {
     "name": "stdout",
     "output_type": "stream",
     "text": [
      "10    75.344998\n",
      "11    49.974999\n",
      "12    50.274999\n",
      "13    62.839999\n",
      "14    61.619999\n",
      "15    75.429998\n",
      "16    76.294998\n",
      "17    62.244999\n",
      "18    57.394999\n",
      "19    59.214999\n",
      "20    61.579999\n",
      "21    63.259999\n",
      "22    64.529999\n",
      "23    52.299999\n",
      "24    67.214998\n",
      "25    81.694998\n",
      "26    81.289998\n",
      "27    71.434998\n",
      "28    46.264999\n",
      "29    47.084999\n",
      "30    48.289999\n",
      "31    63.984999\n",
      "Name: DOA, dtype: float64\n"
     ]
    }
   ],
   "source": [
    "print(y_test[10:32])"
   ]
  },
  {
   "cell_type": "code",
   "execution_count": 37,
   "metadata": {},
   "outputs": [
    {
     "name": "stdout",
     "output_type": "stream",
     "text": [
      "[[58.48835 ]\n",
      " [57.18919 ]\n",
      " [56.56743 ]\n",
      " [57.632694]\n",
      " [57.063667]\n",
      " [57.710243]\n",
      " [59.166763]\n",
      " [59.271496]\n",
      " [59.366516]\n",
      " [60.361885]\n",
      " [60.30403 ]\n",
      " [59.622574]\n",
      " [58.458023]\n",
      " [56.78369 ]\n",
      " [57.089848]\n",
      " [55.658905]\n",
      " [55.113945]\n",
      " [55.192905]\n",
      " [53.85534 ]\n",
      " [53.974384]\n",
      " [54.029762]]\n"
     ]
    }
   ],
   "source": [
    "print(predicted[0:21])"
   ]
  },
  {
   "cell_type": "code",
   "execution_count": 38,
   "metadata": {},
   "outputs": [
    {
     "name": "stdout",
     "output_type": "stream",
     "text": [
      "10    75.344998\n",
      "11    49.974999\n",
      "12    50.274999\n",
      "13    62.839999\n",
      "14    61.619999\n",
      "15    75.429998\n",
      "16    76.294998\n",
      "17    62.244999\n",
      "18    57.394999\n",
      "19    59.214999\n",
      "20    61.579999\n",
      "Name: DOA, dtype: float64\n"
     ]
    }
   ],
   "source": [
    "print(y_test[10:21])"
   ]
  },
  {
   "cell_type": "markdown",
   "metadata": {},
   "source": [
    "# Compare the Actual Testing DOA's to the Predicted DOA's Graphically #"
   ]
  },
  {
   "cell_type": "code",
   "execution_count": 39,
   "metadata": {},
   "outputs": [
    {
     "data": {
      "image/png": "[encoded data removed]",
      "text/plain": [
       "<Figure size 432x288 with 1 Axes>"
      ]
     },
     "metadata": {},
     "output_type": "display_data"
    }
   ],
   "source": [
    "plt.figure(facecolor='white')\n",
    "plt.plot(y_test[0:40000])\n",
    "plt.title(\"Actual\")\n",
    "plt.xlabel('Samples')\n",
    "plt.ylabel('DOA in degrees')\n",
    "plt.legend(['Actual'])\n",
    "plt.show()\n"
   ]
  },
  {
   "cell_type": "code",
   "execution_count": 40,
   "metadata": {},
   "outputs": [
    {
     "data": {
      "image/png": "[encoded data removed]",
      "text/plain": [
       "<Figure size 432x288 with 1 Axes>"
      ]
     },
     "metadata": {},
     "output_type": "display_data"
    }
   ],
   "source": [
    "plt.figure(facecolor='white')\n",
    "plt.plot(y_test[0:40000])\n",
    "plt.plot(predicted[0:40000])\n",
    "plt.title(\"Actual\")\n",
    "plt.xlabel('Samples')\n",
    "plt.ylabel('DOA in degrees')\n",
    "plt.legend(['Actual','Predicted'])\n",
    "plt.show()\n",
    "\n"
   ]
  },
  {
   "cell_type": "code",
   "execution_count": 47,
   "metadata": {},
   "outputs": [
    {
     "data": {
      "image/png": "[encoded data removed]",
      "text/plain": [
       "<Figure size 432x288 with 1 Axes>"
      ]
     },
     "metadata": {},
     "output_type": "display_data"
    }
   ],
   "source": [
    "plt.figure(facecolor='white')\n",
    "plt.plot(y_test[0:40000])\n",
    "plt.plot(predicted_train[0:40000])\n",
    "plt.title(\"Actual\")\n",
    "plt.xlabel('Samples')\n",
    "plt.ylabel('DOA in degrees')\n",
    "plt.legend(['Actual','Predicted'])\n",
    "plt.show()"
   ]
  },
  {
   "cell_type": "markdown",
   "metadata": {},
   "source": [
    "# Put the predicted DOA's back into a csv file format #"
   ]
  },
  {
   "cell_type": "code",
   "execution_count": null,
   "metadata": {},
   "outputs": [],
   "source": [
    "#Ping |  Num Samp Num | PORT or STBD (0 or 1) |  TWTT |  Predicted DOA   <=======Output columns.\n",
    "OutputCSVdf=test.iloc[:,[0,1,2,3]]\n",
    "#OutputCSVdf= pd.DataFrame(test.iloc[:,[0,1,2,3]], columns=['PingNumber','SampNumber','PortStbd', 'SampleTime'])\n",
    "zerosArray= np.arange(sequence_length)*0\n",
    "predictedShifted=np.append(zerosArray, predicted)\n",
    "Predicteddf= pd.DataFrame(predictedShifted,columns=['PredictedDOA'])\n",
    "OutputCSVdf=OutputCSVdf.join(Predicteddf)"
   ]
  },
  {
   "cell_type": "code",
   "execution_count": null,
   "metadata": {},
   "outputs": [],
   "source": [
    "OutputCSVdf"
   ]
  },
  {
   "cell_type": "code",
   "execution_count": null,
   "metadata": {},
   "outputs": [],
   "source": [
    "OutputCSVdf.to_csv(path_or_buf=\"C:\\\\Users\\\\Daniel\\\\OneDrive - University of Massachusetts Dartmouth\\\\ECE457_Senior_Design_ECE5\\\\AIOutput_CSV_Files\\\\DL_PredictedOutputTestGood2Q.csv\")"
   ]
  },
  {
   "cell_type": "markdown",
   "metadata": {},
   "source": [
    "# Save the model #"
   ]
  },
  {
   "cell_type": "code",
   "execution_count": null,
   "metadata": {},
   "outputs": [],
   "source": [
    "tf.keras.models.save_model(model,filepath=\"C:\\\\Users\\\\Daniel\\\\Desktop\\\\Models\\\\model_10.83Percent.h5\")"
   ]
  },
  {
   "cell_type": "markdown",
   "metadata": {},
   "source": [
    "# Load Previous Models and Use them to Predict #"
   ]
  },
  {
   "cell_type": "code",
   "execution_count": null,
   "metadata": {},
   "outputs": [],
   "source": [
    "saved_model=tf.keras.models.load_model(filepath=\"C:\\\\Users\\\\Daniel\\\\Desktop\\\\Models\\\\model_10.83Percent.h5\")"
   ]
  },
  {
   "cell_type": "code",
   "execution_count": null,
   "metadata": {},
   "outputs": [],
   "source": [
    "predicted_saved=saved_model.predict(test_inputs)"
   ]
  },
  {
   "cell_type": "code",
   "execution_count": null,
   "metadata": {},
   "outputs": [],
   "source": [
    "plt.figure(facecolor='white')\n",
    "plt.plot(y_test[0:40000])\n",
    "plt.plot(predicted_saved[0:40000])\n",
    "plt.title(\"Actual\")\n",
    "plt.xlabel('Samples')\n",
    "plt.ylabel('DOA in degrees')\n",
    "plt.legend(['Actual','Predicted'])\n",
    "plt.show()"
   ]
  },
  {
   "cell_type": "markdown",
   "metadata": {},
   "source": [
    "# EVERYTHING BELOW HERE IS MY KERAS TUNER STUFF. VIEWER REGRESSION IS ADVISED. #"
   ]
  },
  {
   "cell_type": "code",
   "execution_count": null,
   "metadata": {},
   "outputs": [],
   "source": [
    "LOG_DIR = f\"{int(time.time())}\""
   ]
  },
  {
   "cell_type": "code",
   "execution_count": null,
   "metadata": {},
   "outputs": [],
   "source": [
    "def model_builder(hp):\n",
    "    model= Sequential()\n",
    "\n",
    "    #try\n",
    "    hp_units_1 = hp.Int('units1', min_value=32, max_value=512, step=32)\n",
    "    model.add(LSTM(units=hp_units_1, activation='tanh', input_shape=(sequence_length,n_features), return_sequences=True))\n",
    "    model.add(Dropout(0.2))\n",
    "\n",
    "    for i in range(hp.Int(\"n_layers\",1,2)):\n",
    "        model.add(LSTM(units=hp.Int(f\"LSTM_{i}_units\", min_value=32, max_value=512, step=32), activation='tanh', input_shape=(sequence_length,n_features), return_sequences=True))\n",
    "        model.add(Dropout(0.2))\n",
    "\n",
    "    #hp_units_2 = hp.Int('units2', min_value=32, max_value=512, step=32)\n",
    "    #model.add(LSTM(units=hp_units_2, activation='relu',  return_sequences=True))\n",
    "    #model.add(Dropout(0.2))\n",
    "\n",
    "    #hp_units_3 = hp.Int('units3', min_value=32, max_value=512, step=32)\n",
    "    #model.add(LSTM(units=hp_units_3, activation='relu', return_sequences=True))\n",
    "    #model.add(Dropout(0.2))\n",
    "\n",
    "    #hp_units_4 = hp.Int('units4', min_value=32, max_value=512, step=32)\n",
    "    #model.add(LSTM(units=hp_units_4, activation='relu',  return_sequences=True))\n",
    "    #model.add(Dropout(0.2))\n",
    "\n",
    "    model.add(Dense(units=1)) #one output (namely: DOA)\n",
    "\n",
    "    hp_learning_rate = hp.Choice('learning_rate', values=[1e-2, 1e-3, 1e-4])\n",
    "\n",
    "    opt=tf.keras.optimizers.Adam(learning_rate=hp_learning_rate,decay=1e-5)\n",
    "    model.compile(loss='mse', optimizer=opt)\n",
    "\n",
    "    return model"
   ]
  },
  {
   "cell_type": "code",
   "execution_count": null,
   "metadata": {},
   "outputs": [],
   "source": [
    "es= EarlyStopping(monitor='loss', mode='min',verbose=1,patience=10)\n",
    "\n",
    "tuner = kt.RandomSearch(model_builder, objective='loss', max_trials=1000, directory=os.path.normpath('C:/'))\n",
    "tuner.search(inputs,steps_per_epoch=2000,epochs=20,verbose=1, callbacks=[es])\n",
    "\n",
    "best_hps=tuner.get_best_hyperparameters(num_trials=1)[0]\n",
    "\n",
    "\n",
    "print(f\"\"\"\n",
    "The hyperparameter search is complete. The optimal number of units in the first densely-connected\n",
    "layer is {best_hps.get('units1')} and the optimal learning rate for the optimizer\n",
    "is {best_hps.get('learning_rate')}. \n",
    "\"\"\")"
   ]
  },
  {
   "cell_type": "code",
   "execution_count": null,
   "metadata": {},
   "outputs": [],
   "source": [
    "print(f\"\"\"\n",
    "Unit1: {best_hps.get('units1')} learning rate {best_hps.get('learning_rate')} LSTM0 units: {best_hps.get('LSTM_0_units')} LSTM1 units: {best_hps.get('LSTM_1_units')} \n",
    "\"\"\")"
   ]
  }
 ],
 "metadata": {
  "interpreter": {
   "hash": "e6fad8134df9e5d8b8d6d65c861d5f535ad48201ee3e73e4438a263582efefbc"
  },
  "kernelspec": {
   "display_name": "Python 3.10.1 64-bit",
   "language": "python",
   "name": "python3"
  },
  "language_info": {
   "codemirror_mode": {
    "name": "ipython",
    "version": 3
   },
   "file_extension": ".py",
   "mimetype": "text/x-python",
   "name": "python",
   "nbconvert_exporter": "python",
   "pygments_lexer": "ipython3",
   "version": "3.9.0"
  },
  "orig_nbformat": 4
 },
 "nbformat": 4,
 "nbformat_minor": 2
}
