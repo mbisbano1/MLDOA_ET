{
 "cells": [
  {
   "cell_type": "markdown",
   "metadata": {},
   "source": [
    "# Import the Neccesary Libraries #"
   ]
  },
  {
   "cell_type": "code",
   "execution_count": 1,
   "metadata": {},
   "outputs": [],
   "source": [
    "# Import the neccesary libraries needed\n",
    "import pandas as pd\n",
    "from matplotlib import pyplot as plt\n",
    "from sklearn.preprocessing import MinMaxScaler \n",
    "import numpy as np\n",
    "from numpy import insert\n",
    "import os\n",
    "import time\n",
    "\n",
    "# keras tuner for hyperparameter tuning\n",
    "import keras_tuner as kt\n",
    "\n",
    "# tensorflow Libraries\n",
    "import tensorflow as tf\n",
    "from keras.preprocessing.sequence import TimeseriesGenerator\n",
    "from tensorflow import keras\n",
    "from tensorflow.keras.models import Sequential, load_model\n",
    "from tensorflow.keras.layers import Activation, Dense, Dropout, LSTM\n",
    "from tensorflow.keras.optimizers import Adam\n",
    "from tensorflow.keras.metrics import sparse_categorical_crossentropy\n",
    "from keras.callbacks import EarlyStopping\n",
    "from keras.models import load_model\n",
    "from tensorflow import feature_column\n",
    "from tensorflow.keras import layers\n",
    "from keras.models import load_model\n",
    "from keras.callbacks import ModelCheckpoint"
   ]
  },
  {
   "cell_type": "markdown",
   "metadata": {},
   "source": [
    "# Import the CSV Training and Testing Data Sets #"
   ]
  },
  {
   "cell_type": "code",
   "execution_count": 2,
   "metadata": {},
   "outputs": [],
   "source": [
    "# Import the csv's (IMPORTANT: You need at least 16 Gb of RAM to proceed)\n",
    "train=pd.read_csv(r'C:\\Users\\Daniel\\OneDrive - University of Massachusetts Dartmouth\\ECE457_Senior_Design_ECE5\\CSV_Files\\\\0001_1404.002NR_port.csv')\n",
    "test=pd.read_csv(r'C:\\Users\\Daniel\\OneDrive - University of Massachusetts Dartmouth\\ECE457_Senior_Design_ECE5\\CSV_Files\\\\0001_1404.002NR_stbd.csv')"
   ]
  },
  {
   "cell_type": "code",
   "execution_count": null,
   "metadata": {},
   "outputs": [],
   "source": [
    "train"
   ]
  },
  {
   "cell_type": "code",
   "execution_count": null,
   "metadata": {},
   "outputs": [],
   "source": [
    "test"
   ]
  },
  {
   "cell_type": "markdown",
   "metadata": {},
   "source": [
    "# Split up the Features and Labels from both the Training and Testing Datasets #"
   ]
  },
  {
   "cell_type": "code",
   "execution_count": 3,
   "metadata": {},
   "outputs": [],
   "source": [
    "# Split up the features and labels from both the training and testing datasets\n",
    "x_train=train.iloc[:,3:24]\n",
    "#x_train['TWTT']=train.iloc[:,28]  I feel as though the TWTT has NO impact on the DOA so we should NOT include it in training\n",
    "x_train['Amplitude']=train.iloc[:,29]\n",
    "\n",
    "\n",
    "x_test=test.iloc[:,3:24]\n",
    "#x_test['TWTT']=test.iloc[:,28] I feel as though the TWTT has NO impact on the DOA so we should NOT include it in training\n",
    "x_test['Amplitude']=test.iloc[:,29]\n",
    "\n",
    "y_train=train.iloc[:,26]\n",
    "\n",
    "y_test=test.iloc[:,26]"
   ]
  },
  {
   "cell_type": "code",
   "execution_count": null,
   "metadata": {},
   "outputs": [],
   "source": [
    "y_test"
   ]
  },
  {
   "cell_type": "code",
   "execution_count": null,
   "metadata": {},
   "outputs": [],
   "source": [
    "x_train"
   ]
  },
  {
   "cell_type": "markdown",
   "metadata": {},
   "source": [
    "# Scale the Feaures from 0 to 1 so that Training is Easier for the Model #"
   ]
  },
  {
   "cell_type": "code",
   "execution_count": 4,
   "metadata": {},
   "outputs": [
    {
     "name": "stdout",
     "output_type": "stream",
     "text": [
      "4984691\n",
      "4984691\n"
     ]
    }
   ],
   "source": [
    "# Scale the Features and Labels from [-1,1]\n",
    "s1=MinMaxScaler(feature_range=(0,1)) #try (-1,1)\n",
    "x_train_scale=s1.fit_transform(x_train)\n",
    "\n",
    "s2=MinMaxScaler(feature_range=(0,1)) #try (-1,1)\n",
    "x_test_scale=s2.fit_transform(x_test)\n",
    "x_test_scale=x_test_scale\n",
    "\n",
    "# Scale DOA's from (0 to 1)\n",
    "s3=MinMaxScaler(feature_range=(0,1))\n",
    "#y_train_scale = s3.fit_transform(train[['DOA']])\n",
    "y_train_scale= y_train.to_numpy()\n",
    "\n",
    "s4=MinMaxScaler(feature_range=(0,1))\n",
    "#y_test_scale = s4.fit_transform(test[['DOA']])\n",
    "y_test_scale= y_test.to_numpy()\n",
    "\n",
    "print(len(x_train_scale))\n",
    "print(len(y_train_scale))"
   ]
  },
  {
   "cell_type": "markdown",
   "metadata": {},
   "source": [
    "# Shift the DOA's to the Left by one so that the Current I and Q data Align with the current DOA while using TimeSeriesGenerator to Window the Data #"
   ]
  },
  {
   "cell_type": "code",
   "execution_count": 5,
   "metadata": {},
   "outputs": [
    {
     "name": "stdout",
     "output_type": "stream",
     "text": [
      "4984691\n",
      "5224717\n",
      "[ 0.         71.64600062 70.74600061 ... 80.2140007  80.2440007\n",
      " 80.2680007 ]\n",
      "4984691\n",
      "[ 0.         72.31800063 71.37600062 ... 79.83600069 79.69800069\n",
      " 79.87800069]\n",
      "5224717\n"
     ]
    }
   ],
   "source": [
    "# Shift the DOA to the left by one to use the current DOA label with the current I and Q data.\n",
    "# Normally the TimeseriesGenerator function uses past values to predict the future but we would like current data to help predict the current samples' DOA\n",
    "print(len(x_train_scale))\n",
    "print(len(y_test_scale))\n",
    "y_train_scale=insert(y_train_scale, 0, 0)\n",
    "y_train_scale=np.delete(y_train_scale, -1)\n",
    "y_test_scale=insert(y_test_scale, 0,0)\n",
    "y_test_scale=np.delete(y_test_scale, -1)\n",
    "print(y_train_scale)\n",
    "print(len(y_train_scale))\n",
    "print(y_test_scale)\n",
    "print(len(y_test_scale))"
   ]
  },
  {
   "cell_type": "markdown",
   "metadata": {},
   "source": [
    "# Create the Windows Neccesary for the LSTM model using the TimeSeriesGenerator Function #"
   ]
  },
  {
   "cell_type": "code",
   "execution_count": 33,
   "metadata": {},
   "outputs": [
    {
     "name": "stdout",
     "output_type": "stream",
     "text": [
      "done\n"
     ]
    }
   ],
   "source": [
    "# Create the windows neccesary for the LSTM model within tensorflow keras\n",
    "# Below are the arguments of the timeseries_dataset_from_array function\n",
    "# The function takes a numpy array and makes a timeseries out of it\n",
    "NumSampsPerPing= 4278\n",
    "data=x_train_scale # the data to make the windows\n",
    "targets=y_train_scale # time steps in the data (don't need)\n",
    "sequence_length=10 # window length\n",
    "sequence_stride=1# period between successive output sequences\n",
    "sampling_rate=1 # period between successive individual timesteps     within sequences\n",
    "batch_size=64 # number of time series samples in each batch\n",
    "shuffle=True #shuffle the data before making the windows\n",
    "seed=None # is related to shuffle\n",
    "start_index=None # is related to shuffle\n",
    "end_index=None # is related to shuffle\n",
    "n_features=22\n",
    "\n",
    "test_data=x_test_scale\n",
    "test_targets=y_test_scale\n",
    "\n",
    "dataRows= data.shape[0]\n",
    "validationStartRow= dataRows-NumSampsPerPing*281\n",
    "#print(validationStartRow, ',', dataRows)\n",
    "\n",
    "#split up the training data into a validation set and training set\n",
    "train_data=data[:validationStartRow-1]\n",
    "train_targets=targets[:validationStartRow-1]\n",
    "val_data=data[validationStartRow:]\n",
    "val_targets=targets[validationStartRow:]\n",
    "\n",
    "inputs=TimeseriesGenerator(data=train_data, targets=train_targets,length=sequence_length, batch_size=batch_size, shuffle=True)\n",
    "val_inputs=TimeseriesGenerator(data=val_data, targets=val_targets,length=sequence_length, batch_size=batch_size, shuffle=True)\n",
    "\n",
    "\n",
    "#test_inputs=TimeseriesGenerator(test_data[0:40000], -1*test_targets[0:40000],sequence_length, batch_size)\n",
    "test_inputs=TimeseriesGenerator(data=test_data, targets=test_targets,length=sequence_length, batch_size=batch_size)\n",
    "\n",
    "#inputs=tf.keras.preprocessing.timeseries_dataset_from_array(data, targets, sequence_length, sequence_stride, sampling_rate, batch_size, shuffle)\n",
    "#print(type(inputs))\n",
    "\n",
    "print('done')"
   ]
  },
  {
   "cell_type": "code",
   "execution_count": null,
   "metadata": {},
   "outputs": [],
   "source": [
    "# print the first couple of samples to see if everything everything is lining up\n",
    "for i in range(100):\n",
    "\tx, y = inputs[i]\n",
    "\tprint('%s => %s' % (x, y))"
   ]
  },
  {
   "cell_type": "code",
   "execution_count": null,
   "metadata": {},
   "outputs": [],
   "source": [
    "# print the first couple of samples to see if everything everything is lining up\n",
    "for i in range(100):\n",
    "\tx, y = test_inputs[i]\n",
    "\tprint('%s => %s' % (x, y))"
   ]
  },
  {
   "cell_type": "markdown",
   "metadata": {},
   "source": [
    "# Define the Model's Structure #"
   ]
  },
  {
   "cell_type": "code",
   "execution_count": 34,
   "metadata": {},
   "outputs": [],
   "source": [
    "# With all the preproccessing done, it is time to define the model\n",
    "# Define the LSTM Model\n",
    "# Make sure to ALWAYS use return_sequences=True when using series LSTM layers. MAKE SURE THAT THE LAST LSTM LAYER DOES NOT HAVE RETURN SEQUENCES=TRUE SINCE THE OUTPUT WILL BE 3D. return sequences makes the output shape of the layer\n",
    "# equal its input. so in this case 3d.\n",
    "model= Sequential()\n",
    "model.add(LSTM(units=22, activation='tanh', input_shape=(sequence_length,n_features), return_sequences=False, name='LSTM1'))\n",
    "#model.add(Dense(units=100, activation='relu'))\n",
    "#model.add(Dropout(0.2))\n",
    "\n",
    "#model.add(LSTM(units=416, activation='relu', return_sequences=True,name='LSTM2'))\n",
    "model.add(Dense(units=30, activation='relu'))\n",
    "model.add(Dense(units=30, activation='relu'))\n",
    "model.add(Dense(units=60, activation='relu'))\n",
    "model.add(Dense(units=60, activation='relu'))\n",
    "\n",
    "#model.add(Dropout(0.2))\n",
    "\n",
    "#model.add(LSTM(units=512, activation='relu', name='LSTM3', ))\n",
    "#model.add(Dense(units=100))\n",
    "#model.add(Dropout(0.2))\n",
    "\n",
    "#model.add(LSTM(units=320, activation='relu', return_sequences=True,name='LSTM4'))\n",
    "#model.add(Dense(units=100))\n",
    "#model.add(Dropout(0.2))\n",
    "\n",
    "#model.add(LSTM(units=480, activation='relu', return_sequences=True, name='LSTM5'))\n",
    "#model.add(Dense(units=100))\n",
    "#model.add(Dropout(0.2))\n",
    "\n",
    "\n",
    "model.add(Dense(units=1)) #one output (namely: DOA)\n"
   ]
  },
  {
   "cell_type": "code",
   "execution_count": null,
   "metadata": {},
   "outputs": [],
   "source": [
    "model.summary()"
   ]
  },
  {
   "cell_type": "code",
   "execution_count": null,
   "metadata": {},
   "outputs": [],
   "source": [
    "def scheduler(epoch,lr):\n",
    "    if epoch>=1:\n",
    "        return lr\n",
    "    elif epoch>=2 | epoch<=4:\n",
    "        return lr/1.65\n",
    "    else:\n",
    "        return lr*tf.math.exp(-.5)"
   ]
  },
  {
   "cell_type": "markdown",
   "metadata": {},
   "source": [
    "# Train the Model using the Specified Hyperparmeters #"
   ]
  },
  {
   "cell_type": "code",
   "execution_count": 35,
   "metadata": {},
   "outputs": [
    {
     "name": "stdout",
     "output_type": "stream",
     "text": [
      "Epoch 1/20\n",
      "59101/59103 [============================>.] - ETA: 0s - loss: 8.5982 - mean_squared_error: 33.9758 - root_mean_squared_error: 5.8289"
     ]
    },
    {
     "name": "stderr",
     "output_type": "stream",
     "text": [
      "WARNING:absl:Function `_wrapped_model` contains input name(s) LSTM1_input with unsupported characters which will be renamed to lstm1_input in the SavedModel.\n",
      "WARNING:absl:Found untraced functions such as lstm_cell_2_layer_call_fn, lstm_cell_2_layer_call_and_return_conditional_losses, lstm_cell_2_layer_call_fn, lstm_cell_2_layer_call_and_return_conditional_losses, lstm_cell_2_layer_call_and_return_conditional_losses while saving (showing 5 of 5). These functions will not be directly callable after loading.\n"
     ]
    },
    {
     "name": "stdout",
     "output_type": "stream",
     "text": [
      "INFO:tensorflow:Assets written to: model\\assets\n"
     ]
    },
    {
     "name": "stderr",
     "output_type": "stream",
     "text": [
      "INFO:tensorflow:Assets written to: model\\assets\n",
      "WARNING:absl:<keras.layers.recurrent.LSTMCell object at 0x000001F46A8AECD0> has the same name 'LSTMCell' as a built-in Keras object. Consider renaming <class 'keras.layers.recurrent.LSTMCell'> to avoid naming conflicts when loading with `tf.keras.models.load_model`. If renaming is not possible, pass the object in the `custom_objects` parameter of the load function.\n"
     ]
    },
    {
     "name": "stdout",
     "output_type": "stream",
     "text": [
      "59103/59103 [==============================] - 383s 6ms/step - loss: 8.5983 - mean_squared_error: 33.9765 - root_mean_squared_error: 5.8289 - val_loss: 6.3501 - val_mean_squared_error: 22.2399 - val_root_mean_squared_error: 4.7159\n",
      "Epoch 2/20\n",
      "59103/59103 [==============================] - ETA: 0s - loss: 5.7231 - mean_squared_error: 19.2415 - root_mean_squared_error: 4.3865"
     ]
    },
    {
     "name": "stderr",
     "output_type": "stream",
     "text": [
      "WARNING:absl:Function `_wrapped_model` contains input name(s) LSTM1_input with unsupported characters which will be renamed to lstm1_input in the SavedModel.\n",
      "WARNING:absl:Found untraced functions such as lstm_cell_2_layer_call_fn, lstm_cell_2_layer_call_and_return_conditional_losses, lstm_cell_2_layer_call_fn, lstm_cell_2_layer_call_and_return_conditional_losses, lstm_cell_2_layer_call_and_return_conditional_losses while saving (showing 5 of 5). These functions will not be directly callable after loading.\n"
     ]
    },
    {
     "name": "stdout",
     "output_type": "stream",
     "text": [
      "INFO:tensorflow:Assets written to: model\\assets\n"
     ]
    },
    {
     "name": "stderr",
     "output_type": "stream",
     "text": [
      "INFO:tensorflow:Assets written to: model\\assets\n",
      "WARNING:absl:<keras.layers.recurrent.LSTMCell object at 0x000001F46A8AECD0> has the same name 'LSTMCell' as a built-in Keras object. Consider renaming <class 'keras.layers.recurrent.LSTMCell'> to avoid naming conflicts when loading with `tf.keras.models.load_model`. If renaming is not possible, pass the object in the `custom_objects` parameter of the load function.\n"
     ]
    },
    {
     "name": "stdout",
     "output_type": "stream",
     "text": [
      "59103/59103 [==============================] - 399s 7ms/step - loss: 5.7231 - mean_squared_error: 19.2415 - root_mean_squared_error: 4.3865 - val_loss: 5.3671 - val_mean_squared_error: 19.1221 - val_root_mean_squared_error: 4.3729\n",
      "Epoch 3/20\n",
      "59101/59103 [============================>.] - ETA: 0s - loss: 5.4837 - mean_squared_error: 18.5239 - root_mean_squared_error: 4.3039"
     ]
    },
    {
     "name": "stderr",
     "output_type": "stream",
     "text": [
      "WARNING:absl:Function `_wrapped_model` contains input name(s) LSTM1_input with unsupported characters which will be renamed to lstm1_input in the SavedModel.\n",
      "WARNING:absl:Found untraced functions such as lstm_cell_2_layer_call_fn, lstm_cell_2_layer_call_and_return_conditional_losses, lstm_cell_2_layer_call_fn, lstm_cell_2_layer_call_and_return_conditional_losses, lstm_cell_2_layer_call_and_return_conditional_losses while saving (showing 5 of 5). These functions will not be directly callable after loading.\n"
     ]
    },
    {
     "name": "stdout",
     "output_type": "stream",
     "text": [
      "INFO:tensorflow:Assets written to: model\\assets\n"
     ]
    },
    {
     "name": "stderr",
     "output_type": "stream",
     "text": [
      "INFO:tensorflow:Assets written to: model\\assets\n",
      "WARNING:absl:<keras.layers.recurrent.LSTMCell object at 0x000001F46A8AECD0> has the same name 'LSTMCell' as a built-in Keras object. Consider renaming <class 'keras.layers.recurrent.LSTMCell'> to avoid naming conflicts when loading with `tf.keras.models.load_model`. If renaming is not possible, pass the object in the `custom_objects` parameter of the load function.\n"
     ]
    },
    {
     "name": "stdout",
     "output_type": "stream",
     "text": [
      "59103/59103 [==============================] - 390s 7ms/step - loss: 5.4838 - mean_squared_error: 18.5239 - root_mean_squared_error: 4.3039 - val_loss: 4.4181 - val_mean_squared_error: 13.6463 - val_root_mean_squared_error: 3.6941\n",
      "Epoch 4/20\n",
      "59100/59103 [============================>.] - ETA: 0s - loss: 5.4187 - mean_squared_error: 18.3867 - root_mean_squared_error: 4.2880"
     ]
    },
    {
     "name": "stderr",
     "output_type": "stream",
     "text": [
      "WARNING:absl:Function `_wrapped_model` contains input name(s) LSTM1_input with unsupported characters which will be renamed to lstm1_input in the SavedModel.\n",
      "WARNING:absl:Found untraced functions such as lstm_cell_2_layer_call_fn, lstm_cell_2_layer_call_and_return_conditional_losses, lstm_cell_2_layer_call_fn, lstm_cell_2_layer_call_and_return_conditional_losses, lstm_cell_2_layer_call_and_return_conditional_losses while saving (showing 5 of 5). These functions will not be directly callable after loading.\n"
     ]
    },
    {
     "name": "stdout",
     "output_type": "stream",
     "text": [
      "INFO:tensorflow:Assets written to: model\\assets\n"
     ]
    },
    {
     "name": "stderr",
     "output_type": "stream",
     "text": [
      "INFO:tensorflow:Assets written to: model\\assets\n",
      "WARNING:absl:<keras.layers.recurrent.LSTMCell object at 0x000001F46A8AECD0> has the same name 'LSTMCell' as a built-in Keras object. Consider renaming <class 'keras.layers.recurrent.LSTMCell'> to avoid naming conflicts when loading with `tf.keras.models.load_model`. If renaming is not possible, pass the object in the `custom_objects` parameter of the load function.\n"
     ]
    },
    {
     "name": "stdout",
     "output_type": "stream",
     "text": [
      "59103/59103 [==============================] - 392s 7ms/step - loss: 5.4188 - mean_squared_error: 18.3876 - root_mean_squared_error: 4.2881 - val_loss: 5.0518 - val_mean_squared_error: 18.4073 - val_root_mean_squared_error: 4.2904\n",
      "Epoch 5/20\n",
      "59100/59103 [============================>.] - ETA: 0s - loss: 5.3293 - mean_squared_error: 18.0192 - root_mean_squared_error: 4.2449"
     ]
    },
    {
     "name": "stderr",
     "output_type": "stream",
     "text": [
      "WARNING:absl:Function `_wrapped_model` contains input name(s) LSTM1_input with unsupported characters which will be renamed to lstm1_input in the SavedModel.\n",
      "WARNING:absl:Found untraced functions such as lstm_cell_2_layer_call_fn, lstm_cell_2_layer_call_and_return_conditional_losses, lstm_cell_2_layer_call_fn, lstm_cell_2_layer_call_and_return_conditional_losses, lstm_cell_2_layer_call_and_return_conditional_losses while saving (showing 5 of 5). These functions will not be directly callable after loading.\n"
     ]
    },
    {
     "name": "stdout",
     "output_type": "stream",
     "text": [
      "INFO:tensorflow:Assets written to: model\\assets\n"
     ]
    },
    {
     "name": "stderr",
     "output_type": "stream",
     "text": [
      "INFO:tensorflow:Assets written to: model\\assets\n",
      "WARNING:absl:<keras.layers.recurrent.LSTMCell object at 0x000001F46A8AECD0> has the same name 'LSTMCell' as a built-in Keras object. Consider renaming <class 'keras.layers.recurrent.LSTMCell'> to avoid naming conflicts when loading with `tf.keras.models.load_model`. If renaming is not possible, pass the object in the `custom_objects` parameter of the load function.\n"
     ]
    },
    {
     "name": "stdout",
     "output_type": "stream",
     "text": [
      "59103/59103 [==============================] - 388s 7ms/step - loss: 5.3293 - mean_squared_error: 18.0188 - root_mean_squared_error: 4.2449 - val_loss: 4.0370 - val_mean_squared_error: 12.4528 - val_root_mean_squared_error: 3.5288\n",
      "Epoch 6/20\n",
      "59097/59103 [============================>.] - ETA: 0s - loss: 5.2607 - mean_squared_error: 17.7889 - root_mean_squared_error: 4.2177"
     ]
    },
    {
     "name": "stderr",
     "output_type": "stream",
     "text": [
      "WARNING:absl:Function `_wrapped_model` contains input name(s) LSTM1_input with unsupported characters which will be renamed to lstm1_input in the SavedModel.\n",
      "WARNING:absl:Found untraced functions such as lstm_cell_2_layer_call_fn, lstm_cell_2_layer_call_and_return_conditional_losses, lstm_cell_2_layer_call_fn, lstm_cell_2_layer_call_and_return_conditional_losses, lstm_cell_2_layer_call_and_return_conditional_losses while saving (showing 5 of 5). These functions will not be directly callable after loading.\n"
     ]
    },
    {
     "name": "stdout",
     "output_type": "stream",
     "text": [
      "INFO:tensorflow:Assets written to: model\\assets\n"
     ]
    },
    {
     "name": "stderr",
     "output_type": "stream",
     "text": [
      "INFO:tensorflow:Assets written to: model\\assets\n",
      "WARNING:absl:<keras.layers.recurrent.LSTMCell object at 0x000001F46A8AECD0> has the same name 'LSTMCell' as a built-in Keras object. Consider renaming <class 'keras.layers.recurrent.LSTMCell'> to avoid naming conflicts when loading with `tf.keras.models.load_model`. If renaming is not possible, pass the object in the `custom_objects` parameter of the load function.\n"
     ]
    },
    {
     "name": "stdout",
     "output_type": "stream",
     "text": [
      "59103/59103 [==============================] - 389s 7ms/step - loss: 5.2605 - mean_squared_error: 17.7882 - root_mean_squared_error: 4.2176 - val_loss: 4.4985 - val_mean_squared_error: 14.8473 - val_root_mean_squared_error: 3.8532\n",
      "Epoch 7/20\n",
      "59102/59103 [============================>.] - ETA: 0s - loss: 5.2106 - mean_squared_error: 17.5816 - root_mean_squared_error: 4.1930"
     ]
    },
    {
     "name": "stderr",
     "output_type": "stream",
     "text": [
      "WARNING:absl:Function `_wrapped_model` contains input name(s) LSTM1_input with unsupported characters which will be renamed to lstm1_input in the SavedModel.\n",
      "WARNING:absl:Found untraced functions such as lstm_cell_2_layer_call_fn, lstm_cell_2_layer_call_and_return_conditional_losses, lstm_cell_2_layer_call_fn, lstm_cell_2_layer_call_and_return_conditional_losses, lstm_cell_2_layer_call_and_return_conditional_losses while saving (showing 5 of 5). These functions will not be directly callable after loading.\n"
     ]
    },
    {
     "name": "stdout",
     "output_type": "stream",
     "text": [
      "INFO:tensorflow:Assets written to: model\\assets\n"
     ]
    },
    {
     "name": "stderr",
     "output_type": "stream",
     "text": [
      "INFO:tensorflow:Assets written to: model\\assets\n",
      "WARNING:absl:<keras.layers.recurrent.LSTMCell object at 0x000001F46A8AECD0> has the same name 'LSTMCell' as a built-in Keras object. Consider renaming <class 'keras.layers.recurrent.LSTMCell'> to avoid naming conflicts when loading with `tf.keras.models.load_model`. If renaming is not possible, pass the object in the `custom_objects` parameter of the load function.\n"
     ]
    },
    {
     "name": "stdout",
     "output_type": "stream",
     "text": [
      "59103/59103 [==============================] - 383s 6ms/step - loss: 5.2106 - mean_squared_error: 17.5814 - root_mean_squared_error: 4.1930 - val_loss: 4.5853 - val_mean_squared_error: 14.2638 - val_root_mean_squared_error: 3.7767\n",
      "Epoch 8/20\n",
      "59099/59103 [============================>.] - ETA: 0s - loss: 5.1645 - mean_squared_error: 17.5001 - root_mean_squared_error: 4.1833"
     ]
    },
    {
     "name": "stderr",
     "output_type": "stream",
     "text": [
      "WARNING:absl:Function `_wrapped_model` contains input name(s) LSTM1_input with unsupported characters which will be renamed to lstm1_input in the SavedModel.\n",
      "WARNING:absl:Found untraced functions such as lstm_cell_2_layer_call_fn, lstm_cell_2_layer_call_and_return_conditional_losses, lstm_cell_2_layer_call_fn, lstm_cell_2_layer_call_and_return_conditional_losses, lstm_cell_2_layer_call_and_return_conditional_losses while saving (showing 5 of 5). These functions will not be directly callable after loading.\n"
     ]
    },
    {
     "name": "stdout",
     "output_type": "stream",
     "text": [
      "INFO:tensorflow:Assets written to: model\\assets\n"
     ]
    },
    {
     "name": "stderr",
     "output_type": "stream",
     "text": [
      "INFO:tensorflow:Assets written to: model\\assets\n",
      "WARNING:absl:<keras.layers.recurrent.LSTMCell object at 0x000001F46A8AECD0> has the same name 'LSTMCell' as a built-in Keras object. Consider renaming <class 'keras.layers.recurrent.LSTMCell'> to avoid naming conflicts when loading with `tf.keras.models.load_model`. If renaming is not possible, pass the object in the `custom_objects` parameter of the load function.\n"
     ]
    },
    {
     "name": "stdout",
     "output_type": "stream",
     "text": [
      "59103/59103 [==============================] - 387s 7ms/step - loss: 5.1644 - mean_squared_error: 17.4996 - root_mean_squared_error: 4.1833 - val_loss: 4.4839 - val_mean_squared_error: 16.3311 - val_root_mean_squared_error: 4.0412\n",
      "Epoch 9/20\n",
      "59103/59103 [==============================] - ETA: 0s - loss: 5.1195 - mean_squared_error: 17.3698 - root_mean_squared_error: 4.1677"
     ]
    },
    {
     "name": "stderr",
     "output_type": "stream",
     "text": [
      "WARNING:absl:Function `_wrapped_model` contains input name(s) LSTM1_input with unsupported characters which will be renamed to lstm1_input in the SavedModel.\n",
      "WARNING:absl:Found untraced functions such as lstm_cell_2_layer_call_fn, lstm_cell_2_layer_call_and_return_conditional_losses, lstm_cell_2_layer_call_fn, lstm_cell_2_layer_call_and_return_conditional_losses, lstm_cell_2_layer_call_and_return_conditional_losses while saving (showing 5 of 5). These functions will not be directly callable after loading.\n"
     ]
    },
    {
     "name": "stdout",
     "output_type": "stream",
     "text": [
      "INFO:tensorflow:Assets written to: model\\assets\n"
     ]
    },
    {
     "name": "stderr",
     "output_type": "stream",
     "text": [
      "INFO:tensorflow:Assets written to: model\\assets\n",
      "WARNING:absl:<keras.layers.recurrent.LSTMCell object at 0x000001F46A8AECD0> has the same name 'LSTMCell' as a built-in Keras object. Consider renaming <class 'keras.layers.recurrent.LSTMCell'> to avoid naming conflicts when loading with `tf.keras.models.load_model`. If renaming is not possible, pass the object in the `custom_objects` parameter of the load function.\n"
     ]
    },
    {
     "name": "stdout",
     "output_type": "stream",
     "text": [
      "59103/59103 [==============================] - 394s 7ms/step - loss: 5.1195 - mean_squared_error: 17.3698 - root_mean_squared_error: 4.1677 - val_loss: 4.0408 - val_mean_squared_error: 12.4609 - val_root_mean_squared_error: 3.5300\n",
      "Epoch 10/20\n",
      "59099/59103 [============================>.] - ETA: 0s - loss: 5.1093 - mean_squared_error: 17.4068 - root_mean_squared_error: 4.1722"
     ]
    },
    {
     "name": "stderr",
     "output_type": "stream",
     "text": [
      "WARNING:absl:Function `_wrapped_model` contains input name(s) LSTM1_input with unsupported characters which will be renamed to lstm1_input in the SavedModel.\n",
      "WARNING:absl:Found untraced functions such as lstm_cell_2_layer_call_fn, lstm_cell_2_layer_call_and_return_conditional_losses, lstm_cell_2_layer_call_fn, lstm_cell_2_layer_call_and_return_conditional_losses, lstm_cell_2_layer_call_and_return_conditional_losses while saving (showing 5 of 5). These functions will not be directly callable after loading.\n"
     ]
    },
    {
     "name": "stdout",
     "output_type": "stream",
     "text": [
      "INFO:tensorflow:Assets written to: model\\assets\n"
     ]
    },
    {
     "name": "stderr",
     "output_type": "stream",
     "text": [
      "INFO:tensorflow:Assets written to: model\\assets\n",
      "WARNING:absl:<keras.layers.recurrent.LSTMCell object at 0x000001F46A8AECD0> has the same name 'LSTMCell' as a built-in Keras object. Consider renaming <class 'keras.layers.recurrent.LSTMCell'> to avoid naming conflicts when loading with `tf.keras.models.load_model`. If renaming is not possible, pass the object in the `custom_objects` parameter of the load function.\n"
     ]
    },
    {
     "name": "stdout",
     "output_type": "stream",
     "text": [
      "59103/59103 [==============================] - 394s 7ms/step - loss: 5.1092 - mean_squared_error: 17.4065 - root_mean_squared_error: 4.1721 - val_loss: 4.2964 - val_mean_squared_error: 13.9232 - val_root_mean_squared_error: 3.7314\n",
      "Epoch 11/20\n",
      "59103/59103 [==============================] - 384s 7ms/step - loss: 5.1447 - mean_squared_error: 17.7278 - root_mean_squared_error: 4.2104 - val_loss: 4.2853 - val_mean_squared_error: 13.6652 - val_root_mean_squared_error: 3.6966\n",
      "Epoch 12/20\n",
      "59098/59103 [============================>.] - ETA: 0s - loss: 5.0768 - mean_squared_error: 17.4040 - root_mean_squared_error: 4.1718"
     ]
    },
    {
     "name": "stderr",
     "output_type": "stream",
     "text": [
      "WARNING:absl:Function `_wrapped_model` contains input name(s) LSTM1_input with unsupported characters which will be renamed to lstm1_input in the SavedModel.\n",
      "WARNING:absl:Found untraced functions such as lstm_cell_2_layer_call_fn, lstm_cell_2_layer_call_and_return_conditional_losses, lstm_cell_2_layer_call_fn, lstm_cell_2_layer_call_and_return_conditional_losses, lstm_cell_2_layer_call_and_return_conditional_losses while saving (showing 5 of 5). These functions will not be directly callable after loading.\n"
     ]
    },
    {
     "name": "stdout",
     "output_type": "stream",
     "text": [
      "INFO:tensorflow:Assets written to: model\\assets\n"
     ]
    },
    {
     "name": "stderr",
     "output_type": "stream",
     "text": [
      "INFO:tensorflow:Assets written to: model\\assets\n",
      "WARNING:absl:<keras.layers.recurrent.LSTMCell object at 0x000001F46A8AECD0> has the same name 'LSTMCell' as a built-in Keras object. Consider renaming <class 'keras.layers.recurrent.LSTMCell'> to avoid naming conflicts when loading with `tf.keras.models.load_model`. If renaming is not possible, pass the object in the `custom_objects` parameter of the load function.\n"
     ]
    },
    {
     "name": "stdout",
     "output_type": "stream",
     "text": [
      "59103/59103 [==============================] - 367s 6ms/step - loss: 5.0770 - mean_squared_error: 17.4047 - root_mean_squared_error: 4.1719 - val_loss: 4.2454 - val_mean_squared_error: 13.6589 - val_root_mean_squared_error: 3.6958\n",
      "Epoch 13/20\n",
      "59099/59103 [============================>.] - ETA: 0s - loss: 5.0284 - mean_squared_error: 17.0658 - root_mean_squared_error: 4.1311"
     ]
    },
    {
     "name": "stderr",
     "output_type": "stream",
     "text": [
      "WARNING:absl:Function `_wrapped_model` contains input name(s) LSTM1_input with unsupported characters which will be renamed to lstm1_input in the SavedModel.\n",
      "WARNING:absl:Found untraced functions such as lstm_cell_2_layer_call_fn, lstm_cell_2_layer_call_and_return_conditional_losses, lstm_cell_2_layer_call_fn, lstm_cell_2_layer_call_and_return_conditional_losses, lstm_cell_2_layer_call_and_return_conditional_losses while saving (showing 5 of 5). These functions will not be directly callable after loading.\n"
     ]
    },
    {
     "name": "stdout",
     "output_type": "stream",
     "text": [
      "INFO:tensorflow:Assets written to: model\\assets\n"
     ]
    },
    {
     "name": "stderr",
     "output_type": "stream",
     "text": [
      "INFO:tensorflow:Assets written to: model\\assets\n",
      "WARNING:absl:<keras.layers.recurrent.LSTMCell object at 0x000001F46A8AECD0> has the same name 'LSTMCell' as a built-in Keras object. Consider renaming <class 'keras.layers.recurrent.LSTMCell'> to avoid naming conflicts when loading with `tf.keras.models.load_model`. If renaming is not possible, pass the object in the `custom_objects` parameter of the load function.\n"
     ]
    },
    {
     "name": "stdout",
     "output_type": "stream",
     "text": [
      "59103/59103 [==============================] - 368s 6ms/step - loss: 5.0284 - mean_squared_error: 17.0654 - root_mean_squared_error: 4.1310 - val_loss: 3.9942 - val_mean_squared_error: 12.5338 - val_root_mean_squared_error: 3.5403\n",
      "Epoch 14/20\n",
      "59103/59103 [==============================] - 367s 6ms/step - loss: 5.0287 - mean_squared_error: 17.2140 - root_mean_squared_error: 4.1490 - val_loss: 4.3178 - val_mean_squared_error: 15.1681 - val_root_mean_squared_error: 3.8946\n",
      "Epoch 15/20\n",
      "59097/59103 [============================>.] - ETA: 0s - loss: 5.0103 - mean_squared_error: 17.1917 - root_mean_squared_error: 4.1463"
     ]
    },
    {
     "name": "stderr",
     "output_type": "stream",
     "text": [
      "WARNING:absl:Function `_wrapped_model` contains input name(s) LSTM1_input with unsupported characters which will be renamed to lstm1_input in the SavedModel.\n",
      "WARNING:absl:Found untraced functions such as lstm_cell_2_layer_call_fn, lstm_cell_2_layer_call_and_return_conditional_losses, lstm_cell_2_layer_call_fn, lstm_cell_2_layer_call_and_return_conditional_losses, lstm_cell_2_layer_call_and_return_conditional_losses while saving (showing 5 of 5). These functions will not be directly callable after loading.\n"
     ]
    },
    {
     "name": "stdout",
     "output_type": "stream",
     "text": [
      "INFO:tensorflow:Assets written to: model\\assets\n"
     ]
    },
    {
     "name": "stderr",
     "output_type": "stream",
     "text": [
      "INFO:tensorflow:Assets written to: model\\assets\n",
      "WARNING:absl:<keras.layers.recurrent.LSTMCell object at 0x000001F46A8AECD0> has the same name 'LSTMCell' as a built-in Keras object. Consider renaming <class 'keras.layers.recurrent.LSTMCell'> to avoid naming conflicts when loading with `tf.keras.models.load_model`. If renaming is not possible, pass the object in the `custom_objects` parameter of the load function.\n"
     ]
    },
    {
     "name": "stdout",
     "output_type": "stream",
     "text": [
      "59103/59103 [==============================] - 365s 6ms/step - loss: 5.0103 - mean_squared_error: 17.1913 - root_mean_squared_error: 4.1462 - val_loss: 3.9873 - val_mean_squared_error: 11.9051 - val_root_mean_squared_error: 3.4504\n",
      "Epoch 16/20\n",
      "59098/59103 [============================>.] - ETA: 0s - loss: 5.0049 - mean_squared_error: 17.2456 - root_mean_squared_error: 4.1528"
     ]
    },
    {
     "name": "stderr",
     "output_type": "stream",
     "text": [
      "WARNING:absl:Function `_wrapped_model` contains input name(s) LSTM1_input with unsupported characters which will be renamed to lstm1_input in the SavedModel.\n",
      "WARNING:absl:Found untraced functions such as lstm_cell_2_layer_call_fn, lstm_cell_2_layer_call_and_return_conditional_losses, lstm_cell_2_layer_call_fn, lstm_cell_2_layer_call_and_return_conditional_losses, lstm_cell_2_layer_call_and_return_conditional_losses while saving (showing 5 of 5). These functions will not be directly callable after loading.\n"
     ]
    },
    {
     "name": "stdout",
     "output_type": "stream",
     "text": [
      "INFO:tensorflow:Assets written to: model\\assets\n"
     ]
    },
    {
     "name": "stderr",
     "output_type": "stream",
     "text": [
      "INFO:tensorflow:Assets written to: model\\assets\n",
      "WARNING:absl:<keras.layers.recurrent.LSTMCell object at 0x000001F46A8AECD0> has the same name 'LSTMCell' as a built-in Keras object. Consider renaming <class 'keras.layers.recurrent.LSTMCell'> to avoid naming conflicts when loading with `tf.keras.models.load_model`. If renaming is not possible, pass the object in the `custom_objects` parameter of the load function.\n"
     ]
    },
    {
     "name": "stdout",
     "output_type": "stream",
     "text": [
      "59103/59103 [==============================] - 359s 6ms/step - loss: 5.0048 - mean_squared_error: 17.2447 - root_mean_squared_error: 4.1527 - val_loss: 3.8260 - val_mean_squared_error: 11.5431 - val_root_mean_squared_error: 3.3975\n",
      "Epoch 17/20\n",
      "59096/59103 [============================>.] - ETA: 0s - loss: 4.9294 - mean_squared_error: 16.8632 - root_mean_squared_error: 4.1065"
     ]
    },
    {
     "name": "stderr",
     "output_type": "stream",
     "text": [
      "WARNING:absl:Function `_wrapped_model` contains input name(s) LSTM1_input with unsupported characters which will be renamed to lstm1_input in the SavedModel.\n",
      "WARNING:absl:Found untraced functions such as lstm_cell_2_layer_call_fn, lstm_cell_2_layer_call_and_return_conditional_losses, lstm_cell_2_layer_call_fn, lstm_cell_2_layer_call_and_return_conditional_losses, lstm_cell_2_layer_call_and_return_conditional_losses while saving (showing 5 of 5). These functions will not be directly callable after loading.\n"
     ]
    },
    {
     "name": "stdout",
     "output_type": "stream",
     "text": [
      "INFO:tensorflow:Assets written to: model\\assets\n"
     ]
    },
    {
     "name": "stderr",
     "output_type": "stream",
     "text": [
      "INFO:tensorflow:Assets written to: model\\assets\n",
      "WARNING:absl:<keras.layers.recurrent.LSTMCell object at 0x000001F46A8AECD0> has the same name 'LSTMCell' as a built-in Keras object. Consider renaming <class 'keras.layers.recurrent.LSTMCell'> to avoid naming conflicts when loading with `tf.keras.models.load_model`. If renaming is not possible, pass the object in the `custom_objects` parameter of the load function.\n"
     ]
    },
    {
     "name": "stdout",
     "output_type": "stream",
     "text": [
      "59103/59103 [==============================] - 361s 6ms/step - loss: 4.9293 - mean_squared_error: 16.8624 - root_mean_squared_error: 4.1064 - val_loss: 4.1067 - val_mean_squared_error: 13.5765 - val_root_mean_squared_error: 3.6846\n",
      "Epoch 18/20\n",
      "59103/59103 [==============================] - 348s 6ms/step - loss: 4.9647 - mean_squared_error: 17.1091 - root_mean_squared_error: 4.1363 - val_loss: 4.1753 - val_mean_squared_error: 14.2113 - val_root_mean_squared_error: 3.7698\n",
      "Epoch 19/20\n",
      "59103/59103 [==============================] - 372s 6ms/step - loss: 4.9363 - mean_squared_error: 16.9071 - root_mean_squared_error: 4.1118 - val_loss: 5.0850 - val_mean_squared_error: 20.3053 - val_root_mean_squared_error: 4.5061\n",
      "Epoch 20/20\n",
      "59103/59103 [==============================] - ETA: 0s - loss: 4.8914 - mean_squared_error: 16.7456 - root_mean_squared_error: 4.0921"
     ]
    },
    {
     "name": "stderr",
     "output_type": "stream",
     "text": [
      "WARNING:absl:Function `_wrapped_model` contains input name(s) LSTM1_input with unsupported characters which will be renamed to lstm1_input in the SavedModel.\n",
      "WARNING:absl:Found untraced functions such as lstm_cell_2_layer_call_fn, lstm_cell_2_layer_call_and_return_conditional_losses, lstm_cell_2_layer_call_fn, lstm_cell_2_layer_call_and_return_conditional_losses, lstm_cell_2_layer_call_and_return_conditional_losses while saving (showing 5 of 5). These functions will not be directly callable after loading.\n"
     ]
    },
    {
     "name": "stdout",
     "output_type": "stream",
     "text": [
      "INFO:tensorflow:Assets written to: model\\assets\n"
     ]
    },
    {
     "name": "stderr",
     "output_type": "stream",
     "text": [
      "INFO:tensorflow:Assets written to: model\\assets\n",
      "WARNING:absl:<keras.layers.recurrent.LSTMCell object at 0x000001F46A8AECD0> has the same name 'LSTMCell' as a built-in Keras object. Consider renaming <class 'keras.layers.recurrent.LSTMCell'> to avoid naming conflicts when loading with `tf.keras.models.load_model`. If renaming is not possible, pass the object in the `custom_objects` parameter of the load function.\n"
     ]
    },
    {
     "name": "stdout",
     "output_type": "stream",
     "text": [
      "59103/59103 [==============================] - 367s 6ms/step - loss: 4.8914 - mean_squared_error: 16.7456 - root_mean_squared_error: 4.0921 - val_loss: 3.9438 - val_mean_squared_error: 12.1235 - val_root_mean_squared_error: 3.4819\n",
      "The total run time to train was 7557.21 seconds\n"
     ]
    },
    {
     "data": {
      "text/plain": [
       "<matplotlib.legend.Legend at 0x1f1a2b82850>"
      ]
     },
     "execution_count": 35,
     "metadata": {},
     "output_type": "execute_result"
    },
    {
     "data": {
      "image/png": "[encoded data removed]",
      "text/plain": [
       "<Figure size 432x288 with 1 Axes>"
      ]
     },
     "metadata": {
      "needs_background": "light"
     },
     "output_type": "display_data"
    },
    {
     "data": {
      "image/png": "[encoded data removed]",
      "text/plain": [
       "<Figure size 432x288 with 1 Axes>"
      ]
     },
     "metadata": {
      "needs_background": "light"
     },
     "output_type": "display_data"
    }
   ],
   "source": [
    "#Now it is time to train the model\n",
    "opt=tf.keras.optimizers.Adam(learning_rate=3e-4)#, momentum=0.9)#,decay=1e-5)\n",
    "mMSE= tf.keras.metrics.MeanSquaredError()\n",
    "mRMSE= tf.keras.metrics.RootMeanSquaredError()\n",
    "huber=tf.keras.losses.Huber(delta=10) #delta is a parameter to change\n",
    "\n",
    "model.compile(loss=huber, optimizer=opt, metrics=[mMSE,mRMSE])\n",
    "\n",
    "# Allow for early stopping so that the model does not overfit the training dataset\n",
    "es= EarlyStopping(monitor='loss', mode='min',verbose=1,patience=10)\n",
    "cp= ModelCheckpoint('model/',monitor='loss', save_best_only=True) #need validation data\n",
    "#callback=tf.keras.callbacks.LearningRateScheduler(scheduler)\n",
    "\n",
    "t0=time.time()\n",
    "history= model.fit(inputs,epochs=20, batch_size=None,verbose=1,validation_steps=5360, callbacks=[es, cp],validation_data=val_inputs, shuffle=True)#, max_queue_size=200) ##### Make sure to put validation_steps=5360\n",
    "#history= model.fit(inputs,epochs=3, batch_size=None)\n",
    "t1=time.time()\n",
    "print(\"The total run time to train was %.2f seconds\"%(t1-t0))\n",
    "\n",
    "# plot the loss function\n",
    "plt.figure()\n",
    "plt.semilogy(history.history['loss'])\n",
    "plt.xlabel('epoch'); plt.ylabel('loss')\n",
    "\n",
    "\n",
    "plt.figure()\n",
    "plt.plot(history.history['loss'])\n",
    "plt.plot(history.history['val_loss'])\n",
    "plt.ylabel('loss')\n",
    "plt.xlabel('epoch')\n",
    "plt.title('model train vs validation loss')\n",
    "plt.legend(['train','validation'], loc='upper right')\n"
   ]
  },
  {
   "cell_type": "markdown",
   "metadata": {},
   "source": [
    "# Using the Model, Predict the DOA's on the Testing Dataset #"
   ]
  },
  {
   "cell_type": "code",
   "execution_count": 23,
   "metadata": {},
   "outputs": [
    {
     "name": "stdout",
     "output_type": "stream",
     "text": [
      "163273/163273 [==============================] - 276s 2ms/step\n"
     ]
    }
   ],
   "source": [
    "#use the model to predict on the testing dataset\n",
    "#for right now test_inputs has only the 40,001 samples\n",
    "predicted=model.predict(test_inputs, verbose=1)"
   ]
  },
  {
   "cell_type": "code",
   "execution_count": null,
   "metadata": {},
   "outputs": [],
   "source": [
    "##predict on the training set just to see if the model has leant at all\n",
    "predicted_train=model.predict(inputs, verbose=1)"
   ]
  },
  {
   "cell_type": "markdown",
   "metadata": {},
   "source": [
    "# Compare the predicted and actual DOA's numerically #"
   ]
  },
  {
   "cell_type": "code",
   "execution_count": null,
   "metadata": {},
   "outputs": [],
   "source": [
    "print(predicted_train[0:21])"
   ]
  },
  {
   "cell_type": "code",
   "execution_count": null,
   "metadata": {},
   "outputs": [],
   "source": [
    "print(y_test[10:32])"
   ]
  },
  {
   "cell_type": "code",
   "execution_count": 36,
   "metadata": {},
   "outputs": [
    {
     "name": "stdout",
     "output_type": "stream",
     "text": [
      "[[68.65787 ]\n",
      " [66.82069 ]\n",
      " [67.624855]\n",
      " [67.446785]\n",
      " [67.31851 ]\n",
      " [67.26968 ]\n",
      " [67.31348 ]\n",
      " [66.57227 ]\n",
      " [66.63945 ]\n",
      " [69.60185 ]\n",
      " [70.54715 ]\n",
      " [70.813065]\n",
      " [70.81222 ]\n",
      " [62.58935 ]\n",
      " [70.40813 ]\n",
      " [65.393036]\n",
      " [62.541683]\n",
      " [74.34593 ]\n",
      " [65.56665 ]\n",
      " [71.88881 ]\n",
      " [71.696175]]\n"
     ]
    }
   ],
   "source": [
    "print(predicted[0:21])"
   ]
  },
  {
   "cell_type": "code",
   "execution_count": 37,
   "metadata": {},
   "outputs": [
    {
     "name": "stdout",
     "output_type": "stream",
     "text": [
      "10    63.660001\n",
      "11    65.682001\n",
      "12    65.334001\n",
      "13    65.004001\n",
      "14    64.704001\n",
      "15    64.416001\n",
      "16    64.146001\n",
      "17    75.102001\n",
      "18    75.846001\n",
      "19    75.936001\n",
      "20    76.344001\n",
      "21    76.524001\n",
      "22    57.714001\n",
      "23    57.774001\n",
      "24    67.908001\n",
      "25    66.780001\n",
      "26    78.114001\n",
      "27    66.972001\n",
      "28    62.796001\n",
      "29    64.206001\n",
      "30    66.114001\n",
      "Name: DOA, dtype: float64\n"
     ]
    }
   ],
   "source": [
    "print(y_test[10:31])"
   ]
  },
  {
   "cell_type": "markdown",
   "metadata": {},
   "source": [
    "# Compare the Actual Testing DOA's to the Predicted DOA's Graphically #"
   ]
  },
  {
   "cell_type": "code",
   "execution_count": 38,
   "metadata": {},
   "outputs": [
    {
     "data": {
      "image/png": "[encoded data removed]",
      "text/plain": [
       "<Figure size 432x288 with 1 Axes>"
      ]
     },
     "metadata": {},
     "output_type": "display_data"
    }
   ],
   "source": [
    "plt.figure(facecolor='white')\n",
    "plt.plot(y_test[0:40000])\n",
    "plt.title(\"Actual\")\n",
    "plt.xlabel('Samples')\n",
    "plt.ylabel('DOA in degrees')\n",
    "plt.legend(['Actual'])\n",
    "plt.show()\n"
   ]
  },
  {
   "cell_type": "code",
   "execution_count": 39,
   "metadata": {},
   "outputs": [
    {
     "data": {
      "image/png": "[encoded data removed]",
      "text/plain": [
       "<Figure size 432x288 with 1 Axes>"
      ]
     },
     "metadata": {},
     "output_type": "display_data"
    }
   ],
   "source": [
    "plt.figure(facecolor='white')\n",
    "plt.plot(y_test[0:40000])\n",
    "plt.plot(predicted[0:40000])\n",
    "plt.title(\"Actual\")\n",
    "plt.xlabel('Samples')\n",
    "plt.ylabel('DOA in degrees')\n",
    "plt.legend(['Actual','Predicted'])\n",
    "plt.show()"
   ]
  },
  {
   "cell_type": "code",
   "execution_count": 40,
   "metadata": {},
   "outputs": [
    {
     "data": {
      "image/png": "[encoded data removed]",
      "text/plain": [
       "<Figure size 432x288 with 1 Axes>"
      ]
     },
     "metadata": {},
     "output_type": "display_data"
    }
   ],
   "source": [
    "plt.figure(facecolor='white')\n",
    "plt.plot(y_test[0:NumSampsPerPing*3])\n",
    "plt.plot(predicted[0:NumSampsPerPing*3])\n",
    "plt.title(\"Actual\")\n",
    "plt.xlabel('Samples')\n",
    "plt.ylabel('DOA in degrees')\n",
    "plt.legend(['Actual','Predicted'])\n",
    "plt.show()"
   ]
  },
  {
   "cell_type": "code",
   "execution_count": 41,
   "metadata": {},
   "outputs": [
    {
     "data": {
      "image/png": "[encoded data removed]",
      "text/plain": [
       "<Figure size 432x288 with 1 Axes>"
      ]
     },
     "metadata": {},
     "output_type": "display_data"
    }
   ],
   "source": [
    "plt.figure(facecolor='white')\n",
    "plt.plot(y_test[0:NumSampsPerPing])\n",
    "plt.plot(predicted[0:NumSampsPerPing])\n",
    "plt.title(\"Actual\")\n",
    "plt.xlabel('Samples')\n",
    "plt.ylabel('DOA in degrees')\n",
    "plt.legend(['Actual','Predicted'])\n",
    "plt.show()"
   ]
  },
  {
   "cell_type": "code",
   "execution_count": null,
   "metadata": {},
   "outputs": [],
   "source": [
    "plt.figure(facecolor='white')\n",
    "plt.plot(y_test[0:40000])\n",
    "plt.plot(predicted_train[0:40000])\n",
    "plt.title(\"Actual\")\n",
    "plt.xlabel('Samples')\n",
    "plt.ylabel('DOA in degrees')\n",
    "plt.legend(['Actual','Predicted'])\n",
    "plt.show()"
   ]
  },
  {
   "cell_type": "markdown",
   "metadata": {},
   "source": [
    "# Put the predicted DOA's back into a csv file format #"
   ]
  },
  {
   "cell_type": "markdown",
   "metadata": {},
   "source": [
    "RUN THIS IF YOU WANT TO MAKE THE PREDICTED STBD CSV"
   ]
  },
  {
   "cell_type": "code",
   "execution_count": 42,
   "metadata": {},
   "outputs": [],
   "source": [
    "#Ping |  Num Samp Num | PORT or STBD (0 or 1) |  TWTT |  Predicted DOA   <=======Output columns.\n",
    "OutputCSVdf=test.iloc[:,[0,1,2,3]]\n",
    "#OutputCSVdf= pd.DataFrame(test.iloc[:,[0,1,2,3]], columns=['PingNumber','SampNumber','PortStbd', 'SampleTime'])\n",
    "zerosArray= np.arange(sequence_length)*0\n",
    "predictedShifted=np.append(zerosArray, predicted)\n",
    "Predicteddf= pd.DataFrame(predictedShifted,columns=['PredictedDOA'])\n",
    "OutputCSVdf=OutputCSVdf.join(Predicteddf)"
   ]
  },
  {
   "cell_type": "code",
   "execution_count": 43,
   "metadata": {},
   "outputs": [
    {
     "data": {
      "text/html": [
       "<div>\n",
       "<style scoped>\n",
       "    .dataframe tbody tr th:only-of-type {\n",
       "        vertical-align: middle;\n",
       "    }\n",
       "\n",
       "    .dataframe tbody tr th {\n",
       "        vertical-align: top;\n",
       "    }\n",
       "\n",
       "    .dataframe thead th {\n",
       "        text-align: right;\n",
       "    }\n",
       "</style>\n",
       "<table border=\"1\" class=\"dataframe\">\n",
       "  <thead>\n",
       "    <tr style=\"text-align: right;\">\n",
       "      <th></th>\n",
       "      <th>PingNum</th>\n",
       "      <th>SampleNum</th>\n",
       "      <th>PortStbd</th>\n",
       "      <th>SampleTimeDelay</th>\n",
       "      <th>PredictedDOA</th>\n",
       "    </tr>\n",
       "  </thead>\n",
       "  <tbody>\n",
       "    <tr>\n",
       "      <th>0</th>\n",
       "      <td>87443</td>\n",
       "      <td>18</td>\n",
       "      <td>1</td>\n",
       "      <td>0.000261</td>\n",
       "      <td>0.000000</td>\n",
       "    </tr>\n",
       "    <tr>\n",
       "      <th>1</th>\n",
       "      <td>87443</td>\n",
       "      <td>19</td>\n",
       "      <td>1</td>\n",
       "      <td>0.000276</td>\n",
       "      <td>0.000000</td>\n",
       "    </tr>\n",
       "    <tr>\n",
       "      <th>2</th>\n",
       "      <td>87443</td>\n",
       "      <td>20</td>\n",
       "      <td>1</td>\n",
       "      <td>0.000292</td>\n",
       "      <td>0.000000</td>\n",
       "    </tr>\n",
       "    <tr>\n",
       "      <th>3</th>\n",
       "      <td>87443</td>\n",
       "      <td>21</td>\n",
       "      <td>1</td>\n",
       "      <td>0.000307</td>\n",
       "      <td>0.000000</td>\n",
       "    </tr>\n",
       "    <tr>\n",
       "      <th>4</th>\n",
       "      <td>87443</td>\n",
       "      <td>22</td>\n",
       "      <td>1</td>\n",
       "      <td>0.000323</td>\n",
       "      <td>0.000000</td>\n",
       "    </tr>\n",
       "    <tr>\n",
       "      <th>...</th>\n",
       "      <td>...</td>\n",
       "      <td>...</td>\n",
       "      <td>...</td>\n",
       "      <td>...</td>\n",
       "      <td>...</td>\n",
       "    </tr>\n",
       "    <tr>\n",
       "      <th>5224712</th>\n",
       "      <td>88720</td>\n",
       "      <td>4305</td>\n",
       "      <td>1</td>\n",
       "      <td>0.066105</td>\n",
       "      <td>81.370316</td>\n",
       "    </tr>\n",
       "    <tr>\n",
       "      <th>5224713</th>\n",
       "      <td>88720</td>\n",
       "      <td>4306</td>\n",
       "      <td>1</td>\n",
       "      <td>0.066120</td>\n",
       "      <td>81.358650</td>\n",
       "    </tr>\n",
       "    <tr>\n",
       "      <th>5224714</th>\n",
       "      <td>88720</td>\n",
       "      <td>4307</td>\n",
       "      <td>1</td>\n",
       "      <td>0.066136</td>\n",
       "      <td>81.354164</td>\n",
       "    </tr>\n",
       "    <tr>\n",
       "      <th>5224715</th>\n",
       "      <td>88720</td>\n",
       "      <td>4308</td>\n",
       "      <td>1</td>\n",
       "      <td>0.066151</td>\n",
       "      <td>81.352692</td>\n",
       "    </tr>\n",
       "    <tr>\n",
       "      <th>5224716</th>\n",
       "      <td>88720</td>\n",
       "      <td>4309</td>\n",
       "      <td>1</td>\n",
       "      <td>0.066167</td>\n",
       "      <td>81.368004</td>\n",
       "    </tr>\n",
       "  </tbody>\n",
       "</table>\n",
       "<p>5224717 rows × 5 columns</p>\n",
       "</div>"
      ],
      "text/plain": [
       "         PingNum  SampleNum  PortStbd  SampleTimeDelay  PredictedDOA\n",
       "0          87443         18         1         0.000261      0.000000\n",
       "1          87443         19         1         0.000276      0.000000\n",
       "2          87443         20         1         0.000292      0.000000\n",
       "3          87443         21         1         0.000307      0.000000\n",
       "4          87443         22         1         0.000323      0.000000\n",
       "...          ...        ...       ...              ...           ...\n",
       "5224712    88720       4305         1         0.066105     81.370316\n",
       "5224713    88720       4306         1         0.066120     81.358650\n",
       "5224714    88720       4307         1         0.066136     81.354164\n",
       "5224715    88720       4308         1         0.066151     81.352692\n",
       "5224716    88720       4309         1         0.066167     81.368004\n",
       "\n",
       "[5224717 rows x 5 columns]"
      ]
     },
     "execution_count": 43,
     "metadata": {},
     "output_type": "execute_result"
    }
   ],
   "source": [
    "OutputCSVdf"
   ]
  },
  {
   "cell_type": "code",
   "execution_count": 44,
   "metadata": {},
   "outputs": [],
   "source": [
    "OutputCSVdf.to_csv(path_or_buf=\"C:\\\\Users\\\\Daniel\\\\OneDrive - University of Massachusetts Dartmouth\\\\ECE457_Senior_Design_ECE5\\\\AIOutput_CSV_Files\\\\DL_PredictedCSVs\\\\DL_PredictedOutputTest_Row33_3_15_2022.csv\")"
   ]
  },
  {
   "cell_type": "markdown",
   "metadata": {},
   "source": [
    "# Save the model #"
   ]
  },
  {
   "cell_type": "code",
   "execution_count": null,
   "metadata": {},
   "outputs": [],
   "source": [
    "tf.keras.models.save_model(model,filepath=\"C:\\\\Users\\\\Daniel\\\\Desktop\\\\Models\\\\model_21.8572Percent.h5\")"
   ]
  },
  {
   "cell_type": "markdown",
   "metadata": {},
   "source": [
    "# Load Previous Models and Use them to Predict #"
   ]
  },
  {
   "cell_type": "markdown",
   "metadata": {},
   "source": [
    "Grab the saved model from the checkpoint"
   ]
  },
  {
   "cell_type": "code",
   "execution_count": null,
   "metadata": {},
   "outputs": [],
   "source": [
    "saved_checkpoint_model=tf.keras.models.load_model(filepath=\"C:\\\\Users\\\\Daniel\\\\Desktop\\\\MLDOA_ET\\\\ML Code\\\\model\")"
   ]
  },
  {
   "cell_type": "code",
   "execution_count": null,
   "metadata": {},
   "outputs": [],
   "source": [
    "saved_checkpoint_model.summary()"
   ]
  },
  {
   "cell_type": "code",
   "execution_count": null,
   "metadata": {},
   "outputs": [],
   "source": [
    "predicted_checkpoint=saved_checkpoint_model.predict(test_inputs, verbose=1)"
   ]
  },
  {
   "cell_type": "code",
   "execution_count": null,
   "metadata": {},
   "outputs": [],
   "source": [
    "predicted_checkpoint"
   ]
  },
  {
   "cell_type": "code",
   "execution_count": null,
   "metadata": {},
   "outputs": [],
   "source": [
    "plt.figure(facecolor='white')\n",
    "plt.plot(y_test[0:NumSampsPerPing])\n",
    "plt.plot(predicted_checkpoint[0:NumSampsPerPing])\n",
    "plt.title(\"Actual\")\n",
    "plt.xlabel('Samples')\n",
    "plt.ylabel('DOA in degrees')\n",
    "plt.legend(['Actual','Predicted'])\n",
    "plt.show()"
   ]
  },
  {
   "cell_type": "code",
   "execution_count": null,
   "metadata": {},
   "outputs": [],
   "source": [
    "#Ping |  Num Samp Num | PORT or STBD (0 or 1) |  TWTT |  Predicted DOA   <=======Output columns.\n",
    "OutputCSVdf=test.iloc[:,[0,1,2,3]]\n",
    "#OutputCSVdf= pd.DataFrame(test.iloc[:,[0,1,2,3]], columns=['PingNumber','SampNumber','PortStbd', 'SampleTime'])\n",
    "zerosArray= np.arange(sequence_length)*0\n",
    "predictedShifted=np.append(zerosArray, predicted_checkpoint)\n",
    "Predicteddf= pd.DataFrame(predictedShifted,columns=['PredictedDOA'])\n",
    "OutputCSVdf=OutputCSVdf.join(Predicteddf)"
   ]
  },
  {
   "cell_type": "code",
   "execution_count": null,
   "metadata": {},
   "outputs": [],
   "source": [
    "OutputCSVdf"
   ]
  },
  {
   "cell_type": "code",
   "execution_count": null,
   "metadata": {},
   "outputs": [],
   "source": [
    "OutputCSVdf.to_csv(path_or_buf=\"C:\\\\Users\\\\Daniel\\\\OneDrive - University of Massachusetts Dartmouth\\\\ECE457_Senior_Design_ECE5\\\\AIOutput_CSV_Files\\\\DL_PredictedOutputTestThree3_12_2022.csv\")"
   ]
  },
  {
   "cell_type": "markdown",
   "metadata": {},
   "source": [
    "Grab any saved model that is saved as an h5 file"
   ]
  },
  {
   "cell_type": "code",
   "execution_count": null,
   "metadata": {},
   "outputs": [],
   "source": [
    "saved_model=tf.keras.models.load_model(filepath=\"C:\\\\Users\\\\Daniel\\\\Desktop\\\\Models\\\\model_10.83Percent.h5\")"
   ]
  },
  {
   "cell_type": "code",
   "execution_count": null,
   "metadata": {},
   "outputs": [],
   "source": [
    "predicted_saved=saved_model.predict(test_inputs, verbose=1)"
   ]
  },
  {
   "cell_type": "code",
   "execution_count": null,
   "metadata": {},
   "outputs": [],
   "source": [
    "plt.figure(facecolor='white')\n",
    "plt.plot(y_test[0:40000])\n",
    "plt.plot(predicted_saved[0:40000])\n",
    "plt.title(\"Actual\")\n",
    "plt.xlabel('Samples')\n",
    "plt.ylabel('DOA in degrees')\n",
    "plt.legend(['Actual','Predicted'])\n",
    "plt.show()"
   ]
  },
  {
   "cell_type": "markdown",
   "metadata": {},
   "source": [
    "# EVERYTHING BELOW HERE IS MY KERAS TUNER STUFF. VIEWER REGRESSION IS ADVISED. #"
   ]
  },
  {
   "cell_type": "code",
   "execution_count": null,
   "metadata": {},
   "outputs": [],
   "source": [
    "LOG_DIR = f\"{int(time.time())}\""
   ]
  },
  {
   "cell_type": "code",
   "execution_count": null,
   "metadata": {},
   "outputs": [],
   "source": [
    "def model_builder(hp):\n",
    "    model= Sequential()\n",
    "\n",
    "    #try\n",
    "    hp_units_1 = hp.Int('units1', min_value=32, max_value=512, step=32)\n",
    "    model.add(LSTM(units=hp_units_1, activation='tanh', input_shape=(sequence_length,n_features), return_sequences=True))\n",
    "    model.add(Dropout(0.2))\n",
    "\n",
    "    for i in range(hp.Int(\"n_layers\",1,2)):\n",
    "        model.add(LSTM(units=hp.Int(f\"LSTM_{i}_units\", min_value=32, max_value=512, step=32), activation='tanh', input_shape=(sequence_length,n_features), return_sequences=True))\n",
    "        model.add(Dropout(0.2))\n",
    "\n",
    "    #hp_units_2 = hp.Int('units2', min_value=32, max_value=512, step=32)\n",
    "    #model.add(LSTM(units=hp_units_2, activation='relu',  return_sequences=True))\n",
    "    #model.add(Dropout(0.2))\n",
    "\n",
    "    #hp_units_3 = hp.Int('units3', min_value=32, max_value=512, step=32)\n",
    "    #model.add(LSTM(units=hp_units_3, activation='relu', return_sequences=True))\n",
    "    #model.add(Dropout(0.2))\n",
    "\n",
    "    #hp_units_4 = hp.Int('units4', min_value=32, max_value=512, step=32)\n",
    "    #model.add(LSTM(units=hp_units_4, activation='relu',  return_sequences=True))\n",
    "    #model.add(Dropout(0.2))\n",
    "\n",
    "    model.add(Dense(units=1)) #one output (namely: DOA)\n",
    "\n",
    "    hp_learning_rate = hp.Choice('learning_rate', values=[1e-2, 1e-3, 1e-4])\n",
    "\n",
    "    opt=tf.keras.optimizers.Adam(learning_rate=hp_learning_rate,decay=1e-5)\n",
    "    model.compile(loss='mse', optimizer=opt)\n",
    "\n",
    "    return model"
   ]
  },
  {
   "cell_type": "code",
   "execution_count": null,
   "metadata": {},
   "outputs": [],
   "source": [
    "es= EarlyStopping(monitor='loss', mode='min',verbose=1,patience=10)\n",
    "\n",
    "tuner = kt.RandomSearch(model_builder, objective='loss', max_trials=1000, directory=os.path.normpath('C:/'))\n",
    "tuner.search(inputs,steps_per_epoch=2000,epochs=20,verbose=1, callbacks=[es])\n",
    "\n",
    "best_hps=tuner.get_best_hyperparameters(num_trials=1)[0]\n",
    "\n",
    "\n",
    "print(f\"\"\"\n",
    "The hyperparameter search is complete. The optimal number of units in the first densely-connected\n",
    "layer is {best_hps.get('units1')} and the optimal learning rate for the optimizer\n",
    "is {best_hps.get('learning_rate')}. \n",
    "\"\"\")"
   ]
  },
  {
   "cell_type": "code",
   "execution_count": null,
   "metadata": {},
   "outputs": [],
   "source": [
    "print(f\"\"\"\n",
    "Unit1: {best_hps.get('units1')} learning rate {best_hps.get('learning_rate')} LSTM0 units: {best_hps.get('LSTM_0_units')} LSTM1 units: {best_hps.get('LSTM_1_units')} \n",
    "\"\"\")"
   ]
  }
 ],
 "metadata": {
  "interpreter": {
   "hash": "e6fad8134df9e5d8b8d6d65c861d5f535ad48201ee3e73e4438a263582efefbc"
  },
  "kernelspec": {
   "display_name": "Python 3.10.1 64-bit",
   "language": "python",
   "name": "python3"
  },
  "language_info": {
   "codemirror_mode": {
    "name": "ipython",
    "version": 3
   },
   "file_extension": ".py",
   "mimetype": "text/x-python",
   "name": "python",
   "nbconvert_exporter": "python",
   "pygments_lexer": "ipython3",
   "version": "3.9.0"
  },
  "orig_nbformat": 4
 },
 "nbformat": 4,
 "nbformat_minor": 2
}
