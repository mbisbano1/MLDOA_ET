{
 "cells": [
  {
   "cell_type": "code",
   "execution_count": 4,
   "metadata": {},
   "outputs": [],
   "source": [
    "import tensorflow as tf\n",
    "import pandas as pd\n",
    "import matplotlib.pyplot as plt\n",
    "import numpy as np\n",
    "from sklearn.svm import SVR\n"
   ]
  },
  {
   "cell_type": "code",
   "execution_count": null,
   "metadata": {},
   "outputs": [],
   "source": [
    "#import csv as a pandas dataframe\n",
    "df=pd.read_csv(r'Path where the CSV file is stored')\n",
    "#print(df)# will print out a nice looking chart"
   ]
  },
  {
   "cell_type": "code",
   "execution_count": null,
   "metadata": {},
   "outputs": [],
   "source": [
    "I1=tf.feature.column.numeric_column(\"I1\")#names the column in the list\n",
    "feature_column.append(I1) #append the column to the list\n",
    "\n",
    "I2=tf.feature.column.numeric_column(\"I2\")\n",
    "feature_column.append(I2) #append the column to the list\n",
    "\n",
    "I3=tf.feature.column.numeric_column(\"I3\")\n",
    "feature_column.append(I3) #append the column to the list\n",
    "\n",
    "I4=tf.feature.column.numeric_column(\"I4\")\n",
    "feature_column.append(I4) #append the column to the list\n",
    "\n",
    "I5=tf.feature.column.numeric_column(\"I5\")\n",
    "feature_column.append(I5) #append the column to the list\n",
    "\n",
    "I6=tf.feature.column.numeric_column(\"I6\")\n",
    "feature_column.append(I6) #append the column to the list\n",
    "\n",
    "I7=tf.feature.column.numeric_column(\"I7\")\n",
    "feature_column.append(I7) #append the column to the list\n",
    "\n",
    "I8=tf.feature.column.numeric_column(\"I8\")\n",
    "feature_column.append(I8) #append the column to the list\n",
    "\n",
    "I9=tf.feature.column.numeric_column(\"I9\")\n",
    "feature_column.append(I9) #append the column to the list\n",
    "\n",
    "I10=tf.feature.column.numeric_column(\"I0\")\n",
    "feature_column.append(I0) #append the column to the list\n",
    "\n",
    "##########################################################################\n",
    "Q1=tf.feature.column.numeric_column(\"Q1\")#names the column in the list\n",
    "feature_column.append(Q1) #append the column to the list\n",
    "\n",
    "Q2=tf.feature.column.numeric_column(\"Q2\")\n",
    "feature_column.append(Q2) #append the column to the list\n",
    "\n",
    "Q3=tf.feature.column.numeric_column(\"Q3\")\n",
    "feature_column.append(Q3) #append the column to the list\n",
    "\n",
    "Q4=tf.feature.column.numeric_column(\"Q4\")\n",
    "feature_column.append(Q4) #append the column to the list\n",
    "\n",
    "Q5=tf.feature.column.numeric_column(\"Q5\")\n",
    "feature_column.append(I5) #append the column to the list\n",
    "\n",
    "Q6=tf.feature.column.numeric_column(\"Q6\")\n",
    "feature_column.append(I6) #append the column to the list\n",
    "\n",
    "Q7=tf.feature.column.numeric_column(\"Q7\")\n",
    "feature_column.append(I7) #append the column to the list\n",
    "\n",
    "Q8=tf.feature.column.numeric_column(\"Q8\")\n",
    "feature_column.append(I8) #append the column to the list\n",
    "\n",
    "Q9=tf.feature.column.numeric_column(\"Q9\")\n",
    "feature_column.append(I9) #append the column to the list\n",
    "\n",
    "Q10=tf.feature.column.numeric_column(\"Q10\")\n",
    "feature_column.append(Q10) #append the column to the list\n"
   ]
  },
  {
   "cell_type": "code",
   "execution_count": null,
   "metadata": {},
   "outputs": [],
   "source": [
    "#convert the list into a layer.\n",
    "fp_feature_layer=layer.DenseFeatures(feature_columns)\n",
    "\n",
    "# define hyperparamters\n",
    "learning_Rate=0.3   #\n",
    "epochs=10           #\n",
    "batch_size=30       #\n",
    "label_name=\"DOA\" #here we would put whatever the header is in the csv"
   ]
  },
  {
   "cell_type": "code",
   "execution_count": null,
   "metadata": {},
   "outputs": [],
   "source": [
    "def create_model(myLearning_rate,feature_layer):\n",
    "\t# simple linear regressor - going to have to change to SVR\n",
    "\tmodel=tf.keras.models.sequential()\n",
    "\tmodel.add(feature_layer)\n",
    "\t\n",
    "\t#add one linear layer to the model to make a linear regressor\n",
    "\tmodel.add(tf.keras.layers.dense(units=1,input_shape=(num1, num2)))\t\t#,#)))\n",
    "\t\t\t\t\t\t\t\t\t\t\t\t\t\t#what are num1 and num2?\n",
    "\t#construct the layers into something tensor flow can execute\n",
    "\tmodel.compile(optimize=tf.keras.optimizers.RMSprop(lr=myLearning_rate), loss=\"mean_squared_error\", metrics=[tf.keras.metrics.RootMeanSquaredError()])\n",
    "\treturn model"
   ]
  },
  {
   "cell_type": "code",
   "execution_count": null,
   "metadata": {},
   "outputs": [],
   "source": [
    "def train_model(model,dataset,epochs,batch_size,label_name):\n",
    "\t#Feed a data set in the model in order to train items\n",
    "\tfeatures={name:np.array(value)for name, value in dataset.items()}\n",
    "\tlabel=np.array(features.pop(label_name))\n",
    "\thistory= model.fit(x=features,y=label,batch_size=batch_size,epochs=epochs,shuffle=true)\n",
    "\t\n",
    "\t#the list is stored seperately\n",
    "\t\n",
    "\tepochs=history.epochs\n",
    "\t\n",
    "\t#isolate the RMS error for each epochs\n",
    "\thist=pd.DataFrame(history.history)\n",
    "\trmse=hist[\"rout mean_squared_error\"]\n",
    "\t\n",
    "\treturn epochs,rmse"
   ]
  },
  {
   "cell_type": "code",
   "execution_count": null,
   "metadata": {},
   "outputs": [],
   "source": [
    "def plot_the_loss_curve(epochs, rmse):\n",
    "\t#plot loss v.s. epochs\n",
    "\t\n",
    "\tplt.figure()\n",
    "\tplt.xlabel(\"Epoch\")\n",
    "\tplt.ylabel(\"RMS Error\")\n",
    "\t\n",
    "\tplt.plot(epochs,rmse,label=\"loss\")\n",
    "\tplt.legend()\n",
    "\tplt.ylim([rmse.min()*0.94,rmse.max()*1.05])\n",
    "\tplt.show\n",
    "\t\n",
    "\treturn"
   ]
  },
  {
   "cell_type": "code",
   "execution_count": null,
   "metadata": {},
   "outputs": [],
   "source": [
    "#create_model\n",
    "my_model=create_model(learning_Rate,fp.feature_layer)"
   ]
  },
  {
   "cell_type": "code",
   "execution_count": null,
   "metadata": {},
   "outputs": [],
   "source": [
    "#train model\n",
    "epochs,rmse=train_model(my_model,train_df,epochs,batch_size,label_name)"
   ]
  },
  {
   "cell_type": "code",
   "execution_count": null,
   "metadata": {},
   "outputs": [],
   "source": [
    "#plot the loss curve\n",
    "plot_the_loss_curve(epochs,rmse)"
   ]
  },
  {
   "cell_type": "code",
   "execution_count": null,
   "metadata": {},
   "outputs": [],
   "source": [
    "#test the model\n",
    "test_features={name.np.array(value)for name, value in test_df.items()}\n",
    "test_label=np.array(test_features.pop(label_name))\n",
    "my_model.evaluate(x=test_features,y=test_label,batch_size=batch_size)"
   ]
  }
 ],
 "metadata": {
  "interpreter": {
   "hash": "674a9451ed4de84c8c52b62b7b95bc1f8984ddc9599597b49394de9958455427"
  },
  "kernelspec": {
   "display_name": "Python 3.9.0 64-bit ('keras_tf': conda)",
   "language": "python",
   "name": "python3"
  },
  "language_info": {
   "codemirror_mode": {
    "name": "ipython",
    "version": 3
   },
   "file_extension": ".py",
   "mimetype": "text/x-python",
   "name": "python",
   "nbconvert_exporter": "python",
   "pygments_lexer": "ipython3",
   "version": "3.9.0"
  },
  "orig_nbformat": 4
 },
 "nbformat": 4,
 "nbformat_minor": 2
}
